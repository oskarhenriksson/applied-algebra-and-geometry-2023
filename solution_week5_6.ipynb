{
 "cells": [
  {
   "cell_type": "markdown",
   "metadata": {},
   "source": [
    "## Suggested solution for Exercise 6 (The Euclidean distance problem)"
   ]
  },
  {
   "cell_type": "code",
   "execution_count": 1,
   "metadata": {},
   "outputs": [],
   "source": [
    "using HomotopyContinuation"
   ]
  },
  {
   "cell_type": "markdown",
   "metadata": {},
   "source": [
    "### Part (a): Finding the critical point"
   ]
  },
  {
   "cell_type": "markdown",
   "metadata": {},
   "source": [
    "As explained in the problem text, we want to solve the following system for $u=(1,2)$:\n",
    "\n",
    "$$\\begin{cases}f(x_1,x_2)=0\\\\ \\tfrac{df}{dx_1}(x_1,x_2)-\\lambda(x_1-u_1)=0\\\\ \\tfrac{df}{dx_2}(x_1,x_2)-\\lambda(x_2-u_2)=0\\,.\\end{cases}$$\n",
    "\n",
    "You can either differentiate $f$ by hand, or use the command `differentiate` from the `HomotopyContinuation.jl` package."
   ]
  },
  {
   "cell_type": "code",
   "execution_count": 2,
   "metadata": {},
   "outputs": [
    {
     "data": {
      "text/plain": [
       "2-element Vector{Int64}:\n",
       " 1\n",
       " 2"
      ]
     },
     "execution_count": 2,
     "metadata": {},
     "output_type": "execute_result"
    }
   ],
   "source": [
    "u = [1,2]"
   ]
  },
  {
   "cell_type": "code",
   "execution_count": 3,
   "metadata": {},
   "outputs": [],
   "source": [
    "@var x[1:2] lambda;"
   ]
  },
  {
   "cell_type": "code",
   "execution_count": 4,
   "metadata": {},
   "outputs": [
    {
     "data": {
      "text/latex": [
       "$$ 5 + x₂^2*x₁^2 - 3*x₁^2 - 3*x₂^2 $$"
      ],
      "text/plain": [
       "5 + x₂^2*x₁^2 - 3*x₁^2 - 3*x₂^2"
      ]
     },
     "execution_count": 4,
     "metadata": {},
     "output_type": "execute_result"
    }
   ],
   "source": [
    "f = x[1]^2*x[2]^2-3*x[1]^2-3*x[2]^2+5"
   ]
  },
  {
   "cell_type": "code",
   "execution_count": 5,
   "metadata": {},
   "outputs": [
    {
     "data": {
      "text/plain": [
       "System of length 3\n",
       " 3 variables: lambda, x₁, x₂\n",
       "\n",
       " 5 + x₂^2*x₁^2 - 3*x₁^2 - 3*x₂^2\n",
       " -6*x₁ + 2*x₂^2*x₁ - (-1 + x₁)*lambda\n",
       " -6*x₂ + 2*x₂*x₁^2 - (-2 + x₂)*lambda"
      ]
     },
     "execution_count": 5,
     "metadata": {},
     "output_type": "execute_result"
    }
   ],
   "source": [
    "F = System([f,\n",
    "        differentiate(f,x[1])-lambda*(x[1]-u[1]),\n",
    "        differentiate(f,x[2])-lambda*(x[2]-u[2])],\n",
    "    variables=[lambda,x[1],x[2]])"
   ]
  },
  {
   "cell_type": "code",
   "execution_count": 6,
   "metadata": {},
   "outputs": [
    {
     "name": "stdout",
     "output_type": "stream",
     "text": [
      "\r\u001b[32mTracking 36 paths... 100%|██████████████████████████████| Time: 0:00:03\u001b[39m\r\n",
      "\u001b[34m  # paths tracked:                  36\u001b[39m\r\n",
      "\u001b[34m  # non-singular solutions (real):  12 (6)\u001b[39m\r\n",
      "\u001b[34m  # singular endpoints (real):      0 (0)\u001b[39m\r\n",
      "\u001b[34m  # total solutions (real):         12 (6)\u001b[39m\n"
     ]
    },
    {
     "data": {
      "text/plain": [
       "Result with 12 solutions\n",
       "========================\n",
       "• 36 paths tracked\n",
       "• 12 non-singular solutions (6 real)\n",
       "• random_seed: 0x34cad05f\n",
       "• start_system: :total_degree\n"
      ]
     },
     "execution_count": 6,
     "metadata": {},
     "output_type": "execute_result"
    }
   ],
   "source": [
    "solution_result = solve(F,start_system = :total_degree)"
   ]
  },
  {
   "cell_type": "code",
   "execution_count": 7,
   "metadata": {},
   "outputs": [
    {
     "data": {
      "text/plain": [
       "12-element Vector{Vector{ComplexF64}}:\n",
       " [7.337456669889568 - 1.504632769052528e-36im, 0.6974628316032541 + 7.052966104933725e-38im, 1.1868540198708353 + 2.350988701644575e-38im]\n",
       " [-1.6232400471262116 - 2.407412430484045e-35im, -0.8541685916254989 + 6.018531076210112e-36im, -1.112741129782544 - 1.504632769052528e-36im]\n",
       " [2.4109847235904964 + 6.018531076210112e-36im, -2.3052655483869082 - 2.256949153578792e-36im, -2.1744935723311904 + 7.52316384526264e-37im]\n",
       " [-2.5791116761389627 + 1.406982001715436im, 0.800267521868546 + 0.9197176775260298im, -1.4133261659627498 + 0.1674260779939675im]\n",
       " [-2.5791116761389627 - 1.4069820017154362im, 0.8002675218685461 - 0.9197176775260297im, -1.4133261659627498 - 0.16742607799396753im]\n",
       " [3.630786190599264 + 1.1754943508222875e-37im, 2.570315873979099 + 1.7632415262334313e-38im, -2.0270918252578882 - 8.816207631167156e-39im]\n",
       " [-2.300890888977063 + 2.828521937480216im, -1.4769430321350407 + 0.32319544893386815im, 1.2754681657127243 + 0.8488645234473868im]\n",
       " [-2.3008908889770634 - 2.8285219374802164im, -1.4769430321350407 - 0.32319544893386815im, 1.2754681657127243 - 0.8488645234473868im]\n",
       " [6.180582548943949 - 2.2420775429197073e-44im, -1.9641008231775792 - 1.401298464324817e-45im, 2.7683349808147066 - 1.6815581571897805e-44im]\n",
       " [-6.6849135077763835 + 5.632365503258929im, 1.574816759003061 - 0.550283425679337im, 1.5702213850781328 + 0.5997392554527856im]\n",
       " [-6.684913507776384 - 5.632365503258928im, 1.574816759003061 + 0.550283425679337im, 1.5702213850781328 - 0.5997392554527856im]\n",
       " [12.52659539322109 + 5.254869241218064e-46im, 2.0594737601345003 + 1.6540471304823305e-47im, 2.494410757029866 + 4.3790577010150533e-47im]"
      ]
     },
     "execution_count": 7,
     "metadata": {},
     "output_type": "execute_result"
    }
   ],
   "source": [
    "list_of_solutions = solutions(solution_result)"
   ]
  },
  {
   "cell_type": "markdown",
   "metadata": {},
   "source": [
    "We only care about $x_1$ and $x_2$ (so the 2nd and 3rd coordinate of all the solution vectors), so let's extract these!"
   ]
  },
  {
   "cell_type": "code",
   "execution_count": 8,
   "metadata": {},
   "outputs": [
    {
     "data": {
      "text/plain": [
       "2-element Vector{ComplexF64}:\n",
       " 0.6974628316032541 + 7.052966104933725e-38im\n",
       " 1.1868540198708353 + 2.350988701644575e-38im"
      ]
     },
     "metadata": {},
     "output_type": "display_data"
    },
    {
     "name": "stdout",
     "output_type": "stream",
     "text": [
      "\n"
     ]
    },
    {
     "data": {
      "text/plain": [
       "2-element Vector{ComplexF64}:\n",
       " -0.8541685916254989 + 6.018531076210112e-36im\n",
       "  -1.112741129782544 - 1.504632769052528e-36im"
      ]
     },
     "metadata": {},
     "output_type": "display_data"
    },
    {
     "name": "stdout",
     "output_type": "stream",
     "text": [
      "\n"
     ]
    },
    {
     "data": {
      "text/plain": [
       "2-element Vector{ComplexF64}:\n",
       " -2.3052655483869082 - 2.256949153578792e-36im\n",
       " -2.1744935723311904 + 7.52316384526264e-37im"
      ]
     },
     "metadata": {},
     "output_type": "display_data"
    },
    {
     "name": "stdout",
     "output_type": "stream",
     "text": [
      "\n"
     ]
    },
    {
     "data": {
      "text/plain": [
       "2-element Vector{ComplexF64}:\n",
       "   0.800267521868546 + 0.9197176775260298im\n",
       " -1.4133261659627498 + 0.1674260779939675im"
      ]
     },
     "metadata": {},
     "output_type": "display_data"
    },
    {
     "name": "stdout",
     "output_type": "stream",
     "text": [
      "\n"
     ]
    },
    {
     "data": {
      "text/plain": [
       "2-element Vector{ComplexF64}:\n",
       "  0.8002675218685461 - 0.9197176775260297im\n",
       " -1.4133261659627498 - 0.16742607799396753im"
      ]
     },
     "metadata": {},
     "output_type": "display_data"
    },
    {
     "name": "stdout",
     "output_type": "stream",
     "text": [
      "\n"
     ]
    },
    {
     "data": {
      "text/plain": [
       "2-element Vector{ComplexF64}:\n",
       "   2.570315873979099 + 1.7632415262334313e-38im\n",
       " -2.0270918252578882 - 8.816207631167156e-39im"
      ]
     },
     "metadata": {},
     "output_type": "display_data"
    },
    {
     "name": "stdout",
     "output_type": "stream",
     "text": [
      "\n"
     ]
    },
    {
     "data": {
      "text/plain": [
       "2-element Vector{ComplexF64}:\n",
       " -1.4769430321350407 + 0.32319544893386815im\n",
       "  1.2754681657127243 + 0.8488645234473868im"
      ]
     },
     "metadata": {},
     "output_type": "display_data"
    },
    {
     "name": "stdout",
     "output_type": "stream",
     "text": [
      "\n"
     ]
    },
    {
     "data": {
      "text/plain": [
       "2-element Vector{ComplexF64}:\n",
       " -1.4769430321350407 - 0.32319544893386815im\n",
       "  1.2754681657127243 - 0.8488645234473868im"
      ]
     },
     "metadata": {},
     "output_type": "display_data"
    },
    {
     "name": "stdout",
     "output_type": "stream",
     "text": [
      "\n"
     ]
    },
    {
     "data": {
      "text/plain": [
       "2-element Vector{ComplexF64}:\n",
       " -1.9641008231775792 - 1.401298464324817e-45im\n",
       "  2.7683349808147066 - 1.6815581571897805e-44im"
      ]
     },
     "metadata": {},
     "output_type": "display_data"
    },
    {
     "name": "stdout",
     "output_type": "stream",
     "text": [
      "\n"
     ]
    },
    {
     "data": {
      "text/plain": [
       "2-element Vector{ComplexF64}:\n",
       "  1.574816759003061 - 0.550283425679337im\n",
       " 1.5702213850781328 + 0.5997392554527856im"
      ]
     },
     "metadata": {},
     "output_type": "display_data"
    },
    {
     "name": "stdout",
     "output_type": "stream",
     "text": [
      "\n"
     ]
    },
    {
     "data": {
      "text/plain": [
       "2-element Vector{ComplexF64}:\n",
       "  1.574816759003061 + 0.550283425679337im\n",
       " 1.5702213850781328 - 0.5997392554527856im"
      ]
     },
     "metadata": {},
     "output_type": "display_data"
    },
    {
     "name": "stdout",
     "output_type": "stream",
     "text": [
      "\n"
     ]
    },
    {
     "data": {
      "text/plain": [
       "2-element Vector{ComplexF64}:\n",
       " 2.0594737601345003 + 1.6540471304823305e-47im\n",
       "  2.494410757029866 + 4.3790577010150533e-47im"
      ]
     },
     "metadata": {},
     "output_type": "display_data"
    },
    {
     "name": "stdout",
     "output_type": "stream",
     "text": [
      "\n"
     ]
    }
   ],
   "source": [
    "for s in list_of_solutions\n",
    "    display(s[2:3])\n",
    "    println()\n",
    "end"
   ]
  },
  {
   "cell_type": "code",
   "execution_count": 9,
   "metadata": {},
   "outputs": [
    {
     "name": "stdout",
     "output_type": "stream",
     "text": [
      "\r\u001b[32mCertifying 12 solutions... 100%|████████████████████████| Time: 0:00:00\u001b[39m\r\n",
      "\u001b[34m  # processed:         12\u001b[39m\r\n",
      "\u001b[34m  # certified (real):  12 (6)\u001b[39m\r\n",
      "\u001b[34m  # distinct (real):   12 (6)\u001b[39m\n"
     ]
    },
    {
     "data": {
      "text/plain": [
       "CertificationResult\n",
       "===================\n",
       "• 12 solution candidates given\n",
       "• 12 certified solution intervals (6 real, 6 complex)\n",
       "• 12 distinct certified solution intervals (6 real, 6 complex)"
      ]
     },
     "execution_count": 9,
     "metadata": {},
     "output_type": "execute_result"
    }
   ],
   "source": [
    "certification_result = certify(F,list_of_solutions)"
   ]
  },
  {
   "cell_type": "code",
   "execution_count": 10,
   "metadata": {},
   "outputs": [
    {
     "data": {
      "text/plain": [
       "1"
      ]
     },
     "metadata": {},
     "output_type": "display_data"
    },
    {
     "data": {
      "text/plain": [
       "3×1 Arblib.AcbMatrix:\n",
       "  [7.3374566698896 +/- 5.31e-14] + [+/- 5.90e-23]im\n",
       " [0.69746283160325 +/- 5.29e-15] + [+/- 3.38e-24]im\n",
       " [1.18685401987084 +/- 6.06e-15] + [+/- 2.38e-24]im"
      ]
     },
     "metadata": {},
     "output_type": "display_data"
    },
    {
     "data": {
      "text/plain": [
       "true"
      ]
     },
     "metadata": {},
     "output_type": "display_data"
    },
    {
     "name": "stdout",
     "output_type": "stream",
     "text": [
      "\n"
     ]
    },
    {
     "data": {
      "text/plain": [
       "2"
      ]
     },
     "metadata": {},
     "output_type": "display_data"
    },
    {
     "data": {
      "text/plain": [
       "3×1 Arblib.AcbMatrix:\n",
       " [-1.62324004712621 +/- 5.40e-15] + [+/- 1.46e-23]im\n",
       " [-0.85416859162550 +/- 3.82e-15] + [+/- 1.21e-23]im\n",
       " [-1.11274112978254 +/- 6.03e-15] + [+/- 8.16e-24]im"
      ]
     },
     "metadata": {},
     "output_type": "display_data"
    },
    {
     "data": {
      "text/plain": [
       "true"
      ]
     },
     "metadata": {},
     "output_type": "display_data"
    },
    {
     "name": "stdout",
     "output_type": "stream",
     "text": [
      "\n"
     ]
    },
    {
     "data": {
      "text/plain": [
       "3"
      ]
     },
     "metadata": {},
     "output_type": "display_data"
    },
    {
     "data": {
      "text/plain": [
       "3×1 Arblib.AcbMatrix:\n",
       "   [2.4109847235905 +/- 2.58e-14] + [+/- 3.13e-22]im\n",
       " [-2.30526554838691 +/- 7.11e-15] + [+/- 6.30e-23]im\n",
       " [-2.17449357233119 +/- 5.34e-15] + [+/- 5.06e-23]im"
      ]
     },
     "metadata": {},
     "output_type": "display_data"
    },
    {
     "data": {
      "text/plain": [
       "true"
      ]
     },
     "metadata": {},
     "output_type": "display_data"
    },
    {
     "name": "stdout",
     "output_type": "stream",
     "text": [
      "\n"
     ]
    },
    {
     "data": {
      "text/plain": [
       "4"
      ]
     },
     "metadata": {},
     "output_type": "display_data"
    },
    {
     "data": {
      "text/plain": [
       "3×1 Arblib.AcbMatrix:\n",
       "  [-2.5791116761390 +/- 4.44e-14] + [1.40698200171544 +/- 9.81e-15]im\n",
       "  [0.80026752186855 +/- 7.45e-15] + [0.91971767752603 +/- 3.49e-15]im\n",
       " [-1.41332616596275 +/- 1.71e-15] + [0.16742607799397 +/- 3.64e-15]im"
      ]
     },
     "metadata": {},
     "output_type": "display_data"
    },
    {
     "data": {
      "text/plain": [
       "false"
      ]
     },
     "metadata": {},
     "output_type": "display_data"
    },
    {
     "name": "stdout",
     "output_type": "stream",
     "text": [
      "\n"
     ]
    },
    {
     "data": {
      "text/plain": [
       "5"
      ]
     },
     "metadata": {},
     "output_type": "display_data"
    },
    {
     "data": {
      "text/plain": [
       "3×1 Arblib.AcbMatrix:\n",
       "  [-2.5791116761390 +/- 4.44e-14] + [-1.40698200171544 +/- 9.81e-15]im\n",
       "  [0.80026752186855 +/- 7.45e-15] + [-0.91971767752603 +/- 3.49e-15]im\n",
       " [-1.41332616596275 +/- 1.71e-15] + [-0.16742607799397 +/- 3.64e-15]im"
      ]
     },
     "metadata": {},
     "output_type": "display_data"
    },
    {
     "data": {
      "text/plain": [
       "false"
      ]
     },
     "metadata": {},
     "output_type": "display_data"
    },
    {
     "name": "stdout",
     "output_type": "stream",
     "text": [
      "\n"
     ]
    },
    {
     "data": {
      "text/plain": [
       "6"
      ]
     },
     "metadata": {},
     "output_type": "display_data"
    },
    {
     "data": {
      "text/plain": [
       "3×1 Arblib.AcbMatrix:\n",
       "   [3.6307861905993 +/- 7.11e-14] + [+/- 4.73e-22]im\n",
       "  [2.57031587397910 +/- 8.34e-15] + [+/- 8.67e-23]im\n",
       " [-2.02709182525789 +/- 5.33e-15] + [+/- 3.93e-23]im"
      ]
     },
     "metadata": {},
     "output_type": "display_data"
    },
    {
     "data": {
      "text/plain": [
       "true"
      ]
     },
     "metadata": {},
     "output_type": "display_data"
    },
    {
     "name": "stdout",
     "output_type": "stream",
     "text": [
      "\n"
     ]
    },
    {
     "data": {
      "text/plain": [
       "7"
      ]
     },
     "metadata": {},
     "output_type": "display_data"
    },
    {
     "data": {
      "text/plain": [
       "3×1 Arblib.AcbMatrix:\n",
       "   [-2.3008908889771 +/- 5.09e-14] + [2.8285219374802 +/- 2.84e-14]im\n",
       " [-1.47694303213504 +/- 3.19e-15] + [0.32319544893387 +/- 3.97e-15]im\n",
       "  [1.27546816571272 +/- 8.26e-15] + [0.84886452344739 +/- 6.61e-15]im"
      ]
     },
     "metadata": {},
     "output_type": "display_data"
    },
    {
     "data": {
      "text/plain": [
       "false"
      ]
     },
     "metadata": {},
     "output_type": "display_data"
    },
    {
     "name": "stdout",
     "output_type": "stream",
     "text": [
      "\n"
     ]
    },
    {
     "data": {
      "text/plain": [
       "8"
      ]
     },
     "metadata": {},
     "output_type": "display_data"
    },
    {
     "data": {
      "text/plain": [
       "3×1 Arblib.AcbMatrix:\n",
       "   [-2.3008908889771 +/- 5.09e-14] + [-2.8285219374802 +/- 2.84e-14]im\n",
       " [-1.47694303213504 +/- 3.19e-15] + [-0.32319544893387 +/- 3.97e-15]im\n",
       "  [1.27546816571272 +/- 8.26e-15] + [-0.84886452344739 +/- 6.61e-15]im"
      ]
     },
     "metadata": {},
     "output_type": "display_data"
    },
    {
     "data": {
      "text/plain": [
       "false"
      ]
     },
     "metadata": {},
     "output_type": "display_data"
    },
    {
     "name": "stdout",
     "output_type": "stream",
     "text": [
      "\n"
     ]
    },
    {
     "data": {
      "text/plain": [
       "9"
      ]
     },
     "metadata": {},
     "output_type": "display_data"
    },
    {
     "data": {
      "text/plain": [
       "3×1 Arblib.AcbMatrix:\n",
       "   [6.1805825489440 +/- 9.53e-14] + [+/- 6.22e-22]im\n",
       " [-1.96410082317758 +/- 3.50e-15] + [+/- 2.98e-23]im\n",
       "   [2.7683349808147 +/- 1.29e-14] + [+/- 7.74e-23]im"
      ]
     },
     "metadata": {},
     "output_type": "display_data"
    },
    {
     "data": {
      "text/plain": [
       "true"
      ]
     },
     "metadata": {},
     "output_type": "display_data"
    },
    {
     "name": "stdout",
     "output_type": "stream",
     "text": [
      "\n"
     ]
    },
    {
     "data": {
      "text/plain": [
       "10"
      ]
     },
     "metadata": {},
     "output_type": "display_data"
    },
    {
     "data": {
      "text/plain": [
       "3×1 Arblib.AcbMatrix:\n",
       "   [-6.6849135077764 +/- 5.39e-14] + [5.6323655032589 +/- 6.53e-14]im\n",
       " [1.57481675900306 +/- 3.95e-15] + [-0.55028342567934 +/- 5.59e-15]im\n",
       "  [1.57022138507813 +/- 5.47e-15] + [0.59973925545279 +/- 7.06e-15]im"
      ]
     },
     "metadata": {},
     "output_type": "display_data"
    },
    {
     "data": {
      "text/plain": [
       "false"
      ]
     },
     "metadata": {},
     "output_type": "display_data"
    },
    {
     "name": "stdout",
     "output_type": "stream",
     "text": [
      "\n"
     ]
    },
    {
     "data": {
      "text/plain": [
       "11"
      ]
     },
     "metadata": {},
     "output_type": "display_data"
    },
    {
     "data": {
      "text/plain": [
       "3×1 Arblib.AcbMatrix:\n",
       "  [-6.6849135077764 +/- 5.39e-14] + [-5.6323655032589 +/- 6.53e-14]im\n",
       "  [1.57481675900306 +/- 3.95e-15] + [0.55028342567934 +/- 5.59e-15]im\n",
       " [1.57022138507813 +/- 5.47e-15] + [-0.59973925545279 +/- 7.06e-15]im"
      ]
     },
     "metadata": {},
     "output_type": "display_data"
    },
    {
     "data": {
      "text/plain": [
       "false"
      ]
     },
     "metadata": {},
     "output_type": "display_data"
    },
    {
     "name": "stdout",
     "output_type": "stream",
     "text": [
      "\n"
     ]
    },
    {
     "data": {
      "text/plain": [
       "12"
      ]
     },
     "metadata": {},
     "output_type": "display_data"
    },
    {
     "data": {
      "text/plain": [
       "3×1 Arblib.AcbMatrix:\n",
       " [12.5265953932211 +/- 9.19e-14] + [+/- 1.13e-21]im\n",
       " [2.05947376013450 +/- 4.34e-15] + [+/- 3.71e-23]im\n",
       " [2.49441075702987 +/- 8.75e-15] + [+/- 5.54e-23]im"
      ]
     },
     "metadata": {},
     "output_type": "display_data"
    },
    {
     "data": {
      "text/plain": [
       "true"
      ]
     },
     "metadata": {},
     "output_type": "display_data"
    },
    {
     "name": "stdout",
     "output_type": "stream",
     "text": [
      "\n"
     ]
    }
   ],
   "source": [
    "for c in certificates(certification_result)\n",
    "    display(c.index) #the number of the solution\n",
    "    display( certified_solution_interval(c) ) #the box\n",
    "    display( is_real(c) ) #verifiably real?\n",
    "    println() #extra line for readability\n",
    "end"
   ]
  },
  {
   "cell_type": "markdown",
   "metadata": {},
   "source": [
    "We see that precisely six solutions are **real**, and the others are **nonreal**."
   ]
  },
  {
   "cell_type": "code",
   "execution_count": 11,
   "metadata": {},
   "outputs": [
    {
     "data": {
      "text/plain": [
       "6-element Vector{Vector{Float64}}:\n",
       " [7.337456669889567, 0.6974628316032541, 1.1868540198708353]\n",
       " [-1.6232400471262118, -0.8541685916254986, -1.112741129782544]\n",
       " [2.4109847235904973, -2.3052655483869082, -2.1744935723311904]\n",
       " [3.630786190599262, 2.5703158739790988, -2.0270918252578882]\n",
       " [6.180582548943951, -1.9641008231775792, 2.7683349808147066]\n",
       " [12.526595393221092, 2.0594737601345003, 2.4944107570298666]"
      ]
     },
     "execution_count": 11,
     "metadata": {},
     "output_type": "execute_result"
    }
   ],
   "source": [
    "list_of_real_solutions = [real(c.solution) for c in certificates(certification_result) if is_real(c)]"
   ]
  },
  {
   "cell_type": "markdown",
   "metadata": {},
   "source": [
    "### Part (b): Evaluation the distance squared on each real critical point"
   ]
  },
  {
   "cell_type": "code",
   "execution_count": 12,
   "metadata": {},
   "outputs": [],
   "source": [
    "distance_squared = (x,y) -> (x[1]-y[1])^2 + (x[2]-y[2])^2;"
   ]
  },
  {
   "cell_type": "markdown",
   "metadata": {},
   "source": [
    "You can manually evaluate this function on the real solutions you found above.\n",
    "\n",
    "Alternatively, we can loop through the solutions, and print out the value for all solutions that are verifiably real."
   ]
  },
  {
   "cell_type": "code",
   "execution_count": 13,
   "metadata": {},
   "outputs": [
    {
     "name": "stdout",
     "output_type": "stream",
     "text": [
      "Point: [0.6974628316032541, 1.1868540198708353]\n",
      "Distance to u: 0.752735123261741\n",
      "\n",
      "Point: [-0.8541685916254986, -1.112741129782544]\n",
      "Distance to u: 13.127098507210395\n",
      "\n",
      "Point: [-2.3052655483869082, -2.1744935723311904]\n",
      "Distance to u: 28.351176930787837\n",
      "\n",
      "Point: [2.5703158739790988, -2.0270918252578882]\n",
      "Distance to u: 18.68336051312965\n",
      "\n",
      "Point: [-1.9641008231775792, 2.7683349808147066]\n",
      "Distance to u: 9.376232332705538\n",
      "\n",
      "Point: [2.0594737601345003, 2.4944107570298666]\n",
      "Distance to u: 1.3669266450803825\n",
      "\n"
     ]
    }
   ],
   "source": [
    "for s in list_of_real_solutions\n",
    "    println(\"Point: $(s[2:3])\")\n",
    "    println(\"Distance to u: $(distance_squared(s[2:3],u))\")\n",
    "    println()\n",
    "end"
   ]
  },
  {
   "cell_type": "markdown",
   "metadata": {},
   "source": [
    "If we just care about the point closest to $u$, we can also use the `argmin` command."
   ]
  },
  {
   "cell_type": "code",
   "execution_count": 14,
   "metadata": {},
   "outputs": [
    {
     "data": {
      "text/plain": [
       "3-element Vector{Float64}:\n",
       " 7.337456669889567\n",
       " 0.6974628316032541\n",
       " 1.1868540198708353"
      ]
     },
     "execution_count": 14,
     "metadata": {},
     "output_type": "execute_result"
    }
   ],
   "source": [
    "argmin(s->distance_squared(s[2:3],u), list_of_real_solutions)"
   ]
  },
  {
   "cell_type": "markdown",
   "metadata": {},
   "source": [
    "### Part (c): Plotting the critical points"
   ]
  },
  {
   "cell_type": "markdown",
   "metadata": {},
   "source": [
    "Let's print the coordinates on the form $(x_1,x_2)$ (instead of as column vectors), to make it easier to copy and paste them to a program where you can plot them."
   ]
  },
  {
   "cell_type": "code",
   "execution_count": 15,
   "metadata": {},
   "outputs": [
    {
     "data": {
      "text/plain": [
       "(0.6974628316032541, 1.1868540198708353)"
      ]
     },
     "metadata": {},
     "output_type": "display_data"
    },
    {
     "data": {
      "text/plain": [
       "(-0.8541685916254986, -1.112741129782544)"
      ]
     },
     "metadata": {},
     "output_type": "display_data"
    },
    {
     "data": {
      "text/plain": [
       "(-2.3052655483869082, -2.1744935723311904)"
      ]
     },
     "metadata": {},
     "output_type": "display_data"
    },
    {
     "data": {
      "text/plain": [
       "(2.5703158739790988, -2.0270918252578882)"
      ]
     },
     "metadata": {},
     "output_type": "display_data"
    },
    {
     "data": {
      "text/plain": [
       "(-1.9641008231775792, 2.7683349808147066)"
      ]
     },
     "metadata": {},
     "output_type": "display_data"
    },
    {
     "data": {
      "text/plain": [
       "(2.0594737601345003, 2.4944107570298666)"
      ]
     },
     "metadata": {},
     "output_type": "display_data"
    }
   ],
   "source": [
    "for s in list_of_real_solutions\n",
    "    display((s[2],s[3]))\n",
    "end"
   ]
  },
  {
   "cell_type": "markdown",
   "metadata": {},
   "source": [
    "Here's a link to what this looks like in GeoGebra: https://www.geogebra.org/m/nercedxu."
   ]
  },
  {
   "cell_type": "markdown",
   "metadata": {},
   "source": [
    "<div>\n",
    "    <img src=\"img/edd.png\" width=500/>\n",
    "</div> "
   ]
  },
  {
   "cell_type": "markdown",
   "metadata": {},
   "source": [
    "## Part (d): Is it a proof?"
   ]
  },
  {
   "cell_type": "markdown",
   "metadata": {},
   "source": [
    "We need to make sure we haven't missed any solutions of the system!\n",
    "\n",
    "You can try to prove this by computing the dimension of the **coordinate ring** in `OSCAR`, which would show that, indeed, there are 12 complex solutions. \n",
    "\n",
    "Alternatively, you will see in Week 7 of the course that the **mixed volume** can be used to show that there are at most 12 solutions."
   ]
  }
 ],
 "metadata": {
  "kernelspec": {
   "display_name": "Julia 1.9.4",
   "language": "julia",
   "name": "julia-1.9"
  },
  "language_info": {
   "file_extension": ".jl",
   "mimetype": "application/julia",
   "name": "julia",
   "version": "1.9.4"
  }
 },
 "nbformat": 4,
 "nbformat_minor": 2
}
