{
 "cells": [
  {
   "cell_type": "markdown",
   "metadata": {},
   "source": [
    "## Suggested solution for Problem 5 (more on the $\\gamma$-trick)"
   ]
  },
  {
   "cell_type": "markdown",
   "metadata": {},
   "source": [
    "Here we want to backwards-engineer a $\\gamma$ for which we run into trouble when we solve the system\n",
    "\n",
    "$$\\begin{cases}x^2-y^2-1=0\\\\2x^2+y^2-8=0\\end{cases}$$\n",
    "\n",
    "with a straight-line homotopy from the total degree system with the $\\gamma$-trick. \n",
    "\n",
    "Specifically, we'll try to cook up a $\\gamma$ such that at least one of the paths run into a singular Jacobian at $t=1/2$. \n",
    "\n",
    "This corresponds to making sure that there is a solution to the system \n",
    "\n",
    "$$\\begin{cases}H(\\tfrac{1}{2},x)=0\\\\ \\det\\left(\\frac{\\partial H}{\\partial x}\\Big(\\tfrac{1}{2},x\\Big)\\right)=0\\,,\\end{cases}$$\n",
    "\n",
    "which takes the following form:\n",
    "\n",
    "$$\\begin{cases}\\tfrac{1}{2}\\gamma(x^2-1) + \\tfrac{1}{2}(-1 + x^2 - y^2)=0\\\\\n",
    "\\tfrac{1}{2}\\gamma (y^2-1) + \\tfrac{1}{2}(-8 + 2x^2 + y^2)=0\\\\\n",
    "(x + \\gamma x)(y + \\gamma y)+2xy=0\\,.\\end{cases}$$\n",
    "\n",
    "From this we can use elimination and extension in `OSCAR` to show that this system has solutions if and only if\n",
    "\n",
    "$$\\gamma^4 + 10\\gamma^3 + 36\\gamma^2 + 81\\gamma + 54=0\\,,$$\n",
    "\n",
    "which gives $\\gamma\\in\\Big\\{-6, -1, -\\frac{3}{2} \\pm \\frac{3\\sqrt{3}}{2}i\\Big\\}$. "
   ]
  },
  {
   "cell_type": "markdown",
   "metadata": {},
   "source": [
    "Let's try one of these gammas, and see what happens!"
   ]
  },
  {
   "cell_type": "code",
   "execution_count": 1,
   "metadata": {},
   "outputs": [],
   "source": [
    "using HomotopyContinuation"
   ]
  },
  {
   "cell_type": "code",
   "execution_count": 2,
   "metadata": {},
   "outputs": [
    {
     "name": "stdout",
     "output_type": "stream",
     "text": [
      "\r\u001b[32mTracking 4 paths... 100%|███████████████████████████████| Time: 0:00:03\u001b[39m\r\n",
      "\u001b[34m  # paths tracked:                  4\u001b[39m\r\n",
      "\u001b[34m  # non-singular solutions (real):  0 (0)\u001b[39m\r\n",
      "\u001b[34m  # singular endpoints (real):      0 (0)\u001b[39m\r\n",
      "\u001b[34m  # total solutions (real):         0 (0)\u001b[39m\n"
     ]
    },
    {
     "data": {
      "text/plain": [
       "Result with 0 solutions\n",
       "=======================\n",
       "• 4 paths tracked\n",
       "• 0 non-singular solutions (0 real)\n",
       "• random_seed: 0xe5ba9290\n",
       "• start_system: :total_degree\n"
      ]
     },
     "execution_count": 2,
     "metadata": {},
     "output_type": "execute_result"
    }
   ],
   "source": [
    "@var x y\n",
    "F = System([x^2-y^2-1, 2*x^2+y^2-8])\n",
    "solve(F, start_system = :total_degree, gamma=-6)"
   ]
  }
 ],
 "metadata": {
  "kernelspec": {
   "display_name": "Julia 1.9.4",
   "language": "julia",
   "name": "julia-1.9"
  },
  "language_info": {
   "file_extension": ".jl",
   "mimetype": "application/julia",
   "name": "julia",
   "version": "1.9.4"
  }
 },
 "nbformat": 4,
 "nbformat_minor": 2
}
