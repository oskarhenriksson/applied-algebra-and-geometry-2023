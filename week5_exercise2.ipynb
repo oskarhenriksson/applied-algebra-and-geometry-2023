{
 "cells": [
  {
   "cell_type": "markdown",
   "metadata": {},
   "source": [
    "## Suggested solution for Exercise 2"
   ]
  },
  {
   "cell_type": "code",
   "execution_count": 1,
   "metadata": {},
   "outputs": [],
   "source": [
    "using HomotopyContinuation"
   ]
  },
  {
   "cell_type": "markdown",
   "metadata": {},
   "source": [
    "### Part (a): Colliding paths"
   ]
  },
  {
   "cell_type": "code",
   "execution_count": 2,
   "metadata": {},
   "outputs": [
    {
     "data": {
      "text/plain": [
       "Result with 0 solutions\n",
       "=======================\n",
       "• 2 paths tracked\n",
       "• 0 non-singular solutions (0 real)\n",
       "• random_seed: 0x29f203a1\n",
       "• start_system: :total_degree\n"
      ]
     },
     "execution_count": 2,
     "metadata": {},
     "output_type": "execute_result"
    }
   ],
   "source": [
    "#The exercise sheet had a typo where the constant term was 4\n",
    "@var x\n",
    "F1 = System([x^2-5*x+6]) \n",
    "res1 = solve(F1, start_system = :total_degree, gamma=1)"
   ]
  },
  {
   "cell_type": "markdown",
   "metadata": {},
   "source": [
    "**Explanation:** We check in the GeoGebra applet, and see that the problem is that two paths collide around $t\\approx 0.17$. At this point, the Jacobian of $H_t(x)$ is singular, and it becomes impossible to solve the Davidenko equations numerically."
   ]
  },
  {
   "cell_type": "markdown",
   "metadata": {},
   "source": [
    "<div>\n",
    "<img src=\"img/collision.png\" width=\"400\"/>\n",
    "</div>"
   ]
  },
  {
   "cell_type": "markdown",
   "metadata": {},
   "source": [
    "**Better gamma:** Trial and error gives that $\\gamma=i$ works."
   ]
  },
  {
   "cell_type": "code",
   "execution_count": 3,
   "metadata": {},
   "outputs": [
    {
     "data": {
      "text/plain": [
       "Result with 2 solutions\n",
       "=======================\n",
       "• 2 paths tracked\n",
       "• 2 non-singular solutions (2 real)\n",
       "• random_seed: 0x81473658\n",
       "• start_system: :total_degree\n"
      ]
     },
     "execution_count": 3,
     "metadata": {},
     "output_type": "execute_result"
    }
   ],
   "source": [
    "solve(F1, start_system = :total_degree, gamma=im)"
   ]
  },
  {
   "cell_type": "markdown",
   "metadata": {},
   "source": [
    "### Part (b): Path that goes off to infinity"
   ]
  },
  {
   "cell_type": "code",
   "execution_count": 4,
   "metadata": {},
   "outputs": [
    {
     "data": {
      "text/plain": [
       "Result with 1 solution\n",
       "======================\n",
       "• 2 paths tracked\n",
       "• 1 non-singular solution (1 real)\n",
       "• random_seed: 0xa40b68fa\n",
       "• start_system: :total_degree\n"
      ]
     },
     "execution_count": 4,
     "metadata": {},
     "output_type": "execute_result"
    }
   ],
   "source": [
    "@var x\n",
    "F2 = System([-x^2+2*x])\n",
    "res2 = solve(F2, start_system = :total_degree, gamma = 1)"
   ]
  },
  {
   "cell_type": "markdown",
   "metadata": {},
   "source": [
    "**Explanation:** At $t=0.5$, one of the paths disappear to infinity. This corresponds to the fact that at this $t$, the homotopy gives a linear polynomial $H_t(x)$ which just has a single root. Since we can't numerically trace the path all the way to infinity, the algorithm gives up, and we end up missing one solution.\n",
    "\n",
    "<div>\n",
    "<img src=\"img/infinity.png\" width=\"400\"/>\n",
    "</div>"
   ]
  },
  {
   "cell_type": "markdown",
   "metadata": {},
   "source": [
    "**Better gamma:** The key is to make sure that the square term has the same sign in the start system as in the target system. So $\\gamma=-1$ does the job."
   ]
  },
  {
   "cell_type": "code",
   "execution_count": 5,
   "metadata": {},
   "outputs": [
    {
     "data": {
      "text/plain": [
       "Result with 2 solutions\n",
       "=======================\n",
       "• 2 paths tracked\n",
       "• 2 non-singular solutions (2 real)\n",
       "• random_seed: 0xce8ee156\n",
       "• start_system: :total_degree\n"
      ]
     },
     "execution_count": 5,
     "metadata": {},
     "output_type": "execute_result"
    }
   ],
   "source": [
    "solve(F2, start_system = :total_degree, gamma = -1)"
   ]
  },
  {
   "cell_type": "markdown",
   "metadata": {},
   "source": [
    "### Part (c): Another collision"
   ]
  },
  {
   "cell_type": "code",
   "execution_count": 6,
   "metadata": {},
   "outputs": [
    {
     "data": {
      "text/plain": [
       "Result with 0 solutions\n",
       "=======================\n",
       "• 2 paths tracked\n",
       "• 0 non-singular solutions (0 real)\n",
       "• random_seed: 0x9ee5cea2\n",
       "• start_system: :total_degree\n"
      ]
     },
     "execution_count": 6,
     "metadata": {},
     "output_type": "execute_result"
    }
   ],
   "source": [
    "@var x\n",
    "F3 = System([x^2+1]) \n",
    "res3 = solve(F3, start_system = :total_degree, gamma=1)"
   ]
  },
  {
   "cell_type": "markdown",
   "metadata": {},
   "source": [
    "**Explanation:** Same phenomenon as in part (a); two paths collide which give a singular Jacobian."
   ]
  },
  {
   "cell_type": "markdown",
   "metadata": {},
   "source": [
    "<div>\n",
    "<img src=\"img/collision2.png\" width=\"400\"/>\n",
    "</div>"
   ]
  },
  {
   "cell_type": "markdown",
   "metadata": {},
   "source": [
    "**Better gamma:** Again, $\\gamma=i$ works. "
   ]
  },
  {
   "cell_type": "code",
   "execution_count": 7,
   "metadata": {},
   "outputs": [
    {
     "data": {
      "text/plain": [
       "Result with 2 solutions\n",
       "=======================\n",
       "• 2 paths tracked\n",
       "• 2 non-singular solutions (0 real)\n",
       "• random_seed: 0x0432e225\n",
       "• start_system: :total_degree\n"
      ]
     },
     "execution_count": 7,
     "metadata": {},
     "output_type": "execute_result"
    }
   ],
   "source": [
    "solve(F3, start_system = :total_degree, gamma=im)"
   ]
  },
  {
   "cell_type": "markdown",
   "metadata": {},
   "source": [
    "### Bonus: Picking a random complex numbers"
   ]
  },
  {
   "cell_type": "markdown",
   "metadata": {},
   "source": [
    "We can use the `rand()`` command (which gives random real floating point numbers to construct random complex number as follows:"
   ]
  },
  {
   "cell_type": "code",
   "execution_count": 8,
   "metadata": {},
   "outputs": [
    {
     "data": {
      "text/plain": [
       "0.028617974471368712 + 0.8689221624930983im"
      ]
     },
     "execution_count": 8,
     "metadata": {},
     "output_type": "execute_result"
    }
   ],
   "source": [
    "rand()+rand()im"
   ]
  },
  {
   "cell_type": "code",
   "execution_count": 9,
   "metadata": {},
   "outputs": [
    {
     "data": {
      "text/plain": [
       "0.013701642837842412 - 0.9999061280858039im"
      ]
     },
     "execution_count": 9,
     "metadata": {},
     "output_type": "execute_result"
    }
   ],
   "source": [
    "exp(2*pi*rand()*im)"
   ]
  },
  {
   "cell_type": "code",
   "execution_count": 10,
   "metadata": {},
   "outputs": [
    {
     "data": {
      "text/plain": [
       "Result with 2 solutions\n",
       "=======================\n",
       "• 2 paths tracked\n",
       "• 2 non-singular solutions (2 real)\n",
       "• random_seed: 0x26573410\n",
       "• start_system: :total_degree\n"
      ]
     },
     "execution_count": 10,
     "metadata": {},
     "output_type": "execute_result"
    }
   ],
   "source": [
    "solve(F1,start_system = :total_degree, gamma=exp(2*pi*rand()*im))"
   ]
  },
  {
   "cell_type": "markdown",
   "metadata": {},
   "source": [
    "### Bonus: Extract information from the path results"
   ]
  },
  {
   "cell_type": "markdown",
   "metadata": {},
   "source": [
    "The `solve` command saves the data about each paths, so if you get fewer solutions than expected, you can check this data to get a hint about what went wrong. The relevant command is `path_results`. Let's try it for each of the systems we tried to solve above."
   ]
  },
  {
   "cell_type": "code",
   "execution_count": 11,
   "metadata": {},
   "outputs": [
    {
     "data": {
      "text/plain": [
       "2-element Vector{PathResult}:\n",
       " PathResult:\n",
       " • return_code → :terminated_step_size_too_small\n",
       " • solution → ComplexF64[0.42020412036922444 + 0.0im]\n",
       " • accuracy → 0.0\n",
       " • residual → 0.0\n",
       " • condition_jacobian → NaN\n",
       " • steps → 28 / 13\n",
       " • extended_precision → false\n",
       " • path_number → 1\n",
       "\n",
       " PathResult:\n",
       " • return_code → :terminated_step_size_too_small\n",
       " • solution → ComplexF64[0.4202040883991916 - 4.9506544e-317im]\n",
       " • accuracy → 0.0\n",
       " • residual → 0.0\n",
       " • condition_jacobian → NaN\n",
       " • steps → 25 / 7\n",
       " • extended_precision → false\n",
       " • path_number → 2\n"
      ]
     },
     "execution_count": 11,
     "metadata": {},
     "output_type": "execute_result"
    }
   ],
   "source": [
    "path_results(res1)"
   ]
  },
  {
   "cell_type": "code",
   "execution_count": 12,
   "metadata": {},
   "outputs": [
    {
     "data": {
      "text/plain": [
       "2-element Vector{PathResult}:\n",
       " PathResult:\n",
       " • return_code → :success\n",
       " • solution → ComplexF64[0.0 + 0.0im]\n",
       " • accuracy → 1.5186e-17\n",
       " • residual → 0.0\n",
       " • condition_jacobian → 1.6896\n",
       " • steps → 5 / 0\n",
       " • extended_precision → false\n",
       " • path_number → 1\n",
       "\n",
       " PathResult:\n",
       " • return_code → :terminated_step_size_too_small\n",
       " • solution → ComplexF64[-1.7669036105980985e15 + 0.0im]\n",
       " • accuracy → 0.0\n",
       " • residual → 0.0\n",
       " • condition_jacobian → NaN\n",
       " • steps → 75 / 15\n",
       " • extended_precision → false\n",
       " • path_number → 2\n"
      ]
     },
     "execution_count": 12,
     "metadata": {},
     "output_type": "execute_result"
    }
   ],
   "source": [
    "path_results(res2)"
   ]
  },
  {
   "cell_type": "code",
   "execution_count": 13,
   "metadata": {},
   "outputs": [
    {
     "data": {
      "text/plain": [
       "2-element Vector{PathResult}:\n",
       " PathResult:\n",
       " • return_code → :terminated_step_size_too_small\n",
       " • solution → ComplexF64[6.011298162815584e-9 + 0.0im]\n",
       " • accuracy → 0.0\n",
       " • residual → 0.0\n",
       " • condition_jacobian → NaN\n",
       " • steps → 24 / 1\n",
       " • extended_precision → false\n",
       " • path_number → 1\n",
       "\n",
       " PathResult:\n",
       " • return_code → :terminated_step_size_too_small\n",
       " • solution → ComplexF64[-2.1587009230802174e-8 + 0.0im]\n",
       " • accuracy → 0.0\n",
       " • residual → 0.0\n",
       " • condition_jacobian → NaN\n",
       " • steps → 23 / 1\n",
       " • extended_precision → false\n",
       " • path_number → 2\n"
      ]
     },
     "execution_count": 13,
     "metadata": {},
     "output_type": "execute_result"
    }
   ],
   "source": [
    "path_results(res3)"
   ]
  },
  {
   "cell_type": "markdown",
   "metadata": {},
   "source": [
    "### Bonus: Explanation in terms of the discriminant"
   ]
  },
  {
   "cell_type": "markdown",
   "metadata": {},
   "source": [
    "You probably learned already in high school (but with different terminology, and with a different perspective) that the discriminant variety of the family \n",
    "$\\mathcal{F}(2)=\\{ax^2+bx+c:a,b,c\\in\\mathbb{C}\\}$ is given by the surface\n",
    "$\\Delta=\\{ax^2+bx+c:a=0\\:\\text{or}\\:b^2-4ac=0\\}$.\n",
    "\n",
    "If we identify $\\mathcal{F}(2)$ with $\\mathbb{C}^3$ via the mapping $(a,b,c)\\mapsto ax^2+bx+c$‚ then $\\Delta$ corresponds to the gray surface in the following picture. The red dot is the total degree start system (with $\\gamma=1$), and the three blue dots are the three target systems we have considered.\n",
    "\n",
    "<div>\n",
    "<img src=\"img/discriminant.png\" width=\"600\"/>\n",
    "</div>"
   ]
  },
  {
   "cell_type": "markdown",
   "metadata": {},
   "source": [
    "In each of the three cases, the polynomial family that makes up the straigt-line homotopy corresponds to a line segement between $G$ and the respective target system. We illustrate these line segments with pink color in the picture below. In all three cases, the homotopy crosses the discriminant, which corresponds to the root count dropping along the way, which causes the homotopy continuation to fail. \n",
    "\n",
    "By picking a random complex $\\gamma$ the homotopies go into complex space, where we intuitively can imagine that there is \"much more space for avoiding the discriminant\"."
   ]
  },
  {
   "cell_type": "markdown",
   "metadata": {},
   "source": [
    "<div>\n",
    "<img src=\"img/straight_line_homotopies.png\" width=\"400\"/>\n",
    "</div>"
   ]
  },
  {
   "cell_type": "markdown",
   "metadata": {},
   "source": [
    "Understanding discriminant varieties is a bit beyond the scope of the course, but you are still encouraged to play around with the Geogebra applet for various systems and choices of $\\gamma$."
   ]
  },
  {
   "cell_type": "markdown",
   "metadata": {},
   "source": [
    "### Bonus: A custom homotopy that avoids the discriminant"
   ]
  },
  {
   "cell_type": "markdown",
   "metadata": {},
   "source": [
    "Just for fun, we could construct a slightly curved homotopy for the first system that avoids the discriminant. Trial and error give that\n",
    "$$H_t(x)=x^2-5tx + (7t^2-1)$$\n",
    "works. See the figure below."
   ]
  },
  {
   "cell_type": "markdown",
   "metadata": {},
   "source": [
    "<div>\n",
    "<img src=\"img/custom_homotopy.png\" width=\"400\"/>\n",
    "</div>"
   ]
  },
  {
   "cell_type": "markdown",
   "metadata": {},
   "source": [
    "Here are the commands for using a custom homotopy (not needed for the exam, but could be nice to know about):"
   ]
  },
  {
   "cell_type": "code",
   "execution_count": 14,
   "metadata": {},
   "outputs": [
    {
     "data": {
      "text/plain": [
       "2-element Vector{TrackerResult}:\n",
       " TrackerResult:\n",
       " • return_code → success\n",
       " • solution → ComplexF64[3.0000000000000027 + 0.0im]\n",
       " • t → 1.0 + 0.0im\n",
       " • accuracy → 0.0\n",
       " • accepted_steps → 4\n",
       " • rejected_steps → 0\n",
       " • extended_precision → false\n",
       " • extended_precision_used → false\n",
       " • ω → 5.2005\n",
       " • μ → 2.2204e-16\n",
       " • τ → 0.33333\n",
       "\n",
       " TrackerResult:\n",
       " • return_code → success\n",
       " • solution → ComplexF64[1.9999999999999996 + 0.0im]\n",
       " • t → 1.0 + 0.0im\n",
       " • accuracy → 0.0\n",
       " • accepted_steps → 4\n",
       " • rejected_steps → 0\n",
       " • extended_precision → false\n",
       " • extended_precision_used → false\n",
       " • ω → 3.0731\n",
       " • μ → 2.2204e-16\n",
       " • τ → 0.33333\n"
      ]
     },
     "execution_count": 14,
     "metadata": {},
     "output_type": "execute_result"
    }
   ],
   "source": [
    "@var t\n",
    "H = Homotopy([x^2-5*t*x + 7*t^2-1],[x],t)\n",
    "res = track.(Tracker(H), [[1],[-1]], 0, 1)"
   ]
  },
  {
   "cell_type": "code",
   "execution_count": 15,
   "metadata": {},
   "outputs": [
    {
     "data": {
      "text/plain": [
       "2-element Vector{Vector{ComplexF64}}:\n",
       " [3.0000000000000027 + 0.0im]\n",
       " [1.9999999999999996 + 0.0im]"
      ]
     },
     "execution_count": 15,
     "metadata": {},
     "output_type": "execute_result"
    }
   ],
   "source": [
    "sol = map(solution,res)"
   ]
  }
 ],
 "metadata": {
  "kernelspec": {
   "display_name": "Julia 1.9.4",
   "language": "julia",
   "name": "julia-1.9"
  },
  "language_info": {
   "file_extension": ".jl",
   "mimetype": "application/julia",
   "name": "julia",
   "version": "1.9.4"
  }
 },
 "nbformat": 4,
 "nbformat_minor": 2
}
