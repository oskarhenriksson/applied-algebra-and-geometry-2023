{
 "cells": [
  {
   "cell_type": "markdown",
   "metadata": {},
   "source": [
    "# Suggested solution of Exercise 1"
   ]
  },
  {
   "cell_type": "markdown",
   "metadata": {},
   "source": [
    "If you have questions, comments, or find something that looks like a mistake, feel free to email me at `oskar.henriksson@math.ku.dk`!\n",
    "\n",
    "<div class=\"alert alert-block alert-info\">\n",
    "\n",
    "**Remark:** The `HomotopyContinuation.jl` package is developed by different people than the group of people who develop `OSCAR`, so the commands, output and underlying data types are a bit different from what you're used to from `OSCAR`. This will take a while to get used to! \n",
    "\n",
    "**Recommendation:** To avoid confusion with the data types, we recommend that you always run `HomotopyContinuation.jl` code and `OSCAR` code in separate Jupyter notebooks, and that you manually copy and paste data between them. \n",
    "    \n",
    "</dix>"
   ]
  },
  {
   "cell_type": "markdown",
   "metadata": {},
   "source": [
    "## Preparations"
   ]
  },
  {
   "cell_type": "markdown",
   "metadata": {},
   "source": [
    "If you haven't installed `HomotopyContinuation.jl` yet, you can do this with the package manager. The surest way to get the latest version is to install directly from the github repository."
   ]
  },
  {
   "cell_type": "code",
   "execution_count": 1,
   "metadata": {},
   "outputs": [],
   "source": [
    "#using Pkg\n",
    "#Pkg.add(url=\"https://github.com/JuliaHomotopyContinuation/HomotopyContinuation.jl\")"
   ]
  },
  {
   "cell_type": "markdown",
   "metadata": {},
   "source": [
    "You can check that you have the latest version (v2.9.2) with the help of the `Pkg.status` command."
   ]
  },
  {
   "cell_type": "code",
   "execution_count": 2,
   "metadata": {},
   "outputs": [
    {
     "name": "stdout",
     "output_type": "stream",
     "text": [
      "\u001b[32m\u001b[1mStatus\u001b[22m\u001b[39m `~/.julia/environments/v1.9/Project.toml`\n",
      "  \u001b[90m[f213a82b] \u001b[39mHomotopyContinuation v2.9.2\n"
     ]
    }
   ],
   "source": [
    "using Pkg\n",
    "Pkg.status(\"HomotopyContinuation\")"
   ]
  },
  {
   "cell_type": "code",
   "execution_count": 3,
   "metadata": {},
   "outputs": [],
   "source": [
    "using HomotopyContinuation"
   ]
  },
  {
   "cell_type": "markdown",
   "metadata": {},
   "source": [
    "## Exercise 1"
   ]
  },
  {
   "cell_type": "markdown",
   "metadata": {},
   "source": [
    "In this problem, we find all the complex intersection points between an ellipse and an elliptic curve, given by the system\n",
    "\n",
    "$$\\begin{cases}2x^2+y^2-4=0\\\\x^3-3x-y^2+3=0\\,.\\end{cases}$$"
   ]
  },
  {
   "cell_type": "markdown",
   "metadata": {},
   "source": [
    "### Part (a): Davidenko equations"
   ]
  },
  {
   "cell_type": "markdown",
   "metadata": {},
   "source": [
    "The **total degree start system** looks as follows (note that we abuse notation a bit by abbreviating the variable vector $(x,y)$ by $x$ in the left-hand side):\n",
    "\n",
    "$$G(x)=\\begin{bmatrix}x^2-1\\\\y^3-1\\end{bmatrix}.$$"
   ]
  },
  {
   "cell_type": "markdown",
   "metadata": {},
   "source": [
    "The **straight-line homotopy** (with the $\\gamma$-trick) is $$H(t,x)=(t-1)\\gamma G(x)+tF(x)=\\left[ \\begin {array}{c}  \\left( 1-t \\right) \\gamma\\, \\left( {x}^{2}-\n",
    "1 \\right) +t \\left( 2\\,{x}^{2}+{y}^{2}-4 \\right) \\\\ \n",
    " \\left( 1-t \\right) \\gamma\\, \\left( {y}^{3}-1 \\right) +t \\left( {x}^{3\n",
    "            }-{y}^{2}-3\\,x+3 \\right) \\end {array} \\right].$$"
   ]
  },
  {
   "cell_type": "markdown",
   "metadata": {},
   "source": [
    "To write down the **Davidenko differential equation**, we need to differentiate $H$ with respect to both the variables and the parameter $t$."
   ]
  },
  {
   "cell_type": "markdown",
   "metadata": {},
   "source": [
    "The Jacobian with respect to the variables is\n",
    "$$\\frac{\\partial H}{\\partial x}=\\left[ \\begin {array}{cc} 2\\, \\left( 1-t \\right) \\gamma\\,x+4\\,tx&2\\,t\n",
    "y\\\\ t \\left( 3\\,{x}^{2}-3 \\right) &3\\, \\left( 1-t\n",
    " \\right) \\gamma\\,{y}^{2}-2\\,ty\\end {array} \\right].$$"
   ]
  },
  {
   "cell_type": "markdown",
   "metadata": {},
   "source": [
    "The derivative with respect to $t$ is\n",
    "$$ \\frac{\\partial H}{\\partial t} = \\left[ \\begin {array}{c} -\\gamma\\, \\left( {x}^{2}-1 \\right) +2\\,{x}^{\n",
    "2}+{y}^{2}-4\\\\ -\\gamma\\, \\left( {y}^{3}-1 \\right) +{\n",
    "x}^{3}-{y}^{2}-3\\,x+3\\end {array} \\right].$$"
   ]
  },
  {
   "cell_type": "markdown",
   "metadata": {},
   "source": [
    "All in all, we obtain\n",
    "$$\\frac{dx}{dt}=-\\left(\\frac{\\partial H}{\\partial x}\\right)^{-1}\\frac{\\partial H}{\\partial t}=-\\left[ \\begin {array}{cc} 2\\, \\left( 1-t \\right) \\gamma\\,x+4\\,tx&2\\,t\n",
    "y\\\\ t \\left( 3\\,{x}^{2}-3 \\right) &3\\, \\left( 1-t\n",
    " \\right) \\gamma\\,{y}^{2}-2\\,ty\\end {array} \\right]^{-1} \\left[ \\begin {array}{c} -\\gamma\\, \\left( {x}^{2}-1 \\right) +2\\,{x}^{\n",
    "2}+{y}^{2}-4\\\\ -\\gamma\\, \\left( {y}^{3}-1 \\right) +{\n",
    "x}^{3}-{y}^{2}-3\\,x+3\\end {array} \\right]\\,.$$"
   ]
  },
  {
   "cell_type": "markdown",
   "metadata": {},
   "source": [
    "### Part (b): Solving the system"
   ]
  },
  {
   "cell_type": "markdown",
   "metadata": {},
   "source": [
    "The first step is to define the variables, and create the system."
   ]
  },
  {
   "cell_type": "code",
   "execution_count": 4,
   "metadata": {},
   "outputs": [],
   "source": [
    "@var x y;"
   ]
  },
  {
   "cell_type": "code",
   "execution_count": 5,
   "metadata": {},
   "outputs": [
    {
     "data": {
      "text/plain": [
       "System of length 2\n",
       " 2 variables: x, y\n",
       "\n",
       " -4 + 2*x^2 + y^2\n",
       " 3 - 3*x + x^3 - y^2"
      ]
     },
     "execution_count": 5,
     "metadata": {},
     "output_type": "execute_result"
    }
   ],
   "source": [
    "F = System( [2*x^2+y^2-4, x^3-3*x-y^2+3], variables=[x,y] )"
   ]
  },
  {
   "cell_type": "markdown",
   "metadata": {},
   "source": [
    "To solve the system with homotopy continuation, we use the `solve` command."
   ]
  },
  {
   "cell_type": "markdown",
   "metadata": {},
   "source": [
    "<div class=\"alert alert-block alert-info\">\n",
    "\n",
    "<strong>Warning:</strong> The program claims that four solutions are real already at this stage, but it doesn't have a formal proof for this claim. Instead, it simply <em>guesses</em> that a solution is real if the approximation it finds has very small imaginary parts. To be sure that there are four real solutions, we need to use certification!\n",
    "\n",
    "</div>"
   ]
  },
  {
   "cell_type": "code",
   "execution_count": 6,
   "metadata": {},
   "outputs": [
    {
     "name": "stdout",
     "output_type": "stream",
     "text": [
      "\r\u001b[32mTracking 6 paths... 100%|███████████████████████████████| Time: 0:00:04\u001b[39m\r\n",
      "\u001b[34m  # paths tracked:                  6\u001b[39m\r\n",
      "\u001b[34m  # non-singular solutions (real):  6 (4)\u001b[39m\r\n",
      "\u001b[34m  # singular endpoints (real):      0 (0)\u001b[39m\r\n",
      "\u001b[34m  # total solutions (real):         6 (4)\u001b[39m\n"
     ]
    },
    {
     "data": {
      "text/plain": [
       "Result with 6 solutions\n",
       "=======================\n",
       "• 6 paths tracked\n",
       "• 6 non-singular solutions (4 real)\n",
       "• random_seed: 0x3c1926af\n",
       "• start_system: :total_degree\n"
      ]
     },
     "execution_count": 6,
     "metadata": {},
     "output_type": "execute_result"
    }
   ],
   "source": [
    "result = solve(F, start_system = :total_degree)"
   ]
  },
  {
   "cell_type": "markdown",
   "metadata": {},
   "source": [
    "The output from `solve` is an abstract data type called \"result\" that contains lots of additional information, other than just the solutions. You can access the actual solutions by applying the `solutions` command."
   ]
  },
  {
   "cell_type": "code",
   "execution_count": 7,
   "metadata": {},
   "outputs": [
    {
     "data": {
      "text/plain": [
       "6-element Vector{Vector{ComplexF64}}:\n",
       " [1.198691243515997 + 0.0im, 1.0612627410006181 - 2.350988701644575e-38im]\n",
       " [-0.2864620650316006 - 1.5407439555097887e-33im, 1.9585400099552888 + 0.0im]\n",
       " [-2.9122291784843966 + 0.0im, 0.0 - 3.600299650866828im]\n",
       " [-2.912229178484397 + 0.0im, 1.2037062152420224e-35 + 3.6002996508668286im]\n",
       " [1.198691243515997 + 7.703719777548943e-34im, -1.0612627410006181 + 7.703719777548943e-34im]\n",
       " [-0.2864620650316005 + 0.0im, -1.9585400099552888 + 0.0im]"
      ]
     },
     "execution_count": 7,
     "metadata": {},
     "output_type": "execute_result"
    }
   ],
   "source": [
    "sol = solutions(result)"
   ]
  },
  {
   "cell_type": "markdown",
   "metadata": {},
   "source": [
    "### Part (c): Certification"
   ]
  },
  {
   "cell_type": "markdown",
   "metadata": {},
   "source": [
    "The command for doing certification is `certify`."
   ]
  },
  {
   "cell_type": "code",
   "execution_count": 8,
   "metadata": {},
   "outputs": [
    {
     "name": "stdout",
     "output_type": "stream",
     "text": [
      "\r\u001b[32mCertifying 6 solutions... 100%|█████████████████████████| Time: 0:00:00\u001b[39m\r\n",
      "\u001b[34m  # processed:         6\u001b[39m\r\n",
      "\u001b[34m  # certified (real):  6 (4)\u001b[39m\r\n",
      "\u001b[34m  # distinct (real):   6 (4)\u001b[39m\n"
     ]
    },
    {
     "data": {
      "text/plain": [
       "CertificationResult\n",
       "===================\n",
       "• 6 solution candidates given\n",
       "• 6 certified solution intervals (4 real, 2 complex)\n",
       "• 6 distinct certified solution intervals (4 real, 2 complex)"
      ]
     },
     "execution_count": 8,
     "metadata": {},
     "output_type": "execute_result"
    }
   ],
   "source": [
    "cert_result = certify(F, sol)"
   ]
  },
  {
   "cell_type": "markdown",
   "metadata": {},
   "source": [
    "We can obtain the data from the certification result with the command `certificates`, but this easily gets a bit overwhelming, so it's usually easier to loop through the certificates and ask for specific information. In this case, we want to know the following:\n",
    "\n",
    "- What the certified box looks like.\n",
    "- Whether it is verifiable real (in the sense that $\\overline{I}=I$), which can be checked manually by inspecting the box, or automatically with the `is_real` command.\n",
    "- Whether it is verifiably nonreal (in the sense that $I\\cap\\mathbb{R}^n=\\varnothing$), which can be checked manually by inspecting the box, or automatically with the `is_complex` command.\n",
    "\n",
    "The following script loops through all the six boxes (also known as *certified solution intervals*) that the program has found, and prints the information mentioned above."
   ]
  },
  {
   "cell_type": "code",
   "execution_count": 9,
   "metadata": {},
   "outputs": [
    {
     "data": {
      "text/plain": [
       "2×1 Arblib.AcbMatrix:\n",
       " [1.19869124351600 +/- 4.24e-15] + [+/- 1.63e-24]im\n",
       " [1.06126274100062 +/- 3.88e-15] + [+/- 2.56e-24]im"
      ]
     },
     "metadata": {},
     "output_type": "display_data"
    },
    {
     "name": "stdout",
     "output_type": "stream",
     "text": [
      "true\n",
      "false\n",
      "\n"
     ]
    },
    {
     "data": {
      "text/plain": [
       "2×1 Arblib.AcbMatrix:\n",
       " [-0.28646206503160 +/- 1.38e-15] + [+/- 1.04e-24]im\n",
       "  [1.95854000995529 +/- 2.35e-15] + [+/- 5.81e-25]im"
      ]
     },
     "metadata": {},
     "output_type": "display_data"
    },
    {
     "name": "stdout",
     "output_type": "stream",
     "text": [
      "true\n",
      "false\n",
      "\n"
     ]
    },
    {
     "data": {
      "text/plain": [
       "2×1 Arblib.AcbMatrix:\n",
       " [-2.91222917848440 +/- 8.78e-15] + [+/- 3.84e-23]im\n",
       "  [+/- 8.15e-23] + [-3.6002996508668 +/- 3.93e-14]im"
      ]
     },
     "metadata": {},
     "output_type": "display_data"
    },
    {
     "name": "stdout",
     "output_type": "stream",
     "text": [
      "false\n",
      "true\n",
      "\n"
     ]
    },
    {
     "data": {
      "text/plain": [
       "2×1 Arblib.AcbMatrix:\n",
       " [-2.91222917848440 +/- 8.78e-15] + [+/- 3.84e-23]im\n",
       "   [+/- 8.15e-23] + [3.6002996508668 +/- 3.93e-14]im"
      ]
     },
     "metadata": {},
     "output_type": "display_data"
    },
    {
     "name": "stdout",
     "output_type": "stream",
     "text": [
      "false\n",
      "true\n",
      "\n"
     ]
    },
    {
     "data": {
      "text/plain": [
       "2×1 Arblib.AcbMatrix:\n",
       "  [1.19869124351600 +/- 4.24e-15] + [+/- 1.63e-24]im\n",
       " [-1.06126274100062 +/- 3.88e-15] + [+/- 2.56e-24]im"
      ]
     },
     "metadata": {},
     "output_type": "display_data"
    },
    {
     "name": "stdout",
     "output_type": "stream",
     "text": [
      "true\n",
      "false\n",
      "\n"
     ]
    },
    {
     "data": {
      "text/plain": [
       "2×1 Arblib.AcbMatrix:\n",
       " [-0.28646206503160 +/- 1.38e-15] + [+/- 1.04e-24]im\n",
       " [-1.95854000995529 +/- 2.35e-15] + [+/- 5.81e-25]im"
      ]
     },
     "metadata": {},
     "output_type": "display_data"
    },
    {
     "name": "stdout",
     "output_type": "stream",
     "text": [
      "true\n",
      "false\n",
      "\n"
     ]
    }
   ],
   "source": [
    "for c in certificates(cert_result)\n",
    "    display( certified_solution_interval(c) ) #the box that encloses the true solution\n",
    "    println( is_real(c) )\n",
    "    println( is_complex(c) )\n",
    "    println() #extra line break for readability\n",
    "end"
   ]
  },
  {
   "cell_type": "markdown",
   "metadata": {},
   "source": [
    "**Conclusions:**\n",
    "\n",
    "* We have found approximations of **6 distinct true solutions**.\n",
    "* 4 of these solutions are verifiably **real**.\n",
    "* The remaining 2 are verifiably *not* real. \n",
    "* Out of the real solutions, we see that one solution is **strictly positive**.\n",
    "* We also see that the other real solutons all have at least one nonpositive component, i.e. they are *not* positive."
   ]
  },
  {
   "cell_type": "markdown",
   "metadata": {},
   "source": [
    "**Coding trick:** To make the analysis of the realness/nonrealness a bit clearer, we can write the following own little function:"
   ]
  },
  {
   "cell_type": "code",
   "execution_count": 10,
   "metadata": {},
   "outputs": [],
   "source": [
    "function check_realness_nonrealness(c::SolutionCertificate)\n",
    "    if is_real(c)\n",
    "        println(\"Verifiably real\")\n",
    "    elseif is_complex(c)\n",
    "        println(\"Verifiably nonreal\")\n",
    "    else\n",
    "        println(\"Unclear whether it's real or nonreal\")\n",
    "    end\n",
    "end;"
   ]
  },
  {
   "cell_type": "code",
   "execution_count": 11,
   "metadata": {},
   "outputs": [
    {
     "data": {
      "text/plain": [
       "2×1 Arblib.AcbMatrix:\n",
       " [1.19869124351600 +/- 4.24e-15] + [+/- 1.63e-24]im\n",
       " [1.06126274100062 +/- 3.88e-15] + [+/- 2.56e-24]im"
      ]
     },
     "metadata": {},
     "output_type": "display_data"
    },
    {
     "name": "stdout",
     "output_type": "stream",
     "text": [
      "Verifiably real\n",
      "\n"
     ]
    },
    {
     "data": {
      "text/plain": [
       "2×1 Arblib.AcbMatrix:\n",
       " [-0.28646206503160 +/- 1.38e-15] + [+/- 1.04e-24]im\n",
       "  [1.95854000995529 +/- 2.35e-15] + [+/- 5.81e-25]im"
      ]
     },
     "metadata": {},
     "output_type": "display_data"
    },
    {
     "name": "stdout",
     "output_type": "stream",
     "text": [
      "Verifiably real\n",
      "\n"
     ]
    },
    {
     "data": {
      "text/plain": [
       "2×1 Arblib.AcbMatrix:\n",
       " [-2.91222917848440 +/- 8.78e-15] + [+/- 3.84e-23]im\n",
       "  [+/- 8.15e-23] + [-3.6002996508668 +/- 3.93e-14]im"
      ]
     },
     "metadata": {},
     "output_type": "display_data"
    },
    {
     "name": "stdout",
     "output_type": "stream",
     "text": [
      "Verifiably nonreal\n",
      "\n"
     ]
    },
    {
     "data": {
      "text/plain": [
       "2×1 Arblib.AcbMatrix:\n",
       " [-2.91222917848440 +/- 8.78e-15] + [+/- 3.84e-23]im\n",
       "   [+/- 8.15e-23] + [3.6002996508668 +/- 3.93e-14]im"
      ]
     },
     "metadata": {},
     "output_type": "display_data"
    },
    {
     "name": "stdout",
     "output_type": "stream",
     "text": [
      "Verifiably nonreal\n",
      "\n"
     ]
    },
    {
     "data": {
      "text/plain": [
       "2×1 Arblib.AcbMatrix:\n",
       "  [1.19869124351600 +/- 4.24e-15] + [+/- 1.63e-24]im\n",
       " [-1.06126274100062 +/- 3.88e-15] + [+/- 2.56e-24]im"
      ]
     },
     "metadata": {},
     "output_type": "display_data"
    },
    {
     "name": "stdout",
     "output_type": "stream",
     "text": [
      "Verifiably real\n",
      "\n"
     ]
    },
    {
     "data": {
      "text/plain": [
       "2×1 Arblib.AcbMatrix:\n",
       " [-0.28646206503160 +/- 1.38e-15] + [+/- 1.04e-24]im\n",
       " [-1.95854000995529 +/- 2.35e-15] + [+/- 5.81e-25]im"
      ]
     },
     "metadata": {},
     "output_type": "display_data"
    },
    {
     "name": "stdout",
     "output_type": "stream",
     "text": [
      "Verifiably real\n",
      "\n"
     ]
    }
   ],
   "source": [
    "for c in certificates(cert_result)\n",
    "    display( certified_solution_interval(c) ) #the box that encloses the true solution\n",
    "    check_realness_nonrealness(c)\n",
    "    println() #extra line break for readability\n",
    "end"
   ]
  },
  {
   "cell_type": "markdown",
   "metadata": {},
   "source": [
    "## Part (d): Conclusion"
   ]
  },
  {
   "cell_type": "markdown",
   "metadata": {},
   "source": [
    "Not quite! The above proves that the system has **at least** one positive solution, and *at least* five solutions that are not positive real.\n",
    "\n",
    "To prove that this is the unique positive solution, we need to convince ourselves that we haven't missed any solutions.\n",
    "\n",
    "We can use Bézout's theorem for this, which is saying that if $F$ has a finite number of solutions, then it has at most $2\\cdot 3=6$ solutions. Since we found and certified six distinct solutions, we would be done if we can just convince ourselves that $F$ has finitely many solutions.\n",
    "\n",
    "There are many ways to do this. For instance, one can use a Gröbner basis calculation to prove that $\\dim_{\\mathbb{C}}(C[x,y]/I)<\\infty$ for the ideal\n",
    "\n",
    "$$I=\\langle 2x^2+y^2-4, x^3-3x-y^2+3\\rangle\\subseteq\\mathbb{C}[x,y].$$\n",
    "\n",
    "(Alternatively, one can study the Jacobian of $F$ and concince oneself that it is nonsingular at all solutions, in which case it follows from the implicit function theorem that all solutions are isolated points, which gives the desired result if combined with the fact that a variety in $\\mathbb{C}^n$ can have at most finitely many isolated points.)\n",
    "\n",
    "With this in place, we have indeed found a computational proof that there is a **unique positive real solution**."
   ]
  },
  {
   "cell_type": "markdown",
   "metadata": {},
   "source": [
    "![title](ellipse_elliptic.png)"
   ]
  },
  {
   "cell_type": "markdown",
   "metadata": {},
   "source": [
    "<div>\n",
    "<img src=\"ellipse_elliptic.png\" />\n",
    "</div>"
   ]
  },
  {
   "cell_type": "markdown",
   "metadata": {},
   "source": []
  }
 ],
 "metadata": {
  "kernelspec": {
   "display_name": "Julia 1.9.4",
   "language": "julia",
   "name": "julia-1.9"
  },
  "language_info": {
   "file_extension": ".jl",
   "mimetype": "application/julia",
   "name": "julia",
   "version": "1.9.4"
  }
 },
 "nbformat": 4,
 "nbformat_minor": 2
}
