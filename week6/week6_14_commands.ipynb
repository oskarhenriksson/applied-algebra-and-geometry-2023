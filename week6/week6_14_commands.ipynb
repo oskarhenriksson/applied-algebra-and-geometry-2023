{
 "cells": [
  {
   "cell_type": "markdown",
   "metadata": {},
   "source": [
    "# Suggested solution to Problem 14(a)"
   ]
  },
  {
   "cell_type": "code",
   "execution_count": 28,
   "metadata": {
    "scrolled": true
   },
   "outputs": [],
   "source": [
    "using Oscar"
   ]
  },
  {
   "cell_type": "markdown",
   "metadata": {},
   "source": [
    "## Define the polynomial we want to investigate"
   ]
  },
  {
   "cell_type": "code",
   "execution_count": 29,
   "metadata": {},
   "outputs": [
    {
     "data": {
      "text/plain": [
       "8*x_{1}^3*x_{2}^4 + x_{1}^2*x_{2}^4 - 4*x_{1}*x_{2}^3 + x_{2}"
      ]
     },
     "execution_count": 29,
     "metadata": {},
     "output_type": "execute_result"
    }
   ],
   "source": [
    "R, x = PolynomialRing(QQ,\"x\" => 1:2)\n",
    "f =  x[2] - 4*x[1]*x[2]^3 + x[1]^2*x[2]^4 + 8*x[1]^3*x[2]^4"
   ]
  },
  {
   "cell_type": "markdown",
   "metadata": {},
   "source": [
    "## Compute the vertices of the Newton polytope"
   ]
  },
  {
   "cell_type": "markdown",
   "metadata": {},
   "source": [
    "This is how to get a list of all vertices:"
   ]
  },
  {
   "cell_type": "code",
   "execution_count": 30,
   "metadata": {},
   "outputs": [
    {
     "data": {
      "text/plain": [
       "4-element SubObjectIterator{PointVector{QQFieldElem}}:\n",
       " [3, 4]\n",
       " [2, 4]\n",
       " [1, 3]\n",
       " [0, 1]"
      ]
     },
     "execution_count": 30,
     "metadata": {},
     "output_type": "execute_result"
    }
   ],
   "source": [
    "vertices(newton_polytope(f))"
   ]
  },
  {
   "cell_type": "markdown",
   "metadata": {},
   "source": [
    "Note that Oscar view the verteices as *rational* vectors! For technical reasons, we need these to be **integer vectors** later in the notebook. We take care of it by simply applying `Int` componentwise to each vertex."
   ]
  },
  {
   "cell_type": "markdown",
   "metadata": {},
   "source": [
    "<strong>Coding trick:</strong> A nice feature in Julia is that the period <code>.</code> syntax can be used to apply a function <strong>component-wise</strong> (this is called <em>broadcasting</em> in case you want to google for it).  \n",
    "\n",
    "If `f` is a function and `L` is a list/vector, then `f.(L)` applies `f` to every entry of `L`. This is equivalent to `map(f,L)`. (For operations like `+` or `^`, the parentheses are left out.)\n",
    "\n",
    "Note: The period is also used to call *fields* of an object if there are no parentheses afterwards. Such fields are typically data attached to the object that is used behind the scenes. For example, if `f` is a polynomial, then `f.parent` is the ring where it lives.\n",
    "\n",
    "<div class=\"alert alert-block alert-info\">\n",
    "\n",
    "<strong>Small exercises:</strong> Let `T, t = polynomial_ring(QQ,\"t\")`. What output does the following lines of code give?\n",
    "\n",
    "`t.^[1,2,3]`\n",
    "\n",
    "`(x -> x^2).([t,t+1,t+2])`\n",
    "\n",
    "`evaluate.([t^2+1,t-1],1)`\n",
    "\n",
    "`evaluate.(t^2+1,[1//1,2//1,3//1])`\n",
    "\n",
    "</div>"
   ]
  },
  {
   "cell_type": "code",
   "execution_count": 31,
   "metadata": {},
   "outputs": [],
   "source": [
    "# Convert a rational vector to an integer vector\n",
    "integer_vector = v -> Int.(Vector(v));"
   ]
  },
  {
   "cell_type": "code",
   "execution_count": 32,
   "metadata": {},
   "outputs": [
    {
     "data": {
      "text/plain": [
       "3-element Vector{Int64}:\n",
       "  2\n",
       " -3\n",
       "  0"
      ]
     },
     "execution_count": 32,
     "metadata": {},
     "output_type": "execute_result"
    }
   ],
   "source": [
    "# Example\n",
    "integer_vector([2//1,-3//1,0//1])"
   ]
  },
  {
   "cell_type": "code",
   "execution_count": 33,
   "metadata": {},
   "outputs": [],
   "source": [
    "# Get all vertices of the Newton polytope, converted to integer vectors\n",
    "vertices_as_integer_vectors = f -> integer_vector.(vertices(newton_polytope(f)));"
   ]
  },
  {
   "cell_type": "code",
   "execution_count": 34,
   "metadata": {},
   "outputs": [
    {
     "data": {
      "text/plain": [
       "4-element Vector{Vector{Int64}}:\n",
       " [3, 4]\n",
       " [2, 4]\n",
       " [1, 3]\n",
       " [0, 1]"
      ]
     },
     "execution_count": 34,
     "metadata": {},
     "output_type": "execute_result"
    }
   ],
   "source": [
    "vertices_as_integer_vectors(f)"
   ]
  },
  {
   "cell_type": "markdown",
   "metadata": {},
   "source": [
    "## Find a vertex $\\alpha_0$ with a specified sign"
   ]
  },
  {
   "cell_type": "code",
   "execution_count": 35,
   "metadata": {},
   "outputs": [],
   "source": [
    "# Create a list of all negative vertices\n",
    "negative_vertices = f -> [alpha for alpha in vertices_as_integer_vectors(f) if coeff(f,alpha)<0];\n",
    "\n",
    "# Create a list of all positive vertices\n",
    "positive_vertices = f -> negative_vertices(-f);"
   ]
  },
  {
   "cell_type": "code",
   "execution_count": 36,
   "metadata": {},
   "outputs": [
    {
     "data": {
      "text/plain": [
       "3-element Vector{Vector{Int64}}:\n",
       " [3, 4]\n",
       " [2, 4]\n",
       " [0, 1]"
      ]
     },
     "execution_count": 36,
     "metadata": {},
     "output_type": "execute_result"
    }
   ],
   "source": [
    "positive_vertices(f)"
   ]
  },
  {
   "cell_type": "code",
   "execution_count": 10,
   "metadata": {},
   "outputs": [
    {
     "data": {
      "text/plain": [
       "1-element Vector{Vector{Int64}}:\n",
       " [1, 3]"
      ]
     },
     "execution_count": 10,
     "metadata": {},
     "output_type": "execute_result"
    }
   ],
   "source": [
    "negative_vertices(f)"
   ]
  },
  {
   "cell_type": "code",
   "execution_count": 11,
   "metadata": {},
   "outputs": [
    {
     "data": {
      "text/plain": [
       "2-element Vector{Int64}:\n",
       " 3\n",
       " 4"
      ]
     },
     "execution_count": 11,
     "metadata": {},
     "output_type": "execute_result"
    }
   ],
   "source": [
    "# Let's pick the first element in the list of positive vertices\n",
    "alpha0 = positive_vertices(f)[1]"
   ]
  },
  {
   "cell_type": "markdown",
   "metadata": {},
   "source": [
    "## Find an outer normal vector $v$ of $\\alpha_0$"
   ]
  },
  {
   "cell_type": "code",
   "execution_count": 12,
   "metadata": {},
   "outputs": [],
   "source": [
    "# Compute the otuer normal cone of a vertex a0 of a polytope P\n",
    "# Use that the ordering of normal_fan(P) mathces vertices(P)\n",
    "inner_normal_cone = function(P,alpha0)\n",
    "    alpha0_index = findfirst(==(alpha0), vertices(P))\n",
    "    NF = normal_fan(P)\n",
    "    return maximal_cones(NF)[alpha0_index]\n",
    "end;"
   ]
  },
  {
   "cell_type": "code",
   "execution_count": 13,
   "metadata": {},
   "outputs": [
    {
     "data": {
      "text/plain": [
       "4-element SubObjectIterator{Cone{QQFieldElem}}:\n",
       " Polyhedral cone in ambient dimension 2\n",
       " Polyhedral cone in ambient dimension 2\n",
       " Polyhedral cone in ambient dimension 2\n",
       " Polyhedral cone in ambient dimension 2"
      ]
     },
     "execution_count": 13,
     "metadata": {},
     "output_type": "execute_result"
    }
   ],
   "source": [
    "# Test of the maximal_cones command\n",
    "C = maximal_cones(normal_fan(newton_polytope(f)))"
   ]
  },
  {
   "cell_type": "code",
   "execution_count": 14,
   "metadata": {},
   "outputs": [
    {
     "data": {
      "text/plain": [
       "2-element SubObjectIterator{RayVector{QQFieldElem}}:\n",
       " [1, -1//2]\n",
       " [-1, 1]"
      ]
     },
     "execution_count": 14,
     "metadata": {},
     "output_type": "execute_result"
    }
   ],
   "source": [
    "# Test of the rays command\n",
    "rays(C[4])"
   ]
  },
  {
   "cell_type": "code",
   "execution_count": 15,
   "metadata": {},
   "outputs": [],
   "source": [
    "# Scale rational vector to integer vector by multiplying by the least common divisor\n",
    "clear_denominators_of_vector = v -> integer_vector(lcm(denominator.(v))*v);\n",
    "\n",
    "# Comptue an interior point of a polyhedral cone\n",
    "integer_interior_point = function(C::Cone)\n",
    "    RMS = rays_modulo_lineality(C).rays_modulo_lineality #compute the rays modulo the lineality space\n",
    "     v0 = sum(RMS) # compute an interior vector by symming the rays\n",
    "     return clear_denominators_of_vector(v0) \n",
    "end;"
   ]
  },
  {
   "cell_type": "code",
   "execution_count": 16,
   "metadata": {},
   "outputs": [],
   "source": [
    "integer_outer_normal_vector = (P,alpha0) -> -integer_interior_point(inner_normal_cone(P,alpha0));"
   ]
  },
  {
   "cell_type": "code",
   "execution_count": 17,
   "metadata": {},
   "outputs": [
    {
     "data": {
      "text/plain": [
       "2-element Vector{Int64}:\n",
       " 1\n",
       " 0"
      ]
     },
     "execution_count": 17,
     "metadata": {},
     "output_type": "execute_result"
    }
   ],
   "source": [
    "v = integer_outer_normal_vector(newton_polytope(f),alpha0)"
   ]
  },
  {
   "cell_type": "markdown",
   "metadata": {},
   "source": [
    "## Create the path $\\phi_v$"
   ]
  },
  {
   "cell_type": "code",
   "execution_count": 18,
   "metadata": {},
   "outputs": [],
   "source": [
    "path_from_vector = function(v::Vector{Int})\n",
    "    S, t = LaurentPolynomialRing(QQ, \"t\")\n",
    "    return t.^v\n",
    "end;"
   ]
  },
  {
   "cell_type": "code",
   "execution_count": 19,
   "metadata": {},
   "outputs": [
    {
     "data": {
      "text/plain": [
       "2-element Vector{AbstractAlgebra.Generic.LaurentPolyWrap{QQFieldElem, QQPolyRingElem, AbstractAlgebra.Generic.LaurentPolyWrapRing{QQFieldElem, QQPolyRing}}}:\n",
       " t\n",
       " 1"
      ]
     },
     "execution_count": 19,
     "metadata": {},
     "output_type": "execute_result"
    }
   ],
   "source": [
    "phiv = path_from_vector(v)"
   ]
  },
  {
   "cell_type": "markdown",
   "metadata": {},
   "source": [
    "## Create the composition $f_v = f\\circ\\phi_v$"
   ]
  },
  {
   "cell_type": "code",
   "execution_count": 20,
   "metadata": {},
   "outputs": [
    {
     "data": {
      "text/plain": [
       "8*t^3 + t^2 - 4*t + 1"
      ]
     },
     "execution_count": 20,
     "metadata": {},
     "output_type": "execute_result"
    }
   ],
   "source": [
    "fv = evaluate(f,phiv)"
   ]
  },
  {
   "cell_type": "markdown",
   "metadata": {},
   "source": [
    "## Find a $t_0$ such that $f_v(t_0)$ attains the sign of $\\alpha_0$"
   ]
  },
  {
   "cell_type": "markdown",
   "metadata": {},
   "source": [
    "A simple way to do this is to just start with some initial guess of $t_0$, say $t_0=1$, and the increase $t_0$ step by step. Eventually the leading term should become dominant, such that $f(t_0)$ has the same sign as the leading coefficient (which by design has the same sign as $\\alpha_0$)."
   ]
  },
  {
   "cell_type": "code",
   "execution_count": 21,
   "metadata": {},
   "outputs": [],
   "source": [
    "# Increase t0 from 1 in increments of 1, until it's large enough for f(t0) to attain the sign of the leading term of f\n",
    "make_univariate_polynomial_attain_leading_sign = function(p)\n",
    "    t0 = QQ(1)  # the rational number 1  \n",
    "    while sign(evaluate(p,t0))!=sign(leading_coefficient(p))\n",
    "        t0 = t0+1\n",
    "    end\n",
    "    return t0\n",
    "end;"
   ]
  },
  {
   "cell_type": "code",
   "execution_count": 22,
   "metadata": {},
   "outputs": [
    {
     "data": {
      "text/plain": [
       "1"
      ]
     },
     "execution_count": 22,
     "metadata": {},
     "output_type": "execute_result"
    }
   ],
   "source": [
    "t0 = make_univariate_polynomial_attain_leading_sign(fv)"
   ]
  },
  {
   "cell_type": "markdown",
   "metadata": {},
   "source": [
    "### Alternative solution (find the roots of $f_v$):"
   ]
  },
  {
   "cell_type": "markdown",
   "metadata": {},
   "source": [
    "We could alternatively try to find the roots of the Laurent polynomial $f_v\\in \\mathbb{Q}[t^\\pm]$. If $f_v$ turns out to have positive real roots, and $\\mu$ is the largest one, then for any $t_0>\\mu$, it holds that $f_v(t_0)$ has the same sign as its leading coefficient. For instance, we can pick $t_0=\\lceil\\mu\\rceil+1$.\n",
    "\n",
    "**How to find the roots of $f_v$:**\n",
    "\n",
    "One perfectly fine option is to do this with Maple; just copy and paste your polynomial, and use the `solve` command.\n",
    "\n",
    "If you prefer to stay in Julia/Oscar, we can instead use the `roots` command. Two small subtleties to pay attention to:\n",
    "\n",
    "- We need to convert `fv` from a Laurent polynomial in $\\mathbb{Q}[t^\\pm]$ to a usual polynomial in $\\mathbb{Q}[t]$ by writing `fv.poly`; this command simply multiplies a Luaurent polynomial by the smallest monomial needed to make all exponents nonnegative. \n",
    "\n",
    "- We need to tell `roots` that we want to solve over the *real numbers* (and not just the rational numbers) by writing `ArbField(64)` as an input; this creates a \"model\" of $\\mathbb{R}$ with interval and floating point arithmetic. We can also write `AcbField(64)` if we want all complex solutions."
   ]
  },
  {
   "cell_type": "code",
   "execution_count": 23,
   "metadata": {},
   "outputs": [
    {
     "data": {
      "text/plain": [
       "1-element Vector{arb}:\n",
       " [-0.8674850621292914964 +/- 8.66e-20]"
      ]
     },
     "execution_count": 23,
     "metadata": {},
     "output_type": "execute_result"
    }
   ],
   "source": [
    "list_of_roots = roots(fv.poly,ArbField(64))"
   ]
  },
  {
   "cell_type": "markdown",
   "metadata": {},
   "source": [
    "From this we can read off manually that the only (and therefore also biggest) root of $f_v$ has ceiling 0, so we can e.g. pick $t_0=1$ to ensure $f_v(t_0)>0$."
   ]
  },
  {
   "cell_type": "markdown",
   "metadata": {},
   "source": [
    "If we feel ambitious and want to do this in more automatic way, we can carry out the following steps:\n",
    "- Find the maximum of the entires in `list_of_roots`.\n",
    "- Compute the ceiling.\n",
    "- Convert to an integer.\n",
    "- Convert from integer to a rational number.\n",
    "- Add 1."
   ]
  },
  {
   "cell_type": "code",
   "execution_count": 24,
   "metadata": {},
   "outputs": [
    {
     "data": {
      "text/plain": [
       "1"
      ]
     },
     "execution_count": 24,
     "metadata": {},
     "output_type": "execute_result"
    }
   ],
   "source": [
    "t0 = QQ(Int(ceil(maximum(list_of_roots))))+1"
   ]
  },
  {
   "cell_type": "code",
   "execution_count": 25,
   "metadata": {},
   "outputs": [
    {
     "data": {
      "text/plain": [
       "6"
      ]
     },
     "execution_count": 25,
     "metadata": {},
     "output_type": "execute_result"
    }
   ],
   "source": [
    "# Check that we get the right sign\n",
    "evaluate(fv,t0)"
   ]
  },
  {
   "cell_type": "markdown",
   "metadata": {},
   "source": [
    "## Let $a=\\phi_v(t_0)$"
   ]
  },
  {
   "cell_type": "markdown",
   "metadata": {},
   "source": [
    "If we have done everything correctly, it will now hold that $f(a)$ has the sign of $\\alpha_0$."
   ]
  },
  {
   "cell_type": "code",
   "execution_count": 26,
   "metadata": {},
   "outputs": [
    {
     "data": {
      "text/plain": [
       "2-element Vector{QQFieldElem}:\n",
       " 1\n",
       " 1"
      ]
     },
     "execution_count": 26,
     "metadata": {},
     "output_type": "execute_result"
    }
   ],
   "source": [
    "a = evaluate.(phiv,t0)"
   ]
  },
  {
   "cell_type": "code",
   "execution_count": 27,
   "metadata": {},
   "outputs": [
    {
     "data": {
      "text/plain": [
       "6"
      ]
     },
     "execution_count": 27,
     "metadata": {},
     "output_type": "execute_result"
    }
   ],
   "source": [
    "# Check that we get the correct sign\n",
    "evaluate(f,a)"
   ]
  }
 ],
 "metadata": {
  "kernelspec": {
   "display_name": "Julia 1.9.4",
   "language": "julia",
   "name": "julia-1.9"
  },
  "language_info": {
   "file_extension": ".jl",
   "mimetype": "application/julia",
   "name": "julia",
   "version": "1.9.4"
  }
 },
 "nbformat": 4,
 "nbformat_minor": 2
}
