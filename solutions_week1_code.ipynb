{
 "cells": [
  {
   "cell_type": "markdown",
   "metadata": {},
   "source": [
    "*This is some code for solving the computational exercises from Week 1.* $\\DeclareMathOperator{\\LT}{LT}$"
   ]
  },
  {
   "cell_type": "code",
   "execution_count": 1,
   "metadata": {},
   "outputs": [
    {
     "name": "stdout",
     "output_type": "stream",
     "text": [
      " -----    -----    -----      -      -----   \n",
      "|     |  |     |  |     |    | |    |     |  \n",
      "|     |  |        |         |   |   |     |  \n",
      "|     |   -----   |        |     |  |-----   \n",
      "|     |        |  |        |-----|  |   |    \n",
      "|     |  |     |  |     |  |     |  |    |   \n",
      " -----    -----    -----   -     -  -     -  \n",
      "\n",
      "...combining (and extending) ANTIC, GAP, Polymake and Singular\n",
      "Version\u001b[32m 0.13.0 \u001b[39m... \n",
      " ... which comes with absolutely no warranty whatsoever\n",
      "Type: '?Oscar' for more information\n",
      "(c) 2019-2023 by The OSCAR Development Team\n"
     ]
    }
   ],
   "source": [
    "using Oscar"
   ]
  },
  {
   "cell_type": "markdown",
   "metadata": {},
   "source": [
    "<div class=\"alert alert-block alert-info\">\n",
    "<p>We previously recommended the Oscar function <code>divrem</code> for multivariate divison, but this has the unusual behavior that  the user cannot supply a monomial order as input. Instead, the monomial order needs to be defined <em>already when the ring is defined</em>. Since this is very inconvenient and easilly causes confusion, we recommend that you don't use it, and instead use the following \"homemade\" function <code>multivariate_division</code>.</p>\n",
    "\n",
    "<p><strong>Note:</strong> You don't need to understand all the commands and Julia syntax we're using in this function, but it's a good exercise to compare the overall structure to the pseudocode we give on the exercise sheet!</p>\n",
    "</div>"
   ]
  },
  {
   "cell_type": "code",
   "execution_count": 2,
   "metadata": {},
   "outputs": [],
   "source": [
    "function multivariate_division(f::MPolyRingElem, F::Vector{<:MPolyRingElem}; ordering::MonomialOrdering)\n",
    "    LT = (h -> leading_term(h,ordering=ordering))\n",
    "    s = length(F)\n",
    "    Q = [zero(parent(f)) for i=1:s]\n",
    "    r = 0\n",
    "    p = f\n",
    "    while p != 0\n",
    "        division_occured = false\n",
    "        for i = 1:s\n",
    "            division_occured, quotient = divides( LT(p), LT(F[i]) )\n",
    "            if division_occured \n",
    "                Q[i] = Q[i] + quotient\n",
    "                p = p - quotient*F[i]\n",
    "                break\n",
    "            end\n",
    "        end\n",
    "        if !(division_occured)\n",
    "            r = r + LT(p)\n",
    "            p = p - LT(p)\n",
    "        end\n",
    "    end\n",
    "    return Q,r\n",
    "end;"
   ]
  },
  {
   "cell_type": "markdown",
   "metadata": {},
   "source": [
    "Note that for this function you have to specify with respect to which **monomial ordering** you want to work.\n",
    "\n",
    "Here are the commands for some of the most common monomial orderings one can work with in a polynomial ring $R=k[x_1,\\ldots,x_n]$ in Oscar:\n",
    "\n",
    "- `lex(R)` (lexiographic ordering, $<_\\text{lex}$)\n",
    "- `deglex(R)`(graded lexiographic ordering, $<_\\text{grlex}$)\n",
    "- `degrevlex(R)`(graded lexiographic ordering, $<_\\text{grevlex}$)\n",
    "- `matrix_ordering(R,M)` (the matrix ordering $<_M$ from Exercise 8, for some real-valued matrix $M$ with $n$ columns)"
   ]
  },
  {
   "cell_type": "markdown",
   "metadata": {},
   "source": [
    "## Exercise 19(a)"
   ]
  },
  {
   "cell_type": "code",
   "execution_count": 3,
   "metadata": {},
   "outputs": [],
   "source": [
    "R, (x,y) = polynomial_ring(QQ, [\"x\",\"y\"]);"
   ]
  },
  {
   "cell_type": "code",
   "execution_count": 4,
   "metadata": {},
   "outputs": [],
   "source": [
    "f = x^2 + x*y^2 + y;\n",
    "f1 = x + x*y;\n",
    "f2 = x+y;"
   ]
  },
  {
   "cell_type": "markdown",
   "metadata": {},
   "source": [
    "We begin by diving $f$ by $(f_1,f_2)$, and get the following quotient $Q$ and remainder $r$:"
   ]
  },
  {
   "cell_type": "code",
   "execution_count": 5,
   "metadata": {},
   "outputs": [],
   "source": [
    "Q,r = multivariate_division(f, [f1,f2], ordering=lex(R));"
   ]
  },
  {
   "cell_type": "code",
   "execution_count": 6,
   "metadata": {},
   "outputs": [
    {
     "data": {
      "text/plain": [
       "2-element Vector{QQMPolyRingElem}:\n",
       " y - 2\n",
       " x + 2"
      ]
     },
     "execution_count": 6,
     "metadata": {},
     "output_type": "execute_result"
    }
   ],
   "source": [
    "Q"
   ]
  },
  {
   "cell_type": "code",
   "execution_count": 7,
   "metadata": {},
   "outputs": [
    {
     "data": {
      "text/plain": [
       "-y"
      ]
     },
     "execution_count": 7,
     "metadata": {},
     "output_type": "execute_result"
    }
   ],
   "source": [
    "r"
   ]
  },
  {
   "cell_type": "markdown",
   "metadata": {},
   "source": [
    "Next, we divide $f$ by $(f_2,f_1)$ instead, and get the following quotient and remainder:"
   ]
  },
  {
   "cell_type": "code",
   "execution_count": 8,
   "metadata": {},
   "outputs": [],
   "source": [
    "Q, r = multivariate_division(f, [f2,f1], ordering=lex(R));"
   ]
  },
  {
   "cell_type": "code",
   "execution_count": 9,
   "metadata": {},
   "outputs": [
    {
     "data": {
      "text/plain": [
       "2-element Vector{QQMPolyRingElem}:\n",
       " x + y^2 - y\n",
       " 0"
      ]
     },
     "execution_count": 9,
     "metadata": {},
     "output_type": "execute_result"
    }
   ],
   "source": [
    "Q"
   ]
  },
  {
   "cell_type": "code",
   "execution_count": 10,
   "metadata": {},
   "outputs": [
    {
     "data": {
      "text/plain": [
       "-y^3 + y^2 + y"
      ]
     },
     "execution_count": 10,
     "metadata": {},
     "output_type": "execute_result"
    }
   ],
   "source": [
    "r"
   ]
  },
  {
   "cell_type": "markdown",
   "metadata": {},
   "source": [
    "## Exercise 19(b)"
   ]
  },
  {
   "cell_type": "markdown",
   "metadata": {},
   "source": [
    "We start by making the division from Exercise 18 with the **lex order** $x>y$ (called `lex` in Oscar):"
   ]
  },
  {
   "cell_type": "code",
   "execution_count": 11,
   "metadata": {},
   "outputs": [],
   "source": [
    "R, (x,y) = polynomial_ring(QQ, [\"x\",\"y\"]);\n",
    "f = x^2*y + x*y^2 + y^2;\n",
    "f1 = x*y - 1;\n",
    "f2 = y^2 - 1;\n",
    "Q, r = multivariate_division(f, [f1,f2], ordering=lex(R));"
   ]
  },
  {
   "cell_type": "code",
   "execution_count": 12,
   "metadata": {},
   "outputs": [
    {
     "data": {
      "text/plain": [
       "2-element Vector{QQMPolyRingElem}:\n",
       " x + y\n",
       " 1"
      ]
     },
     "execution_count": 12,
     "metadata": {},
     "output_type": "execute_result"
    }
   ],
   "source": [
    "Q"
   ]
  },
  {
   "cell_type": "code",
   "execution_count": 13,
   "metadata": {},
   "outputs": [
    {
     "data": {
      "text/plain": [
       "x + y + 1"
      ]
     },
     "execution_count": 13,
     "metadata": {},
     "output_type": "execute_result"
    }
   ],
   "source": [
    "r"
   ]
  },
  {
   "cell_type": "markdown",
   "metadata": {},
   "source": [
    "Next, we try the division with the **grlex order** $x>y$ (called `deglex` in Oscar)."
   ]
  },
  {
   "cell_type": "code",
   "execution_count": 14,
   "metadata": {},
   "outputs": [],
   "source": [
    "Q, r = multivariate_division(f,[f1,f2],ordering=deglex(R));"
   ]
  },
  {
   "cell_type": "code",
   "execution_count": 15,
   "metadata": {},
   "outputs": [
    {
     "data": {
      "text/plain": [
       "2-element Vector{QQMPolyRingElem}:\n",
       " x + y\n",
       " 1"
      ]
     },
     "execution_count": 15,
     "metadata": {},
     "output_type": "execute_result"
    }
   ],
   "source": [
    "Q"
   ]
  },
  {
   "cell_type": "code",
   "execution_count": 16,
   "metadata": {},
   "outputs": [
    {
     "data": {
      "text/plain": [
       "x + y + 1"
      ]
     },
     "execution_count": 16,
     "metadata": {},
     "output_type": "execute_result"
    }
   ],
   "source": [
    "r"
   ]
  },
  {
   "cell_type": "markdown",
   "metadata": {},
   "source": [
    "## Exercise 20"
   ]
  },
  {
   "cell_type": "markdown",
   "metadata": {},
   "source": [
    "**(a)** We divide $f$ by $(f_1,f_2)$ and $(f_2,f_1)$, as follows:"
   ]
  },
  {
   "cell_type": "code",
   "execution_count": 17,
   "metadata": {},
   "outputs": [],
   "source": [
    "R, (x,y,z) = polynomial_ring(QQ, [\"x\",\"y\",\"z\"]);\n",
    "f = x^3 - x^2*y - x^2*z + x;\n",
    "f1 = x^2*y - z;\n",
    "f2 = x*y - 1;"
   ]
  },
  {
   "cell_type": "code",
   "execution_count": 18,
   "metadata": {},
   "outputs": [
    {
     "data": {
      "text/plain": [
       "(QQMPolyRingElem[-1, 0], x^3 - x^2*z + x - z)"
      ]
     },
     "execution_count": 18,
     "metadata": {},
     "output_type": "execute_result"
    }
   ],
   "source": [
    "Q, r = multivariate_division(f,[f1,f2],ordering=deglex(R))"
   ]
  },
  {
   "cell_type": "code",
   "execution_count": 19,
   "metadata": {},
   "outputs": [
    {
     "data": {
      "text/plain": [
       "(QQMPolyRingElem[-x, 0], x^3 - x^2*z)"
      ]
     },
     "execution_count": 19,
     "metadata": {},
     "output_type": "execute_result"
    }
   ],
   "source": [
    "Qprime, rprime = multivariate_division(f,[f2,f1],ordering=deglex(R))"
   ]
  },
  {
   "cell_type": "markdown",
   "metadata": {},
   "source": [
    "**(b)** We have that \n",
    "$$f=(q_1,q_2)\\bullet (f_1,f_2)+r$$ $$f=(q_1',q_2')\\bullet (f_2,f_1)+r'=(q_2',q_1')\\bullet (f_1,f_2)+r'.$$\n",
    "Hence, \n",
    "$$g:=r-r'=(q_2',q_1')\\bullet (f_1,f_2)-(q_1,q_2)\\bullet (f_1,f_2)=(q_2'-q_1,q_1'-q_2)\\bullet (f_1,f_2)=\\underbrace{(q_2'-q_1)}_A f_1+\\underbrace{(q_1'-q_2)}_B f_2$$"
   ]
  },
  {
   "cell_type": "code",
   "execution_count": 20,
   "metadata": {},
   "outputs": [
    {
     "data": {
      "text/plain": [
       "x - z"
      ]
     },
     "execution_count": 20,
     "metadata": {},
     "output_type": "execute_result"
    }
   ],
   "source": [
    "g = r - rprime"
   ]
  },
  {
   "cell_type": "code",
   "execution_count": 21,
   "metadata": {},
   "outputs": [
    {
     "data": {
      "text/plain": [
       "1"
      ]
     },
     "execution_count": 21,
     "metadata": {},
     "output_type": "execute_result"
    }
   ],
   "source": [
    "A = Qprime[2] - Q[1]"
   ]
  },
  {
   "cell_type": "code",
   "execution_count": 22,
   "metadata": {},
   "outputs": [
    {
     "data": {
      "text/plain": [
       "-x"
      ]
     },
     "execution_count": 22,
     "metadata": {},
     "output_type": "execute_result"
    }
   ],
   "source": [
    "B = Qprime[1] - Q[2]"
   ]
  },
  {
   "cell_type": "code",
   "execution_count": 23,
   "metadata": {},
   "outputs": [
    {
     "data": {
      "text/plain": [
       "x - z"
      ]
     },
     "execution_count": 23,
     "metadata": {},
     "output_type": "execute_result"
    }
   ],
   "source": [
    "A*f1 + B*f2"
   ]
  },
  {
   "cell_type": "markdown",
   "metadata": {},
   "source": [
    "**(c)** We just get back $g$ as the remainder, since none of the monomials appearing in $g$ are divisible by any of the monomials $\\LT(f_1)=x^2y$ and $\\LT(f_1)=xy$."
   ]
  },
  {
   "cell_type": "code",
   "execution_count": 24,
   "metadata": {},
   "outputs": [
    {
     "data": {
      "text/plain": [
       "(QQMPolyRingElem[0, 0], x - z)"
      ]
     },
     "execution_count": 24,
     "metadata": {},
     "output_type": "execute_result"
    }
   ],
   "source": [
    "Qg, rg = multivariate_division(g,[f1,f2],ordering=deglex(R))"
   ]
  },
  {
   "cell_type": "markdown",
   "metadata": {},
   "source": [
    "**(d)** The trick is to cancel the leading terms of $f_1$ and $f_2$ in some way, such that we get a $\\LT(h)$ that is not divisible by $xy$. Another way (in fact: the only fundamentally different way) to do this is as follows:"
   ]
  },
  {
   "cell_type": "code",
   "execution_count": 25,
   "metadata": {},
   "outputs": [
    {
     "data": {
      "text/plain": [
       "-y*z + 1"
      ]
     },
     "execution_count": 25,
     "metadata": {},
     "output_type": "execute_result"
    }
   ],
   "source": [
    "h = y*f1 - (x*y+1)*f2"
   ]
  },
  {
   "cell_type": "code",
   "execution_count": 26,
   "metadata": {},
   "outputs": [
    {
     "data": {
      "text/plain": [
       "(QQMPolyRingElem[0, 0], -y*z + 1)"
      ]
     },
     "execution_count": 26,
     "metadata": {},
     "output_type": "execute_result"
    }
   ],
   "source": [
    "multivariate_division(h,[f1,f2],ordering=deglex(R))"
   ]
  },
  {
   "cell_type": "markdown",
   "metadata": {},
   "source": [
    "**(e)** Part (c) and (d) shows that the division algorithm on its own *doesn't* solve the ideal membership problem."
   ]
  },
  {
   "cell_type": "markdown",
   "metadata": {},
   "source": [
    "**(f)** Let $I=\\langle f_1,f_2\\rangle$. If we want to test ideal membership with division, we at the very least need to find another basis $I=\\langle g_1,\\ldots,g_r\\rangle$ of the ideal, such that for any $h\\in I$, it holds that $\\operatorname{LT}(h)$ is divisible by one of the monomials $\\LT(g_1),\\ldots,\\LT(g_r)$ -- if not, we inevitably will get a remainder! \n",
    "\n",
    "Next week, we will see that this this corresponds to finding a *Gröbner basis* of $I$, and that this is not only necessary but also sufficient to solve the ideal membership problem. For this ideal, we will see that the generating set $\\{x-z,xy-1\\}$ constitutes a Gröbner basis."
   ]
  },
  {
   "cell_type": "markdown",
   "metadata": {},
   "source": [
    "## Exercise 22"
   ]
  },
  {
   "cell_type": "markdown",
   "metadata": {},
   "source": [
    "**(a)** We first try to do the division in $\\mathbb{Q}[x,y]$ with the **lexiographic ordering** with $x>y$. "
   ]
  },
  {
   "cell_type": "code",
   "execution_count": 27,
   "metadata": {},
   "outputs": [],
   "source": [
    "R, (x,y) = polynomial_ring(QQ, [\"x\",\"y\"]);\n",
    "f = x^7*y^2 + x^3*y^2 - y + 1;\n",
    "f1 = x*y^2 - x;\n",
    "f2 = x - y^3;"
   ]
  },
  {
   "cell_type": "markdown",
   "metadata": {},
   "source": [
    "First we divide $f$ by $(f_1,f_2)$:"
   ]
  },
  {
   "cell_type": "code",
   "execution_count": 28,
   "metadata": {},
   "outputs": [],
   "source": [
    "Q, r = multivariate_division(f,[f1,f2],ordering=lex(R));"
   ]
  },
  {
   "cell_type": "code",
   "execution_count": 29,
   "metadata": {},
   "outputs": [
    {
     "data": {
      "text/plain": [
       "2-element Vector{QQMPolyRingElem}:\n",
       " x^6 + x^5*y + x^4*y^2 + x^4 + x^3*y + x^2*y^2 + 2*x^2 + 2*x*y + 2*y^2 + 2\n",
       " x^6 + x^5*y + x^4 + x^3*y + 2*x^2 + 2*x*y + 2"
      ]
     },
     "execution_count": 29,
     "metadata": {},
     "output_type": "execute_result"
    }
   ],
   "source": [
    "Q"
   ]
  },
  {
   "cell_type": "code",
   "execution_count": 30,
   "metadata": {},
   "outputs": [
    {
     "data": {
      "text/plain": [
       "2*y^3 - y + 1"
      ]
     },
     "execution_count": 30,
     "metadata": {},
     "output_type": "execute_result"
    }
   ],
   "source": [
    "r"
   ]
  },
  {
   "cell_type": "markdown",
   "metadata": {},
   "source": [
    "Then we divide $f$ by $(f_2,f_1)$ instead."
   ]
  },
  {
   "cell_type": "code",
   "execution_count": 31,
   "metadata": {},
   "outputs": [],
   "source": [
    "Q, r = multivariate_division(f,[f2,f1],ordering=lex(R));"
   ]
  },
  {
   "cell_type": "code",
   "execution_count": 32,
   "metadata": {},
   "outputs": [
    {
     "data": {
      "text/plain": [
       "2-element Vector{QQMPolyRingElem}:\n",
       " x^6*y^2 + x^5*y^5 + x^4*y^8 + x^3*y^11 + x^2*y^14 + x^2*y^2 + x*y^17 + x*y^5 + y^20 + y^8\n",
       " 0"
      ]
     },
     "execution_count": 32,
     "metadata": {},
     "output_type": "execute_result"
    }
   ],
   "source": [
    "Q"
   ]
  },
  {
   "cell_type": "code",
   "execution_count": 33,
   "metadata": {},
   "outputs": [
    {
     "data": {
      "text/plain": [
       "y^23 + y^11 - y + 1"
      ]
     },
     "execution_count": 33,
     "metadata": {},
     "output_type": "execute_result"
    }
   ],
   "source": [
    "r"
   ]
  },
  {
   "cell_type": "markdown",
   "metadata": {},
   "source": [
    "**(b)** Now we do the same with respect to the **graded lexiographic ordering** with $x>y$. "
   ]
  },
  {
   "cell_type": "code",
   "execution_count": 34,
   "metadata": {},
   "outputs": [],
   "source": [
    "Q, r = multivariate_division(f,[f1,f2],ordering=deglex(R));"
   ]
  },
  {
   "cell_type": "code",
   "execution_count": 35,
   "metadata": {},
   "outputs": [
    {
     "data": {
      "text/plain": [
       "2-element Vector{QQMPolyRingElem}:\n",
       " x^6 + x^2\n",
       " 0"
      ]
     },
     "execution_count": 35,
     "metadata": {},
     "output_type": "execute_result"
    }
   ],
   "source": [
    "Q"
   ]
  },
  {
   "cell_type": "code",
   "execution_count": 36,
   "metadata": {},
   "outputs": [
    {
     "data": {
      "text/plain": [
       "x^7 + x^3 - y + 1"
      ]
     },
     "execution_count": 36,
     "metadata": {},
     "output_type": "execute_result"
    }
   ],
   "source": [
    "r"
   ]
  },
  {
   "cell_type": "code",
   "execution_count": 37,
   "metadata": {},
   "outputs": [],
   "source": [
    "Q, r = multivariate_division(f,[f2,f1],ordering=deglex(R));"
   ]
  },
  {
   "cell_type": "code",
   "execution_count": 38,
   "metadata": {},
   "outputs": [
    {
     "data": {
      "text/plain": [
       "2-element Vector{QQMPolyRingElem}:\n",
       " 0\n",
       " x^6 + x^2"
      ]
     },
     "execution_count": 38,
     "metadata": {},
     "output_type": "execute_result"
    }
   ],
   "source": [
    "Q"
   ]
  },
  {
   "cell_type": "code",
   "execution_count": 39,
   "metadata": {},
   "outputs": [
    {
     "data": {
      "text/plain": [
       "x^7 + x^3 - y + 1"
      ]
     },
     "execution_count": 39,
     "metadata": {},
     "output_type": "execute_result"
    }
   ],
   "source": [
    "r"
   ]
  }
 ],
 "metadata": {
  "kernelspec": {
   "display_name": "Julia 1.9.4",
   "language": "julia",
   "name": "julia-1.9"
  },
  "language_info": {
   "file_extension": ".jl",
   "mimetype": "application/julia",
   "name": "julia",
   "version": "1.9.4"
  }
 },
 "nbformat": 4,
 "nbformat_minor": 4
}
