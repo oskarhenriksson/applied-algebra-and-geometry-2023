{
 "cells": [
  {
   "cell_type": "markdown",
   "id": "b7fa2702-c709-455b-9819-52ae9f2677b6",
   "metadata": {},
   "source": [
    "$\\newcommand{\\CC}{\\mathbb{C}}\\newcommand{\\VV}{\\mathbb{V}}\\newcommand{\\RR}{\\mathbb{R}}$"
   ]
  },
  {
   "cell_type": "code",
   "execution_count": 1,
   "id": "40dca667-807d-45ef-9b8c-c90e77c41907",
   "metadata": {},
   "outputs": [
    {
     "name": "stdout",
     "output_type": "stream",
     "text": [
      " -----    -----    -----      -      -----   \n",
      "|     |  |     |  |     |    | |    |     |  \n",
      "|     |  |        |         |   |   |     |  \n",
      "|     |   -----   |        |     |  |-----   \n",
      "|     |        |  |        |-----|  |   |    \n",
      "|     |  |     |  |     |  |     |  |    |   \n",
      " -----    -----    -----   -     -  -     -  \n",
      "\n",
      "...combining (and extending) ANTIC, GAP, Polymake and Singular\n",
      "Version\u001b[32m 0.13.0 \u001b[39m... \n",
      " ... which comes with absolutely no warranty whatsoever\n",
      "Type: '?Oscar' for more information\n",
      "(c) 2019-2023 by The OSCAR Development Team\n"
     ]
    }
   ],
   "source": [
    "using Oscar"
   ]
  },
  {
   "cell_type": "markdown",
   "id": "a1a86955",
   "metadata": {},
   "source": [
    "## Review of extension"
   ]
  },
  {
   "cell_type": "markdown",
   "id": "aa749976",
   "metadata": {},
   "source": [
    "Our main tool in this notebook will be the extension theorem, which for our purposes is easier to apply in the following formulation:\n",
    "\n",
    "> **The extension theorem (reformulated):** Let $I\\subseteq \\CC[t_1,\\ldots,t_n]$ be an ideal, let $I_1=I\\cap\\CC[t_2,\\ldots,t_n]$, and let $(a_2,\\ldots,a_n)\\in\\VV(I_1)$. Suppose there exists a polynomial $f\\in I$ of the form $$f= c(t_2,\\ldots,t_n)t_1^N + [\\text{terms with lower degree in $t_1$}],$$ such that $c(a_2,\\ldots,a_n)\\neq 0$. Then there exists an $a_1\\in\\CC$ such that $(a_1,a_n,\\ldots,a_n)\\in\\VV(I)$.\n",
    "\n",
    "> **Corollary:** Let $I\\subseteq \\CC[t_1,\\ldots,t_n]$ be an ideal, and let $I_1=I\\cap\\CC[t_2,\\ldots,t_n]$. Suppose there exists a polynomial $f\\in I$ of the form $$f= c(t_2,\\ldots,t_n)t_1^N + [\\text{terms with lower degree in $t_1$}]$$ such that $c(t_2,\\ldots,t_n)$ is a nonzero constant. Then for *any* point $(a_2,\\ldots,a_n)\\in\\VV(I_1)$ there exists an $a_1\\in\\CC$ such that $(a_1,a_2,\\ldots,a_n)\\in\\VV(I)$. In other words, the projection $\\VV(I)\\overset{\\pi_1}{\\longrightarrow}\\VV(I_1)$ is surjective.\n",
    "\n",
    "In addition, we will use the following elementary observation that we discussed in class in Week 3 (make sure you understand why it's true):\n",
    "\n",
    "> **\"Free extension lemma\":** Let $I\\subseteq \\CC[t_1,\\ldots,t_n]$ be an ideal, and let $I_1=I\\cap\\CC[t_2,\\ldots,t_n]$. Suppose that $I$ admits a generating set only involving the variables $t_2,\\ldots,t_n$. Then for any point $(a_2,\\ldots,a_n)\\in\\VV(I_1)$ and *any* $a_1\\in\\CC$, it holds that $(a_1,a_2,\\ldots,a_n)\\in\\VV(I)$. In other words, $\\VV(I)=\\CC\\times\\VV(I_1)$. In particular, the projection $\\VV(I)\\overset{\\pi_1}{\\longrightarrow}\\VV(I_1)$ is surjective."
   ]
  },
  {
   "cell_type": "markdown",
   "id": "8d6ef772",
   "metadata": {},
   "source": [
    "The results above are formulated in the setting where one has eliminated only one variable, but by extending one variable at a time, one can apply these techniques also when one has eliminated any number of variables. Let us now make this precise. \n",
    "\n",
    "Suppose that we have an ideal $I\\subseteq\\CC[x_1,\\ldots,x_m,y_1,\\ldots,y_n]$ with elimination ideal $I_m=I\\cap\\CC[y_1,\\ldots,y_n]$, and want to decide whether a certain point $(b_1,\\ldots,b_n)\\in\\VV(I_m)$ can be extended, in the sense that there exists some $a_1,\\ldots,a_m\\in\\CC$ such that $(a_1,\\ldots,a_m,b_1,\\ldots,b_n)\\in\\VV(I)$.\n",
    "\n",
    "We will apply the tools described above step-wise, by considering the following sequence of intermediate elimination ideals:\n",
    "* $I_1=I\\cap\\CC[x_2,\\ldots,x_m,y_1,\\ldots,y_n]$\n",
    "* $I_2=I\\cap\\CC[x_3,\\ldots,x_m,y_1,\\ldots,y_n]$\n",
    "* $I_3=I\\cap\\CC[x_4,\\ldots,x_m,y_1,\\ldots,y_n]$\n",
    "* ...\n",
    "* $I_{m-2}=I\\cap\\CC[x_{m-1},x_m,y_1,\\ldots,y_n]$\n",
    "* $I_{m-1}=I\\cap\\CC[x_m,y_1,\\ldots,y_n]$\n",
    "* $I_{m}=I\\cap\\CC[y_1,\\ldots,y_n]$\n",
    "  \n",
    "and the projections: $\\VV(I)\\longrightarrow\\VV(I_1)\\longrightarrow\\VV(I_2)\\longrightarrow\\VV(I_3)\\longrightarrow\\cdots\\longrightarrow\\VV(I_{m-1})\\longrightarrow\\VV(I_m)$\n",
    "which map $(x_1,x_2,x_3,\\ldots,x_m,y_1,\\ldots,y_n)\\mapsto (x_2,x_3\\ldots,x_m,y_1,\\ldots,y_n)\\mapsto\\cdots\\mapsto(x_m,y_1,\\ldots,y_n)\\mapsto (y_1,\\ldots,y_n)\\,.$\n",
    "\n",
    "To prove that $(b_1,\\ldots,b_n)$ can be extended, the idea is to start from the end of this sequence, and step-by-step prove that we can find a sequence of coordinates $a_m,a_{m-1},\\ldots,a_2,a_1\\in\\CC$ such that $(a_1,\\ldots,a_m,b_1,\\ldots,b_n)\\in\\VV(I)$."
   ]
  },
  {
   "cell_type": "markdown",
   "id": "2b3d3b06-5051-4ab3-aaa9-ef54f37df090",
   "metadata": {},
   "source": [
    "## Exercise 12: Checking surjectivity"
   ]
  },
  {
   "cell_type": "markdown",
   "id": "35660dbf-6c0e-4209-b5c4-9f343fcf8edf",
   "metadata": {},
   "source": [
    "In this problem we are considering a polynomial map $F=(f_1,\\ldots,f_n)\\colon \\CC^m\\to\\CC^n$, and want to investigate whether it is surjective. \n",
    "\n",
    "We will do this by combining the implicitization and extension theorems, in the following three main steps:\n",
    "\n",
    "1. Check what the smallest variety containing the image is.\n",
    "2. Try to lift points in this variety with extension.\n",
    "3. Analyze special cases where the extension fails by repeating step 1 and 2."
   ]
  },
  {
   "cell_type": "markdown",
   "id": "6e44ee1f-1af6-4103-a661-7256115ae319",
   "metadata": {},
   "source": [
    "The first step is to form the ideal\n",
    "$$I:=\\Big\\langle y_1-f_1(x_1,\\ldots,x_m),\\ldots,y_n-f_1(x_1,\\ldots,x_m)\\Big\\rangle\\subseteq\\CC[x_1,\\ldots,x_m,y_1,\\ldots,y_n]$$\n",
    "which has the property that $\\VV(I)\\subseteq\\CC^m\\times\\CC^n$ is the *graph* of $F$. \n",
    "\n",
    "The image of $F$ is then the image $\\pi_m(\\VV(I))\\subseteq\\CC^n$ under the canonical projection $\\pi_m\\colon\\CC^m\\times\\CC^n\\to\\CC^n$. The **implicitization theorem** is telling us that the smallest variety containing $\\pi_m(\\VV(I))$ is $\\VV(I_m)$, where $I_m=I\\cap\\CC[y_1,\\ldots,y_n]$ is the $m$-th elimination ideal. \n",
    "\n",
    "By the **elimination theorem**, we can compute a Gröbner basis $G_m$ for $I_m$ by computing a Gröbner basis $G$ of $I$ with respect to the lexicographic ordering $x_1>\\cdots>x_m>y_1>\\cdots y_m$, and then setting $G_m=G\\cap\\CC[y_1,\\ldots,y_n]$.\n",
    "\n",
    "This gives rise to the following condition:\n",
    "\n",
    "> **Necessary condition for surjectivity:** If $F\\colon\\CC^m\\to\\CC^n$ is surjective, then $I_m=\\langle 0\\rangle$.\n",
    "\n",
    "If this condition is *not* satisfied, then we can immediately rule out surjectivity. \n",
    "\n",
    "Note that this condition is not sufficient for surjectivity (a simple counterexample is given by $F(x_1,x_2)=(x_1,x_1x_2)$ – make sure you understand this!). Therefore, if the condition is satisfied, we move on, and try to prove surjectivity by *extension*.\n",
    "\n",
    "More specifically, we try to apply the tools outlined in the first part of this notebook to an arbitrary fixed point $(b_1,\\ldots,b_n)\\in\\CC^n$. If this suceeds, we conclude that $F$ is surjective.\n",
    "\n",
    "*Note:* It might happen along the way that we don't find any polynomials that satisfy the assumption in the extension theorem or our free extension lemma. It's important to note that this does **not** necessarily imply that $F$ is non-surjective. \n",
    "\n",
    "Instead, we should investigate more closely the points $(b_1,\\ldots,b_n)$ for which the extension criteria fail, and try to manually prove that they either can or cannot be extended. (We can also try to change the monomial ordering in the hope of making it easier to apply the extension theorem.)"
   ]
  },
  {
   "cell_type": "markdown",
   "id": "15257728-e19b-4f56-95dc-424127e8c23b",
   "metadata": {},
   "source": [
    "## Exercise 15(a): Concrete examples"
   ]
  },
  {
   "cell_type": "markdown",
   "id": "f01b2f7d-8249-4f17-a31a-fecb77432f1f",
   "metadata": {},
   "source": [
    "The following small functions will be useful along the way, to make the process of eliminations and extensions more automated.\n",
    "\n",
    "Make sure you understand what they are doing!\n",
    "\n",
    "**Note:** It is also perfectly fine to do parts of this analysis manually, by simply inspecting the Gröbner bases. (In that case, it could be useful to keeping track of the various elimination ideals with pen and paper.)"
   ]
  },
  {
   "cell_type": "code",
   "execution_count": 2,
   "id": "f49050c3-14ce-40cf-b2b1-b7425aad0986",
   "metadata": {},
   "outputs": [],
   "source": [
    "eliminate_variables = (G,variables_to_eliminate) -> [g for g in G if isempty(intersect(vars(g),variables_to_eliminate))];"
   ]
  },
  {
   "cell_type": "code",
   "execution_count": 3,
   "id": "42255324-c692-4ed7-8087-6d9d95fc3dd4",
   "metadata": {},
   "outputs": [],
   "source": [
    "coefficient_of_highest_degree_term = (p, variable) -> coeff(p,[variable],[degree(p,variable)]);"
   ]
  },
  {
   "cell_type": "markdown",
   "id": "f6b3955b-dd62-46a3-94e7-6394ca178ef8",
   "metadata": {},
   "source": [
    "Here are some small examples you can play around with:"
   ]
  },
  {
   "cell_type": "code",
   "execution_count": 4,
   "id": "36ab6303-552e-4605-beac-4982a18355ee",
   "metadata": {},
   "outputs": [
    {
     "data": {
      "text/plain": [
       "2-element Vector{QQMPolyRingElem}:\n",
       " w^3 + 2*w - 4\n",
       " z^2 - w^2 - 3"
      ]
     },
     "execution_count": 4,
     "metadata": {},
     "output_type": "execute_result"
    }
   ],
   "source": [
    "R, (x,y,z,w) = polynomial_ring(QQ,[\"x\",\"y\",\"z\",\"w\"]);\n",
    "G = [w^3+2*w-4, z^2-w^2-3, y-w^2, x^3-w+1]\n",
    "eliminate_variables(G,[x,y])"
   ]
  },
  {
   "cell_type": "code",
   "execution_count": 5,
   "id": "b02bade5-2412-4eec-8ab4-2be3b7b26138",
   "metadata": {},
   "outputs": [
    {
     "data": {
      "text/plain": [
       "2*y + 5*w^2"
      ]
     },
     "execution_count": 5,
     "metadata": {},
     "output_type": "execute_result"
    }
   ],
   "source": [
    "f = 2*y*z^3 + 5*w^2*z^3 + 2*x*z^2\n",
    "coefficient_of_highest_degree_term(f,z)"
   ]
  },
  {
   "cell_type": "markdown",
   "id": "50e64fec",
   "metadata": {},
   "source": [
    "### Part (i) "
   ]
  },
  {
   "cell_type": "markdown",
   "id": "ab613f30-abd7-440f-8922-d222343052f0",
   "metadata": {},
   "source": [
    "**Setup:** We use the following syntax in Oscar to create indexed variables $x=(x_1,\\ldots,x_4)$ and $y=(y_1,\\ldots,y_3)$. We write $x[i]$ to"
   ]
  },
  {
   "cell_type": "code",
   "execution_count": 6,
   "id": "57f16bde",
   "metadata": {},
   "outputs": [
    {
     "data": {
      "text/plain": [
       "(Multivariate polynomial ring in 7 variables over QQ, QQMPolyRingElem[x_{1}, x_{2}, x_{3}, x_{4}], QQMPolyRingElem[y_{1}, y_{2}, y_{3}])"
      ]
     },
     "execution_count": 6,
     "metadata": {},
     "output_type": "execute_result"
    }
   ],
   "source": [
    "R, x,y = polynomial_ring(QQ,\"x\" => 1:4, \"y\" => 1:3)"
   ]
  },
  {
   "cell_type": "code",
   "execution_count": 7,
   "id": "1d23c9f8",
   "metadata": {},
   "outputs": [
    {
     "data": {
      "text/plain": [
       "3-element Vector{QQMPolyRingElem}:\n",
       " x_{1}^2 - x_{2}\n",
       " x_{2}*x_{3} + x_{4}\n",
       " -x_{1}*x_{3} + x_{4}^2"
      ]
     },
     "execution_count": 7,
     "metadata": {},
     "output_type": "execute_result"
    }
   ],
   "source": [
    "F = [x[1]^2-x[2],x[2]*x[3]+x[4],x[4]^2-x[1]*x[3]]"
   ]
  },
  {
   "cell_type": "code",
   "execution_count": 8,
   "id": "4a703a68-05be-46ec-a1b9-653d53128ef2",
   "metadata": {},
   "outputs": [
    {
     "data": {
      "text/plain": [
       "ideal(-x_{1}^2 + x_{2} + y_{1}, -x_{2}*x_{3} - x_{4} + y_{2}, x_{1}*x_{3} - x_{4}^2 + y_{3})"
      ]
     },
     "execution_count": 8,
     "metadata": {},
     "output_type": "execute_result"
    }
   ],
   "source": [
    "I = ideal([y[i]-F[i] for i=1:3])"
   ]
  },
  {
   "cell_type": "markdown",
   "id": "4332073a-ae6a-458a-a5d0-bc50d851fc7a",
   "metadata": {},
   "source": [
    "**Coding trick:** Since both $y$ and $F$ are vectors, we can just use their component-wise difference to construct the ideal, like this:"
   ]
  },
  {
   "cell_type": "code",
   "execution_count": 9,
   "id": "a2f640a7",
   "metadata": {},
   "outputs": [
    {
     "data": {
      "text/plain": [
       "ideal(-x_{1}^2 + x_{2} + y_{1}, -x_{2}*x_{3} - x_{4} + y_{2}, x_{1}*x_{3} - x_{4}^2 + y_{3})"
      ]
     },
     "execution_count": 9,
     "metadata": {},
     "output_type": "execute_result"
    }
   ],
   "source": [
    "I = ideal(y-F)"
   ]
  },
  {
   "cell_type": "markdown",
   "id": "c59ec21e-1e42-4fc6-a93f-1eaa28d5003e",
   "metadata": {},
   "source": [
    "**Elimination step:** We compute a Gröbner basis for $I$ with respect to the lexicographic ordering:"
   ]
  },
  {
   "cell_type": "code",
   "execution_count": 10,
   "id": "67a78787",
   "metadata": {},
   "outputs": [
    {
     "data": {
      "text/plain": [
       "Gröbner basis with elements\n",
       "1 -> x_{3}^2*y_{1} - x_{3}*x_{4} + x_{3}*y_{2} - x_{4}^4 + 2*x_{4}^2*y_{3} - y_{3}^2\n",
       "2 -> x_{2}*x_{4}^4 - 2*x_{2}*x_{4}^2*y_{3} + x_{2}*y_{3}^2 + x_{3}*x_{4}*y_{1} - x_{3}*y_{1}*y_{2} - x_{4}^2 + 2*x_{4}*y_{2} - y_{2}^2\n",
       "3 -> x_{2}*x_{3} + x_{4} - y_{2}\n",
       "4 -> x_{1}*y_{2}^2 - x_{1}*y_{3} - x_{2}*x_{4}^3 - x_{2}*x_{4}^2*y_{2} + x_{2}*x_{4}*y_{3} + x_{2}*y_{2}*y_{3} - x_{3}*y_{1} + x_{4} - y_{2}\n",
       "5 -> x_{1}*x_{4} - x_{1}*y_{2} + x_{2}*x_{4}^2 - x_{2}*y_{3}\n",
       "6 -> x_{1}*x_{3} - x_{4}^2 + y_{3}\n",
       "7 -> x_{1}^2 - x_{2} - y_{1}\n",
       "with respect to the ordering\n",
       "lex([x_{1}, x_{2}, x_{3}, x_{4}, y_{1}, y_{2}, y_{3}])"
      ]
     },
     "execution_count": 10,
     "metadata": {},
     "output_type": "execute_result"
    }
   ],
   "source": [
    "G = groebner_basis(I, ordering=lex(R), complete_reduction = true)"
   ]
  },
  {
   "cell_type": "markdown",
   "id": "1d601980",
   "metadata": {},
   "source": [
    "We eliminate the variables $x=(x_1,\\ldots,x_4)$ with our home-made elimination command from above, like this:"
   ]
  },
  {
   "cell_type": "code",
   "execution_count": 11,
   "id": "2aade306",
   "metadata": {},
   "outputs": [
    {
     "data": {
      "text/plain": [
       "QQMPolyRingElem[]"
      ]
     },
     "execution_count": 11,
     "metadata": {},
     "output_type": "execute_result"
    }
   ],
   "source": [
    "G4 = eliminate_variables(G,x)"
   ]
  },
  {
   "cell_type": "markdown",
   "id": "dd75abc7",
   "metadata": {},
   "source": [
    "We see that $G_4$ is empty, meaning that the elimination ideal $I_4=I\\cap\\mathbb{C}[y_1,\\ldots,y_3]$ is the zero ideal! Hence, the minimal variety containing the image of $F$ is $\\mathbb{C}^3$.\n",
    "\n",
    "**Extension step:** To prove surjectivity, we try to prove that for any $(b_1,b_2,b_3)\\in\\CC^3$, we can find $a_4,a_3,a_2,a_1\\in\\CC$ such that $(a_1,a_2,a_3,a_4,b_1,b_2,b_3)\\in\\VV(I)$.\n",
    "\n",
    "**Extension with respect to $x_4$:** The following computation shows that $G_3=\\emptyset$. By the \"free extension lemma\" above, it holds that  $(a_4,b_1,b_2,b_3)\\in\\VV(I_3)$ for **any** $a_4\\in\\CC$."
   ]
  },
  {
   "cell_type": "code",
   "execution_count": 12,
   "id": "27ba64f0-734b-4741-8f69-6fd52bf76781",
   "metadata": {
    "scrolled": true
   },
   "outputs": [
    {
     "data": {
      "text/plain": [
       "QQMPolyRingElem[]"
      ]
     },
     "execution_count": 12,
     "metadata": {},
     "output_type": "execute_result"
    }
   ],
   "source": [
    "G3 = eliminate_variables(G,x[1:3])"
   ]
  },
  {
   "cell_type": "markdown",
   "id": "f0919925-ff7b-46ed-bb00-cb91caddcb52",
   "metadata": {},
   "source": [
    "**Extension with respect to $x_3$:** The following computation shows that $G_2$ has a single element, whose highest-degree term in $x_3$ has coefficient $y_1$. Hence, we can find an $a_3\\in\\CC$ such that $(a_3,a_4,b_1,b_2,b_3)\\in\\VV(I_2)$ for any $(a_4,b_1,b_2,b_3)\\in\\VV(I_3)$ such that $b_1\\neq 0$. (At the very end, we will have to address the $b_1=0$ case separately.)"
   ]
  },
  {
   "cell_type": "code",
   "execution_count": 13,
   "id": "e158b257-3ecd-4bab-8b24-d0e70644e6bd",
   "metadata": {},
   "outputs": [
    {
     "data": {
      "text/plain": [
       "1-element Vector{QQMPolyRingElem}:\n",
       " x_{3}^2*y_{1} - x_{3}*x_{4} + x_{3}*y_{2} - x_{4}^4 + 2*x_{4}^2*y_{3} - y_{3}^2"
      ]
     },
     "execution_count": 13,
     "metadata": {},
     "output_type": "execute_result"
    }
   ],
   "source": [
    "G2 = eliminate_variables(G,x[1:2])"
   ]
  },
  {
   "cell_type": "code",
   "execution_count": 14,
   "id": "2d630433-87b5-4a0a-b932-e539523352e1",
   "metadata": {},
   "outputs": [
    {
     "data": {
      "text/plain": [
       "y_{1}"
      ]
     },
     "execution_count": 14,
     "metadata": {},
     "output_type": "execute_result"
    }
   ],
   "source": [
    "coefficient_of_highest_degree_term(G2[1], x[3])"
   ]
  },
  {
   "cell_type": "markdown",
   "id": "82b45820",
   "metadata": {},
   "source": [
    "**Extension with respect to $x_2$:** We check what the coefficients highest-degree terms with respect to $x_2$ are in the three polynomials in $G_1$.\n",
    "\n",
    "The second polynomial in the Gröbner basis looks interesting. \n",
    "\n",
    "Recall that we saw before that we are able to pick $a_4\\in\\CC$ freely. Hence, we can pick $a_4$ such that the coefficient $a_{4}^4 - 2a_{4}^2b_{3} + b_{3}^2$ nonzero for any $(a_3,a_4,b_1,b_2,b_3)\\in\\VV(I_2)$, regardless of what $b_3$ is. Thus, the extension theorem tells us that we can find an $a_2\\in\\CC$ such that $(a_2,a_3,a_4,b_1,b_2,b_3)\\in\\VV(I_1)$."
   ]
  },
  {
   "cell_type": "code",
   "execution_count": 15,
   "id": "6b64fd54",
   "metadata": {},
   "outputs": [
    {
     "data": {
      "text/plain": [
       "3-element Vector{QQMPolyRingElem}:\n",
       " x_{3}^2*y_{1} - x_{3}*x_{4} + x_{3}*y_{2} - x_{4}^4 + 2*x_{4}^2*y_{3} - y_{3}^2\n",
       " x_{2}*x_{4}^4 - 2*x_{2}*x_{4}^2*y_{3} + x_{2}*y_{3}^2 + x_{3}*x_{4}*y_{1} - x_{3}*y_{1}*y_{2} - x_{4}^2 + 2*x_{4}*y_{2} - y_{2}^2\n",
       " x_{2}*x_{3} + x_{4} - y_{2}"
      ]
     },
     "execution_count": 15,
     "metadata": {},
     "output_type": "execute_result"
    }
   ],
   "source": [
    "G1 = eliminate_variables(G,[x[1]])"
   ]
  },
  {
   "cell_type": "code",
   "execution_count": 16,
   "id": "e5a37012",
   "metadata": {},
   "outputs": [
    {
     "data": {
      "text/plain": [
       "x_{3}^2*y_{1} - x_{3}*x_{4} + x_{3}*y_{2} - x_{4}^4 + 2*x_{4}^2*y_{3} - y_{3}^2"
      ]
     },
     "execution_count": 16,
     "metadata": {},
     "output_type": "execute_result"
    }
   ],
   "source": [
    "coefficient_of_highest_degree_term(G1[1], x[2])"
   ]
  },
  {
   "cell_type": "code",
   "execution_count": 17,
   "id": "605a1fd9",
   "metadata": {},
   "outputs": [
    {
     "data": {
      "text/plain": [
       "x_{4}^4 - 2*x_{4}^2*y_{3} + y_{3}^2"
      ]
     },
     "execution_count": 17,
     "metadata": {},
     "output_type": "execute_result"
    }
   ],
   "source": [
    "coefficient_of_highest_degree_term(G1[2], x[2])"
   ]
  },
  {
   "cell_type": "code",
   "execution_count": 18,
   "id": "8f298067",
   "metadata": {},
   "outputs": [
    {
     "data": {
      "text/plain": [
       "x_{3}"
      ]
     },
     "execution_count": 18,
     "metadata": {},
     "output_type": "execute_result"
    }
   ],
   "source": [
    "coefficient_of_highest_degree_term(G1[3], x[2])"
   ]
  },
  {
   "cell_type": "markdown",
   "id": "e9e6498e-d8ae-4c96-a4d0-7559fc79cf8f",
   "metadata": {},
   "source": [
    "**Coding trick:** The `map` command is a neat way to do this in a single go!\n",
    "\n",
    "**Coding exercise:** Make sure you understand the output of `map(n->gcd(n,10), [2,4,7,25])`."
   ]
  },
  {
   "cell_type": "code",
   "execution_count": 19,
   "id": "8c6d613a-d952-48b6-826c-3366aa2ba079",
   "metadata": {},
   "outputs": [
    {
     "data": {
      "text/plain": [
       "3-element Vector{QQMPolyRingElem}:\n",
       " x_{3}^2*y_{1} - x_{3}*x_{4} + x_{3}*y_{2} - x_{4}^4 + 2*x_{4}^2*y_{3} - y_{3}^2\n",
       " x_{4}^4 - 2*x_{4}^2*y_{3} + y_{3}^2\n",
       " x_{3}"
      ]
     },
     "execution_count": 19,
     "metadata": {},
     "output_type": "execute_result"
    }
   ],
   "source": [
    "map(g->coefficient_of_highest_degree_term(g,x[2]), G1)"
   ]
  },
  {
   "cell_type": "markdown",
   "id": "89badc06",
   "metadata": {},
   "source": [
    "**Extension with respect to $x_1$:** We can now either look at the elements of $G$ or the original generators of $I$. Regardless of what we do, the computation below shows that we have elements which have a constant coefficient of the highest-degree term in $x_1$. \n",
    "\n",
    "Hence, the corollary for the extension theorem gives that we can find an $a_1\\in\\CC$ such that $(a_1,a_2,a_3,a_4,b_1,b_2,b_3)\\in\\VV(I)$ regardless for what $(a_2,a_3,a_4,b_1,b_2,b_3)\\in\\VV(I_1)$ we have constructed in previous steps."
   ]
  },
  {
   "cell_type": "code",
   "execution_count": 20,
   "id": "7bb7f094-106f-46f3-808d-5e653962746c",
   "metadata": {},
   "outputs": [
    {
     "data": {
      "text/plain": [
       "7-element Vector{QQMPolyRingElem}:\n",
       " x_{3}^2*y_{1} - x_{3}*x_{4} + x_{3}*y_{2} - x_{4}^4 + 2*x_{4}^2*y_{3} - y_{3}^2\n",
       " x_{2}*x_{4}^4 - 2*x_{2}*x_{4}^2*y_{3} + x_{2}*y_{3}^2 + x_{3}*x_{4}*y_{1} - x_{3}*y_{1}*y_{2} - x_{4}^2 + 2*x_{4}*y_{2} - y_{2}^2\n",
       " x_{2}*x_{3} + x_{4} - y_{2}\n",
       " y_{2}^2 - y_{3}\n",
       " x_{4} - y_{2}\n",
       " x_{3}\n",
       " 1"
      ]
     },
     "execution_count": 20,
     "metadata": {},
     "output_type": "execute_result"
    }
   ],
   "source": [
    "map( g->coefficient_of_highest_degree_term(g, x[1]), G)"
   ]
  },
  {
   "cell_type": "code",
   "execution_count": 21,
   "id": "1c0a8323",
   "metadata": {},
   "outputs": [
    {
     "data": {
      "text/plain": [
       "3-element Vector{QQMPolyRingElem}:\n",
       " 1\n",
       " x_{2}*x_{3} + x_{4} - y_{2}\n",
       " -x_{3}"
      ]
     },
     "execution_count": 21,
     "metadata": {},
     "output_type": "execute_result"
    }
   ],
   "source": [
    "map( g->coefficient_of_highest_degree_term(g, x[1]), F-y)"
   ]
  },
  {
   "cell_type": "markdown",
   "id": "e28e9b9e",
   "metadata": {},
   "source": [
    "**Conclusion:** If $b_1\\neq 0$, then the point $(b_1,b_2,b_3)$ is in the image of $F$. \n",
    "\n",
    "**Left to check:** What if $b_1=0$? Let us repeat the analysis above but where we also impose $y_1=0$, by letting $I_\\text{new}=I+\\langle y_1\\rangle$.\n",
    "\n",
    "**Coding trick:** The command `vcat` can be used to concatenate two lists (for instance, `vcat([10,7],[11,-2,5])` gives `[10,7,11,-2,5]`)."
   ]
  },
  {
   "cell_type": "code",
   "execution_count": 22,
   "id": "4fa6a40c",
   "metadata": {},
   "outputs": [
    {
     "data": {
      "text/plain": [
       "ideal(-x_{1}^2 + x_{2} + y_{1}, -x_{2}*x_{3} - x_{4} + y_{2}, x_{1}*x_{3} - x_{4}^2 + y_{3}, y_{1})"
      ]
     },
     "execution_count": 22,
     "metadata": {},
     "output_type": "execute_result"
    }
   ],
   "source": [
    "Inew = ideal( vcat(y-F,[y[1]]) ) "
   ]
  },
  {
   "cell_type": "code",
   "execution_count": 23,
   "id": "66c14239",
   "metadata": {},
   "outputs": [
    {
     "data": {
      "text/plain": [
       "Gröbner basis with elements\n",
       "1 -> y_{1}\n",
       "2 -> x_{3}*x_{4} - x_{3}*y_{2} + x_{4}^4 - 2*x_{4}^2*y_{3} + y_{3}^2\n",
       "3 -> x_{2}*x_{4}^4 - 2*x_{2}*x_{4}^2*y_{3} + x_{2}*y_{3}^2 - x_{4}^2 + 2*x_{4}*y_{2} - y_{2}^2\n",
       "4 -> x_{2}*x_{3} + x_{4} - y_{2}\n",
       "5 -> x_{1}*y_{2}^2 - x_{1}*y_{3} - x_{2}*x_{4}^3 - x_{2}*x_{4}^2*y_{2} + x_{2}*x_{4}*y_{3} + x_{2}*y_{2}*y_{3} + x_{4} - y_{2}\n",
       "6 -> x_{1}*x_{4} - x_{1}*y_{2} + x_{2}*x_{4}^2 - x_{2}*y_{3}\n",
       "7 -> x_{1}*x_{3} - x_{4}^2 + y_{3}\n",
       "8 -> x_{1}^2 - x_{2}\n",
       "with respect to the ordering\n",
       "lex([x_{1}, x_{2}, x_{3}, x_{4}, y_{1}, y_{2}, y_{3}])"
      ]
     },
     "execution_count": 23,
     "metadata": {},
     "output_type": "execute_result"
    }
   ],
   "source": [
    "Gnew = groebner_basis(Inew, ordering=lex(R), complete_reduction=true)"
   ]
  },
  {
   "cell_type": "markdown",
   "id": "e16bb56b-9d43-4abc-9be6-2a3861b76e00",
   "metadata": {},
   "source": [
    "**Elimination step:** The following computation shows that the smallest variety containing the image is now $\\{0\\}\\times\\CC^2$."
   ]
  },
  {
   "cell_type": "code",
   "execution_count": 24,
   "id": "0a776584",
   "metadata": {},
   "outputs": [
    {
     "data": {
      "text/plain": [
       "1-element Vector{QQMPolyRingElem}:\n",
       " y_{1}"
      ]
     },
     "execution_count": 24,
     "metadata": {},
     "output_type": "execute_result"
    }
   ],
   "source": [
    "Gnew4 = eliminate_variables(Gnew,x[1:4])"
   ]
  },
  {
   "cell_type": "markdown",
   "id": "9307c09c-3cb0-40b8-a15c-018b4cb4d8ce",
   "metadata": {},
   "source": [
    "**Extension step:** Fix $(0,b_2,b_3)\\in\\VV(I_\\text{new,4})$. We want to find $a_4,a_3,a_2,a_1\\in\\CC$, such that $(a_1,a_2,a_3,a_4,0,b_2,b_3)\\in\\VV(I_\\text{new})$."
   ]
  },
  {
   "cell_type": "markdown",
   "id": "4b25a70e-47b0-453b-906c-98ab7bff41c3",
   "metadata": {},
   "source": [
    "**Extension with respect to $x_4$**: As before, the trivial extension lemma gives that $(a_4,0,b_2,b_3)\\in\\VV(I_\\text{new,3})$ for **any** $a_4\\in\\CC$."
   ]
  },
  {
   "cell_type": "code",
   "execution_count": 25,
   "id": "1fe0b23b-7d88-4621-bf6a-1d44dc14da3a",
   "metadata": {},
   "outputs": [
    {
     "data": {
      "text/plain": [
       "1-element Vector{QQMPolyRingElem}:\n",
       " y_{1}"
      ]
     },
     "execution_count": 25,
     "metadata": {},
     "output_type": "execute_result"
    }
   ],
   "source": [
    "Gnew3 = eliminate_variables(Gnew,x[1:3])"
   ]
  },
  {
   "cell_type": "markdown",
   "id": "338f7227-2560-45e2-8630-1be78f896bda",
   "metadata": {},
   "source": [
    "**Extension with respect to $x_3$:** Since $a_4$ can be chosen freely, we can in particular ensure that $a_4-b_2\\neq 0$ by picking $a_4\\neq b_2$. \n",
    "\n",
    "Hence, the extension theorem gives that we can find an $a_3\\in\\CC$ such that $(a_3,a_4,0,b_2,b_3)\\in\\VV(I_\\text{new,2})$."
   ]
  },
  {
   "cell_type": "code",
   "execution_count": 26,
   "id": "6e510af1-f3a6-4e21-82f5-98653f7e7710",
   "metadata": {},
   "outputs": [
    {
     "data": {
      "text/plain": [
       "2-element Vector{QQMPolyRingElem}:\n",
       " y_{1}\n",
       " x_{3}*x_{4} - x_{3}*y_{2} + x_{4}^4 - 2*x_{4}^2*y_{3} + y_{3}^2"
      ]
     },
     "execution_count": 26,
     "metadata": {},
     "output_type": "execute_result"
    }
   ],
   "source": [
    "Gnew2 = eliminate_variables(Gnew,x[1:2])"
   ]
  },
  {
   "cell_type": "code",
   "execution_count": 27,
   "id": "26702dce",
   "metadata": {},
   "outputs": [
    {
     "data": {
      "text/plain": [
       "2-element Vector{QQMPolyRingElem}:\n",
       " y_{1}\n",
       " x_{4} - y_{2}"
      ]
     },
     "execution_count": 27,
     "metadata": {},
     "output_type": "execute_result"
    }
   ],
   "source": [
    "map( g->coefficient_of_highest_degree_term(g,x[3]), Gnew2)"
   ]
  },
  {
   "cell_type": "markdown",
   "id": "6e8f3b0f-5fbf-48d3-b808-e3c71c449abb",
   "metadata": {},
   "source": [
    "**Extension with respect to $x_2$:** Again, we use the freedome in $a_4$. In addition to requiring $a_4\\neq b_2$, we require that $a_{4}^4 - 2a_{4}^2b_{3} + b_{3}^2\\neq 0$ (this only precludes at most four further values of $a_4$, since for each given value of $b_3$, this is a univariate polynomial in $a_4$ of degree 4). "
   ]
  },
  {
   "cell_type": "code",
   "execution_count": 28,
   "id": "a7670477",
   "metadata": {},
   "outputs": [
    {
     "data": {
      "text/plain": [
       "4-element Vector{QQMPolyRingElem}:\n",
       " y_{1}\n",
       " x_{3}*x_{4} - x_{3}*y_{2} + x_{4}^4 - 2*x_{4}^2*y_{3} + y_{3}^2\n",
       " x_{2}*x_{4}^4 - 2*x_{2}*x_{4}^2*y_{3} + x_{2}*y_{3}^2 - x_{4}^2 + 2*x_{4}*y_{2} - y_{2}^2\n",
       " x_{2}*x_{3} + x_{4} - y_{2}"
      ]
     },
     "execution_count": 28,
     "metadata": {},
     "output_type": "execute_result"
    }
   ],
   "source": [
    "Gnew1 = eliminate_variables(Gnew,[x[1]])"
   ]
  },
  {
   "cell_type": "code",
   "execution_count": 29,
   "id": "7023e7e7",
   "metadata": {},
   "outputs": [
    {
     "data": {
      "text/plain": [
       "4-element Vector{QQMPolyRingElem}:\n",
       " y_{1}\n",
       " x_{3}*x_{4} - x_{3}*y_{2} + x_{4}^4 - 2*x_{4}^2*y_{3} + y_{3}^2\n",
       " x_{4}^4 - 2*x_{4}^2*y_{3} + y_{3}^2\n",
       " x_{3}"
      ]
     },
     "execution_count": 29,
     "metadata": {},
     "output_type": "execute_result"
    }
   ],
   "source": [
    "map( g->coefficient_of_highest_degree_term(g,x[2]), Gnew1)"
   ]
  },
  {
   "cell_type": "markdown",
   "id": "d043f662-de84-4398-b400-ccd2bfa9a5f5",
   "metadata": {},
   "source": [
    "**Extension with respect to $x_1$:** We find a constant coefficient in front of the highest-degree term in $x_1$ in the the Gröbner basis for $I_\\text{new}$. Hence, the corollary of the extensio theorem gives that we can find $a_1\\in\\CC$ such that $(a_1,a_2,a_3,a_4,0,b_2,b_3)\\in\\VV(I_\\text{new})$ regardless of what $(a_2,a_3,a_4,0,b_2,b_3)$ we have constructed in previous steps."
   ]
  },
  {
   "cell_type": "code",
   "execution_count": 30,
   "id": "8699962d",
   "metadata": {},
   "outputs": [
    {
     "data": {
      "text/plain": [
       "8-element Vector{QQMPolyRingElem}:\n",
       " y_{1}\n",
       " x_{3}*x_{4} - x_{3}*y_{2} + x_{4}^4 - 2*x_{4}^2*y_{3} + y_{3}^2\n",
       " x_{2}*x_{4}^4 - 2*x_{2}*x_{4}^2*y_{3} + x_{2}*y_{3}^2 - x_{4}^2 + 2*x_{4}*y_{2} - y_{2}^2\n",
       " x_{2}*x_{3} + x_{4} - y_{2}\n",
       " y_{2}^2 - y_{3}\n",
       " x_{4} - y_{2}\n",
       " x_{3}\n",
       " 1"
      ]
     },
     "execution_count": 30,
     "metadata": {},
     "output_type": "execute_result"
    }
   ],
   "source": [
    "map( g->coefficient_of_highest_degree_term(g,x[1]), Gnew)"
   ]
  },
  {
   "cell_type": "markdown",
   "id": "516e754e",
   "metadata": {},
   "source": [
    "### Part (ii)"
   ]
  },
  {
   "cell_type": "markdown",
   "id": "acd7ec6a-c086-44a0-8273-8299f5510fb4",
   "metadata": {},
   "source": [
    "**Setup:** We do this the same way as before:"
   ]
  },
  {
   "cell_type": "code",
   "execution_count": 31,
   "id": "a838725a",
   "metadata": {},
   "outputs": [
    {
     "data": {
      "text/plain": [
       "(Multivariate polynomial ring in 6 variables over QQ, QQMPolyRingElem[x_{1}, x_{2}, x_{3}], QQMPolyRingElem[y_{1}, y_{2}, y_{3}])"
      ]
     },
     "execution_count": 31,
     "metadata": {},
     "output_type": "execute_result"
    }
   ],
   "source": [
    "R, x,y = polynomial_ring(QQ,\"x\"=>1:3,\"y\"=>1:3)"
   ]
  },
  {
   "cell_type": "code",
   "execution_count": 32,
   "id": "4eb379e8",
   "metadata": {},
   "outputs": [
    {
     "data": {
      "text/plain": [
       "3-element Vector{QQMPolyRingElem}:\n",
       " x_{1}^2 - x_{2}\n",
       " x_{2}*x_{3}\n",
       " x_{1}^4*x_{2}*x_{3} - 2*x_{1}^2*x_{2}^2*x_{3} + x_{2}^3*x_{3} + x_{2}^2*x_{3}^3"
      ]
     },
     "execution_count": 32,
     "metadata": {},
     "output_type": "execute_result"
    }
   ],
   "source": [
    "F = [x[1]^2 - x[2], x[2]*x[3], x[1]^4*x[2]*x[3]-2*x[1]^2*x[2]^2*x[3] + x[2]^3*x[3] + x[2]^2*x[3]^3] "
   ]
  },
  {
   "cell_type": "code",
   "execution_count": 33,
   "id": "f32d86b0-05e1-4644-acd5-10830d9967d9",
   "metadata": {},
   "outputs": [
    {
     "data": {
      "text/plain": [
       "ideal(-x_{1}^2 + x_{2} + y_{1}, -x_{2}*x_{3} + y_{2}, -x_{1}^4*x_{2}*x_{3} + 2*x_{1}^2*x_{2}^2*x_{3} - x_{2}^3*x_{3} - x_{2}^2*x_{3}^3 + y_{3})"
      ]
     },
     "execution_count": 33,
     "metadata": {},
     "output_type": "execute_result"
    }
   ],
   "source": [
    "I = ideal(y-F)"
   ]
  },
  {
   "cell_type": "markdown",
   "id": "34cab71d-23d3-4369-8cb6-049b114e5735",
   "metadata": {},
   "source": [
    "**Elimination step:** The smallest variety containing the image of $F$ is all of $\\CC^3$."
   ]
  },
  {
   "cell_type": "code",
   "execution_count": 34,
   "id": "e341afa1-d8b1-4640-ae36-d9829dff421d",
   "metadata": {},
   "outputs": [
    {
     "data": {
      "text/plain": [
       "Gröbner basis with elements\n",
       "1 -> x_{3}*y_{2}^2 + y_{1}^2*y_{2} - y_{3}\n",
       "2 -> x_{2}*y_{1}^2*y_{2} - x_{2}*y_{3} + y_{2}^3\n",
       "3 -> x_{2}*x_{3} - y_{2}\n",
       "4 -> x_{1}^2 - x_{2} - y_{1}\n",
       "with respect to the ordering\n",
       "lex([x_{1}, x_{2}, x_{3}, y_{1}, y_{2}, y_{3}])"
      ]
     },
     "execution_count": 34,
     "metadata": {},
     "output_type": "execute_result"
    }
   ],
   "source": [
    "G = groebner_basis(ideal(F-y), ordering=lex(R), complete_reduction=true)"
   ]
  },
  {
   "cell_type": "code",
   "execution_count": 35,
   "id": "1cc35100",
   "metadata": {},
   "outputs": [
    {
     "data": {
      "text/plain": [
       "QQMPolyRingElem[]"
      ]
     },
     "execution_count": 35,
     "metadata": {},
     "output_type": "execute_result"
    }
   ],
   "source": [
    "G3 = eliminate_variables(G,x)"
   ]
  },
  {
   "cell_type": "markdown",
   "id": "2cfa37fe-dd85-49db-ae54-0491b1ffad23",
   "metadata": {},
   "source": [
    "**Extension step:** We want to check whether we, for any $(b_1,b_2,b_3)\\in\\CC^3$, can find $a_3,a_2,a_1\\in\\CC$ such that $(a_1,a_2,a_3,b_1,b_2,b_3)\\in\\VV(I)$."
   ]
  },
  {
   "cell_type": "markdown",
   "id": "543d3cfb-98cc-45a0-b0a8-0e62a462ca0a",
   "metadata": {},
   "source": [
    "**Extension with respect to $x_3$:** By the extension theorem, we see that if $b_2\\neq 0$, then we can find an $a_3\\in\\CC$ such that $(a_3,b_1,b_2,b_3)\\in\\VV(I_2)$. \n",
    "\n",
    "(We will deal with the case $b_2=0$ at the end.)"
   ]
  },
  {
   "cell_type": "code",
   "execution_count": 36,
   "id": "d0067652",
   "metadata": {},
   "outputs": [
    {
     "data": {
      "text/plain": [
       "1-element Vector{QQMPolyRingElem}:\n",
       " x_{3}*y_{2}^2 + y_{1}^2*y_{2} - y_{3}"
      ]
     },
     "execution_count": 36,
     "metadata": {},
     "output_type": "execute_result"
    }
   ],
   "source": [
    "G2 = eliminate_variables(G,x[1:2])"
   ]
  },
  {
   "cell_type": "code",
   "execution_count": 37,
   "id": "7eee4b88",
   "metadata": {},
   "outputs": [
    {
     "data": {
      "text/plain": [
       "1-element Vector{QQMPolyRingElem}:\n",
       " y_{2}^2"
      ]
     },
     "execution_count": 37,
     "metadata": {},
     "output_type": "execute_result"
    }
   ],
   "source": [
    "map(g->coefficient_of_highest_degree_term(g,x[3]),G2)"
   ]
  },
  {
   "cell_type": "markdown",
   "id": "de485170-b5bc-451f-90dc-f26537be84b7",
   "metadata": {},
   "source": [
    "**Extension with respect to $x_2$:** Checking the second entry of $G_1$, we see that if $b_{1}^2b_{2} - b_{3}\\neq 0$, then we can find an $a_2\\in\\CC$ such that $(a_2,a_3,b_1,b_2,b_3)\\in\\VV(I_1)$. \n",
    "\n",
    "(As before, we postpone the case $b_{1}^2b_{2} - b_{3}=0$ to the end.)"
   ]
  },
  {
   "cell_type": "code",
   "execution_count": 38,
   "id": "f0f6137b",
   "metadata": {},
   "outputs": [
    {
     "data": {
      "text/plain": [
       "3-element Vector{QQMPolyRingElem}:\n",
       " x_{3}*y_{2}^2 + y_{1}^2*y_{2} - y_{3}\n",
       " x_{2}*y_{1}^2*y_{2} - x_{2}*y_{3} + y_{2}^3\n",
       " x_{2}*x_{3} - y_{2}"
      ]
     },
     "execution_count": 38,
     "metadata": {},
     "output_type": "execute_result"
    }
   ],
   "source": [
    "G1 = eliminate_variables(G,x[[1]])"
   ]
  },
  {
   "cell_type": "code",
   "execution_count": 39,
   "id": "db75984a-94c0-4f0d-9b15-888b169c7ba6",
   "metadata": {},
   "outputs": [
    {
     "data": {
      "text/plain": [
       "3-element Vector{QQMPolyRingElem}:\n",
       " x_{3}*y_{2}^2 + y_{1}^2*y_{2} - y_{3}\n",
       " y_{1}^2*y_{2} - y_{3}\n",
       " x_{3}"
      ]
     },
     "execution_count": 39,
     "metadata": {},
     "output_type": "execute_result"
    }
   ],
   "source": [
    "map(g->coefficient_of_highest_degree_term(g,x[2]),G1)"
   ]
  },
  {
   "cell_type": "markdown",
   "id": "1261da1e-0b29-41b9-937e-75c37639f7c4",
   "metadata": {},
   "source": [
    "**Extension with respect to $x_1$:** We find a constant leading coefficient with respect to $x_1$ in $G$, which means that for any $(a_2,a_3,b_1,b_2,b_3)\\in\\VV(I_1)$, we can find an $a_1\\in\\CC$ such that $(a_1,a_2,a_3,b_1,b_2,b_3)\\in\\VV(I)$."
   ]
  },
  {
   "cell_type": "code",
   "execution_count": 40,
   "id": "93708d61-dd18-42c4-aa24-f9a2df3c2018",
   "metadata": {},
   "outputs": [
    {
     "data": {
      "text/plain": [
       "4-element Vector{QQMPolyRingElem}:\n",
       " x_{3}*y_{2}^2 + y_{1}^2*y_{2} - y_{3}\n",
       " x_{2}*y_{1}^2*y_{2} - x_{2}*y_{3} + y_{2}^3\n",
       " x_{2}*x_{3} - y_{2}\n",
       " 1"
      ]
     },
     "execution_count": 40,
     "metadata": {},
     "output_type": "execute_result"
    }
   ],
   "source": [
    "map(g->coefficient_of_highest_degree_term(g,x[1]),G)"
   ]
  },
  {
   "cell_type": "markdown",
   "id": "a56c1ccf-3bc2-4003-84b1-cce286cad99d",
   "metadata": {},
   "source": [
    "**Conclusion:** We have now seen that any point $(b_1,b_2,b_3)\\in\\CC^3$ such that $b_2\\neq 0$ and $b_{1}^2b_{2} - b_{3}\\neq 0$ is in the image of $F$."
   ]
  },
  {
   "cell_type": "markdown",
   "id": "bc84cdfa-88a1-4717-89e5-aa0b5a5f8e7d",
   "metadata": {},
   "source": [
    "**Left to check:** What happens when $b_2=0$ or $b_{1}^2b_{2} - b_{3}=0$? Or equivalently, when $b_2(b_{1}^2b_{2} - b_{3})=0$?\n",
    "\n",
    "We add the product $y_2(y_{1}^2y_{2} - y_{3})$ to the ideal and compute a new Gröbner basis. Since this Gröbner basis turns out to contain $y_3^4$, it shows that any point in the image under these constraints must also satisfy $y_3=0$. \n",
    "\n",
    "Hence, $F$ is **not** surjective. For instance, $(0,0,1)$ will not be in the image. "
   ]
  },
  {
   "cell_type": "code",
   "execution_count": 41,
   "id": "e5b5fe33-b423-49f4-bc18-1419a3e304eb",
   "metadata": {},
   "outputs": [
    {
     "data": {
      "text/plain": [
       "ideal(x_{1}^2 - x_{2} - y_{1}, x_{2}*x_{3} - y_{2}, x_{1}^4*x_{2}*x_{3} - 2*x_{1}^2*x_{2}^2*x_{3} + x_{2}^3*x_{3} + x_{2}^2*x_{3}^3 - y_{3}, y_{1}^2*y_{2}^2 - y_{2}*y_{3})"
      ]
     },
     "execution_count": 41,
     "metadata": {},
     "output_type": "execute_result"
    }
   ],
   "source": [
    "Inew = ideal( vcat(F-y,[y[2]*(y[1]^2*y[2]-y[3])]) )"
   ]
  },
  {
   "cell_type": "code",
   "execution_count": 42,
   "id": "f68616f1-0728-4b27-a370-902d3b6a77ee",
   "metadata": {},
   "outputs": [
    {
     "data": {
      "text/plain": [
       "Gröbner basis with elements\n",
       "1 -> y_{3}^4\n",
       "2 -> y_{2}*y_{3}^3\n",
       "3 -> y_{2}^2*y_{3}^2\n",
       "4 -> y_{2}^3*y_{3}\n",
       "5 -> y_{2}^4\n",
       "6 -> y_{1}^2*y_{2}*y_{3} - y_{3}^2\n",
       "7 -> y_{1}^2*y_{2}^2 - y_{2}*y_{3}\n",
       "8 -> x_{3}*y_{3}^2 + y_{1}^6*y_{2} - y_{1}^4*y_{3}\n",
       "9 -> x_{3}*y_{2}*y_{3} + y_{1}^4*y_{2} - y_{1}^2*y_{3}\n",
       "10 -> x_{3}*y_{2}^2 + y_{1}^2*y_{2} - y_{3}\n",
       "11 -> x_{2}*y_{1}^2*y_{2} - x_{2}*y_{3} + y_{2}^3\n",
       "12 -> x_{2}*x_{3} - y_{2}\n",
       "13 -> x_{1}^2 - x_{2} - y_{1}\n",
       "with respect to the ordering\n",
       "lex([x_{1}, x_{2}, x_{3}, y_{1}, y_{2}, y_{3}])"
      ]
     },
     "execution_count": 42,
     "metadata": {},
     "output_type": "execute_result"
    }
   ],
   "source": [
    "Gnew = groebner_basis(Inew, ordering=lex(gens(R)), complete_reduction=true)"
   ]
  }
 ],
 "metadata": {
  "kernelspec": {
   "display_name": "Julia 1.9.4",
   "language": "julia",
   "name": "julia-1.9"
  },
  "language_info": {
   "file_extension": ".jl",
   "mimetype": "application/julia",
   "name": "julia",
   "version": "1.9.4"
  }
 },
 "nbformat": 4,
 "nbformat_minor": 5
}
