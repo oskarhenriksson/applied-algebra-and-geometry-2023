{
 "cells": [
  {
   "cell_type": "code",
   "execution_count": 1,
   "metadata": {},
   "outputs": [
    {
     "name": "stdout",
     "output_type": "stream",
     "text": [
      " -----    -----    -----      -      -----   \n",
      "|     |  |     |  |     |    | |    |     |  \n",
      "|     |  |        |         |   |   |     |  \n",
      "|     |   -----   |        |     |  |-----   \n",
      "|     |        |  |        |-----|  |   |    \n",
      "|     |  |     |  |     |  |     |  |    |   \n",
      " -----    -----    -----   -     -  -     -  \n",
      "\n",
      "...combining (and extending) ANTIC, GAP, Polymake and Singular\n",
      "Version\u001b[32m 0.13.0 \u001b[39m... \n",
      " ... which comes with absolutely no warranty whatsoever\n",
      "Type: '?Oscar' for more information\n",
      "(c) 2019-2023 by The OSCAR Development Team\n"
     ]
    }
   ],
   "source": [
    "using Oscar"
   ]
  },
  {
   "cell_type": "markdown",
   "metadata": {},
   "source": [
    "## Exercise 1"
   ]
  },
  {
   "cell_type": "markdown",
   "metadata": {},
   "source": [
    "Compute a Gröbner basis $G$ of the ideal $I$ w.r.t. the lexicographic order."
   ]
  },
  {
   "cell_type": "code",
   "execution_count": 331,
   "metadata": {},
   "outputs": [
    {
     "data": {
      "text/plain": [
       "Gröbner basis with elements\n",
       "1 -> 2*z^4 - 3*z^2 + 1\n",
       "2 -> y^2 - z^2 - 1\n",
       "3 -> x + 2*z^3 - 3*z\n",
       "with respect to the ordering\n",
       "lex([x, y, z])"
      ]
     },
     "execution_count": 331,
     "metadata": {},
     "output_type": "execute_result"
    }
   ],
   "source": [
    "R, (x,y,z) = polynomial_ring(QQ,[\"x\",\"y\",\"z\"])\n",
    "\n",
    "f1 = x^2 + y^2 + z^2 - 4\n",
    "f2 = x^2 + 2*y^2 - 5\n",
    "f3 = x*z - 1\n",
    "\n",
    "I = ideal([f1,f2,f3])\n",
    "G = groebner_basis(I, ordering=lex(R), complete_reduction=true)"
   ]
  },
  {
   "cell_type": "markdown",
   "metadata": {},
   "source": [
    "Note that the first polynomial only involves a single variable $z$. "
   ]
  },
  {
   "cell_type": "code",
   "execution_count": 332,
   "metadata": {},
   "outputs": [
    {
     "data": {
      "text/plain": [
       "2*z^4 - 3*z^2 + 1"
      ]
     },
     "execution_count": 332,
     "metadata": {},
     "output_type": "execute_result"
    }
   ],
   "source": [
    "G[1]"
   ]
  },
  {
   "cell_type": "markdown",
   "metadata": {},
   "source": [
    "Since this polynomial has only one variable, we can solve it in Maple, WolframAlpha or whatever other tool you're familiar with! We then attempt to solve for the other variables, using the other polynomials in the Gröbner basis. \n",
    "\n",
    "If we like, we can also try so solve it over the complex numbers, either exactly or numerically using these tools."
   ]
  },
  {
   "cell_type": "markdown",
   "metadata": {},
   "source": [
    "## Solving over $\\mathbb{Q}$ in Oscar"
   ]
  },
  {
   "cell_type": "markdown",
   "metadata": {},
   "source": [
    "The command for finding root of **univariate** polynomials in Oscar is `roots()`. \n",
    "\n",
    "In our case there is a subtlety though: Oscar doesn't see $2z^4 - 3z^2 + 1$ as a univariate polynomial! Instead, it sees it as a member of the multivariate polynomial ring $\\mathbb{Q}[x,y,z]$. Our first step is therefore to convert it to a **univariate** polynomial, in some univariate polynomial ring $\\mathbb{Q}[t]$, using the `to_univariate` function."
   ]
  },
  {
   "cell_type": "code",
   "execution_count": 333,
   "metadata": {},
   "outputs": [
    {
     "data": {
      "text/plain": [
       "(Univariate polynomial ring in t over QQ, t)"
      ]
     },
     "execution_count": 333,
     "metadata": {},
     "output_type": "execute_result"
    }
   ],
   "source": [
    "#Create a univariate polynomial ring with rational coefficients\n",
    "UR, t = polynomial_ring(QQ, \"t\")"
   ]
  },
  {
   "cell_type": "code",
   "execution_count": 334,
   "metadata": {},
   "outputs": [
    {
     "data": {
      "text/plain": [
       "2*t^4 - 3*t^2 + 1"
      ]
     },
     "execution_count": 334,
     "metadata": {},
     "output_type": "execute_result"
    }
   ],
   "source": [
    "g1_univariate = to_univariate(UR,G[1])"
   ]
  },
  {
   "cell_type": "markdown",
   "metadata": {},
   "source": [
    "Note the difference in where Oscar thinks these polynomials live!"
   ]
  },
  {
   "cell_type": "code",
   "execution_count": 335,
   "metadata": {},
   "outputs": [
    {
     "data": {
      "text/plain": [
       "Multivariate polynomial ring in 3 variables x, y, z\n",
       "  over rational field"
      ]
     },
     "execution_count": 335,
     "metadata": {},
     "output_type": "execute_result"
    }
   ],
   "source": [
    "parent(G[1])"
   ]
  },
  {
   "cell_type": "code",
   "execution_count": 336,
   "metadata": {},
   "outputs": [
    {
     "data": {
      "text/plain": [
       "Univariate polynomial ring in t over QQ"
      ]
     },
     "execution_count": 336,
     "metadata": {},
     "output_type": "execute_result"
    }
   ],
   "source": [
    "parent(g1_univariate)"
   ]
  },
  {
   "cell_type": "markdown",
   "metadata": {},
   "source": [
    "Let's now find the rational solutions of $p$:"
   ]
  },
  {
   "cell_type": "code",
   "execution_count": 339,
   "metadata": {},
   "outputs": [
    {
     "data": {
      "text/plain": [
       "2-element Vector{QQFieldElem}:\n",
       " -1\n",
       " 1"
      ]
     },
     "execution_count": 339,
     "metadata": {},
     "output_type": "execute_result"
    }
   ],
   "source": [
    "sol_z = roots(g1_univariate, QQ)"
   ]
  },
  {
   "cell_type": "markdown",
   "metadata": {},
   "source": [
    "There are two such solutions, which are values for z. We now find the values of $x$ and $y$ going up. \n",
    "\n",
    "We use the second entry of the Gröbner basis, to find the value of $y$:"
   ]
  },
  {
   "cell_type": "code",
   "execution_count": 340,
   "metadata": {},
   "outputs": [
    {
     "data": {
      "text/plain": [
       "y^2 - 2"
      ]
     },
     "execution_count": 340,
     "metadata": {},
     "output_type": "execute_result"
    }
   ],
   "source": [
    "p1 = G[2](x,y,sol_z[1])"
   ]
  },
  {
   "cell_type": "code",
   "execution_count": 341,
   "metadata": {},
   "outputs": [
    {
     "data": {
      "text/plain": [
       "QQFieldElem[]"
      ]
     },
     "execution_count": 341,
     "metadata": {},
     "output_type": "execute_result"
    }
   ],
   "source": [
    "roots(to_univariate(UR,p1),QQ)"
   ]
  },
  {
   "cell_type": "code",
   "execution_count": 342,
   "metadata": {},
   "outputs": [
    {
     "data": {
      "text/plain": [
       "y^2 - 2"
      ]
     },
     "execution_count": 342,
     "metadata": {},
     "output_type": "execute_result"
    }
   ],
   "source": [
    "p2 = G[2](x,y,sol_z[2])"
   ]
  },
  {
   "cell_type": "code",
   "execution_count": 343,
   "metadata": {},
   "outputs": [
    {
     "data": {
      "text/plain": [
       "QQFieldElem[]"
      ]
     },
     "execution_count": 343,
     "metadata": {},
     "output_type": "execute_result"
    }
   ],
   "source": [
    "roots(to_univariate(UR,p2),QQ)"
   ]
  },
  {
   "cell_type": "markdown",
   "metadata": {},
   "source": [
    "**Conclusion:** There are no rational solutions! "
   ]
  },
  {
   "cell_type": "markdown",
   "metadata": {},
   "source": [
    "## Bonus: Solutions over $\\mathbb{C}$"
   ]
  },
  {
   "cell_type": "markdown",
   "metadata": {},
   "source": [
    "If we want to solve over the complex numbers instead, we have to do a bit more work in Oscar."
   ]
  },
  {
   "cell_type": "markdown",
   "metadata": {},
   "source": [
    "First, we create a version of $\\mathbb{C}$. This is a bit subtle! Oscar can't really deal with neither $\\mathbb{R}$ nor $\\mathbb{C}$ since equivalence classes of Cauchy sequences or Dedekind cuts (or whatever you favorite way of defining $\\mathbb{R}$ is) are very hard to set up in a computer.\n",
    "\n",
    "Instead, Oscar works with **intervals** of **floating point numbers** with a certain precison (e.g., 32 bits)."
   ]
  },
  {
   "cell_type": "code",
   "execution_count": 344,
   "metadata": {},
   "outputs": [
    {
     "data": {
      "text/plain": [
       "Complex Field with 32 bits of precision and error bounds"
      ]
     },
     "execution_count": 344,
     "metadata": {},
     "output_type": "execute_result"
    }
   ],
   "source": [
    "CC = AcbField(32) #Complex field with precision 32"
   ]
  },
  {
   "cell_type": "markdown",
   "metadata": {},
   "source": [
    "Our first order of business is to reinterpret the polynomials in the Gröbner basis as polynomials over this version of $\\mathbb{C}$, instead of $\\mathbb{Q}$"
   ]
  },
  {
   "cell_type": "code",
   "execution_count": 350,
   "metadata": {},
   "outputs": [
    {
     "data": {
      "text/plain": [
       "x + 2.000000000*z^3 - 3.000000000*z"
      ]
     },
     "execution_count": 350,
     "metadata": {},
     "output_type": "execute_result"
    }
   ],
   "source": [
    "g1 = change_base_ring(CC,G[1])\n",
    "g2 = change_base_ring(CC,G[2])\n",
    "g3 = change_base_ring(CC,G[3])"
   ]
  },
  {
   "cell_type": "markdown",
   "metadata": {},
   "source": [
    "These polynomials now live in $\\mathbb{C}[x,y,z]$. To make sure that the variables $x,y,z$ are now understood as variables in this ring, we have to write the following:"
   ]
  },
  {
   "cell_type": "code",
   "execution_count": 354,
   "metadata": {},
   "outputs": [
    {
     "data": {
      "text/plain": [
       "3-element Vector{AbstractAlgebra.Generic.MPoly{acb}}:\n",
       " x\n",
       " y\n",
       " z"
      ]
     },
     "execution_count": 354,
     "metadata": {},
     "output_type": "execute_result"
    }
   ],
   "source": [
    "(x,y,z) = gens(parent(g3))"
   ]
  },
  {
   "cell_type": "markdown",
   "metadata": {},
   "source": [
    "Let's now solve $g_1$ over this $\\mathbb{C}$! Remember to first convert it to a univariate polynomial, this time over $\\mathbb{C}$."
   ]
  },
  {
   "cell_type": "code",
   "execution_count": 356,
   "metadata": {},
   "outputs": [
    {
     "data": {
      "text/plain": [
       "(Univariate Polynomial Ring in t over Complex Field with 32 bits of precision and error bounds, t)"
      ]
     },
     "execution_count": 356,
     "metadata": {},
     "output_type": "execute_result"
    }
   ],
   "source": [
    "UR_CC, t = polynomial_ring(CC,\"t\")"
   ]
  },
  {
   "cell_type": "code",
   "execution_count": 360,
   "metadata": {},
   "outputs": [
    {
     "data": {
      "text/plain": [
       "2.000000000*t^4 - 3.000000000*t^2 + 1"
      ]
     },
     "execution_count": 360,
     "metadata": {},
     "output_type": "execute_result"
    }
   ],
   "source": []
  },
  {
   "cell_type": "code",
   "execution_count": 362,
   "metadata": {},
   "outputs": [
    {
     "data": {
      "text/plain": [
       "4-element Vector{acb}:\n",
       " [-1.0000000 +/- 5.36e-9]\n",
       " [-0.70710678 +/- 4.10e-9]\n",
       " [0.70710678 +/- 4.34e-9]\n",
       " [1.00000000 +/- 3.73e-9]"
      ]
     },
     "execution_count": 362,
     "metadata": {},
     "output_type": "execute_result"
    }
   ],
   "source": [
    "sol_z = roots(to_univariate(UR_CC,g1),CC)"
   ]
  },
  {
   "cell_type": "markdown",
   "metadata": {},
   "source": [
    "Note that `0.707106781 +/- 2.74e-10` means that the number is just an approximation with possible error $ \\pm 2.74\\cdot 10^{-10}$"
   ]
  },
  {
   "cell_type": "markdown",
   "metadata": {},
   "source": [
    "Next we want to plug in these solutions in the other polynomials we found in our Gröbner basis."
   ]
  },
  {
   "cell_type": "markdown",
   "metadata": {},
   "source": [
    "The first value of $z$ gives the following polynomials:"
   ]
  },
  {
   "cell_type": "code",
   "execution_count": 375,
   "metadata": {},
   "outputs": [
    {
     "name": "stdout",
     "output_type": "stream",
     "text": [
      "y^2 + [-2.0000000 +/- 1.10e-8]\n",
      "x + [1.0000000 +/- 4.45e-8]\n"
     ]
    }
   ],
   "source": [
    "g21 = g2(x,y,sol_z[1])\n",
    "println(g21)\n",
    "\n",
    "g31 = g3(x,y,sol_z[1])\n",
    "println(g31)"
   ]
  },
  {
   "cell_type": "markdown",
   "metadata": {},
   "source": [
    "Let's solve them:"
   ]
  },
  {
   "cell_type": "code",
   "execution_count": 389,
   "metadata": {},
   "outputs": [
    {
     "name": "stdout",
     "output_type": "stream",
     "text": [
      "y-solutions: acb[[-1.41421356 +/- 9.00e-9], [1.4142136 +/- 4.67e-8]]\n",
      "x-solutions: acb[[-1.0000000 +/- 4.45e-8]]\n"
     ]
    }
   ],
   "source": [
    "println(\"y-solutions: \",roots(to_univariate(UR_CC,g21),CC))\n",
    "println(\"x-solutions: \",roots(to_univariate(UR_CC,g31),CC))"
   ]
  },
  {
   "cell_type": "markdown",
   "metadata": {},
   "source": [
    "Now we do the same for the other $z$-solutions:"
   ]
  },
  {
   "cell_type": "code",
   "execution_count": 390,
   "metadata": {},
   "outputs": [
    {
     "name": "stdout",
     "output_type": "stream",
     "text": [
      "y^2 + [-1.50000000 +/- 4.35e-9]\n",
      "x + [1.4142136 +/- 5.52e-8]\n",
      "y-solutions: acb[[-1.22474487 +/- 5.57e-9], [1.22474487 +/- 5.57e-9]]\n",
      "x-solutions: acb[[-1.4142136 +/- 5.52e-8]]\n"
     ]
    }
   ],
   "source": [
    "g22 = g2(x,y,sol_z[2])\n",
    "println(g22)\n",
    "g32 = g3(x,y,sol_z[2])\n",
    "println(g32)\n",
    "\n",
    "println(\"y-solutions: \",roots(to_univariate(UR_CC,g22),CC))\n",
    "println(\"x-solutions: \",roots(to_univariate(UR_CC,g32),CC))"
   ]
  },
  {
   "cell_type": "code",
   "execution_count": 391,
   "metadata": {},
   "outputs": [
    {
     "name": "stdout",
     "output_type": "stream",
     "text": [
      "y^2 + [-1.50000000 +/- 4.81e-9]\n",
      "x + [-1.4142136 +/- 5.69e-8]\n",
      "y-solutions: acb[[-1.22474487 +/- 5.95e-9], [1.22474487 +/- 5.95e-9]]\n",
      "x-solutions: acb[[1.4142136 +/- 5.69e-8]]\n"
     ]
    }
   ],
   "source": [
    "g23 = g2(x,y,sol_z[3])\n",
    "println(g23)\n",
    "g33 = g3(x,y,sol_z[3])\n",
    "println(g33)\n",
    "\n",
    "println(\"y-solutions: \",roots(to_univariate(UR_CC,g23),CC))\n",
    "println(\"x-solutions: \",roots(to_univariate(UR_CC,g33),CC))"
   ]
  },
  {
   "cell_type": "code",
   "execution_count": 392,
   "metadata": {},
   "outputs": [
    {
     "name": "stdout",
     "output_type": "stream",
     "text": [
      "y^2 + [-2.00000000 +/- 7.46e-9]\n",
      "x + [-1.4142136 +/- 5.69e-8]\n",
      "y-solutions: acb[[-1.41421356 +/- 8.32e-9], [1.41421356 +/- 8.51e-9]]\n",
      "x-solutions: acb[[1.0000000 +/- 3.36e-8]]\n"
     ]
    }
   ],
   "source": [
    "g24 = g2(x,y,sol_z[4])\n",
    "println(g24)\n",
    "g34 = g3(x,y,sol_z[4])\n",
    "println(g33)\n",
    "\n",
    "println(\"y-solutions: \",roots(to_univariate(UR_CC,g24),CC))\n",
    "println(\"x-solutions: \",roots(to_univariate(UR_CC,g34),CC))"
   ]
  },
  {
   "cell_type": "markdown",
   "metadata": {},
   "source": [
    "**Conclusion:** For each root of z, there are two solutions in y and one of x. In total there are **8 solutions**."
   ]
  },
  {
   "cell_type": "markdown",
   "metadata": {},
   "source": [
    "We could have automated this last step a bit:"
   ]
  },
  {
   "cell_type": "code",
   "execution_count": 397,
   "metadata": {},
   "outputs": [
    {
     "name": "stdout",
     "output_type": "stream",
     "text": [
      "z-solution: [-1.0000000 +/- 5.36e-9]\n",
      "y^2 + [-2.0000000 +/- 1.10e-8]\n",
      "x + [1.0000000 +/- 4.45e-8]\n",
      "y-solutions: acb[[-1.41421356 +/- 9.00e-9], [1.4142136 +/- 4.67e-8]]\n",
      "x-solutions: acb[[-1.0000000 +/- 4.45e-8]]\n",
      "\n",
      "z-solution: [-0.70710678 +/- 4.10e-9]\n",
      "y^2 + [-1.50000000 +/- 4.35e-9]\n",
      "x + [1.4142136 +/- 5.52e-8]\n",
      "y-solutions: acb[[-1.22474487 +/- 5.57e-9], [1.22474487 +/- 5.57e-9]]\n",
      "x-solutions: acb[[-1.4142136 +/- 5.52e-8]]\n",
      "\n",
      "z-solution: [0.70710678 +/- 4.34e-9]\n",
      "y^2 + [-1.50000000 +/- 4.81e-9]\n",
      "x + [-1.4142136 +/- 5.69e-8]\n",
      "y-solutions: acb[[-1.22474487 +/- 5.95e-9], [1.22474487 +/- 5.95e-9]]\n",
      "x-solutions: acb[[1.4142136 +/- 5.69e-8]]\n",
      "\n",
      "z-solution: [1.00000000 +/- 3.73e-9]\n",
      "y^2 + [-2.00000000 +/- 7.46e-9]\n",
      "x + [-1.0000000 +/- 3.36e-8]\n",
      "y-solutions: acb[[-1.41421356 +/- 8.32e-9], [1.41421356 +/- 8.51e-9]]\n",
      "x-solutions: acb[[1.0000000 +/- 3.36e-8]]\n",
      "\n"
     ]
    }
   ],
   "source": [
    "for z_value in sol_z\n",
    "        println(\"z-solution: \", z_value)\n",
    "        g2_evaluated = g2(x,y,z_value)\n",
    "        println(g2_evaluated)\n",
    "        g3_evaluated = g3(x,y,z_value)\n",
    "        println(g3_evaluated)\n",
    "\n",
    "        println(\"y-solutions: \",roots(to_univariate(UR_CC,g2_evaluated),CC))\n",
    "        println(\"x-solutions: \",roots(to_univariate(UR_CC,g3_evaluated),CC))\n",
    "        println()\n",
    "end"
   ]
  },
  {
   "cell_type": "markdown",
   "metadata": {},
   "source": [
    "## Exercise 2"
   ]
  },
  {
   "cell_type": "markdown",
   "metadata": {},
   "source": [
    "### Part (a)"
   ]
  },
  {
   "cell_type": "code",
   "execution_count": 398,
   "metadata": {},
   "outputs": [
    {
     "data": {
      "text/plain": [
       "(Multivariate polynomial ring in 3 variables over QQ, QQMPolyRingElem[x, y, z])"
      ]
     },
     "execution_count": 398,
     "metadata": {},
     "output_type": "execute_result"
    }
   ],
   "source": [
    "R, (x, y,z) = polynomial_ring(QQ, [\"x\", \"y\",\"z\"])"
   ]
  },
  {
   "cell_type": "code",
   "execution_count": 400,
   "metadata": {},
   "outputs": [
    {
     "data": {
      "text/plain": [
       "Gröbner basis with elements\n",
       "1 -> 40*z^2 - 8*z - 23\n",
       "2 -> 3*y + z - 1\n",
       "3 -> 2*x - 3*y - z\n",
       "with respect to the ordering\n",
       "lex([x, y, z])"
      ]
     },
     "execution_count": 400,
     "metadata": {},
     "output_type": "execute_result"
    }
   ],
   "source": [
    "I = ideal([x^2+y^2+z^2-1, x^2+y^2+z^2-2*x, 2*x-3*y-z])\n",
    "G = groebner_basis(I,ordering=lex(gens(R)))"
   ]
  },
  {
   "cell_type": "markdown",
   "metadata": {},
   "source": [
    "At this point, we can switch to solving the system in Maple!\n",
    "\n",
    "But we can also try to do it in Oscar, using the commands we learned above in Problem 1."
   ]
  },
  {
   "cell_type": "code",
   "execution_count": 402,
   "metadata": {},
   "outputs": [
    {
     "data": {
      "text/plain": [
       "2.000000000*x - 3.000000000*y - 1.000000000*z"
      ]
     },
     "execution_count": 402,
     "metadata": {},
     "output_type": "execute_result"
    }
   ],
   "source": [
    "CC = AcbField(32) #Complex field with precision 32\n",
    "g1 = change_base_ring(CC,G[1])\n",
    "g2 = change_base_ring(CC,G[2])\n",
    "g3 = change_base_ring(CC,G[3])"
   ]
  },
  {
   "cell_type": "code",
   "execution_count": 403,
   "metadata": {},
   "outputs": [
    {
     "data": {
      "text/plain": [
       "2-element Vector{acb}:\n",
       " [-0.664852927 +/- 6.76e-10]\n",
       " [0.86485293 +/- 3.75e-9]"
      ]
     },
     "execution_count": 403,
     "metadata": {},
     "output_type": "execute_result"
    }
   ],
   "source": [
    "#Create a univariate polynomial ring with CC coefficients\n",
    "UR, t = polynomial_ring(CC, \"t\")\n",
    "sol_z = roots( to_univariate(UR, change_base_ring(CC,G[1])), CC)"
   ]
  },
  {
   "cell_type": "markdown",
   "metadata": {},
   "source": [
    "There are two solutions in z. For each solution, we need to find the x and y solutions. "
   ]
  },
  {
   "cell_type": "code",
   "execution_count": 404,
   "metadata": {},
   "outputs": [
    {
     "data": {
      "text/plain": [
       "3.000000000*y + [-0.13514707 +/- 3.75e-9]"
      ]
     },
     "execution_count": 404,
     "metadata": {},
     "output_type": "execute_result"
    }
   ],
   "source": [
    "(x,y,z) = gens(parent(g2))\n",
    "g21 = g2(x,y,sol_z[1])\n",
    "g22 = g2(x,y,sol_z[2])"
   ]
  },
  {
   "cell_type": "code",
   "execution_count": 405,
   "metadata": {},
   "outputs": [
    {
     "data": {
      "text/plain": [
       "1-element Vector{acb}:\n",
       " [0.55495098 +/- 5.30e-9]"
      ]
     },
     "execution_count": 405,
     "metadata": {},
     "output_type": "execute_result"
    }
   ],
   "source": [
    "y1=roots(to_univariate(UR,g21),CC)"
   ]
  },
  {
   "cell_type": "code",
   "execution_count": 406,
   "metadata": {},
   "outputs": [
    {
     "data": {
      "text/plain": [
       "1-element Vector{acb}:\n",
       " [0.045049024 +/- 5.99e-10]"
      ]
     },
     "execution_count": 406,
     "metadata": {},
     "output_type": "execute_result"
    }
   ],
   "source": [
    "y2=roots(to_univariate(UR,g22),CC)"
   ]
  },
  {
   "cell_type": "markdown",
   "metadata": {},
   "source": [
    "These are the two solutions in y. We now compute x:"
   ]
  },
  {
   "cell_type": "code",
   "execution_count": 407,
   "metadata": {},
   "outputs": [
    {
     "data": {
      "text/plain": [
       "2.000000000*x + [-1.0000000 +/- 2.44e-9]"
      ]
     },
     "execution_count": 407,
     "metadata": {},
     "output_type": "execute_result"
    }
   ],
   "source": [
    "(x,y,z) = gens(parent(g3))\n",
    "g31 = g3(x,y1[1],sol_z[1])\n",
    "g32 = g3(x,y2[1],sol_z[2])"
   ]
  },
  {
   "cell_type": "code",
   "execution_count": 408,
   "metadata": {},
   "outputs": [
    {
     "name": "stdout",
     "output_type": "stream",
     "text": [
      "acb[[0.50000000 +/- 1.76e-9]]\n",
      "acb[[0.50000000 +/- 1.22e-9]]\n"
     ]
    }
   ],
   "source": [
    "x1 = roots(to_univariate(UR,g31))\n",
    "println(x1)\n",
    "\n",
    "x2 = roots(to_univariate(UR,g32))\n",
    "println(x2)"
   ]
  },
  {
   "cell_type": "markdown",
   "metadata": {},
   "source": [
    "List the points on the variety"
   ]
  },
  {
   "cell_type": "code",
   "execution_count": 409,
   "metadata": {},
   "outputs": [
    {
     "name": "stdout",
     "output_type": "stream",
     "text": [
      "acb[[-0.664852927 +/- 6.76e-10], [0.55495098 +/- 5.30e-9], [0.50000000 +/- 1.76e-9]]\n",
      "acb[[0.86485293 +/- 3.75e-9], [0.045049024 +/- 5.99e-10], [0.50000000 +/- 1.22e-9]]\n"
     ]
    }
   ],
   "source": [
    "println([sol_z[1],y1[1],x1[1]])\n",
    "println([sol_z[2],y2[1],x2[1]])"
   ]
  },
  {
   "cell_type": "markdown",
   "metadata": {},
   "source": [
    "### Part (b)"
   ]
  },
  {
   "cell_type": "code",
   "execution_count": 411,
   "metadata": {},
   "outputs": [
    {
     "data": {
      "text/plain": [
       "Gröbner basis with elements\n",
       "1 -> 1\n",
       "with respect to the ordering\n",
       "lex([x, y, z])"
      ]
     },
     "execution_count": 411,
     "metadata": {},
     "output_type": "execute_result"
    }
   ],
   "source": [
    "R, (x, y,z) = polynomial_ring(QQ, [\"x\", \"y\",\"z\"])\n",
    "\n",
    "I = ideal([x^2*y-z^3, 2*x*y-4*z-1,z-y^2,x^3-4*z*y])\n",
    "G = groebner_basis(I, ordering=lex(R), complete_reduction=true)"
   ]
  },
  {
   "cell_type": "markdown",
   "metadata": {},
   "source": [
    "The ideal contains the constant polynomial $1$, so the variety is empty!"
   ]
  }
 ],
 "metadata": {
  "kernelspec": {
   "display_name": "Julia 1.9.4",
   "language": "julia",
   "name": "julia-1.9"
  },
  "language_info": {
   "file_extension": ".jl",
   "mimetype": "application/julia",
   "name": "julia",
   "version": "1.9.4"
  }
 },
 "nbformat": 4,
 "nbformat_minor": 4
}
