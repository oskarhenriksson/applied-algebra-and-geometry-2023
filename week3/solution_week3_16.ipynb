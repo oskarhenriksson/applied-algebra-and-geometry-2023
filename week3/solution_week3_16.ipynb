{
 "cells": [
  {
   "cell_type": "code",
   "execution_count": 1,
   "metadata": {},
   "outputs": [
    {
     "name": "stdout",
     "output_type": "stream",
     "text": [
      " -----    -----    -----      -      -----   \n",
      "|     |  |     |  |     |    | |    |     |  \n",
      "|     |  |        |         |   |   |     |  \n",
      "|     |   -----   |        |     |  |-----   \n",
      "|     |        |  |        |-----|  |   |    \n",
      "|     |  |     |  |     |  |     |  |    |   \n",
      " -----    -----    -----   -     -  -     -  \n",
      "\n",
      "...combining (and extending) ANTIC, GAP, Polymake and Singular\n",
      "Version\u001b[32m 0.13.0 \u001b[39m... \n",
      " ... which comes with absolutely no warranty whatsoever\n",
      "Type: '?Oscar' for more information\n",
      "(c) 2019-2023 by The OSCAR Development Team\n"
     ]
    }
   ],
   "source": [
    "using Oscar"
   ]
  },
  {
   "cell_type": "markdown",
   "metadata": {},
   "source": [
    "## Exercise 16 (algebraic statistics)"
   ]
  },
  {
   "cell_type": "markdown",
   "metadata": {},
   "source": [
    "Since we will use eliminaiton, the following little function will be useful to have. (Make sure you understand how each part of it works!)"
   ]
  },
  {
   "cell_type": "code",
   "execution_count": 2,
   "metadata": {
    "vscode": {
     "languageId": "julia"
    }
   },
   "outputs": [],
   "source": [
    "# Function for elimination variables from a Gröbner basis\n",
    "eliminate_variables = (G,variables_to_eliminate) -> [g for g in G if isempty(intersect(vars(g),variables_to_eliminate))];"
   ]
  },
  {
   "cell_type": "markdown",
   "metadata": {},
   "source": [
    "### Part (a): Implicitization"
   ]
  },
  {
   "cell_type": "code",
   "execution_count": 3,
   "metadata": {
    "vscode": {
     "languageId": "julia"
    }
   },
   "outputs": [
    {
     "data": {
      "text/plain": [
       "(Multivariate polynomial ring in 6 variables over QQ, QQMPolyRingElem[t, p0, p1, p2, p3, p4])"
      ]
     },
     "execution_count": 3,
     "metadata": {},
     "output_type": "execute_result"
    }
   ],
   "source": [
    "R, (t,p0,p1,p2,p3,p4) = polynomial_ring(QQ,[\"t\",\"p0\",\"p1\",\"p2\",\"p3\",\"p4\"])"
   ]
  },
  {
   "cell_type": "code",
   "execution_count": 4,
   "metadata": {
    "vscode": {
     "languageId": "julia"
    }
   },
   "outputs": [
    {
     "data": {
      "text/plain": [
       "ideal(-t^4 + 4*t^3 - 6*t^2 + 4*t + p0 - 1, 4*t^4 - 12*t^3 + 12*t^2 - 4*t + p1, -6*t^4 + 12*t^3 - 6*t^2 + p2, 4*t^4 - 4*t^3 + p3, -t^4 + p4)"
      ]
     },
     "execution_count": 4,
     "metadata": {},
     "output_type": "execute_result"
    }
   ],
   "source": [
    "f0 = binomial(4,0)*(1-t)^4\n",
    "f1 = binomial(4,1)*t*(1-t)^3\n",
    "f2 = binomial(4,2)*t^2*(1-t)^2\n",
    "f3 = binomial(4,3)*t^3*(1-t)\n",
    "f4 = binomial(4,4)t^4\n",
    "I = ideal([p0-f0, p1-f1, p2-f2, p3-f3, p4-f4])"
   ]
  },
  {
   "cell_type": "code",
   "execution_count": 5,
   "metadata": {
    "vscode": {
     "languageId": "julia"
    }
   },
   "outputs": [
    {
     "data": {
      "text/plain": [
       "Gröbner basis with elements\n",
       "1 -> p3^4 + 16*p3^3*p4 + 96*p3^2*p4^2 + 256*p3*p4^3 + 256*p4^4 - 256*p4^3\n",
       "2 -> 8*p2*p4 - 3*p3^2\n",
       "3 -> p2*p3^2 + 6*p3^3 + 36*p3^2*p4 + 96*p3*p4^2 + 96*p4^3 - 96*p4^2\n",
       "4 -> 2*p2^2 + 12*p2*p3 + 27*p3^2 + 72*p3*p4 + 72*p4^2 - 72*p4\n",
       "5 -> 6*p1*p4 - p2*p3\n",
       "6 -> 3*p1*p3 + 8*p2*p3 + 18*p3^2 + 48*p3*p4 + 48*p4^2 - 48*p4\n",
       "7 -> p1*p2 - 10*p2*p3 - 30*p3^2 - 90*p3*p4 - 6*p3 - 96*p4^2 + 96*p4\n",
       "8 -> 3*p1^2 + 40*p2*p3 - 8*p2 + 135*p3^2 + 432*p3*p4 + 48*p3 + 480*p4^2 - 480*p4\n",
       "9 -> p0 + p1 + p2 + p3 + p4 - 1\n",
       "10 -> 4*t - p1 - 2*p2 - 3*p3 - 4*p4\n",
       "with respect to the ordering\n",
       "lex([t, p0, p1, p2, p3, p4])"
      ]
     },
     "execution_count": 5,
     "metadata": {},
     "output_type": "execute_result"
    }
   ],
   "source": [
    "G = groebner_basis(I, ordering=lex(R), complete_reduction=true)"
   ]
  },
  {
   "cell_type": "code",
   "execution_count": 6,
   "metadata": {
    "vscode": {
     "languageId": "julia"
    }
   },
   "outputs": [
    {
     "data": {
      "text/plain": [
       "9-element Vector{QQMPolyRingElem}:\n",
       " p3^4 + 16*p3^3*p4 + 96*p3^2*p4^2 + 256*p3*p4^3 + 256*p4^4 - 256*p4^3\n",
       " 8*p2*p4 - 3*p3^2\n",
       " p2*p3^2 + 6*p3^3 + 36*p3^2*p4 + 96*p3*p4^2 + 96*p4^3 - 96*p4^2\n",
       " 2*p2^2 + 12*p2*p3 + 27*p3^2 + 72*p3*p4 + 72*p4^2 - 72*p4\n",
       " 6*p1*p4 - p2*p3\n",
       " 3*p1*p3 + 8*p2*p3 + 18*p3^2 + 48*p3*p4 + 48*p4^2 - 48*p4\n",
       " p1*p2 - 10*p2*p3 - 30*p3^2 - 90*p3*p4 - 6*p3 - 96*p4^2 + 96*p4\n",
       " 3*p1^2 + 40*p2*p3 - 8*p2 + 135*p3^2 + 432*p3*p4 + 48*p3 + 480*p4^2 - 480*p4\n",
       " p0 + p1 + p2 + p3 + p4 - 1"
      ]
     },
     "execution_count": 6,
     "metadata": {},
     "output_type": "execute_result"
    }
   ],
   "source": [
    "G1 = eliminate_variables(G,[t])"
   ]
  },
  {
   "cell_type": "markdown",
   "metadata": {},
   "source": [
    "By the **implicitization theorem**, G1 describes the minimal variety containing the image of $(f_0,f_1,f_2,f_3,f_4)$.\n",
    "\n",
    "**Sidenote:** An easy application of the **extension theorem** shows that this variety is, in fact, precisely the image of the parametrization. For instance, the coefficient of the highest-degree term with respect to $t$ in $p_0-f_0(t)\\in I$ is $-1$, which is constant."
   ]
  },
  {
   "cell_type": "markdown",
   "metadata": {},
   "source": [
    "### Part (b): Ideal membmership"
   ]
  },
  {
   "cell_type": "markdown",
   "metadata": {},
   "source": [
    "Recall that a sufficient condition for a polynomial $f\\in\\mathbb{R}[p_0,\\ldots,p_4]$ to vanish on $\\mathbf{V}(I)$ is that $f\\in I$. \n",
    "\n",
    "This can be checked by computing the normal form of $f$ with respect to $I$ (with respect to any monomial ordering)."
   ]
  },
  {
   "cell_type": "code",
   "execution_count": 7,
   "metadata": {
    "vscode": {
     "languageId": "julia"
    }
   },
   "outputs": [
    {
     "data": {
      "text/plain": [
       "0"
      ]
     },
     "execution_count": 7,
     "metadata": {},
     "output_type": "execute_result"
    }
   ],
   "source": [
    "f = p0*p2-(3//8)*p1^2;\n",
    "normal_form(f, I, ordering=degrevlex(R))"
   ]
  },
  {
   "cell_type": "markdown",
   "metadata": {},
   "source": [
    "The normal form is zero, therefore $f\\in I$, and we conclude that $f$ vanishes on $\\mathbf{V}(I)$."
   ]
  },
  {
   "cell_type": "markdown",
   "metadata": {},
   "source": [
    "### Part (c): Alternative description of the ideal"
   ]
  },
  {
   "cell_type": "markdown",
   "metadata": {},
   "source": [
    "The elimination ideal described in this part of the exercise turns out to be the same as the one in part (a)."
   ]
  },
  {
   "cell_type": "code",
   "execution_count": 8,
   "metadata": {
    "vscode": {
     "languageId": "julia"
    }
   },
   "outputs": [
    {
     "data": {
      "text/plain": [
       "Gröbner basis with elements\n",
       "1 -> p3^4 + 16*p3^3*p4 + 96*p3^2*p4^2 + 256*p3*p4^3 + 256*p4^4 - 256*p4^3\n",
       "2 -> 8*p2*p4 - 3*p3^2\n",
       "3 -> p2*p3^2 + 6*p3^3 + 36*p3^2*p4 + 96*p3*p4^2 + 96*p4^3 - 96*p4^2\n",
       "4 -> 2*p2^2 + 12*p2*p3 + 27*p3^2 + 72*p3*p4 + 72*p4^2 - 72*p4\n",
       "5 -> 6*p1*p4 - p2*p3\n",
       "6 -> 3*p1*p3 + 8*p2*p3 + 18*p3^2 + 48*p3*p4 + 48*p4^2 - 48*p4\n",
       "7 -> p1*p2 - 10*p2*p3 - 30*p3^2 - 90*p3*p4 - 6*p3 - 96*p4^2 + 96*p4\n",
       "8 -> 3*p1^2 + 40*p2*p3 - 8*p2 + 135*p3^2 + 432*p3*p4 + 48*p3 + 480*p4^2 - 480*p4\n",
       "9 -> p0 + p1 + p2 + p3 + p4 - 1\n",
       "10 -> 4608*t*p4^13 - 46080*t*p4^12 + 207360*t*p4^11 - 552960*t*p4^10 + 967680*t*p4^9 - 1161216*t*p4^8 + 967680*t*p4^7 - 552960*t*p4^6 + 207360*t*p4^5 - 46080*t*p4^4 + 4608*t*p4^3 - 440*p2*p3 - 8*p2 - 165*p3^3*p4^5 - 6930*p3^3*p4^4 - 47595*p3^3*p4^3 - 87228*p3^3*p4^2 - 47595*p3^3*p4 - 6930*p3^3 - 2145*p3^2*p4^6 - 96525*p3^2*p4^5 - 705549*p3^2*p4^4 - 1382841*p3^2*p4^3 - 819795*p3^2*p4^2 - 134775*p3^2*p4 - 4095*p3^2 - 9360*p3*p4^7 - 462384*p3*p4^6 - 3708432*p3*p4^5 - 8077104*p3*p4^4 - 5475120*p3*p4^3 - 1094160*p3*p4^2 - 47664*p3*p4 - 144*p3 - 13728*p4^8 - 782496*p4^7 - 7416864*p4^6 - 19744032*p4^5 - 17207520*p4^4 - 4814304*p4^3 - 349536*p4^2 - 3168*p4\n",
       "11 -> 12884901888*t*p3*p4^2 + 2707161600*t*p4^12 - 27317721600*t*p4^11 + 124342732800*t*p4^10 - 336554330112*t*p4^9 + 600989875200*t*p4^8 - 742399257600*t*p4^7 + 647219865600*t*p4^6 - 400659916800*t*p4^5 + 180296962560*t*p4^4 - 48625371648*t*p4^3 - 134217728*p1 - 6429914920*p2*p3 - 989322776*p2 - 96936125*p3^3*p4^4 - 4062504875*p3^3*p4^3 - 27593673250*p3^3*p4^2 - 48792156790*p3^3*p4 - 23877901905*p3^3 - 1260169625*p3^2*p4^5 - 56593072250*p3^2*p4^4 - 409376571175*p3^2*p4^3 - 775957568620*p3^2*p4^2 - 416324369175*p3^2*p4 - 49601694714*p3^2 - 5498922000*p3*p4^6 - 271146844800*p3*p4^5 - 2154098403600*p3*p4^4 - 4553077925760*p3*p4^3 - 2830425707824*p3*p4^2 - 435315758592*p3*p4 - 7338827184*p3 - 8065085600*p4^7 - 458976689600*p4^6 - 4315730962400*p4^5 - 11213341729408*p4^4 - 9146011543136*p4^3 - 2124909319104*p4^2 - 84681657632*p4\n",
       "12 -> 4831838208*t*p3^2*p4 + 6217136640*t*p4^12 - 62276497920*t*p4^11 + 280812939264*t*p4^10 - 750678534144*t*p4^9 + 1317635804160*t*p4^8 - 1586875530240*t*p4^7 + 1327546091520*t*p4^6 - 759543662592*t*p4^5 + 276410534400*t*p4^4 - 49248281088*t*p4^3 - 1610612736*p1 - 21872583304*p2*p3 - 7967563192*p2 - 222618825*p3^3*p4^4 - 9346226175*p3^3*p4^3 - 64056962970*p3^3*p4^2 - 116588734110*p3^3*p4 - 62146752525*p3^3 - 2894044725*p3^2*p4^5 - 130183074450*p3^2*p4^4 - 949723586955*p3^2*p4^3 - 1849445673660*p3^2*p4^2 - 1073340266427*p3^2*p4 - 162050869266*p3^2 - 12628558800*p3*p4^6 - 623637256320*p3*p4^5 - 4992866358480*p3*p4^4 - 10812132968832*p3*p4^3 - 7196442939504*p3*p4^2 - 1344093543936*p3*p4 - 41947535088*p3 - 18521886240*p4^7 - 1055434311360*p4^6 - 9988988971104*p4^5 - 26467953842304*p4^4 - 22752935603424*p4^3 - 6081429292224*p4^2 - 363963152544*p4 - 805306368\n",
       "with respect to the ordering\n",
       "lex([t, p0, p1, p2, p3, p4])"
      ]
     },
     "execution_count": 8,
     "metadata": {},
     "output_type": "execute_result"
    }
   ],
   "source": [
    "new_polynomials = [p0*p2-(3//8)*p1^2,p1*p3-(4//9)*p2^2,p2*p4-(3//8)*p3^2,p0+p1+p2+p3 + p4 - 1, 1 - p0*p1*p2*p3*p4*t]\n",
    "Gnew = groebner_basis(ideal(new_polynomials),ordering=lex(gens(R)),complete_reduction = true)"
   ]
  },
  {
   "cell_type": "code",
   "execution_count": 9,
   "metadata": {
    "vscode": {
     "languageId": "julia"
    }
   },
   "outputs": [
    {
     "data": {
      "text/plain": [
       "9-element Vector{QQMPolyRingElem}:\n",
       " p3^4 + 16*p3^3*p4 + 96*p3^2*p4^2 + 256*p3*p4^3 + 256*p4^4 - 256*p4^3\n",
       " 8*p2*p4 - 3*p3^2\n",
       " p2*p3^2 + 6*p3^3 + 36*p3^2*p4 + 96*p3*p4^2 + 96*p4^3 - 96*p4^2\n",
       " 2*p2^2 + 12*p2*p3 + 27*p3^2 + 72*p3*p4 + 72*p4^2 - 72*p4\n",
       " 6*p1*p4 - p2*p3\n",
       " 3*p1*p3 + 8*p2*p3 + 18*p3^2 + 48*p3*p4 + 48*p4^2 - 48*p4\n",
       " p1*p2 - 10*p2*p3 - 30*p3^2 - 90*p3*p4 - 6*p3 - 96*p4^2 + 96*p4\n",
       " 3*p1^2 + 40*p2*p3 - 8*p2 + 135*p3^2 + 432*p3*p4 + 48*p3 + 480*p4^2 - 480*p4\n",
       " p0 + p1 + p2 + p3 + p4 - 1"
      ]
     },
     "execution_count": 9,
     "metadata": {},
     "output_type": "execute_result"
    }
   ],
   "source": [
    "Gnew1 = eliminate_variables(G,[t])"
   ]
  },
  {
   "cell_type": "code",
   "execution_count": 10,
   "metadata": {
    "vscode": {
     "languageId": "julia"
    }
   },
   "outputs": [
    {
     "data": {
      "text/plain": [
       "true"
      ]
     },
     "execution_count": 10,
     "metadata": {},
     "output_type": "execute_result"
    }
   ],
   "source": [
    "G1 == Gnew1"
   ]
  },
  {
   "cell_type": "markdown",
   "metadata": {},
   "source": [
    "What if we remove the last two polynomials? It turns out that they make a difference.\n",
    "\n",
    "Interpretation: \n",
    "* The polynomial $p_0+\\cdots+p_4-1$ one encodes that the probabilities should add up to one.\n",
    "* The polynomial $p_0\\cdots p_4t-1$ econdes that the propbabilities should all be nonzero."
   ]
  },
  {
   "cell_type": "code",
   "execution_count": 11,
   "metadata": {
    "vscode": {
     "languageId": "julia"
    }
   },
   "outputs": [
    {
     "data": {
      "text/plain": [
       "5-element Vector{QQMPolyRingElem}:\n",
       " 8*p2*p4 - 3*p3^2\n",
       " 9*p1*p3 - 4*p2^2\n",
       " 27*p1^3*p4 - 2*p1*p2^3\n",
       " p0*p3^2 - p1^2*p4\n",
       " 8*p0*p2 - 3*p1^2"
      ]
     },
     "execution_count": 11,
     "metadata": {},
     "output_type": "execute_result"
    }
   ],
   "source": [
    "Gremoved = groebner_basis(ideal(new_polynomials[1:end-2]), ordering=lex(R), complete_reduction=true)\n",
    "Gremoved1 = eliminate_variables(Gremoved,[t])"
   ]
  },
  {
   "cell_type": "code",
   "execution_count": 12,
   "metadata": {
    "vscode": {
     "languageId": "julia"
    }
   },
   "outputs": [
    {
     "data": {
      "text/plain": [
       "false"
      ]
     },
     "execution_count": 12,
     "metadata": {},
     "output_type": "execute_result"
    }
   ],
   "source": [
    "Gremoved1 == G1"
   ]
  },
  {
   "cell_type": "markdown",
   "metadata": {},
   "source": [
    "### Part (d)"
   ]
  },
  {
   "cell_type": "markdown",
   "metadata": {},
   "source": [
    "The first point lies on the variety $\\mathbf{V}(I)$, since it makes all elements of $G_1$ vanish.\n",
    "\n",
    "The `evaluate` command is useful for checking this. \n",
    "\n",
    "**Example:** If `f=x^2+y^2`, then then `evaluate(f,[x,y],[1,2])` is $5$, and `evaluate(f,[y],[2])` is $x^2+4$.\n",
    "\n",
    "**Note:** Rational numbers are denoted by `//` in Oscar (whereas division is denoted by `/`)."
   ]
  },
  {
   "cell_type": "code",
   "execution_count": 13,
   "metadata": {},
   "outputs": [
    {
     "data": {
      "text/plain": [
       "5-element Vector{Rational{Int64}}:\n",
       " 16//81\n",
       " 32//81\n",
       "  8//27\n",
       "  8//81\n",
       "  1//81"
      ]
     },
     "execution_count": 13,
     "metadata": {},
     "output_type": "execute_result"
    }
   ],
   "source": [
    "a = [16//81,32//81,8//27,8//81,1//81]"
   ]
  },
  {
   "cell_type": "code",
   "execution_count": 14,
   "metadata": {},
   "outputs": [
    {
     "name": "stdout",
     "output_type": "stream",
     "text": [
      "0\n",
      "0\n",
      "0\n",
      "0\n",
      "0\n",
      "0\n",
      "0\n",
      "0\n",
      "0\n"
     ]
    }
   ],
   "source": [
    "for g in G1\n",
    "    println(  evaluate(g,[p0,p1,p2,p3,p4],a) )\n",
    "end"
   ]
  },
  {
   "cell_type": "code",
   "execution_count": 15,
   "metadata": {},
   "outputs": [
    {
     "data": {
      "text/plain": [
       "9-element Vector{QQMPolyRingElem}:\n",
       " 0\n",
       " 0\n",
       " 0\n",
       " 0\n",
       " 0\n",
       " 0\n",
       " 0\n",
       " 0\n",
       " 0"
      ]
     },
     "execution_count": 15,
     "metadata": {},
     "output_type": "execute_result"
    }
   ],
   "source": [
    "# Alternatively, use the `map` command\n",
    "map(g-> evaluate(g,[p0,p1,p2,p3,p4],a), G1)"
   ]
  },
  {
   "cell_type": "markdown",
   "metadata": {},
   "source": [
    "The second point **doest not** lie on the variety $\\mathbf{V}(I)$, since some of the elements of $G_1$ don't vanish."
   ]
  },
  {
   "cell_type": "code",
   "execution_count": 16,
   "metadata": {
    "vscode": {
     "languageId": "julia"
    }
   },
   "outputs": [
    {
     "data": {
      "text/plain": [
       "5-element Vector{Rational{Int64}}:\n",
       " 13//81\n",
       " 29//81\n",
       "  8//27\n",
       " 11//81\n",
       "  4//81"
      ]
     },
     "execution_count": 16,
     "metadata": {},
     "output_type": "execute_result"
    }
   ],
   "source": [
    "b = [13//81,29//81,8//27,11//81,4//81]"
   ]
  },
  {
   "cell_type": "code",
   "execution_count": 17,
   "metadata": {},
   "outputs": [
    {
     "data": {
      "text/plain": [
       "9-element Vector{QQMPolyRingElem}:\n",
       " -9823//531441\n",
       " 5//81\n",
       " -902//6561\n",
       " -47//27\n",
       " 16//243\n",
       " -275//243\n",
       " 544//243\n",
       " -2674//243\n",
       " 0"
      ]
     },
     "execution_count": 17,
     "metadata": {},
     "output_type": "execute_result"
    }
   ],
   "source": [
    "map(g-> evaluate(g,[p0,p1,p2,p3,p4],b), G1)"
   ]
  },
  {
   "cell_type": "markdown",
   "metadata": {},
   "source": [
    "<div class=\"alert alert-block alert-info\">\n",
    "    <strong>Learn more:</strong> This exercise is just a very first glimps of algebraic statistics. Two great youtube lectures by Seth Sullivant worth watching if you want to learn more is this <a href=\"https://www.youtube.com/watch?v=irVIQT2-K4I\">short introduction</a>, and this <a href=\"https://youtu.be/jPqVMXnRuJs?si=VmUsD8HdX15Lnltr\">longer lecture</a> on algebraic phylogenetics.\n",
    "</div>"
   ]
  },
  {
   "cell_type": "code",
   "execution_count": null,
   "metadata": {},
   "outputs": [],
   "source": []
  }
 ],
 "metadata": {
  "kernelspec": {
   "display_name": "Julia 1.9.4",
   "language": "julia",
   "name": "julia-1.9"
  },
  "language_info": {
   "file_extension": ".jl",
   "mimetype": "application/julia",
   "name": "julia",
   "version": "1.9.4"
  }
 },
 "nbformat": 4,
 "nbformat_minor": 4
}
