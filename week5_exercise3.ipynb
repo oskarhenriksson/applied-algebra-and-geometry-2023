{
 "cells": [
  {
   "cell_type": "markdown",
   "metadata": {},
   "source": [
    "## Suggested solution for Exercise 3 (Certification)"
   ]
  },
  {
   "cell_type": "code",
   "execution_count": 1,
   "metadata": {},
   "outputs": [],
   "source": [
    "using HomotopyContinuation"
   ]
  },
  {
   "cell_type": "code",
   "execution_count": 2,
   "metadata": {},
   "outputs": [
    {
     "data": {
      "text/plain": [
       "System of length 3\n",
       " 3 variables: x, y, z\n",
       "\n",
       " -1 + x^2 + y^2 + z^2\n",
       " -2*x + x^2 + y^2 + z^2\n",
       " 2*x - 3*y - z"
      ]
     },
     "execution_count": 2,
     "metadata": {},
     "output_type": "execute_result"
    }
   ],
   "source": [
    "@var x y z\n",
    "F = System([x^2+y^2+z^2-1,x^2+y^2+z^2-2*x,2*x-3*y-z])"
   ]
  },
  {
   "cell_type": "code",
   "execution_count": 3,
   "metadata": {},
   "outputs": [
    {
     "data": {
      "text/plain": [
       "3-element Vector{Float64}:\n",
       "  0.5\n",
       "  0.55495098\n",
       " -0.664852927"
      ]
     },
     "execution_count": 3,
     "metadata": {},
     "output_type": "execute_result"
    }
   ],
   "source": [
    "sol1 = [0.5000000000, 0.55495098, -0.664852927]"
   ]
  },
  {
   "cell_type": "code",
   "execution_count": 4,
   "metadata": {},
   "outputs": [
    {
     "data": {
      "text/plain": [
       "3-element Vector{Float64}:\n",
       " 0.5\n",
       " 0.045049024\n",
       " 0.86485293"
      ]
     },
     "execution_count": 4,
     "metadata": {},
     "output_type": "execute_result"
    }
   ],
   "source": [
    "sol2 = [0.5000000000, 0.045049024, 0.86485293]"
   ]
  },
  {
   "cell_type": "code",
   "execution_count": 5,
   "metadata": {},
   "outputs": [
    {
     "data": {
      "text/plain": [
       "CertificationResult\n",
       "===================\n",
       "• 2 solution candidates given\n",
       "• 2 certified solution intervals (2 real, 0 complex)\n",
       "• 2 distinct certified solution intervals (2 real, 0 complex)"
      ]
     },
     "execution_count": 5,
     "metadata": {},
     "output_type": "execute_result"
    }
   ],
   "source": [
    "cert_res = certify(F, [sol1,sol2])"
   ]
  },
  {
   "cell_type": "code",
   "execution_count": 6,
   "metadata": {},
   "outputs": [
    {
     "data": {
      "text/plain": [
       "3×1 Arblib.AcbMatrix:\n",
       " [0.500000000000000 +/- 8.89e-16] + [+/- 1.16e-24]im\n",
       " [0.554950975679639 +/- 9.13e-16] + [+/- 6.02e-25]im\n",
       " [-0.66485292703892 +/- 3.04e-15] + [+/- 6.79e-25]im"
      ]
     },
     "metadata": {},
     "output_type": "display_data"
    },
    {
     "data": {
      "text/plain": [
       "3×1 Arblib.AcbMatrix:\n",
       " [0.500000000000000 +/- 8.89e-16] + [+/- 1.16e-24]im\n",
       " [0.045049024320361 +/- 8.32e-16] + [+/- 7.83e-25]im\n",
       "  [0.86485292703892 +/- 2.98e-15] + [+/- 6.79e-25]im"
      ]
     },
     "metadata": {},
     "output_type": "display_data"
    }
   ],
   "source": [
    "for c in certificates(cert_res)\n",
    "    display(certified_solution_interval(c))\n",
    "end"
   ]
  },
  {
   "cell_type": "markdown",
   "metadata": {},
   "source": [
    "We see that the boxes obtained with `certify` are a lot more refined than the solution intervals that we obtained in Week 3! "
   ]
  },
  {
   "cell_type": "markdown",
   "metadata": {},
   "source": [
    "If we want to work with the refined solutions instead of the solutions we started with, we can access them in the following way:"
   ]
  },
  {
   "cell_type": "code",
   "execution_count": 7,
   "metadata": {},
   "outputs": [
    {
     "data": {
      "text/plain": [
       "3-element Vector{ComplexF64}:\n",
       "                 0.5 + 0.0im\n",
       "  0.5549509756796391 + 0.0im\n",
       " -0.6648529270389177 + 0.0im"
      ]
     },
     "metadata": {},
     "output_type": "display_data"
    },
    {
     "data": {
      "text/plain": [
       "3-element Vector{ComplexF64}:\n",
       "                  0.5 + 0.0im\n",
       " 0.045049024320360787 + 0.0im\n",
       "   0.8648529270389177 + 0.0im"
      ]
     },
     "metadata": {},
     "output_type": "display_data"
    }
   ],
   "source": [
    "for c in certificates(cert_res)\n",
    "    display(c.solution)\n",
    "end"
   ]
  },
  {
   "cell_type": "markdown",
   "metadata": {},
   "source": [
    "...or we can store them in a list for later use like this:"
   ]
  },
  {
   "cell_type": "code",
   "execution_count": 8,
   "metadata": {},
   "outputs": [
    {
     "data": {
      "text/plain": [
       "2-element Vector{Vector{ComplexF64}}:\n",
       " [0.5 + 0.0im, 0.5549509756796391 + 0.0im, -0.6648529270389177 + 0.0im]\n",
       " [0.5 + 0.0im, 0.045049024320360787 + 0.0im, 0.8648529270389177 + 0.0im]"
      ]
     },
     "execution_count": 8,
     "metadata": {},
     "output_type": "execute_result"
    }
   ],
   "source": [
    "refined_sol = [c.solution for c in certificates(cert_res)]"
   ]
  },
  {
   "cell_type": "markdown",
   "metadata": {},
   "source": [
    "<div class=\"alert alert-block alert-info\">\n",
    "\n",
    "**Remark:** When using homotopy continuation, the obtained solutions are usually so good approximations that the refined solutions obtaiend via `certify` are virtually indistinguishable from the original solutions. \n",
    "    \n",
    "</div>"
   ]
  }
 ],
 "metadata": {
  "kernelspec": {
   "display_name": "Julia 1.9.4",
   "language": "julia",
   "name": "julia-1.9"
  },
  "language_info": {
   "file_extension": ".jl",
   "mimetype": "application/julia",
   "name": "julia",
   "version": "1.9.4"
  }
 },
 "nbformat": 4,
 "nbformat_minor": 2
}
