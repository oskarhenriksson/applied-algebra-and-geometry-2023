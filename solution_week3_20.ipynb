{
 "cells": [
  {
   "cell_type": "markdown",
   "metadata": {},
   "source": [
    "$\\newcommand{\\QQ}{\\mathbb{Q}}\\newcommand{\\CC}{\\mathbb{C}}\\newcommand{\\VV}{\\mathbb{V}}\\newcommand{\\RR}{\\mathbb{R}}$"
   ]
  },
  {
   "cell_type": "code",
   "execution_count": 1,
   "metadata": {},
   "outputs": [
    {
     "name": "stdout",
     "output_type": "stream",
     "text": [
      " -----    -----    -----      -      -----   \n",
      "|     |  |     |  |     |    | |    |     |  \n",
      "|     |  |        |         |   |   |     |  \n",
      "|     |   -----   |        |     |  |-----   \n",
      "|     |        |  |        |-----|  |   |    \n",
      "|     |  |     |  |     |  |     |  |    |   \n",
      " -----    -----    -----   -     -  -     -  \n",
      "\n",
      "...combining (and extending) ANTIC, GAP, Polymake and Singular\n",
      "Version\u001b[32m 0.13.0 \u001b[39m... \n",
      " ... which comes with absolutely no warranty whatsoever\n",
      "Type: '?Oscar' for more information\n",
      "(c) 2019-2023 by The OSCAR Development Team\n"
     ]
    }
   ],
   "source": [
    "using Oscar"
   ]
  },
  {
   "cell_type": "markdown",
   "metadata": {},
   "source": [
    "## Parametric Gröbner bases in Oscar"
   ]
  },
  {
   "cell_type": "markdown",
   "metadata": {},
   "source": [
    "Suppose that we have a parametric polynomial system consisting of polynomials $f_1,\\ldots,f_s$ in variables $x_1,\\ldots,x_n$ and parameters $u_1,\\ldots,u_m$. In many applications, one would like to say something about the roots of the system for **all** (or **almost all**) values of the parameters. \n",
    "\n",
    "One way to do this, is to work with a *parametric Gröbner basis*. The idea is that we form the ideal $I=\\langle f_1,\\ldots,f_s\\rangle$ in the parametric polynomial ring $\\CC(u_1,\\ldots,u_m)[x_1,\\ldots,x_n]$, where $\\CC(u_1,\\ldots,u_m)$ is the field of rational functions in the parameters.\n",
    "\n",
    "If we compute a Gröbner basis $G=\\{g_1,\\ldots,g_r\\}$ of $I$ in this ring, then this will **specialize** for almost all parameter values $u\\in\\CC^m$, in the sense that $G_u:=\\{g_{1,u},\\ldots,g_{r,u}\\}$ is a Gröbner basis for $I_u:=\\langle f_{1,u},\\ldots,f_{s,u}\\rangle\\subseteq\\CC[x_1,\\ldots,x_n]$, where subscript $u$ indicates that we have plugged in the specific value $u$ of the parameters.\n",
    "\n",
    "More specifically, a *sufficient* condition for $G$ to specialize for a choice of parameters $u\\in\\CC^m$ is that the following three conditions are satisfied:\n",
    "\n",
    "1. The leading coefficients of $g_1,\\ldots,g_r$ don't vanish for $u$.\n",
    "2. If we express each $g_i$ as a polynomial linear combination of the $f_i$'s (e.g., by computing a *transformation matrix* along with the Gröbner basis), then no denominators vanish for $u$.\n",
    "3. If we express each $f_i$ as a polynomial linear combination of the $g_i$'s (e.g., using multivariate polynomial division), then no denominators vanish for $u$.\n"
   ]
  },
  {
   "cell_type": "markdown",
   "metadata": {},
   "source": [
    "The following commands in Oscar are useful for doing this:\n",
    "\n",
    "* To set up the field $\\QQ(u_1,\\ldots,u_m)$ we first form the polynomial ring $\\QQ[u_1,\\ldots,u_m]$ as usual, and then turn it into a field of rational functions with the command `fraction_field`.\n",
    "\n",
    "* To compute a Gröbner basis with a transformation matrix, we use the command `groebner_basis_with_transformation_matrix`. \n",
    "<br><br> \n",
    "**Note:** It is important that you use this command to both get the Gröbner basis *and* the transformation matrix. If you use a Gröbner basis from another command (e.g., `groebner_basis`), then it might differ up to some scalar multiple, and it wouldn't be compatible with the transformation matrix obtained from `groebner_basis_with_transformation_matrix`.\n",
    "\n",
    "* There are many ways to carry out polynomial division. One option is to use our \"homemade\" implementation from Week 1 (included below). \n",
    "<br><br> \n",
    "Another option is to use the built-in command `reduce_with_quotients` (but note that this is based on another division algorithm than the one we used in Week 1, and therefore sometimes gives different answers, that still satisfy all the relevant properties). \n",
    "<br><br>\n",
    "A third option is to use `divrem`, but then have to specify the monomial order according to an older, outdated system, where you do it in the definition of the ring."
   ]
  },
  {
   "cell_type": "code",
   "execution_count": 2,
   "metadata": {},
   "outputs": [],
   "source": [
    "function multivariate_division(f::MPolyRingElem, F::Vector{<:MPolyRingElem}; ordering::MonomialOrdering)\n",
    "    LT = (h -> leading_term(h,ordering=ordering))\n",
    "    s = length(F)\n",
    "    Q = [zero(parent(f)) for i=1:s]\n",
    "    r = 0\n",
    "    p = f\n",
    "    while p != 0\n",
    "        division_occured = false\n",
    "        for i = 1:s\n",
    "            division_occured, quotient = divides( LT(p), LT(F[i]) )\n",
    "            if division_occured \n",
    "                Q[i] = Q[i] + quotient\n",
    "                p = p - quotient*F[i]\n",
    "                break\n",
    "            end\n",
    "        end\n",
    "        if !(division_occured)\n",
    "            r = r + LT(p)\n",
    "            p = p - LT(p)\n",
    "        end\n",
    "    end\n",
    "    return Q,r\n",
    "end;"
   ]
  },
  {
   "cell_type": "markdown",
   "metadata": {},
   "source": [
    "##  Exercise 20"
   ]
  },
  {
   "cell_type": "markdown",
   "metadata": {},
   "source": [
    "We begin by setting up the fraction field:"
   ]
  },
  {
   "cell_type": "code",
   "execution_count": 3,
   "metadata": {},
   "outputs": [
    {
     "data": {
      "text/plain": [
       "Fraction field\n",
       "  of multivariate polynomial ring in 6 variables over QQ"
      ]
     },
     "execution_count": 3,
     "metadata": {},
     "output_type": "execute_result"
    }
   ],
   "source": [
    "T, (k1,k2,k3,k4,k5,k6) = polynomial_ring(QQ, [\"k1\",\"k2\",\"k3\",\"k4\",\"k5\",\"k6\"])\n",
    "K = fraction_field(T)"
   ]
  },
  {
   "cell_type": "markdown",
   "metadata": {},
   "source": [
    "...and then the polynomial ring:"
   ]
  },
  {
   "cell_type": "code",
   "execution_count": 4,
   "metadata": {},
   "outputs": [
    {
     "data": {
      "text/plain": [
       "(Multivariate polynomial ring in 5 variables over fraction field, AbstractAlgebra.Generic.MPoly{AbstractAlgebra.Generic.Frac{QQMPolyRingElem}}[x5, x4, x3, x2, x1])"
      ]
     },
     "execution_count": 4,
     "metadata": {},
     "output_type": "execute_result"
    }
   ],
   "source": [
    "R, (x5,x4,x3,x2,x1) = polynomial_ring(K, [\"x5\",\"x4\",\"x3\",\"x2\",\"x1\"])"
   ]
  },
  {
   "cell_type": "markdown",
   "metadata": {},
   "source": [
    "We now form the polynomial ideal:"
   ]
  },
  {
   "cell_type": "code",
   "execution_count": 5,
   "metadata": {},
   "outputs": [
    {
     "data": {
      "text/plain": [
       "ideal(k5*x5 + k3*x4 - k4*x3*x2, (-k2 - k3)*x4 + k1*x3*x1, (-k5 - k6)*x5 + k4*x3*x2)"
      ]
     },
     "execution_count": 5,
     "metadata": {},
     "output_type": "execute_result"
    }
   ],
   "source": [
    "f1 = -k4*x2*x3 + k3*x4 + k5*x5\n",
    "f2 = k1*x1*x3 - k2*x4 - k3*x4\n",
    "f3 = k4*x2*x3 - k5*x5 - k6*x5\n",
    "\n",
    "F = [f1,f2,f3]\n",
    "\n",
    "I = ideal(F)"
   ]
  },
  {
   "cell_type": "markdown",
   "metadata": {},
   "source": [
    "Since we want to analyze to what extent the Gröbner basis specializes in the end, we use the `groebner_basis_with_transformation_matrix` command, and save the transformation matrix $M$ for later."
   ]
  },
  {
   "cell_type": "code",
   "execution_count": 6,
   "metadata": {},
   "outputs": [
    {
     "data": {
      "text/plain": [
       "(Gröbner basis with elements\n",
       "1 -> (k2*k4*k6 + k3*k4*k6)*x3*x2 + (-k1*k3*k5 - k1*k3*k6)*x3*x1\n",
       "2 -> (k2 + k3)*x4 - k1*x3*x1\n",
       "3 -> (k2*k6 + k3*k6)*x5 - k1*k3*x3*x1\n",
       "with respect to the ordering\n",
       "lex([x5, x4, x3, x2, x1]), [-k2*k5-k2*k6-k3*k5-k3*k6 0 -k2-k3; -k3*k5-k3*k6 -1 -k3; -k2*k5-k3*k5 0 -k2-k3])"
      ]
     },
     "execution_count": 6,
     "metadata": {},
     "output_type": "execute_result"
    }
   ],
   "source": [
    "G, M = groebner_basis_with_transformation_matrix(ideal(F), ordering=lex(R),complete_reduction=true)"
   ]
  },
  {
   "cell_type": "markdown",
   "metadata": {},
   "source": [
    "Let us check that the Gröbner basis works for all positive values of the parameters $k_1,\\ldots,k_6$. Remember from above that we need to check three things."
   ]
  },
  {
   "cell_type": "markdown",
   "metadata": {},
   "source": [
    "**1) The leading terms:**  It is easy to see that the leading coefficients are strictly positive (and in particular nonzero) for all $k_1,\\ldots,k_6>0$.\n",
    "\n",
    "We can see this by inspection, but we can also use the `leading_coefficient` command (combined with the `map` command) as follows:"
   ]
  },
  {
   "cell_type": "code",
   "execution_count": 7,
   "metadata": {},
   "outputs": [
    {
     "data": {
      "text/plain": [
       "3-element Vector{AbstractAlgebra.Generic.Frac{QQMPolyRingElem}}:\n",
       " k2*k4*k6 + k3*k4*k6\n",
       " k2 + k3\n",
       " k2*k6 + k3*k6"
      ]
     },
     "execution_count": 7,
     "metadata": {},
     "output_type": "execute_result"
    }
   ],
   "source": [
    "map(g->leading_coefficient(g,ordering=lex(R)), G)"
   ]
  },
  {
   "cell_type": "markdown",
   "metadata": {},
   "source": [
    "**2) Denominators for $g_i$'s expressed in terms of $f_i$'s:** We check the transformation matrix, and see that all of the entries have 1 as denominator, which of course is nonzero regardless of what values of the parameters $k_1,\\ldots,k_6$ we plug in."
   ]
  },
  {
   "cell_type": "code",
   "execution_count": 8,
   "metadata": {},
   "outputs": [
    {
     "data": {
      "text/plain": [
       "[-k2*k5 - k2*k6 - k3*k5 - k3*k6    0   -k2 - k3]\n",
       "[                -k3*k5 - k3*k6   -1        -k3]\n",
       "[                -k2*k5 - k3*k5    0   -k2 - k3]"
      ]
     },
     "execution_count": 8,
     "metadata": {},
     "output_type": "execute_result"
    }
   ],
   "source": [
    "M"
   ]
  },
  {
   "cell_type": "markdown",
   "metadata": {},
   "source": [
    "**3) Denominators for $f_i$ expressed in terms of $g_i$'s:** We apply our home-made implementation of the multivariate division algorithm to each $f_i$ in the original system, and see that all denominators that appear in the quotient are nonzero."
   ]
  },
  {
   "cell_type": "code",
   "execution_count": 9,
   "metadata": {},
   "outputs": [
    {
     "data": {
      "text/plain": [
       "3-element Vector{AbstractAlgebra.Generic.MPoly{AbstractAlgebra.Generic.Frac{QQMPolyRingElem}}}:\n",
       " -1//(k2*k6 + k3*k6)\n",
       " k3//(k2 + k3)\n",
       " k5//(k2*k6 + k3*k6)"
      ]
     },
     "metadata": {},
     "output_type": "display_data"
    },
    {
     "data": {
      "text/plain": [
       "3-element Vector{AbstractAlgebra.Generic.MPoly{AbstractAlgebra.Generic.Frac{QQMPolyRingElem}}}:\n",
       " 0\n",
       " -1\n",
       " 0"
      ]
     },
     "metadata": {},
     "output_type": "display_data"
    },
    {
     "data": {
      "text/plain": [
       "3-element Vector{AbstractAlgebra.Generic.MPoly{AbstractAlgebra.Generic.Frac{QQMPolyRingElem}}}:\n",
       " 1//(k2*k6 + k3*k6)\n",
       " 0\n",
       " (-k5 - k6)//(k2*k6 + k3*k6)"
      ]
     },
     "metadata": {},
     "output_type": "display_data"
    }
   ],
   "source": [
    "# Loop through all polynomials f\n",
    "for f in F\n",
    "    Q,r = multivariate_division(f, elements(G), ordering=lex(R))\n",
    "    display(Q)\n",
    "end"
   ]
  },
  {
   "cell_type": "code",
   "execution_count": 10,
   "metadata": {},
   "outputs": [
    {
     "data": {
      "text/plain": [
       "[-1//(k2*k6 + k3*k6)   k3//(k2 + k3)   k5//(k2*k6 + k3*k6)]"
      ]
     },
     "metadata": {},
     "output_type": "display_data"
    },
    {
     "data": {
      "text/plain": [
       "[0   -1   0]"
      ]
     },
     "metadata": {},
     "output_type": "display_data"
    },
    {
     "data": {
      "text/plain": [
       "[1//(k2*k6 + k3*k6)   0   (-k5 - k6)//(k2*k6 + k3*k6)]"
      ]
     },
     "metadata": {},
     "output_type": "display_data"
    }
   ],
   "source": [
    "# Alternatively, use the built-in command reduce_with_quotients\n",
    "for f in F\n",
    "    Q,r = reduce_with_quotients(f, elements(G), ordering=lex(R))\n",
    "    display(Q)\n",
    "end"
   ]
  },
  {
   "cell_type": "markdown",
   "metadata": {},
   "source": [
    "### Part (a)"
   ]
  },
  {
   "cell_type": "markdown",
   "metadata": {},
   "source": [
    "If we look carefully at the Gröbner basis we found above, the first polynomial describes how $x_1$ and $x_2$ are related. There is also a factor $x_3$ in both terms, but since we're only interested in solutions where $x_1,x_2,x_3,x_4,x_5>$, we can safely divide by this factor, and get a polynomial\n",
    "\n",
    "$p=(k_2k_4k_6 + k_3k_4k_6)x_2 + (-k_1k_3k_5 - k_1k_3k_6)x_1$\n",
    "\n",
    "that vanishes for all positive solutions. Geometrically, it means that for any positive solution $(x_1,x_2,x_3,x_4,x_5,x_6)$ of the system, the pair $(x_1,x_2)$ lies on a line in $\\RR^2$ through the origin."
   ]
  },
  {
   "cell_type": "code",
   "execution_count": 11,
   "metadata": {},
   "outputs": [
    {
     "data": {
      "text/plain": [
       "Gröbner basis with elements\n",
       "1 -> (k2*k4*k6 + k3*k4*k6)*x3*x2 + (-k1*k3*k5 - k1*k3*k6)*x3*x1\n",
       "2 -> (k2 + k3)*x4 - k1*x3*x1\n",
       "3 -> (k2*k6 + k3*k6)*x5 - k1*k3*x3*x1\n",
       "with respect to the ordering\n",
       "lex([x5, x4, x3, x2, x1])"
      ]
     },
     "execution_count": 11,
     "metadata": {},
     "output_type": "execute_result"
    }
   ],
   "source": [
    "G"
   ]
  },
  {
   "cell_type": "code",
   "execution_count": 12,
   "metadata": {},
   "outputs": [
    {
     "data": {
      "text/plain": [
       "(k2*k4*k6 + k3*k4*k6)*x2 + (-k1*k3*k5 - k1*k3*k6)*x1"
      ]
     },
     "execution_count": 12,
     "metadata": {},
     "output_type": "execute_result"
    }
   ],
   "source": [
    "p = (1//x3)*G[1]"
   ]
  },
  {
   "cell_type": "markdown",
   "metadata": {},
   "source": [
    "### Part (b)"
   ]
  },
  {
   "cell_type": "markdown",
   "metadata": {},
   "source": [
    "Here is one possible strategy:\n",
    "* Make several experiments with constant environmental factors (such as temperature), so that the unknown values of $k_1,\\ldots,k_6$ stay constant, but different total concentrations. In all cases, allow the system to reach equilibrium, and then measure the concentrations $(x_1,x_2)$.\n",
    "* Plot your observations of $(x_1,x_2)$ in $\\mathbb{R}^2$, and check whether they seem to approximately lie on a straight line through the origin (you can use the statistical theory of linear regression or tools such as singular value decomposition to make this check more systematic).\n",
    "* Repeat the analysis above at different environmental conditions, and check whether thre data still ends up lying on straight lines (but with different slopes)."
   ]
  },
  {
   "cell_type": "markdown",
   "metadata": {},
   "source": [
    "<div class=\"alert alert-block alert-info\"> <strong>Read more:</strong> The idea explored in this exercise is the foundation for a method for model selection presented in the paper <a href=\"https://www.ncbi.nlm.nih.gov/pmc/articles/PMC2599844/\">The Geometry of Multisite Phosphorylation</a> by Manrai and Gunawardena (2008), and further explored in <a href=\"https://www.pnas.org/doi/epdf/10.1073/pnas.1117073109\">Parameter-free model discrimination criterion based on steady-state coplanarity</a> by Harrington, Ho, Thorne, and Stumpf (2012). </div>"
   ]
  }
 ],
 "metadata": {
  "kernelspec": {
   "display_name": "Julia 1.9.4",
   "language": "julia",
   "name": "julia-1.9"
  },
  "language_info": {
   "file_extension": ".jl",
   "mimetype": "application/julia",
   "name": "julia",
   "version": "1.9.4"
  }
 },
 "nbformat": 4,
 "nbformat_minor": 4
}
