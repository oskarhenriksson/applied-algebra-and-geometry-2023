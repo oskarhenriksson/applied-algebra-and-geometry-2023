{
 "cells": [
  {
   "cell_type": "markdown",
   "metadata": {},
   "source": [
    "## Suggested solution for Exercise 4 (Overdetermined systems)"
   ]
  },
  {
   "cell_type": "code",
   "execution_count": 1,
   "metadata": {},
   "outputs": [],
   "source": [
    "using HomotopyContinuation"
   ]
  },
  {
   "cell_type": "markdown",
   "metadata": {},
   "source": [
    "Suppose that we want to solve a system $F\\in(\\mathbb{C}[x_1,\\ldots,x_n])^m$ that is overdetermined, in the sense that $m>n$ (i.e., we have more polynomials than variables).\n",
    "\n",
    "**Problem:** Solving the Davidenko ODEs relies on inverting the Jacobian. In particular, the Jacobian needs to be a square matrix, which only happens if the number of equations equals the number of variables.\n",
    "\n",
    "**Strategy:** Turn $F\\in\\mathbb{C}[x_1,\\ldots,x_n]^m$ into a square system $AF$ consisting of **$n$ random linear combinations** of these $m$ equations, by multiplying by a random matrix $A\\in\\mathbb{C}^{n\\times m}$. Then it is an easy (but good!) exercise to prove that \n",
    "$$\\mathbb{V}(F)\\subseteq\\mathbb{V}(AF).$$ \n",
    "\n",
    "The idea is now to solve the square system $AF$, and then manually check which solutions actually correspond to solutions of $F$.\n",
    "\n",
    "The solutions in the complement $\\mathbb{V}(AF)\\setminus\\mathbb{V}(F)$ are often referred to as **excess solutions**.\n",
    "\n",
    "Let's try this on the system given in the exericse:\n",
    "$$\\begin{cases}xz - y^2=0\\\\y - z^2=0\\\\x - yz=0\\\\x + y + z + 1=0\\,.\\end{cases}$$"
   ]
  },
  {
   "cell_type": "markdown",
   "metadata": {},
   "source": [
    "We begin by picking a random matrix $A\\in\\mathbb{C}^{3\\times 4}$ that we use to obtain the square system."
   ]
  },
  {
   "cell_type": "code",
   "execution_count": 2,
   "metadata": {},
   "outputs": [
    {
     "data": {
      "text/plain": [
       "3×4 Matrix{ComplexF64}:\n",
       " 0.556541+0.837129im   0.174406+0.526931im  …  0.274991+0.0012499im\n",
       " 0.592238+0.98001im     0.52878+0.455215im     0.359087+0.898572im\n",
       " 0.255969+0.0773359im  0.771346+0.787903im      0.73441+0.594359im"
      ]
     },
     "execution_count": 2,
     "metadata": {},
     "output_type": "execute_result"
    }
   ],
   "source": [
    "A = rand(ComplexF64,3,4)"
   ]
  },
  {
   "cell_type": "code",
   "execution_count": 3,
   "metadata": {},
   "outputs": [
    {
     "data": {
      "text/plain": [
       "3-element Vector{Expression}:\n",
       " (0.862307462055588 + 0.184646495828475*im)*(x - y*z) + (0.174405942303428 + 0.526930936537934*im)*(y - z^2) + (0.556541190993669 + 0.837129019573366*im)*(x*z - y^2) + (0.274990941857691 + 0.00124990199725716*im)*(1 + x + y + z)\n",
       "  (0.180878544799798 + 0.0547412174637316*im)*(x - y*z) + (0.528779697207441 + 0.455215389593886*im)*(y - z^2) + (0.592237837450734 + 0.980010082357406*im)*(x*z - y^2) + (0.359087030921866 + 0.898571666419979*im)*(1 + x + y + z)\n",
       "    (0.241855092010244 + 0.0345666077362697*im)*(x - y*z) + (0.771345652748755 + 0.787902900682577*im)*(y - z^2) + (0.25596929014447 + 0.0773358777619587*im)*(x*z - y^2) + (0.73441010097868 + 0.59435854860755*im)*(1 + x + y + z)"
      ]
     },
     "execution_count": 3,
     "metadata": {},
     "output_type": "execute_result"
    }
   ],
   "source": [
    "@var x y z\n",
    "original_polynomials = [x*z - y^2, y - z^2, x - y*z, x + y + z + 1]\n",
    "\n",
    "new_polynomials = A * original_polynomials"
   ]
  },
  {
   "cell_type": "code",
   "execution_count": 4,
   "metadata": {},
   "outputs": [
    {
     "name": "stdout",
     "output_type": "stream",
     "text": [
      "\r\u001b[32mTracking 8 paths... 100%|███████████████████████████████| Time: 0:00:04\u001b[39m\r\n",
      "\u001b[34m  # paths tracked:                  8\u001b[39m\r\n",
      "\u001b[34m  # non-singular solutions (real):  5 (1)\u001b[39m\r\n",
      "\u001b[34m  # singular endpoints (real):      0 (0)\u001b[39m\r\n",
      "\u001b[34m  # total solutions (real):         5 (1)\u001b[39m\n"
     ]
    },
    {
     "data": {
      "text/plain": [
       "Result with 5 solutions\n",
       "=======================\n",
       "• 8 paths tracked\n",
       "• 5 non-singular solutions (1 real)\n",
       "• random_seed: 0xc16552b2\n",
       "• start_system: :total_degree\n"
      ]
     },
     "execution_count": 4,
     "metadata": {},
     "output_type": "execute_result"
    }
   ],
   "source": [
    "F_new = System(new_polynomials)\n",
    "res = solve(F_new, start_system = :total_degree)"
   ]
  },
  {
   "cell_type": "markdown",
   "metadata": {},
   "source": [
    "We then evaluate the original polynomials on all the solutions we found, and check if we get something that's almost equal to 0. "
   ]
  },
  {
   "cell_type": "code",
   "execution_count": 5,
   "metadata": {},
   "outputs": [
    {
     "name": "stdout",
     "output_type": "stream",
     "text": [
      "ComplexF64[0.0 + 2.44926024096423e-16im, 0.0 + 1.2246634778125917e-16im, -2.5037089277034066e-32 + 0.0im, 1.6678665238184613e-21 + 0.0im]\n",
      "2.738371114756794e-16\n",
      "\n",
      "ComplexF64[0.0 + 1.7542598697072487e-16im, 0.0 - 8.771299348536244e-17im, 0.0 + 0.0im, -3.4751686429372884e-17 + 0.0im]\n",
      "1.9918716284063495e-16\n",
      "\n",
      "ComplexF64[0.0 + 1.509149956910999e-238im, 0.0 + 2.4492935982947064e-16im, 0.0 - 1.8930723412682805e-238im, 0.0 - 1.509149956910999e-238im]\n",
      "2.4492935982947064e-16\n",
      "\n",
      "ComplexF64[4.267345559231888 - 2.398941486997309im, 2.9216000710931516 - 6.475092028411468im, -9.554440893326191 - 3.47687066499722im, -2.53879940436732 + 7.702445756586757im]\n",
      "15.606949272221698\n",
      "\n",
      "ComplexF64[-0.042406342263846465 - 0.2594669666611886im, -0.27282626945213606 - 0.26666881794152203im, -0.3514078738888608 + 0.417940429683292im, 0.3417942494531442 + 0.26996792700038885im]\n",
      "0.8381739220359488\n",
      "\n"
     ]
    }
   ],
   "source": [
    "for s in solutions(res)\n",
    "    value = evaluate(original_polynomials,[x,y,z]=>s)\n",
    "    println(value)\n",
    "    println(norm(value))\n",
    "    #println(norm(F(s)))\n",
    "    println()\n",
    "end"
   ]
  },
  {
   "cell_type": "markdown",
   "metadata": {},
   "source": [
    "**Conclusion:** Only three of the solutions make sense as solutions of the original system!"
   ]
  },
  {
   "cell_type": "markdown",
   "metadata": {},
   "source": [
    "### Alternatively: Just use solve directly!"
   ]
  },
  {
   "cell_type": "markdown",
   "metadata": {},
   "source": [
    "The easy solution is to just feed this to the `solve` command as usual. Then `HomotopyContinuation.jl` will take care of the randomization and checking for you!"
   ]
  },
  {
   "cell_type": "code",
   "execution_count": 6,
   "metadata": {},
   "outputs": [
    {
     "name": "stdout",
     "output_type": "stream",
     "text": [
      "\r\u001b[32mTracking 8 paths... 100%|███████████████████████████████| Time: 0:00:02\u001b[39m\r\n",
      "\u001b[34m  # paths tracked:                  8\u001b[39m\r\n",
      "\u001b[34m  # non-singular solutions (real):  3 (1)\u001b[39m\r\n",
      "\u001b[34m  # singular endpoints (real):      0 (0)\u001b[39m\r\n",
      "\u001b[34m  # total solutions (real):         3 (1)\u001b[39m\n"
     ]
    },
    {
     "data": {
      "text/plain": [
       "Result with 3 solutions\n",
       "=======================\n",
       "• 8 paths tracked\n",
       "• 3 non-singular solutions (1 real)\n",
       "• 2 excess solutions\n",
       "• random_seed: 0xeda808b8\n",
       "• start_system: :total_degree\n"
      ]
     },
     "execution_count": 6,
     "metadata": {},
     "output_type": "execute_result"
    }
   ],
   "source": [
    "@var x y z\n",
    "original_polynomials = [x*z - y^2, y - z^2, x - y*z, x + y + z + 1]\n",
    "F = System(original_polynomials)\n",
    "res = solve(F, start_system = :total_degree)"
   ]
  },
  {
   "cell_type": "markdown",
   "metadata": {},
   "source": [
    "**Note:** Certification won't work for nonsquare systems. This is because it relies on Newton's method, where, again, we invert a Jacobian."
   ]
  },
  {
   "cell_type": "code",
   "execution_count": 7,
   "metadata": {},
   "outputs": [],
   "source": [
    "#certify(F,solutions(res))"
   ]
  }
 ],
 "metadata": {
  "kernelspec": {
   "display_name": "Julia 1.9.4",
   "language": "julia",
   "name": "julia-1.9"
  },
  "language_info": {
   "file_extension": ".jl",
   "mimetype": "application/julia",
   "name": "julia",
   "version": "1.9.4"
  }
 },
 "nbformat": 4,
 "nbformat_minor": 2
}
