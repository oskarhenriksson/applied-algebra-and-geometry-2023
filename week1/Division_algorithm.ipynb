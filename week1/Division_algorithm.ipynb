{
 "cells": [
  {
   "cell_type": "markdown",
   "metadata": {},
   "source": [
    "*In this notebook, we will start to learn how to deal with polynomials in Oscar, and in particular, how do carry out polynomial division.*"
   ]
  },
  {
   "cell_type": "code",
   "execution_count": 1,
   "metadata": {},
   "outputs": [
    {
     "name": "stdout",
     "output_type": "stream",
     "text": [
      " -----    -----    -----      -      -----   \n",
      "|     |  |     |  |     |    | |    |     |  \n",
      "|     |  |        |         |   |   |     |  \n",
      "|     |   -----   |        |     |  |-----   \n",
      "|     |        |  |        |-----|  |   |    \n",
      "|     |  |     |  |     |  |     |  |    |   \n",
      " -----    -----    -----   -     -  -     -  \n",
      "\n",
      "...combining (and extending) ANTIC, GAP, Polymake and Singular\n",
      "Version\u001b[32m 0.13.0 \u001b[39m... \n",
      " ... which comes with absolutely no warranty whatsoever\n",
      "Type: '?Oscar' for more information\n",
      "(c) 2019-2023 by The OSCAR Development Team\n"
     ]
    }
   ],
   "source": [
    "using Oscar"
   ]
  },
  {
   "cell_type": "markdown",
   "metadata": {},
   "source": [
    "## Polynomials in Oscar"
   ]
  },
  {
   "cell_type": "markdown",
   "metadata": {},
   "source": [
    "The first step for doing polynomial algebra in Oscar is always to specify the **polynomial ring** we will work in.\n",
    "\n",
    "<div class=\"alert alert-block alert-info\">\n",
    "    <strong>Note:</strong> Contrary to what we said in a previous version of this notebook, we recommend that you <strong>don't</strong> specify any monomial ordering when you define a polynomial ring. \n",
    "    This is because many Oscar functions (e.g., <code>leading_term</code>) simply ignore orderings defined on rings, and instead require that you give the ordering as an input.\n",
    "</div>"
   ]
  },
  {
   "cell_type": "markdown",
   "metadata": {},
   "source": [
    "### Example 1: Indexed variables"
   ]
  },
  {
   "cell_type": "markdown",
   "metadata": {},
   "source": [
    "If we want the polynomial ring $S=\\mathbb{Z}[z_1,\\ldots,z_5]$, and a polynomial $g= 3z_{1}z_{2}^2+5z_{3}z_{4}z_{5}^2\\in S$, we write the following:"
   ]
  },
  {
   "cell_type": "code",
   "execution_count": 2,
   "metadata": {},
   "outputs": [
    {
     "data": {
      "text/plain": [
       "(Multivariate polynomial ring in 5 variables over ZZ, ZZMPolyRingElem[z_{1}, z_{2}, z_{3}, z_{4}, z_{5}])"
      ]
     },
     "execution_count": 2,
     "metadata": {},
     "output_type": "execute_result"
    }
   ],
   "source": [
    "S, z = polynomial_ring(ZZ, \"z\"=>1:5)"
   ]
  },
  {
   "cell_type": "code",
   "execution_count": 3,
   "metadata": {},
   "outputs": [
    {
     "data": {
      "text/plain": [
       "3*z_{1}*z_{2}^2 + 5*z_{3}*z_{4}*z_{5}^2"
      ]
     },
     "execution_count": 3,
     "metadata": {},
     "output_type": "execute_result"
    }
   ],
   "source": [
    "g = 3*z[1]*z[2]^2 + 5*z[3]*z[4]*z[5]^2"
   ]
  },
  {
   "cell_type": "code",
   "execution_count": 4,
   "metadata": {},
   "outputs": [
    {
     "data": {
      "text/plain": [
       "17"
      ]
     },
     "execution_count": 4,
     "metadata": {},
     "output_type": "execute_result"
    }
   ],
   "source": [
    "g(1,2,1,1,1)"
   ]
  },
  {
   "cell_type": "markdown",
   "metadata": {},
   "source": [
    "### Example 2: Named variables"
   ]
  },
  {
   "cell_type": "markdown",
   "metadata": {},
   "source": [
    "In the rest of the notebook, we will work in the polynomial ring $R=\\mathbb{Q}[x,y]$, and the polynomial $f=x^2 + xy^2 + y$."
   ]
  },
  {
   "cell_type": "code",
   "execution_count": 5,
   "metadata": {},
   "outputs": [
    {
     "data": {
      "text/plain": [
       "(Multivariate polynomial ring in 2 variables over QQ, QQMPolyRingElem[x, y])"
      ]
     },
     "execution_count": 5,
     "metadata": {},
     "output_type": "execute_result"
    }
   ],
   "source": [
    "R, (x,y) = polynomial_ring(QQ, [\"x\",\"y\"])"
   ]
  },
  {
   "cell_type": "code",
   "execution_count": 6,
   "metadata": {
    "scrolled": true
   },
   "outputs": [
    {
     "data": {
      "text/plain": [
       "x^2 + x*y^2 + y"
      ]
     },
     "execution_count": 6,
     "metadata": {},
     "output_type": "execute_result"
    }
   ],
   "source": [
    "f = x^2 + x*y^2 + y"
   ]
  },
  {
   "cell_type": "code",
   "execution_count": 7,
   "metadata": {},
   "outputs": [
    {
     "data": {
      "text/plain": [
       "7"
      ]
     },
     "execution_count": 7,
     "metadata": {},
     "output_type": "execute_result"
    }
   ],
   "source": [
    "f(1,2)"
   ]
  },
  {
   "cell_type": "markdown",
   "metadata": {},
   "source": [
    "## Leading terms"
   ]
  },
  {
   "cell_type": "markdown",
   "metadata": {},
   "source": [
    "We obtain the **leading term**, **leading monomial** and **leading coefficient** of a polynomial $f\\in k[x_1,\\ldots,x_n]$ with the following commands.\n",
    "\n",
    "Note that we need to specify with respect to what **monomial order** on our ring we want to do this.\n",
    "\n",
    "Some examples of monomial orderings that we can put on $R=k[x_1,\\ldots,x_n]$ are the following:\n",
    "\n",
    "- `lex(R)` (lexicographic ordering, $<_\\text{lex}$)\n",
    "- `deglex(R)`(graded lexicographic ordering, $<_\\text{grlex}$)\n",
    "- `degrevlex(R)`(graded lexicographic ordering, $<_\\text{grevlex}$)\n",
    "- `matrix_ordering(R,M)` (the matrix ordering $<_M$ from Exercise 8, for some real-valued matrix $M$ with $n$ columns)\n",
    "\n",
    "<div class=\"alert alert-block alert-info\">\n",
    "<strong>Cool fact:</strong> Robbiano proved in his paper <em>Term orderings on the polynomial ring</em> (EUROCAL, 1985) that any monomial order can be realized as $<_M$ for some appropriately chosen matrix $M$.\n",
    "</div>\n",
    "  "
   ]
  },
  {
   "cell_type": "code",
   "execution_count": 8,
   "metadata": {},
   "outputs": [
    {
     "data": {
      "text/plain": [
       "x^2 + x*y^2 + y"
      ]
     },
     "execution_count": 8,
     "metadata": {},
     "output_type": "execute_result"
    }
   ],
   "source": [
    "f"
   ]
  },
  {
   "cell_type": "code",
   "execution_count": 9,
   "metadata": {},
   "outputs": [
    {
     "data": {
      "text/plain": [
       "x^2"
      ]
     },
     "execution_count": 9,
     "metadata": {},
     "output_type": "execute_result"
    }
   ],
   "source": [
    "leading_term(f, ordering=lex(R))"
   ]
  },
  {
   "cell_type": "code",
   "execution_count": 10,
   "metadata": {},
   "outputs": [
    {
     "data": {
      "text/plain": [
       "x*y^2"
      ]
     },
     "execution_count": 10,
     "metadata": {},
     "output_type": "execute_result"
    }
   ],
   "source": [
    "leading_term(f, ordering=deglex(R))"
   ]
  },
  {
   "cell_type": "code",
   "execution_count": 11,
   "metadata": {},
   "outputs": [
    {
     "data": {
      "text/plain": [
       "x*y^2"
      ]
     },
     "execution_count": 11,
     "metadata": {},
     "output_type": "execute_result"
    }
   ],
   "source": [
    "leading_term(f, ordering=degrevlex(R))"
   ]
  },
  {
   "cell_type": "code",
   "execution_count": 12,
   "metadata": {},
   "outputs": [
    {
     "data": {
      "text/plain": [
       "x*y^2"
      ]
     },
     "execution_count": 12,
     "metadata": {},
     "output_type": "execute_result"
    }
   ],
   "source": [
    "M = [1 1;2 1];\n",
    "leading_term(f, ordering=matrix_ordering(R,M))"
   ]
  },
  {
   "cell_type": "markdown",
   "metadata": {},
   "source": [
    "## The multivariate division algorithm"
   ]
  },
  {
   "cell_type": "markdown",
   "metadata": {},
   "source": [
    "<div class=\"alert alert-block alert-info\">\n",
    "<strong>Warning:</strong> In a previous version of this notebook we recommended the Oscar function <code>divrem</code> for multivariate divison, which has the unusual property that the user cannot supply a monomial order as input. Instead, the monomial order needs to be defined <strong>already when the ring is defined</strong>. Since this is inconvenient and easilly causes confusion, we recommend that you don't use <code>divrem</code>.\n",
    "</div>\n",
    "\n",
    "Instead of using `divrem`, we here write our own implementation of the pseudocode for the multivariate polynomial division given on the exercise sheet. \n",
    "\n",
    "Feel free to copy and paste this into other notebooks if you end up needing multivariate polynomial division for something else.\n",
    "\n",
    "*Note:* This code is quite a bit more complicated than what we expect you to be able to produce yourself, so don't worry if you don't understand all the details. But try at least to compare the overall structure to the pseudocode from the exercise sheet."
   ]
  },
  {
   "cell_type": "code",
   "execution_count": 13,
   "metadata": {},
   "outputs": [],
   "source": [
    "function multivariate_division(f::MPolyRingElem, F::Vector{<:MPolyRingElem}; ordering::MonomialOrdering)\n",
    "    LT = (h -> leading_term(h,ordering=ordering))\n",
    "    s = length(F)\n",
    "    Q = [zero(parent(f)) for i=1:s]\n",
    "    r = 0\n",
    "    p = f\n",
    "    while p != 0\n",
    "        division_occured = false\n",
    "        for i = 1:s\n",
    "            division_occured, quotient = divides( LT(p), LT(F[i]) )\n",
    "            if division_occured \n",
    "                Q[i] = Q[i] + quotient\n",
    "                p = p - quotient*F[i]\n",
    "                break\n",
    "            end\n",
    "        end\n",
    "        if !(division_occured)\n",
    "            r = r + LT(p)\n",
    "            p = p - LT(p)\n",
    "        end\n",
    "    end\n",
    "    return Q,r\n",
    "end;"
   ]
  },
  {
   "cell_type": "markdown",
   "metadata": {},
   "source": [
    "## Example of multivariate division"
   ]
  },
  {
   "cell_type": "markdown",
   "metadata": {},
   "source": [
    "Let's keep our polynomial $f$ from before, and suppose that we want to divide it by the following tuple $F=(f_1,f_2)$:"
   ]
  },
  {
   "cell_type": "code",
   "execution_count": 14,
   "metadata": {},
   "outputs": [
    {
     "data": {
      "text/plain": [
       "x^2 + x*y^2 + y"
      ]
     },
     "execution_count": 14,
     "metadata": {},
     "output_type": "execute_result"
    }
   ],
   "source": [
    "f"
   ]
  },
  {
   "cell_type": "code",
   "execution_count": 15,
   "metadata": {},
   "outputs": [
    {
     "data": {
      "text/plain": [
       "2-element Vector{QQMPolyRingElem}:\n",
       " x*y + x\n",
       " x + y"
      ]
     },
     "execution_count": 15,
     "metadata": {},
     "output_type": "execute_result"
    }
   ],
   "source": [
    "f1 = x + x*y\n",
    "f2 = x+y\n",
    "F = [f1,f2]"
   ]
  },
  {
   "cell_type": "code",
   "execution_count": 16,
   "metadata": {
    "scrolled": true
   },
   "outputs": [
    {
     "data": {
      "text/plain": [
       "(QQMPolyRingElem[y - 2, x + 2], -y)"
      ]
     },
     "execution_count": 16,
     "metadata": {},
     "output_type": "execute_result"
    }
   ],
   "source": [
    "Q,r = multivariate_division(f, [f1,f2], ordering = lex(R))"
   ]
  },
  {
   "cell_type": "markdown",
   "metadata": {},
   "source": [
    "The quotient is this following vector:"
   ]
  },
  {
   "cell_type": "code",
   "execution_count": 17,
   "metadata": {},
   "outputs": [
    {
     "data": {
      "text/plain": [
       "2-element Vector{QQMPolyRingElem}:\n",
       " y - 2\n",
       " x + 2"
      ]
     },
     "execution_count": 17,
     "metadata": {},
     "output_type": "execute_result"
    }
   ],
   "source": [
    "Q"
   ]
  },
  {
   "cell_type": "markdown",
   "metadata": {},
   "source": [
    "The remainder is the following polynomial:"
   ]
  },
  {
   "cell_type": "code",
   "execution_count": 18,
   "metadata": {},
   "outputs": [
    {
     "data": {
      "text/plain": [
       "-y"
      ]
     },
     "execution_count": 18,
     "metadata": {},
     "output_type": "execute_result"
    }
   ],
   "source": [
    "r"
   ]
  },
  {
   "cell_type": "markdown",
   "metadata": {},
   "source": [
    "Let's double-check that the ouput is correct, in the sense that $f=Q\\bullet F+r$."
   ]
  },
  {
   "cell_type": "code",
   "execution_count": 19,
   "metadata": {
    "scrolled": true
   },
   "outputs": [
    {
     "data": {
      "text/plain": [
       "0"
      ]
     },
     "execution_count": 19,
     "metadata": {},
     "output_type": "execute_result"
    }
   ],
   "source": [
    "dot(Q,F) + r - f"
   ]
  },
  {
   "cell_type": "markdown",
   "metadata": {},
   "source": [
    "## (Coefficients and monomials)"
   ]
  },
  {
   "cell_type": "markdown",
   "metadata": {},
   "source": [
    "This is not needed for the exercise session in Week 1, but it's still good to know about.\n",
    "\n",
    "The functions `coefficients()` and `monomials()` extract the **coefficients** and the **monomials** of a polynomial. \n",
    "\n",
    "**Note:** The output of these functions are *iterators*. To turn them into list, one can use the function `collect()`. You can also acess the values in an iterator through a for loop.\n"
   ]
  },
  {
   "cell_type": "markdown",
   "metadata": {},
   "source": [
    "<div class=\"alert alert-block alert-info\">\n",
    "<strong>Also note:</strong> Julia automatically prints the output of the last command run in a cell (unless this is supressed with <code>;</code>). \n",
    "If you want to print other outputs, you can use the commands <code>display</code> or <code>println</code> (\"ln\" stands for <em>line</em>, and means that the output is printed on a separate line).\n",
    "</div>"
   ]
  },
  {
   "cell_type": "code",
   "execution_count": 20,
   "metadata": {},
   "outputs": [
    {
     "data": {
      "text/plain": [
       "monomials iterator of x*y^2 + x^2 + y"
      ]
     },
     "execution_count": 20,
     "metadata": {},
     "output_type": "execute_result"
    }
   ],
   "source": [
    "monomials(f)"
   ]
  },
  {
   "cell_type": "code",
   "execution_count": 21,
   "metadata": {},
   "outputs": [
    {
     "data": {
      "text/plain": [
       "3-element Vector{QQMPolyRingElem}:\n",
       " x*y^2\n",
       " x^2\n",
       " y"
      ]
     },
     "execution_count": 21,
     "metadata": {},
     "output_type": "execute_result"
    }
   ],
   "source": [
    "M = collect(monomials(f))"
   ]
  },
  {
   "cell_type": "code",
   "execution_count": 22,
   "metadata": {},
   "outputs": [
    {
     "data": {
      "text/plain": [
       "x*y^2"
      ]
     },
     "execution_count": 22,
     "metadata": {},
     "output_type": "execute_result"
    }
   ],
   "source": [
    "M[1]"
   ]
  },
  {
   "cell_type": "code",
   "execution_count": 23,
   "metadata": {},
   "outputs": [
    {
     "data": {
      "text/plain": [
       "x^2"
      ]
     },
     "execution_count": 23,
     "metadata": {},
     "output_type": "execute_result"
    }
   ],
   "source": [
    "M[2]"
   ]
  },
  {
   "cell_type": "code",
   "execution_count": 24,
   "metadata": {},
   "outputs": [
    {
     "data": {
      "text/plain": [
       "y"
      ]
     },
     "execution_count": 24,
     "metadata": {},
     "output_type": "execute_result"
    }
   ],
   "source": [
    "M[3]"
   ]
  },
  {
   "cell_type": "code",
   "execution_count": 25,
   "metadata": {},
   "outputs": [
    {
     "name": "stdout",
     "output_type": "stream",
     "text": [
      "x*y^2\n",
      "x^2\n",
      "y\n"
     ]
    }
   ],
   "source": [
    "for a in monomials(f)\n",
    "    println(a)\n",
    "end    "
   ]
  },
  {
   "cell_type": "code",
   "execution_count": 26,
   "metadata": {},
   "outputs": [
    {
     "data": {
      "text/plain": [
       "3-element Vector{QQFieldElem}:\n",
       " 1\n",
       " 1\n",
       " 1"
      ]
     },
     "execution_count": 26,
     "metadata": {},
     "output_type": "execute_result"
    }
   ],
   "source": [
    "C = collect(coefficients(f))"
   ]
  },
  {
   "cell_type": "markdown",
   "metadata": {},
   "source": [
    "We can reconstruct our polynomial from the coefficients and monomials as follows:"
   ]
  },
  {
   "cell_type": "code",
   "execution_count": 27,
   "metadata": {},
   "outputs": [
    {
     "data": {
      "text/plain": [
       "x^2 + x*y^2 + y"
      ]
     },
     "execution_count": 27,
     "metadata": {},
     "output_type": "execute_result"
    }
   ],
   "source": [
    "sum([C[i]*M[i] for i=1:length(C)])"
   ]
  },
  {
   "cell_type": "markdown",
   "metadata": {},
   "source": [
    "We can also use a dot product, like this:"
   ]
  },
  {
   "cell_type": "code",
   "execution_count": 28,
   "metadata": {},
   "outputs": [
    {
     "data": {
      "text/plain": [
       "x^2 + x*y^2 + y"
      ]
     },
     "execution_count": 28,
     "metadata": {},
     "output_type": "execute_result"
    }
   ],
   "source": [
    "dot(C,M)"
   ]
  }
 ],
 "metadata": {
  "kernelspec": {
   "display_name": "Julia 1.9.4",
   "language": "julia",
   "name": "julia-1.9"
  },
  "language_info": {
   "file_extension": ".jl",
   "mimetype": "application/julia",
   "name": "julia",
   "version": "1.9.4"
  }
 },
 "nbformat": 4,
 "nbformat_minor": 4
}
