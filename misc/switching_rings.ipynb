{
 "cells": [
  {
   "cell_type": "markdown",
   "metadata": {},
   "source": [
    "# Switching rings in Oscar"
   ]
  },
  {
   "cell_type": "markdown",
   "metadata": {},
   "source": [
    "Sometimes we encounter situations where a polynomial can be thought of as living in two different ring than where it was originally defined. The key tool for dealing with this situation in `Oscar` is the `hom` command, which is used for creating **algebra homomorphisms** between polynomial rings. \n",
    "\n",
    "In this notebook,  we will show how do use it for the following two scenarios:\n",
    "1. We have a $f\\in\\mathbb{Q}[x,y,z]$ that only involves the variables $x$ and $y$, and would like to view it as an element of $\\mathbb{Q}[x,y]$.\n",
    "2. We  have a polynomial $f\\in \\mathbb{Q}[x,y,z]$ that we would like to view as a polymomial in $(\\mathbb{Q}[x,y])[z]$ (i.e., as a univariate polynomial in $z$, with coefficients in $\\mathbb{Q}[x,y]$)."
   ]
  },
  {
   "cell_type": "code",
   "execution_count": 1,
   "metadata": {},
   "outputs": [
    {
     "name": "stdout",
     "output_type": "stream",
     "text": [
      " -----    -----    -----      -      -----   \n",
      "|     |  |     |  |     |    | |    |     |  \n",
      "|     |  |        |         |   |   |     |  \n",
      "|     |   -----   |        |     |  |-----   \n",
      "|     |        |  |        |-----|  |   |    \n",
      "|     |  |     |  |     |  |     |  |    |   \n",
      " -----    -----    -----   -     -  -     -  \n",
      "\n",
      "...combining (and extending) ANTIC, GAP, Polymake and Singular\n",
      "Version\u001b[32m 0.13.0 \u001b[39m... \n",
      " ... which comes with absolutely no warranty whatsoever\n",
      "Type: '?Oscar' for more information\n",
      "(c) 2019-2023 by The OSCAR Development Team\n"
     ]
    }
   ],
   "source": [
    "using Oscar"
   ]
  },
  {
   "cell_type": "markdown",
   "metadata": {},
   "source": [
    "### View a polynomial as a polynomial in less variables"
   ]
  },
  {
   "cell_type": "markdown",
   "metadata": {},
   "source": [
    "Consider the polynomial $f=x^2+2xy+1\\in\\mathbb{Q}[x,y,z]:=R$. Since it only involves two of the variables, it might be convenient to think of it as a polynomial in two variables. In our normal mathematical lives, we can just devide to think of it as an element of the subring $\\mathbb{Q}[x,y]\\subset \\mathbb{Q}[x,y,z]$, but in `Oscar`, we need to be completely explicit about it.\n",
    "\n",
    "**Key trick:** Create a new polynomial ring in two variables $S:=\\mathbb{Q}[u,v]$ and apply the following algebra homomorphism to $f$: $$\\varphi\\colon\\mathbb{Q}[x,y,z]\\to\\mathbb{Q}[u,v],\\quad x\\mapsto u,\\:\\:y\\mapsto v,\\:\\:z\\mapsto 0\\,.$$"
   ]
  },
  {
   "cell_type": "code",
   "execution_count": 2,
   "metadata": {},
   "outputs": [
    {
     "data": {
      "text/plain": [
       "x^2 + 2*x*y + 1"
      ]
     },
     "execution_count": 2,
     "metadata": {},
     "output_type": "execute_result"
    }
   ],
   "source": [
    "R, (x,y,z) = polynomial_ring(QQ,[\"x\",\"y\",\"z\"])\n",
    "f = x^2 + 2*x*y + 1"
   ]
  },
  {
   "cell_type": "code",
   "execution_count": 3,
   "metadata": {},
   "outputs": [
    {
     "data": {
      "text/plain": [
       "Map with following data\n",
       "Domain:\n",
       "=======\n",
       "Multivariate polynomial ring in 3 variables over QQ\n",
       "Codomain:\n",
       "=========\n",
       "Multivariate polynomial ring in 2 variables over QQ"
      ]
     },
     "execution_count": 3,
     "metadata": {},
     "output_type": "execute_result"
    }
   ],
   "source": [
    "S, (u,v) = polynomial_ring(QQ,[\"u\",\"v\"])\n",
    "phi = hom(R,S,[u,v,0]) # maps x->u, y->v, z->0"
   ]
  },
  {
   "cell_type": "code",
   "execution_count": 4,
   "metadata": {},
   "outputs": [
    {
     "data": {
      "text/plain": [
       "u^2 + 2*u*v + 1"
      ]
     },
     "execution_count": 4,
     "metadata": {},
     "output_type": "execute_result"
    }
   ],
   "source": [
    "fnew = phi(f)"
   ]
  },
  {
   "cell_type": "code",
   "execution_count": 5,
   "metadata": {},
   "outputs": [
    {
     "data": {
      "text/plain": [
       "Multivariate polynomial ring in 3 variables x, y, z\n",
       "  over rational field"
      ]
     },
     "execution_count": 5,
     "metadata": {},
     "output_type": "execute_result"
    }
   ],
   "source": [
    "# Check that f lies in Q[x,y,z]\n",
    "parent(f)"
   ]
  },
  {
   "cell_type": "code",
   "execution_count": 6,
   "metadata": {},
   "outputs": [
    {
     "data": {
      "text/plain": [
       "Multivariate polynomial ring in 2 variables u, v\n",
       "  over rational field"
      ]
     },
     "execution_count": 6,
     "metadata": {},
     "output_type": "execute_result"
    }
   ],
   "source": [
    "# Check that fnew lies in Q[u,v]\n",
    "parent(fnew)"
   ]
  },
  {
   "cell_type": "markdown",
   "metadata": {},
   "source": [
    "### Special case: View a polynomial in a single variable"
   ]
  },
  {
   "cell_type": "markdown",
   "metadata": {},
   "source": [
    "If a polynomial only involves one of the variables, we might want to view it as a univariate polynomial. This can either be done as above, with the hom command, or by using the special command `to_univariate`"
   ]
  },
  {
   "cell_type": "code",
   "execution_count": 7,
   "metadata": {},
   "outputs": [
    {
     "data": {
      "text/plain": [
       "y^5 + 2*y + 3"
      ]
     },
     "execution_count": 7,
     "metadata": {},
     "output_type": "execute_result"
    }
   ],
   "source": [
    "R, (x,y,z) = polynomial_ring(QQ,[\"x\",\"y\",\"z\"])\n",
    "f = y^5 + 2*y + 3"
   ]
  },
  {
   "cell_type": "code",
   "execution_count": 8,
   "metadata": {},
   "outputs": [
    {
     "data": {
      "text/plain": [
       "t^5 + 2*t + 3"
      ]
     },
     "execution_count": 8,
     "metadata": {},
     "output_type": "execute_result"
    }
   ],
   "source": [
    "# Using the hom command\n",
    "S, t = polynomial_ring(QQ,\"t\")\n",
    "phi = hom(R,S,[0,t,0]) # maps x->0, y->t, z->0\n",
    "fnew = phi(f)\n"
   ]
  },
  {
   "cell_type": "code",
   "execution_count": 9,
   "metadata": {},
   "outputs": [
    {
     "data": {
      "text/plain": [
       "t^5 + 2*t + 3"
      ]
     },
     "execution_count": 9,
     "metadata": {},
     "output_type": "execute_result"
    }
   ],
   "source": [
    "# Using the to_univariate command\n",
    "S, t = polynomial_ring(QQ,\"t\")\n",
    "fnew = to_univariate(S,f)"
   ]
  },
  {
   "cell_type": "markdown",
   "metadata": {},
   "source": [
    "### Viewing some variables as coefficients"
   ]
  },
  {
   "cell_type": "markdown",
   "metadata": {},
   "source": [
    "Consider the polynomial $f=x^2z^3 + 2yz^3 + y^2z + 5xz + x\\in\\mathbb{Q}[x,y,z]=:R$, and that we want to view this as a univairate polynomial in $(\\mathbb{Q}[x,y])[z]$. In our daily mathematical lives, this is easy to do, but in `Oscar`, one has to be more explicit! \n",
    "\n",
    "One way to do it is to create a new cofficient ring $S:=\\mathbb{Q}[u,v]$, form the univariate polynomial ring $T:=S[t]=(\\mathbb{Q}[u,v])[t]$, and then consider the algebra homomorphism\n",
    "$$\\phi\\colon\\mathbb{Q}[x,y,z]\\to (\\mathbb{Q}[u,v])[t],\\quad x\\mapsto u,\\:\\: y\\mapsto v,\\:\\: z\\mapsto t\\,.$$"
   ]
  },
  {
   "cell_type": "code",
   "execution_count": 10,
   "metadata": {},
   "outputs": [
    {
     "data": {
      "text/plain": [
       "x^2*z^3 + 5*x*z + x + y^2*z + 2*y*z^3"
      ]
     },
     "execution_count": 10,
     "metadata": {},
     "output_type": "execute_result"
    }
   ],
   "source": [
    "R, (x,y,z) = polynomial_ring(QQ,[\"x\",\"y\",\"z\"]) \n",
    "f = f=x^2*z^3 + 2*y*z^3 + y^2*z + 5*x*z + x"
   ]
  },
  {
   "cell_type": "code",
   "execution_count": 11,
   "metadata": {},
   "outputs": [
    {
     "data": {
      "text/plain": [
       "(u^2 + 2*v)*t^3 + (5*u + v^2)*t + u"
      ]
     },
     "execution_count": 11,
     "metadata": {},
     "output_type": "execute_result"
    }
   ],
   "source": [
    "S, (u,v) = polynomial_ring(QQ,[\"u\",\"v\"])\n",
    "T, t = polynomial_ring(S,\"t\")\n",
    "phi = hom(R,T,[u,v,t]) #maps x->u, y->v, z->t\n",
    "fnew = phi(f)"
   ]
  }
 ],
 "metadata": {
  "kernelspec": {
   "display_name": "Julia 1.9.4",
   "language": "julia",
   "name": "julia-1.9"
  },
  "language_info": {
   "file_extension": ".jl",
   "mimetype": "application/julia",
   "name": "julia",
   "version": "1.9.4"
  }
 },
 "nbformat": 4,
 "nbformat_minor": 2
}
