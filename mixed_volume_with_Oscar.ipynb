{
 "cells": [
  {
   "cell_type": "markdown",
   "id": "62bf48a0",
   "metadata": {},
   "source": [
    "# Mixed volume computations with Oscar"
   ]
  },
  {
   "cell_type": "markdown",
   "id": "4bc1b757",
   "metadata": {},
   "source": [
    "There are many ways to compute mixed volumes for Oscar objects. Feel free to pick the one that feels most natural to you!"
   ]
  },
  {
   "cell_type": "code",
   "execution_count": 1,
   "id": "b0e3d3ba",
   "metadata": {},
   "outputs": [
    {
     "name": "stdout",
     "output_type": "stream",
     "text": [
      " -----    -----    -----      -      -----   \n",
      "|     |  |     |  |     |    | |    |     |  \n",
      "|     |  |        |         |   |   |     |  \n",
      "|     |   -----   |        |     |  |-----   \n",
      "|     |        |  |        |-----|  |   |    \n",
      "|     |  |     |  |     |  |     |  |    |   \n",
      " -----    -----    -----   -     -  -     -  \n",
      "\n",
      "...combining (and extending) ANTIC, GAP, Polymake and Singular\n",
      "Version\u001b[32m 0.13.0 \u001b[39m... \n",
      " ... which comes with absolutely no warranty whatsoever\n",
      "Type: '?Oscar' for more information\n",
      "(c) 2019-2023 by The OSCAR Development Team\n"
     ]
    }
   ],
   "source": [
    "using Oscar"
   ]
  },
  {
   "cell_type": "markdown",
   "id": "4621eff9",
   "metadata": {},
   "source": [
    "## Method 1: The inclusion-exclusion formula"
   ]
  },
  {
   "cell_type": "markdown",
   "id": "0fd98172",
   "metadata": {},
   "source": [
    "There is no immediately accessible Oscar function for computing mixed volumes. However, we can easilly write our own, by using the formula\n",
    "$$\\operatorname{MV}(P_1,\\ldots,P_n)=\\sum_{\\emptyset\\neq I\\subseteq\\{1,\\ldots,n\\}} (-1)^{n-|I|}\\operatorname{Vol}\\Big(\\sum_{i\\in I} P_i\\Big).$$\n",
    "This is by no means the fastest method for computing mixed volumes, but it will work well for most of our purposes."
   ]
  },
  {
   "cell_type": "code",
   "execution_count": 2,
   "id": "46462728",
   "metadata": {},
   "outputs": [
    {
     "data": {
      "text/plain": [
       "Polyhedron in ambient dimension 2"
      ]
     },
     "execution_count": 2,
     "metadata": {},
     "output_type": "execute_result"
    }
   ],
   "source": [
    "# Define the polytopes by their vertices (remember that the rows are interpreted as vertices)\n",
    "P = convex_hull([0 0; 1 0; 0 1])\n",
    "Q = convex_hull([0 0; 2 0; 0 2])"
   ]
  },
  {
   "cell_type": "code",
   "execution_count": 3,
   "id": "d1764872",
   "metadata": {},
   "outputs": [
    {
     "data": {
      "text/plain": [
       "1//2"
      ]
     },
     "execution_count": 3,
     "metadata": {},
     "output_type": "execute_result"
    }
   ],
   "source": [
    "volume(P)"
   ]
  },
  {
   "cell_type": "code",
   "execution_count": 4,
   "id": "ed20bc09",
   "metadata": {},
   "outputs": [
    {
     "data": {
      "text/plain": [
       "2"
      ]
     },
     "execution_count": 4,
     "metadata": {},
     "output_type": "execute_result"
    }
   ],
   "source": [
    "volume(P+Q)-volume(P)-volume(Q)"
   ]
  },
  {
   "cell_type": "markdown",
   "id": "a33a2389",
   "metadata": {},
   "source": [
    "**Coding trick:** It's often better to use the `import` command instead of the `using` command, if you only need one or a handful of functions from a package. (If you write `using`, you automatically load the whole package!)"
   ]
  },
  {
   "cell_type": "code",
   "execution_count": null,
   "id": "63b6a071",
   "metadata": {},
   "outputs": [],
   "source": [
    "import Combinatorics: powerset"
   ]
  },
  {
   "cell_type": "code",
   "execution_count": 5,
   "id": "1ca65970",
   "metadata": {},
   "outputs": [],
   "source": [
    "function my_mixed_volume(list_of_polytopes)\n",
    "    n = length(list_of_polytopes)\n",
    "    return sum([(-1)^(n-length(I))*volume(sum(list_of_polytopes[I])) for I in powerset(collect(1:n)) if !isempty(I)])\n",
    "end;"
   ]
  },
  {
   "cell_type": "code",
   "execution_count": 6,
   "id": "ed871a60",
   "metadata": {},
   "outputs": [
    {
     "data": {
      "text/plain": [
       "2"
      ]
     },
     "execution_count": 6,
     "metadata": {},
     "output_type": "execute_result"
    }
   ],
   "source": [
    "my_mixed_volume([P,Q])"
   ]
  },
  {
   "cell_type": "code",
   "execution_count": 7,
   "id": "6dcd07f5",
   "metadata": {},
   "outputs": [
    {
     "data": {
      "text/plain": [
       "2"
      ]
     },
     "execution_count": 7,
     "metadata": {},
     "output_type": "execute_result"
    }
   ],
   "source": [
    "R, (x,y) = polynomial_ring(QQ,[\"x\",\"y\"])\n",
    "f = 1 + x + y\n",
    "g = 1 + x^2 + y^2\n",
    "my_mixed_volume([newton_polytope(f),newton_polytope(g)])"
   ]
  },
  {
   "cell_type": "code",
   "execution_count": 8,
   "id": "52dd8b6e",
   "metadata": {},
   "outputs": [
    {
     "data": {
      "text/plain": [
       "2"
      ]
     },
     "execution_count": 8,
     "metadata": {},
     "output_type": "execute_result"
    }
   ],
   "source": [
    "F = [f,g]\n",
    "my_mixed_volume(newton_polytope.(F))"
   ]
  },
  {
   "cell_type": "markdown",
   "id": "736782ee",
   "metadata": {},
   "source": [
    "## Method 2: The Oscar interface to Polymake"
   ]
  },
  {
   "cell_type": "markdown",
   "id": "4a71d14b",
   "metadata": {},
   "source": [
    "Under the hood, Oscar has access to a very powerful software package for polyhedral geometry called Polymake, which in particular includes a fast mixed volume function. We can reach it from Oscar by calling `Polymake.polytope.mixed_volume`. For this to work, you also need to convert your polytopes to Polymake objects by writing `.pm_poltytope`."
   ]
  },
  {
   "cell_type": "code",
   "execution_count": null,
   "id": "7e31037b",
   "metadata": {},
   "outputs": [],
   "source": [
    "P.pm_polytope"
   ]
  },
  {
   "cell_type": "code",
   "execution_count": null,
   "id": "d71a4530",
   "metadata": {},
   "outputs": [],
   "source": [
    "Polymake.polytope.mixed_volume(P.pm_polytope,Q.pm_polytope)"
   ]
  },
  {
   "cell_type": "markdown",
   "id": "9efe12a0",
   "metadata": {},
   "source": [
    "## Method 3: The `mixed_volume` command from HC.jl"
   ]
  },
  {
   "cell_type": "markdown",
   "id": "102faab6",
   "metadata": {},
   "source": [
    "There is also a very fast function for computing mixed volumes in the HomotopyContinuation.jl package that we can use."
   ]
  },
  {
   "cell_type": "markdown",
   "id": "3c9a4ebd",
   "metadata": {},
   "source": [
    "**Warning:** Don't import all of the HomotopyContinuation.jl in a notebook where you are using Oscar! There will likely be lots of confusing conflicts.\n",
    "\n",
    "Intead, use the `import` command to only import the `mixed_volume` command from HomotopyContinuation.jl."
   ]
  },
  {
   "cell_type": "code",
   "execution_count": 9,
   "id": "e2e06f4f",
   "metadata": {},
   "outputs": [],
   "source": [
    "import HomotopyContinuation: mixed_volume"
   ]
  },
  {
   "cell_type": "markdown",
   "id": "827c2d55",
   "metadata": {},
   "source": [
    "There are a few things to be aware of:\n",
    "\n",
    "* This command wants a V-representation of the polytopes as input.\n",
    "* The V-representation should be in the form of an **integer matrix** where the **columns** correspond to the vertices.\n",
    "\n",
    "**Coding trick:** Use `...` to turn a list into a sequence. Combined with `hcat`, this can turn list of vectors into matrices."
   ]
  },
  {
   "cell_type": "code",
   "execution_count": 10,
   "id": "3b635d59",
   "metadata": {},
   "outputs": [
    {
     "data": {
      "text/plain": [
       "2×3 Matrix{Int64}:\n",
       " 0  1  0\n",
       " 0  0  1"
      ]
     },
     "execution_count": 10,
     "metadata": {},
     "output_type": "execute_result"
    }
   ],
   "source": [
    "# Example\n",
    "list_of_vectors = [[0,0],[1,0],[0,1]]\n",
    "hcat(list_of_vectors...)"
   ]
  },
  {
   "cell_type": "code",
   "execution_count": 11,
   "id": "85a70d91",
   "metadata": {},
   "outputs": [
    {
     "data": {
      "text/plain": [
       "3-element SubObjectIterator{PointVector{QQFieldElem}}:\n",
       " [0, 0]\n",
       " [1, 0]\n",
       " [0, 1]"
      ]
     },
     "execution_count": 11,
     "metadata": {},
     "output_type": "execute_result"
    }
   ],
   "source": [
    "vertices(P)"
   ]
  },
  {
   "cell_type": "code",
   "execution_count": 12,
   "id": "cd43a54c",
   "metadata": {},
   "outputs": [],
   "source": [
    "# Converts a rational vector to an integer vector\n",
    "integer_vector = v -> Int.(Vector(v));"
   ]
  },
  {
   "cell_type": "code",
   "execution_count": 13,
   "id": "c40a5f21",
   "metadata": {},
   "outputs": [
    {
     "data": {
      "text/plain": [
       "3-element Vector{Vector{Int64}}:\n",
       " [0, 0]\n",
       " [1, 0]\n",
       " [0, 1]"
      ]
     },
     "execution_count": 13,
     "metadata": {},
     "output_type": "execute_result"
    }
   ],
   "source": [
    "integer_vector.(vertices(P))"
   ]
  },
  {
   "cell_type": "code",
   "execution_count": 14,
   "id": "2a2847d7",
   "metadata": {},
   "outputs": [
    {
     "data": {
      "text/plain": [
       "#9 (generic function with 1 method)"
      ]
     },
     "execution_count": 14,
     "metadata": {},
     "output_type": "execute_result"
    }
   ],
   "source": [
    "# Returns the vertices of a lattice polytope as the *columns* of an integer matrix\n",
    "vertex_matrix = P::Polyhedron -> hcat( integer_vector.(vertices(P))... )"
   ]
  },
  {
   "cell_type": "code",
   "execution_count": 15,
   "id": "684d469d",
   "metadata": {},
   "outputs": [
    {
     "data": {
      "text/plain": [
       "2×3 Matrix{Int64}:\n",
       " 0  2  0\n",
       " 0  0  2"
      ]
     },
     "execution_count": 15,
     "metadata": {},
     "output_type": "execute_result"
    }
   ],
   "source": [
    "vertex_matrix(Q)"
   ]
  },
  {
   "cell_type": "code",
   "execution_count": 16,
   "id": "3d89ef59",
   "metadata": {},
   "outputs": [
    {
     "data": {
      "text/plain": [
       "2"
      ]
     },
     "execution_count": 16,
     "metadata": {},
     "output_type": "execute_result"
    }
   ],
   "source": [
    "mixed_volume([vertex_matrix(P),vertex_matrix(Q)])"
   ]
  },
  {
   "cell_type": "code",
   "execution_count": 17,
   "id": "6dabbd48",
   "metadata": {},
   "outputs": [
    {
     "data": {
      "text/plain": [
       "x^2 + y^2 + 1"
      ]
     },
     "execution_count": 17,
     "metadata": {},
     "output_type": "execute_result"
    }
   ],
   "source": [
    "R, (x,y) = polynomial_ring(QQ,[\"x\",\"y\"])\n",
    "f = 1+x+y\n",
    "g = 1+x^2+y^2"
   ]
  },
  {
   "cell_type": "code",
   "execution_count": 18,
   "id": "ad84d1fe",
   "metadata": {},
   "outputs": [],
   "source": [
    "support_matrix = f ->  hcat(collect(exponents(f))...);"
   ]
  },
  {
   "cell_type": "code",
   "execution_count": 19,
   "id": "fe9a5b75",
   "metadata": {},
   "outputs": [
    {
     "data": {
      "text/plain": [
       "2×3 Matrix{Int64}:\n",
       " 1  0  0\n",
       " 0  1  0"
      ]
     },
     "execution_count": 19,
     "metadata": {},
     "output_type": "execute_result"
    }
   ],
   "source": [
    "support_matrix(f)"
   ]
  },
  {
   "cell_type": "code",
   "execution_count": 20,
   "id": "d9559b60",
   "metadata": {},
   "outputs": [
    {
     "data": {
      "text/plain": [
       "2×3 Matrix{Int64}:\n",
       " 2  0  0\n",
       " 0  2  0"
      ]
     },
     "execution_count": 20,
     "metadata": {},
     "output_type": "execute_result"
    }
   ],
   "source": [
    "support_matrix(g)"
   ]
  },
  {
   "cell_type": "code",
   "execution_count": 21,
   "id": "4c68d6dc",
   "metadata": {},
   "outputs": [
    {
     "data": {
      "text/plain": [
       "2"
      ]
     },
     "execution_count": 21,
     "metadata": {},
     "output_type": "execute_result"
    }
   ],
   "source": [
    "mixed_volume([support_matrix(f),support_matrix(g)])"
   ]
  },
  {
   "cell_type": "code",
   "execution_count": 22,
   "id": "2bf26810",
   "metadata": {},
   "outputs": [
    {
     "data": {
      "text/plain": [
       "2"
      ]
     },
     "execution_count": 22,
     "metadata": {},
     "output_type": "execute_result"
    }
   ],
   "source": [
    "F = [f,g]\n",
    "mixed_volume(support_matrix.(F))"
   ]
  }
 ],
 "metadata": {
  "kernelspec": {
   "display_name": "Julia 1.6.1",
   "language": "julia",
   "name": "julia-1.6"
  },
  "language_info": {
   "file_extension": ".jl",
   "mimetype": "application/julia",
   "name": "julia",
   "version": "1.6.1"
  }
 },
 "nbformat": 4,
 "nbformat_minor": 5
}
