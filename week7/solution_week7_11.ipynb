{
 "cells": [
  {
   "cell_type": "markdown",
   "metadata": {},
   "source": [
    "# Suggested solution to Exercise 11, Week 7"
   ]
  },
  {
   "cell_type": "code",
   "execution_count": 1,
   "metadata": {},
   "outputs": [
    {
     "name": "stdout",
     "output_type": "stream",
     "text": [
      " -----    -----    -----      -      -----   \n",
      "|     |  |     |  |     |    | |    |     |  \n",
      "|     |  |        |         |   |   |     |  \n",
      "|     |   -----   |        |     |  |-----   \n",
      "|     |        |  |        |-----|  |   |    \n",
      "|     |  |     |  |     |  |     |  |    |   \n",
      " -----    -----    -----   -     -  -     -  \n",
      "\n",
      "...combining (and extending) ANTIC, GAP, Polymake and Singular\n",
      "Version\u001b[32m 0.13.0 \u001b[39m... \n",
      " ... which comes with absolutely no warranty whatsoever\n",
      "Type: '?Oscar' for more information\n",
      "(c) 2019-2023 by The OSCAR Development Team\n"
     ]
    }
   ],
   "source": [
    "using Oscar"
   ]
  },
  {
   "cell_type": "code",
   "execution_count": 2,
   "metadata": {},
   "outputs": [
    {
     "data": {
      "text/plain": [
       "(Rational function field over QQ, AbstractAlgebra.Generic.RationalFunctionFieldElem{QQFieldElem, QQMPolyRingElem}[u1, u2])"
      ]
     },
     "execution_count": 2,
     "metadata": {},
     "output_type": "execute_result"
    }
   ],
   "source": [
    "K, (u1,u2) = RationalFunctionField(QQ,[\"u1\",\"u2\"])\n",
    "\n",
    "# Alternatively\n",
    "#U, (u1,u2) = polynomial_ring(QQ,[\"u1\",\"u2\"])\n",
    "#K = fraction_field(U)"
   ]
  },
  {
   "cell_type": "code",
   "execution_count": 3,
   "metadata": {},
   "outputs": [
    {
     "data": {
      "text/plain": [
       "(Multivariate polynomial ring in 3 variables over rational function field, AbstractAlgebra.Generic.MPoly{AbstractAlgebra.Generic.RationalFunctionFieldElem{QQFieldElem, QQMPolyRingElem}}[x1, x2, lambda])"
      ]
     },
     "execution_count": 3,
     "metadata": {},
     "output_type": "execute_result"
    }
   ],
   "source": [
    "R, (x1,x2,lambda) = polynomial_ring(K,[\"x1\",\"x2\",\"lambda\"])"
   ]
  },
  {
   "cell_type": "code",
   "execution_count": 4,
   "metadata": {},
   "outputs": [
    {
     "data": {
      "text/plain": [
       "3-element Vector{AbstractAlgebra.Generic.MPoly{AbstractAlgebra.Generic.RationalFunctionFieldElem{QQFieldElem, QQMPolyRingElem}}}:\n",
       " x1^2*x2^2 - 3*x1^2 - 3*x2^2 + 5\n",
       " 2*x1*x2^2 - x1*lambda - 6*x1 + u1*lambda\n",
       " 2*x1^2*x2 - x2*lambda - 6*x2 + u2*lambda"
      ]
     },
     "execution_count": 4,
     "metadata": {},
     "output_type": "execute_result"
    }
   ],
   "source": [
    "F = [x1^2*x2^2 - 3*x1^2 - 3*x2^2 + 5, 2*x1*x2^2 - 6*x1 - lambda*(x1-u1), 2*x1^2*x2 - 6*x2 - lambda*(x2-u2)]"
   ]
  },
  {
   "cell_type": "markdown",
   "metadata": {},
   "source": [
    "## Part (a): Upper bounds"
   ]
  },
  {
   "cell_type": "markdown",
   "metadata": {},
   "source": [
    "The Bézout bound is $4\\cdot 3\\cdot 3=36$.\n",
    "\n",
    "The BKK bound in $\\mathbb{C}^3$ is 12. \n",
    "\n",
    "To compute this, we artifically make sure that each polynomial has a constant term (this corresponds to adding the origin as a vertex to the Newton polytopes). In this case we can do this by adding `[0,1,1]` to `F`."
   ]
  },
  {
   "cell_type": "code",
   "execution_count": 5,
   "metadata": {},
   "outputs": [],
   "source": [
    "import Combinatorics: powerset\n",
    "function my_mixed_volume(list_of_polytopes)\n",
    "    n = length(list_of_polytopes)\n",
    "    return sum([(-1)^(n-length(I))*volume(sum(list_of_polytopes[I])) \n",
    "        for I in powerset(collect(1:n)) if !isempty(I)])\n",
    "end;"
   ]
  },
  {
   "cell_type": "code",
   "execution_count": 6,
   "metadata": {},
   "outputs": [
    {
     "data": {
      "text/plain": [
       "3-element Vector{AbstractAlgebra.Generic.MPoly{AbstractAlgebra.Generic.RationalFunctionFieldElem{QQFieldElem, QQMPolyRingElem}}}:\n",
       " x1^2*x2^2 - 3*x1^2 - 3*x2^2 + 5\n",
       " 2*x1*x2^2 - x1*lambda - 6*x1 + u1*lambda + 1\n",
       " 2*x1^2*x2 - x2*lambda - 6*x2 + u2*lambda + 1"
      ]
     },
     "execution_count": 6,
     "metadata": {},
     "output_type": "execute_result"
    }
   ],
   "source": [
    "# Add one to the second and third polynomial\n",
    "F + [0,1,1]"
   ]
  },
  {
   "cell_type": "code",
   "execution_count": 7,
   "metadata": {},
   "outputs": [
    {
     "data": {
      "text/plain": [
       "3-element Vector{Polyhedron{QQFieldElem}}:\n",
       " Polyhedron in ambient dimension 3\n",
       " Polyhedron in ambient dimension 3\n",
       " Polyhedron in ambient dimension 3"
      ]
     },
     "execution_count": 7,
     "metadata": {},
     "output_type": "execute_result"
    }
   ],
   "source": [
    "# Compute the Newton polytope of each of the polynomials in the system\n",
    "newton_polytope.(F+[0,1,1])"
   ]
  },
  {
   "cell_type": "code",
   "execution_count": 8,
   "metadata": {},
   "outputs": [
    {
     "data": {
      "text/plain": [
       "12"
      ]
     },
     "execution_count": 8,
     "metadata": {},
     "output_type": "execute_result"
    }
   ],
   "source": [
    "# Compute the mixed volume\n",
    "my_mixed_volume(newton_polytope.(F+[0,1,1]))"
   ]
  },
  {
   "cell_type": "markdown",
   "metadata": {},
   "source": [
    "## Part (b): Computation of the EDD degree"
   ]
  },
  {
   "cell_type": "markdown",
   "metadata": {},
   "source": [
    "To actually compute the generic number of roots we can follow the following strategy:\n",
    "\n",
    "**Step 1:** Compute a parametric Gröbner basis of $I:=\\langle f, \\partial_x f, \\partial_y f\\rangle$ over $\\mathbb{Q}(u_1,u_2)$, and count the number of standard monomials. \n",
    "\n",
    "For generic $u\\in\\mathbb{C}^2$, this Gröbner basis will specialize to a Gröbner basis for $I_u=\\langle f_u, \\partial_x f_u, \\partial_y f_u\\rangle\\subseteq\\mathbb{C}[x,y,\\lambda]$, and therefore give the dimension of the specialized coordinate ring $\\mathbb{C}[x,y,\\lambda]/I_u$.\n",
    "\n",
    "**Step 2:** Check that $\\langle f, \\partial_x f, \\partial_y f\\rangle$ is radical over $\\mathbb{Q}(u_1,u_2)$. \n",
    "\n",
    "This will imply that for generic generic $u\\in\\mathbb{C}^2$, the specialized ideal $\\langle f_u, \\partial_x f_u, \\partial_y f_u\\rangle$ is radical. (Proving this is a bit beyond the scope of the course, but the idea is to use Seidelberg's lemma - google this if you're up for a challenge!)"
   ]
  },
  {
   "cell_type": "markdown",
   "metadata": {},
   "source": [
    "**Conclusion:** In this specific case, we find that the ideal is radical over $\\mathbb{Q}(u_1,u_2)$, and that we have 12 standard monomials:\n",
    "$$1,\\quad x_1,\\quad x_1^2,\\quad x_2,\\quad x_1x_2,\\quad x_2^2,\\quad \\lambda,\\quad x_1\\lambda,\\quad x_2\\lambda,\\quad \\lambda^2,\\quad x_2\\lambda^2,\\quad \\lambda^3$$\n",
    "Hence, the ED degree is 12."
   ]
  },
  {
   "cell_type": "code",
   "execution_count": 9,
   "metadata": {},
   "outputs": [
    {
     "data": {
      "text/plain": [
       "Gröbner basis with elements\n",
       "1 -> (u1*u2^2 - 3*u1)*x1*lambda^2 + (u1^2*u2 - 3*u2)*x2*lambda^2 + (36*u2^2 - 60)*x1^2 + 16*u1*u2*x1*x2 + (36*u1^2 - 60)*x2^2 + (6*u1^3 - 10*u1)*x1*lambda + (6*u2^3 - 10*u2)*x2*lambda + (-u1^2*u2^2 + 5)*lambda^2 + 48*u1*x1 + 48*u2*x2 + (-18*u1^2 - 18*u2^2 + 60)*lambda - 60*u1^2 - 60*u2^2 + 280\n",
       "2 -> x2^2*lambda - 6*x1^2 - u2*x2*lambda + 10\n",
       "3 -> 16*u1*u2*x1*x2*lambda + (24*u1^2*u2^2 - 120)*x2^2*lambda + (2*u1^3*u2^2 + 6*u1^3 + 2*u1*u2^4 - 18*u1*u2^2 + 8*u1)*x1*lambda^2 + (2*u1^4*u2 + 2*u1^2*u2^3 - 18*u1^2*u2 + 6*u2^3 + 8*u2)*x2*lambda^2 + (u1^2*u2^2 - 3*u1^2 - 3*u2^2 + 5)*lambda^3 + (-72*u1^2*u2^2 + 216*u1^2 - 216*u2^2 + 360)*x1^2 + (32*u1^3*u2 + 32*u1*u2^3 - 192*u1*u2)*x1*x2 + (72*u1^2*u2^2 - 216*u1^2 + 216*u2^2 - 360)*x2^2 + (12*u1^3*u2^2 - 36*u1^3 + 52*u1*u2^2 - 60*u1)*x1*lambda + (-12*u1^2*u2^3 + 52*u1^2*u2 - 36*u2^3 + 60*u2)*x2*lambda + (-2*u1^4*u2^2 - 2*u1^2*u2^4 + 12*u1^2*u2^2 - 18*u1^2 - 18*u2^2 + 60)*lambda^2 + (96*u1*u2^2 - 288*u1)*x1 + (96*u1^2*u2 - 288*u2)*x2 + (-72*u1^2*u2^2 + 48*u1^2 + 48*u2^2 + 280)*lambda\n",
       "4 -> x1^2*lambda - x2^2*lambda + 6*x1^2 - 6*x2^2 - u1*x1*lambda + u2*x2*lambda\n",
       "5 -> 12*x2^3 + 2*u1*x1*x2*lambda - x2*lambda^2 - 6*x2*lambda + u2*lambda^2 - 20*x2\n",
       "6 -> 2*x1*x2^2 - x1*lambda - 6*x1 + u1*lambda\n",
       "7 -> 2*x1^2*x2 - x2*lambda - 6*x2 + u2*lambda\n",
       "8 -> 12*x1^3 + 2*u2*x1*x2*lambda - x1*lambda^2 - 6*x1*lambda + u1*lambda^2 - 20*x1\n",
       "9 -> (u1^2*u2^4 - 6*u1^2*u2^2 + 9*u1^2 - 3*u2^4 + 14*u2^2 - 15)*lambda^4 + (-144*u1^3*u2^4 + 1296*u1^3 - 144*u1*u2^6 + 1728*u1*u2^4 - 4464*u1*u2^2 + 1728*u1)*x1^3 + (144*u1^4*u2^3 - 432*u1^4*u2 + 144*u1^2*u2^5 - 1728*u1^2*u2^3 + 3888*u1^2*u2 + 432*u2^5 - 1296*u2^3 - 768*u2)*x1^2*x2 + (144*u1^3*u2^4 - 1296*u1^3 + 144*u1*u2^6 - 1728*u1*u2^4 + 4208*u1*u2^2 - 1728*u1)*x1*x2^2 + (-576*u1^2*u2 + 960*u2)*x2^3 + (24*u1^4*u2^4 - 216*u1^4 + 24*u1^2*u2^6 - 216*u1^2*u2^4 + 648*u1^2*u2^2 - 936*u1^2 - 216*u2^4 + 576*u2^2 + 1080)*x1^2*lambda + (-24*u1^3*u2^5 + 32*u1^3*u2^3 + 24*u1^3*u2 - 24*u1*u2^7 + 320*u1*u2^5 - 1032*u1*u2^3 + 1024*u1*u2)*x1*x2*lambda + (24*u1^4*u2^4 - 72*u1^4*u2^2 + 24*u1^2*u2^6 - 216*u1^2*u2^4 + 216*u1^2*u2^2 + 648*u1^2 + 72*u2^6 - 1136*u2^2 + 1080)*x2^2*lambda + (4*u1^5*u2^4 - 12*u1^5*u2^2 + 8*u1^3*u2^6 - 36*u1^3*u2^4 + 108*u1^3 + 4*u1*u2^8 - 36*u1*u2^6 + 156*u1*u2^4 - 312*u1*u2^2 + 180*u1)*x1*lambda^2 + (4*u1^6*u2^3 - 12*u1^6*u2 + 8*u1^4*u2^5 - 60*u1^4*u2^3 + 108*u1^4*u2 + 4*u1^2*u2^7 - 36*u1^2*u2^5 + 264*u1^2*u2^3 - 576*u1^2*u2 - 72*u2^5 + 156*u2^3 + 244*u2)*x2*lambda^2 + (2*u1^4*u2^4 - 18*u1^4 + 2*u1^2*u2^6 - 30*u1^2*u2^4 + 62*u1^2*u2^2 + 30*u1^2 + 6*u2^6 - 28*u2^4 + 90*u2^2 - 180)*lambda^3 + (64*u1^5*u2^3 - 192*u1^5*u2 + 128*u1^3*u2^5 - 768*u1^3*u2^3 + 1152*u1^3*u2 + 64*u1*u2^7 - 576*u1*u2^5 + 1664*u1*u2^3 - 2304*u1*u2)*x1*x2 - 768*u2^2*x2^2 + (32*u1^3*u2^4 - 288*u1^3 + 32*u1*u2^6 - 288*u1*u2^4 + 416*u1*u2^2 + 480*u1)*x1*lambda + (-40*u1^4*u2^3 + 120*u1^4*u2 - 40*u1^2*u2^5 + 576*u1^2*u2^3 - 1080*u1^2*u2 - 120*u2^5 + 200*u2^3 + 384*u2)*x2*lambda + (-4*u1^6*u2^4 + 12*u1^6*u2^2 - 8*u1^4*u2^6 + 36*u1^4*u2^4 - 72*u1^4*u2^2 + 108*u1^4 - 4*u1^2*u2^8 + 24*u1^2*u2^6 - 32*u1^2*u2^4 - 12*u1^2*u2^2 + 48*u2^4 + 136*u2^2 - 840)*lambda^2 + (-240*u1^4*u2^3 + 720*u1^4*u2 - 240*u1^2*u2^5 + 2880*u1^2*u2^3 - 5520*u1^2*u2 - 720*u2^5 + 2160*u2^3 - 1600*u2)*x2 + (-240*u1^2*u2^4 + 880*u1^2*u2^2 + 720*u2^2 - 3600)*lambda\n",
       "10 -> x2*lambda^3 - 72*x1^2*x2 - 12*u2*x2^2*lambda - 2*u1*u2*x1*lambda^2 + (-2*u1^2 + 6)*x2*lambda^2 - u2*lambda^3 - 32*u1*x1*x2 + 20*x2*lambda + 2*u1^2*u2*lambda^2 + 120*x2\n",
       "with respect to the ordering\n",
       "degrevlex([x1, x2, lambda])"
      ]
     },
     "execution_count": 9,
     "metadata": {},
     "output_type": "execute_result"
    }
   ],
   "source": [
    "I = ideal(F)\n",
    "G = groebner_basis(I, ordering=degrevlex(R))"
   ]
  },
  {
   "cell_type": "code",
   "execution_count": 10,
   "metadata": {},
   "outputs": [
    {
     "data": {
      "text/plain": [
       "10-element Vector{AbstractAlgebra.Generic.MPoly{AbstractAlgebra.Generic.RationalFunctionFieldElem{QQFieldElem, QQMPolyRingElem}}}:\n",
       " x1*lambda^2\n",
       " x2^2*lambda\n",
       " x1*x2*lambda\n",
       " x1^2*lambda\n",
       " x2^3\n",
       " x1*x2^2\n",
       " x1^2*x2\n",
       " x1^3\n",
       " lambda^4\n",
       " x2*lambda^3"
      ]
     },
     "execution_count": 10,
     "metadata": {},
     "output_type": "execute_result"
    }
   ],
   "source": [
    "leading_monomial.(G)"
   ]
  },
  {
   "cell_type": "code",
   "execution_count": 11,
   "metadata": {},
   "outputs": [
    {
     "data": {
      "text/plain": [
       "true"
      ]
     },
     "execution_count": 11,
     "metadata": {},
     "output_type": "execute_result"
    }
   ],
   "source": [
    "is_radical(I)"
   ]
  },
  {
   "cell_type": "markdown",
   "metadata": {},
   "source": [
    "<div class=\"alert alert-block alert-info\">\n",
    "<strong>Remark:</strong> The fact that the ED degree and the mixed volume were the same in this exercise was not a coincidence! In a certain sense, this happens for \"almost all\" curves, which follows by the main result in the paper <a href=\"https://arxiv.org/abs/2012.06350\">Euclidean distance degree and mixed volume</a> by Paul Breiding, Frank Sottile, and James Woodcock. You can also watch this very nice <a href=\"https://youtu.be/6ZXN7OdUe9k?si=fE37CF-xpn4TXgaB\">talk</a> on the same topic by Paul Breiding.\n",
    "</div>\n"
   ]
  }
 ],
 "metadata": {
  "kernelspec": {
   "display_name": "Julia 1.9.4",
   "language": "julia",
   "name": "julia-1.9"
  },
  "language_info": {
   "file_extension": ".jl",
   "mimetype": "application/julia",
   "name": "julia",
   "version": "1.9.4"
  }
 },
 "nbformat": 4,
 "nbformat_minor": 2
}
