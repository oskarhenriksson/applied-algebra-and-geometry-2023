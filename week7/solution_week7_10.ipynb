{
 "cells": [
  {
   "cell_type": "markdown",
   "metadata": {},
   "source": [
    "# Suggested solution to Exercise 10, Week 7"
   ]
  },
  {
   "cell_type": "code",
   "execution_count": 1,
   "metadata": {},
   "outputs": [
    {
     "name": "stdout",
     "output_type": "stream",
     "text": [
      " -----    -----    -----      -      -----   \n",
      "|     |  |     |  |     |    | |    |     |  \n",
      "|     |  |        |         |   |   |     |  \n",
      "|     |   -----   |        |     |  |-----   \n",
      "|     |        |  |        |-----|  |   |    \n",
      "|     |  |     |  |     |  |     |  |    |   \n",
      " -----    -----    -----   -     -  -     -  \n",
      "\n",
      "...combining (and extending) ANTIC, GAP, Polymake and Singular\n",
      "Version\u001b[32m 0.13.0 \u001b[39m... \n",
      " ... which comes with absolutely no warranty whatsoever\n",
      "Type: '?Oscar' for more information\n",
      "(c) 2019-2023 by The OSCAR Development Team\n"
     ]
    }
   ],
   "source": [
    "using Oscar"
   ]
  },
  {
   "cell_type": "code",
   "execution_count": 2,
   "metadata": {},
   "outputs": [
    {
     "data": {
      "text/plain": [
       "ideal(-x*y*z^2 + x*z^2 + y^2 + z, x*z - y + 1, x^2*z - y + 2)"
      ]
     },
     "execution_count": 2,
     "metadata": {},
     "output_type": "execute_result"
    }
   ],
   "source": [
    "R, (x,y,z) = polynomial_ring(QQ,[\"x\",\"y\",\"z\"])\n",
    "F = [z + y^2 + x*z^2 - x*y*z^2, x*z - y + 1, x^2*z - y + 2]\n",
    "I = ideal(F)"
   ]
  },
  {
   "cell_type": "markdown",
   "metadata": {},
   "source": [
    "### Part (a): Mixed volume"
   ]
  },
  {
   "cell_type": "code",
   "execution_count": 3,
   "metadata": {},
   "outputs": [],
   "source": [
    "import Combinatorics: powerset\n",
    "function my_mixed_volume(list_of_polytopes)\n",
    "    n = length(list_of_polytopes)\n",
    "    return sum([(-1)^(n-length(I))*volume(sum(list_of_polytopes[I])) \n",
    "        for I in powerset(collect(1:n)) if !isempty(I)])\n",
    "end;"
   ]
  },
  {
   "cell_type": "code",
   "execution_count": 4,
   "metadata": {},
   "outputs": [
    {
     "data": {
      "text/plain": [
       "3-element Vector{Polyhedron{QQFieldElem}}:\n",
       " Polyhedron in ambient dimension 3\n",
       " Polyhedron in ambient dimension 3\n",
       " Polyhedron in ambient dimension 3"
      ]
     },
     "execution_count": 4,
     "metadata": {},
     "output_type": "execute_result"
    }
   ],
   "source": [
    "# Compute the Newton polytope for each polynomial in the system F by applying it pointwise\n",
    "newton_polytope.(F)"
   ]
  },
  {
   "cell_type": "code",
   "execution_count": 5,
   "metadata": {},
   "outputs": [
    {
     "data": {
      "text/plain": [
       "4"
      ]
     },
     "execution_count": 5,
     "metadata": {},
     "output_type": "execute_result"
    }
   ],
   "source": [
    "# Compute the mixed volume\n",
    "my_mixed_volume(newton_polytope.(F))"
   ]
  },
  {
   "cell_type": "markdown",
   "metadata": {},
   "source": [
    "### Part (b): The exact root count"
   ]
  },
  {
   "cell_type": "code",
   "execution_count": 6,
   "metadata": {},
   "outputs": [
    {
     "data": {
      "text/plain": [
       "Gröbner basis with elements\n",
       "1 -> x - 3*y + 2*z - 1\n",
       "2 -> 2*z^2 + 10*y - 13*z - 7\n",
       "3 -> y*z + x - 2*z - 3\n",
       "4 -> y^2 - y*z - 2*y + 2*z + 1\n",
       "with respect to the ordering\n",
       "degrevlex([x, y, z])"
      ]
     },
     "execution_count": 6,
     "metadata": {},
     "output_type": "execute_result"
    }
   ],
   "source": [
    "G = groebner_basis(I, ordering=degrevlex(R))"
   ]
  },
  {
   "cell_type": "code",
   "execution_count": 7,
   "metadata": {},
   "outputs": [
    {
     "data": {
      "text/plain": [
       "4-element Vector{QQMPolyRingElem}:\n",
       " x\n",
       " z^2\n",
       " y*z\n",
       " y^2"
      ]
     },
     "execution_count": 7,
     "metadata": {},
     "output_type": "execute_result"
    }
   ],
   "source": [
    "leading_monomial.(G)"
   ]
  },
  {
   "cell_type": "markdown",
   "metadata": {},
   "source": [
    "We see that the standard monomials are $1$, $y$ and $z$. \n",
    "\n",
    "Hence $\\dim_{\\mathbb{C}}(\\mathbb{C}[x,y,z]/I)=3$, which means that $|\\mathbb{V}(I)|\\leq 3$ (in fact, we have equality since it turns out that $I$ is radical).\n",
    "\n",
    "This implies that $|\\mathbb{V}(I)\\cap(\\mathbb{C}^*)^3|\\leq 3<4$, so we will have fewer bounds than the mixed volume.\n",
    "\n",
    "This is **not** a contradiction, since Bernstein's theorem only tells us that the number of solutions in  $(\\mathbb{C}^*)^3$ equals the mixed volume for **generic** coefficients (not *all* coefficients!)."
   ]
  },
  {
   "cell_type": "markdown",
   "metadata": {},
   "source": [
    "### Part (c): A more generic system with the same support"
   ]
  },
  {
   "cell_type": "markdown",
   "metadata": {},
   "source": [
    "Let's just change some of the coefficients, and then redo the computation:"
   ]
  },
  {
   "cell_type": "code",
   "execution_count": 8,
   "metadata": {},
   "outputs": [
    {
     "data": {
      "text/plain": [
       "3-element Vector{QQMPolyRingElem}:\n",
       " -x*y*z^2 + x*z^2 + y^2 + 2*z\n",
       " x*z - y + 1\n",
       " x^2*z - y + 2"
      ]
     },
     "execution_count": 8,
     "metadata": {},
     "output_type": "execute_result"
    }
   ],
   "source": [
    "Fnew = [2*z + y^2 + x*z^2 - x*y*z^2, x*z - y + 1, x^2*z - y + 2]"
   ]
  },
  {
   "cell_type": "code",
   "execution_count": 9,
   "metadata": {},
   "outputs": [
    {
     "data": {
      "text/plain": [
       "Gröbner basis with elements\n",
       "1 -> z^2 + 2*x - y - 2*z - 6\n",
       "2 -> y*z + x + y - 3*z - 4\n",
       "3 -> x*z - y + 1\n",
       "4 -> y^2 - y*z - 2*y + 2*z + 1\n",
       "5 -> x*y - x - y + 2\n",
       "6 -> x^2 - 4*x - 2*y + z + 4\n",
       "with respect to the ordering\n",
       "degrevlex([x, y, z])"
      ]
     },
     "execution_count": 9,
     "metadata": {},
     "output_type": "execute_result"
    }
   ],
   "source": [
    "Inew = ideal(Fnew)\n",
    "Gnew = groebner_basis(Inew, ordering=degrevlex(R))"
   ]
  },
  {
   "cell_type": "code",
   "execution_count": 10,
   "metadata": {},
   "outputs": [
    {
     "data": {
      "text/plain": [
       "6-element Vector{QQMPolyRingElem}:\n",
       " z^2\n",
       " y*z\n",
       " x*z\n",
       " y^2\n",
       " x*y\n",
       " x^2"
      ]
     },
     "execution_count": 10,
     "metadata": {},
     "output_type": "execute_result"
    }
   ],
   "source": [
    "leading_monomial.(Gnew, ordering=degrevlex(R))"
   ]
  },
  {
   "cell_type": "markdown",
   "metadata": {},
   "source": [
    "We see that the standard monomials are now $1$, $x$, $y$ and $z$, so $\\dim_{\\mathbb{C}}(\\mathbb{C}[x,y,z]/I_\\mathrm{new})=4$, which means that $|\\mathbb{V}(I_\\mathrm{new})|\\leq 4$. In fact, we get $|\\mathbb{V}(I_\\mathrm{new})|=4$, since it turns out that $I_\\mathrm{new}$ is radical."
   ]
  },
  {
   "cell_type": "code",
   "execution_count": 11,
   "metadata": {},
   "outputs": [
    {
     "data": {
      "text/plain": [
       "true"
      ]
     },
     "execution_count": 11,
     "metadata": {},
     "output_type": "execute_result"
    }
   ],
   "source": [
    "is_radical(Inew)"
   ]
  },
  {
   "cell_type": "markdown",
   "metadata": {},
   "source": [
    "We now claim that $|\\mathbb{V}(I_\\mathrm{new})\\cap(\\mathbb{C}^*)^3|=4$. \n",
    "\n",
    "To prove this, we need to see that there are no solutions with $x=0$, no solutions with $y=0$, and no solutions with $z=0$. \n",
    "\n",
    "We do this by proving that the ideals \n",
    "$$I_\\mathrm{new}+\\langle x\\rangle\\,,\\quad I_\\mathrm{new}+\\langle y\\rangle\\,,\\quad \\text{and}\\quad I_\\mathrm{new}+\\langle z\\rangle$$ \n",
    "all have $\\{1\\}$ as their reduced Gröbner basis. "
   ]
  },
  {
   "cell_type": "code",
   "execution_count": 12,
   "metadata": {},
   "outputs": [
    {
     "data": {
      "text/plain": [
       "Gröbner basis with elements\n",
       "1 -> 1\n",
       "with respect to the ordering\n",
       "degrevlex([x, y, z])"
      ]
     },
     "execution_count": 12,
     "metadata": {},
     "output_type": "execute_result"
    }
   ],
   "source": [
    "Inewx = ideal( vcat(Fnew,[x]) )\n",
    "groebner_basis(Inewx, ordering=degrevlex(R), complete_reduction=true)"
   ]
  },
  {
   "cell_type": "code",
   "execution_count": 13,
   "metadata": {},
   "outputs": [
    {
     "data": {
      "text/plain": [
       "Gröbner basis with elements\n",
       "1 -> 1\n",
       "with respect to the ordering\n",
       "degrevlex([x, y, z])"
      ]
     },
     "execution_count": 13,
     "metadata": {},
     "output_type": "execute_result"
    }
   ],
   "source": [
    "Inewy = ideal( vcat(Fnew,[y]) )\n",
    "groebner_basis(Inewy, ordering=degrevlex(R), complete_reduction=true)"
   ]
  },
  {
   "cell_type": "code",
   "execution_count": 14,
   "metadata": {},
   "outputs": [
    {
     "data": {
      "text/plain": [
       "Gröbner basis with elements\n",
       "1 -> 1\n",
       "with respect to the ordering\n",
       "degrevlex([x, y, z])"
      ]
     },
     "execution_count": 14,
     "metadata": {},
     "output_type": "execute_result"
    }
   ],
   "source": [
    "Inewz = ideal( vcat(Fnew,[z]) )\n",
    "groebner_basis(Inewz, ordering=degrevlex(R), complete_reduction=true)"
   ]
  }
 ],
 "metadata": {
  "kernelspec": {
   "display_name": "Julia 1.9.4",
   "language": "julia",
   "name": "julia-1.9"
  },
  "language_info": {
   "file_extension": ".jl",
   "mimetype": "application/julia",
   "name": "julia",
   "version": "1.9.4"
  }
 },
 "nbformat": 4,
 "nbformat_minor": 2
}
