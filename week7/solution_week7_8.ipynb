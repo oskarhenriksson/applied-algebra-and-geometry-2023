{
 "cells": [
  {
   "cell_type": "markdown",
   "metadata": {},
   "source": [
    "# Suggested solution of Problem 8, Week 7"
   ]
  },
  {
   "cell_type": "code",
   "execution_count": 3,
   "metadata": {},
   "outputs": [],
   "source": [
    "using HomotopyContinuation"
   ]
  },
  {
   "cell_type": "markdown",
   "metadata": {},
   "source": [
    "## Part (a): Bounds"
   ]
  },
  {
   "cell_type": "markdown",
   "metadata": {},
   "source": [
    "### Bézout bound"
   ]
  },
  {
   "cell_type": "markdown",
   "metadata": {},
   "source": [
    "The Bézout bound is the product of the total degrees: $3 \\cdot 3 = 9$."
   ]
  },
  {
   "cell_type": "markdown",
   "metadata": {},
   "source": [
    "### BKK bound in $(\\mathbb{C}^*)^2$"
   ]
  },
  {
   "cell_type": "markdown",
   "metadata": {},
   "source": [
    "The mixed volume is $4$.\n",
    "\n",
    "We can compute it with the HC.jl package as follows. \n",
    "\n",
    "Note that the polytopes should be be given in V-representation, with the vertices as columns of a matrix."
   ]
  },
  {
   "cell_type": "code",
   "execution_count": 4,
   "metadata": {},
   "outputs": [
    {
     "data": {
      "text/plain": [
       "4"
      ]
     },
     "execution_count": 4,
     "metadata": {},
     "output_type": "execute_result"
    }
   ],
   "source": [
    "P1 = [2 1 0; 1 0 1]\n",
    "P2 = [1 1 0; 2 0 1]\n",
    "mixed_volume([P1,P2])"
   ]
  },
  {
   "cell_type": "markdown",
   "metadata": {},
   "source": [
    "### BKK bound in $\\mathbb{C}^2$"
   ]
  },
  {
   "cell_type": "markdown",
   "metadata": {},
   "source": [
    "The BKK bound in $\\mathbb{C}^2$ is $5$. \n",
    "\n",
    "To see this, we add a vertex $(0,0)$ to each polytope before we compute the mixed volume. "
   ]
  },
  {
   "cell_type": "code",
   "execution_count": 5,
   "metadata": {},
   "outputs": [],
   "source": [
    "add_column_of_zeros = M -> hcat(M, zeros(Int,size(M,1)));"
   ]
  },
  {
   "cell_type": "code",
   "execution_count": 8,
   "metadata": {},
   "outputs": [
    {
     "data": {
      "text/plain": [
       "2×4 Matrix{Int64}:\n",
       " 2  1  0  0\n",
       " 1  0  1  0"
      ]
     },
     "execution_count": 8,
     "metadata": {},
     "output_type": "execute_result"
    }
   ],
   "source": [
    "P1_new = add_column_of_zeros(P1)"
   ]
  },
  {
   "cell_type": "code",
   "execution_count": 9,
   "metadata": {},
   "outputs": [
    {
     "data": {
      "text/plain": [
       "2×4 Matrix{Int64}:\n",
       " 1  1  0  0\n",
       " 2  0  1  0"
      ]
     },
     "execution_count": 9,
     "metadata": {},
     "output_type": "execute_result"
    }
   ],
   "source": [
    "P2_new = add_column_of_zeros(P2)"
   ]
  },
  {
   "cell_type": "code",
   "execution_count": 10,
   "metadata": {},
   "outputs": [
    {
     "data": {
      "text/plain": [
       "5"
      ]
     },
     "execution_count": 10,
     "metadata": {},
     "output_type": "execute_result"
    }
   ],
   "source": [
    "mixed_volume([P1_new,P2_new])"
   ]
  },
  {
   "cell_type": "code",
   "execution_count": 11,
   "metadata": {},
   "outputs": [
    {
     "data": {
      "text/plain": [
       "5"
      ]
     },
     "execution_count": 11,
     "metadata": {},
     "output_type": "execute_result"
    }
   ],
   "source": [
    "# Alternatively\n",
    "mixed_volume(add_column_of_zeros.([P1,P2]))"
   ]
  },
  {
   "cell_type": "markdown",
   "metadata": {},
   "source": [
    "## Part (b): Solution of the system"
   ]
  },
  {
   "cell_type": "code",
   "execution_count": 12,
   "metadata": {},
   "outputs": [
    {
     "data": {
      "text/plain": [
       "6-element Vector{Float64}:\n",
       "  0.37656662188202766\n",
       "  0.44655906545143736\n",
       "  0.5361766234089025\n",
       "  1.1972933648620736\n",
       " -0.7922331637799329\n",
       " -0.9843127757074858"
      ]
     },
     "execution_count": 12,
     "metadata": {},
     "output_type": "execute_result"
    }
   ],
   "source": [
    "a = randn(6)"
   ]
  },
  {
   "cell_type": "code",
   "execution_count": 13,
   "metadata": {},
   "outputs": [
    {
     "data": {
      "text/plain": [
       "System of length 2\n",
       " 2 variables: x, y\n",
       "\n",
       " 0.446559065451437*x + 0.536176623408902*y + 0.376566621882028*x^2*y\n",
       " -0.792233163779933*x - 0.984312775707486*y + 1.19729336486207*x*y^2"
      ]
     },
     "execution_count": 13,
     "metadata": {},
     "output_type": "execute_result"
    }
   ],
   "source": [
    "@var x y\n",
    "F = System([a[1]*x^2*y + a[2]*x + a[3]*y,\n",
    "        a[4]*x*y^2 + a[5]*x + a[6]*y])\n"
   ]
  },
  {
   "cell_type": "code",
   "execution_count": 17,
   "metadata": {},
   "outputs": [
    {
     "data": {
      "text/plain": [
       "Result with 5 solutions\n",
       "=======================\n",
       "• 9 paths tracked\n",
       "• 5 non-singular solutions (3 real)\n",
       "• random_seed: 0xa2ad1567\n",
       "• start_system: :total_degree\n"
      ]
     },
     "execution_count": 17,
     "metadata": {},
     "output_type": "execute_result"
    }
   ],
   "source": [
    "# Will trace as many paths as the Bézout bound\n",
    "solve(F, start_system = :total_degree)"
   ]
  },
  {
   "cell_type": "code",
   "execution_count": 18,
   "metadata": {},
   "outputs": [
    {
     "data": {
      "text/plain": [
       "Result with 4 solutions\n",
       "=======================\n",
       "• 4 paths tracked\n",
       "• 4 non-singular solutions (2 real)\n",
       "• random_seed: 0x82d7393d\n",
       "• start_system: :polyhedral\n"
      ]
     },
     "execution_count": 18,
     "metadata": {},
     "output_type": "execute_result"
    }
   ],
   "source": [
    "# Will trace as many paths as the mixed volume\n",
    "solve(F, start_system = :polyhedral, only_non_zero = true)"
   ]
  },
  {
   "cell_type": "code",
   "execution_count": 19,
   "metadata": {},
   "outputs": [
    {
     "data": {
      "text/plain": [
       "Result with 5 solutions\n",
       "=======================\n",
       "• 5 paths tracked\n",
       "• 5 non-singular solutions (3 real)\n",
       "• random_seed: 0x14fba7bb\n",
       "• start_system: :polyhedral\n"
      ]
     },
     "execution_count": 19,
     "metadata": {},
     "output_type": "execute_result"
    }
   ],
   "source": [
    "# Will trace as many paths as the BKK bound in C^n\n",
    "solve(F, start_system = :polyhedral)"
   ]
  },
  {
   "cell_type": "markdown",
   "metadata": {},
   "source": [
    "### Part (c): Discussion"
   ]
  },
  {
   "cell_type": "markdown",
   "metadata": {},
   "source": [
    "| Start system | Underlying bound | Underlying theorem |Advantages | Disadvantages |\n",
    "| --- | --- | --- | --- |  --- | \n",
    "| `:total_degree` | Product of the total degrees | Bézout's theorem | Fast and easy to compute | Can be a high overestimation (especially if the system is *sparse*, in the sense that we few monomials in each equation) |\n",
    "| `:polyhedral` with `only_non_zero=false` (this is the default) | Mixed volume of the Newton polytopes with origin added as vertex to each polytope | Bernstein's theorem (improved version due to Li and Wang, 1996) | Often quite accurate (especially if the coefficients are \"random\" and \"independent\" enough), so fewer superflous paths |  Can be a lot harder to compute than the product of the total degrees |\n",
    "| `:polyhedral` with `only_non_zero=true` | Mixed volume of the Newton polytopes | Bernstein's theorem | Even fewer superflous paths if we only want solutions in $(\\mathbb{C}^*)^n$ | Still a lot harder to compute than the product of the total degrees |"
   ]
  },
  {
   "cell_type": "code",
   "execution_count": null,
   "metadata": {},
   "outputs": [],
   "source": []
  }
 ],
 "metadata": {
  "kernelspec": {
   "display_name": "Julia 1.9.4",
   "language": "julia",
   "name": "julia-1.9"
  },
  "language_info": {
   "file_extension": ".jl",
   "mimetype": "application/julia",
   "name": "julia",
   "version": "1.9.4"
  }
 },
 "nbformat": 4,
 "nbformat_minor": 2
}
