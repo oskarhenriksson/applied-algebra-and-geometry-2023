{
 "cells": [
  {
   "cell_type": "markdown",
   "metadata": {},
   "source": [
    "# Suggested solution for Exercise 9, Week 7"
   ]
  },
  {
   "cell_type": "code",
   "execution_count": 1,
   "metadata": {},
   "outputs": [],
   "source": [
    "using HomotopyContinuation"
   ]
  },
  {
   "cell_type": "code",
   "execution_count": 2,
   "metadata": {},
   "outputs": [
    {
     "data": {
      "text/latex": [
       "$$ 5 + 3*x₂ - x₂*x₁^4 - x₂^2 $$"
      ],
      "text/plain": [
       "5 + 3*x₂ - x₂*x₁^4 - x₂^2"
      ]
     },
     "execution_count": 2,
     "metadata": {},
     "output_type": "execute_result"
    }
   ],
   "source": [
    "@var x[1:2]\n",
    "f1 = x[1]^4*x[2] + x[2]^2 - 2*x[2] + 1\n",
    "f2 = -x[1]^4*x[2] - x[2]^2 + 3*x[2] + 5"
   ]
  },
  {
   "cell_type": "code",
   "execution_count": 3,
   "metadata": {},
   "outputs": [
    {
     "name": "stdout",
     "output_type": "stream",
     "text": [
      "\r\u001b[32mTracking 8 paths... 100%|███████████████████████████████| Time: 0:00:04\u001b[39m\r\n",
      "\u001b[34m  # paths tracked:                  8\u001b[39m\r\n",
      "\u001b[34m  # non-singular solutions (real):  4 (2)\u001b[39m\r\n",
      "\u001b[34m  # singular endpoints (real):      0 (0)\u001b[39m\r\n",
      "\u001b[34m  # total solutions (real):         4 (2)\u001b[39m\n"
     ]
    },
    {
     "data": {
      "text/plain": [
       "Result with 4 solutions\n",
       "=======================\n",
       "• 8 paths tracked\n",
       "• 4 non-singular solutions (2 real)\n",
       "• random_seed: 0xd52e80eb\n",
       "• start_system: :polyhedral\n"
      ]
     },
     "execution_count": 3,
     "metadata": {},
     "output_type": "execute_result"
    }
   ],
   "source": [
    "F = System([f1,f2])\n",
    "solve(F, start_system = :polyhedral)"
   ]
  },
  {
   "cell_type": "code",
   "execution_count": 4,
   "metadata": {},
   "outputs": [
    {
     "name": "stdout",
     "output_type": "stream",
     "text": [
      "\r\u001b[32mTracking 4 paths... 100%|███████████████████████████████| Time: 0:00:01\u001b[39m\r\n",
      "\u001b[34m  # paths tracked:                  4\u001b[39m\r\n",
      "\u001b[34m  # non-singular solutions (real):  4 (2)\u001b[39m\r\n",
      "\u001b[34m  # singular endpoints (real):      0 (0)\u001b[39m\r\n",
      "\u001b[34m  # total solutions (real):         4 (2)\u001b[39m\n"
     ]
    },
    {
     "data": {
      "text/plain": [
       "Result with 4 solutions\n",
       "=======================\n",
       "• 4 paths tracked\n",
       "• 4 non-singular solutions (2 real)\n",
       "• random_seed: 0x9dbd949d\n",
       "• start_system: :polyhedral\n"
      ]
     },
     "execution_count": 4,
     "metadata": {},
     "output_type": "execute_result"
    }
   ],
   "source": [
    "G = System([f1,f1+f2])\n",
    "solve(G, start_system = :polyhedral)"
   ]
  },
  {
   "cell_type": "markdown",
   "metadata": {},
   "source": [
    "**Discussion:** Both of these systems are equivalent, in the sense that they have the same solution set, consisting of 4 complex solutions. However, one of the systems has smaller support than the other, which in this case give it a better BKK bound, which mean that we didn't have to trace as many superflous paths.\n",
    "\n",
    "**Takeaway:** If you have a system $F=(f_1,\\ldots,f_n)\\in\\mathbb{C}[x_1,\\ldots,x_n]^n$ and want an as good BKK bound as possible, it's often a good idea try to make linear combinations of the polynomials to \"knock out\" terms against each other so that the we get a new system $G=(g_1,\\ldots,g_n)\\in\\mathbb{C}^n[x_1,\\ldots,x_n]^n$ with \n",
    "$$\\operatorname{supp}(g_1)\\subseteq\\operatorname{supp}(f_1),\\ldots,\\operatorname{supp}(g_n)\\subseteq\\operatorname{supp}(f_n)\\,,$$ \n",
    "while making sure that $\\langle f_1,\\ldots,f_n\\rangle=\\langle g_1,\\ldots,g_n\\rangle$ as ideals in $\\mathbb{C}[x_1,\\ldots,x_n]$. Then the monotonicity result we proved in Exercise 4 guarantees that \n",
    "$$\\operatorname{MV}(\\operatorname{NP}(g_1),\\ldots,\\operatorname{NP}(g_n))\\leqslant\\operatorname{MV}(\\operatorname{NP}(f_1),\\ldots,\\operatorname{NP}(f_n))\\,,$$\n",
    "and quite often this inequality turns out to be strict in practice."
   ]
  }
 ],
 "metadata": {
  "kernelspec": {
   "display_name": "Julia 1.9.4",
   "language": "julia",
   "name": "julia-1.9"
  },
  "language_info": {
   "file_extension": ".jl",
   "mimetype": "application/julia",
   "name": "julia",
   "version": "1.9.4"
  }
 },
 "nbformat": 4,
 "nbformat_minor": 2
}
