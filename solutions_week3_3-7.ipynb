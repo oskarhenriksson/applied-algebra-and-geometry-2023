{
 "cells": [
  {
   "cell_type": "code",
   "execution_count": 1,
   "metadata": {
    "scrolled": true
   },
   "outputs": [
    {
     "name": "stdout",
     "output_type": "stream",
     "text": [
      " -----    -----    -----      -      -----   \n",
      "|     |  |     |  |     |    | |    |     |  \n",
      "|     |  |        |         |   |   |     |  \n",
      "|     |   -----   |        |     |  |-----   \n",
      "|     |        |  |        |-----|  |   |    \n",
      "|     |  |     |  |     |  |     |  |    |   \n",
      " -----    -----    -----   -     -  -     -  \n",
      "\n",
      "...combining (and extending) ANTIC, GAP, Polymake and Singular\n",
      "Version\u001b[32m 0.13.0 \u001b[39m... \n",
      " ... which comes with absolutely no warranty whatsoever\n",
      "Type: '?Oscar' for more information\n",
      "(c) 2019-2023 by The OSCAR Development Team\n"
     ]
    }
   ],
   "source": [
    "using Oscar"
   ]
  },
  {
   "cell_type": "markdown",
   "metadata": {},
   "source": [
    "## Exercise 3"
   ]
  },
  {
   "cell_type": "code",
   "execution_count": 2,
   "metadata": {},
   "outputs": [
    {
     "data": {
      "text/plain": [
       "Gröbner basis with elements\n",
       "1 -> y^2 + z^2 - 1\n",
       "2 -> x^2 + 3\n",
       "with respect to the ordering\n",
       "lex([x, y, z])"
      ]
     },
     "execution_count": 2,
     "metadata": {},
     "output_type": "execute_result"
    }
   ],
   "source": [
    "R, (x, y,z) = polynomial_ring(QQ, [\"x\", \"y\",\"z\"])\n",
    "I = ideal([x^2 + y^2 + z^2 + 2,3*x^2+4*y^2+4*z^2+5])\n",
    "G = groebner_basis(I, ordering=lex(R), complete_reduction = true)"
   ]
  },
  {
   "cell_type": "markdown",
   "metadata": {},
   "source": [
    "**Over $\\mathbb{C}$:** The variety $\\mathbb{V}(I)$ consists of two copies of the unit circle: $\\{\\sqrt{3}i\\} \\times S^1$ and $\\{-\\sqrt{3}i\\} \\times S^1$. On one hand, the projection onto $(y,z)$ gives $S^1$, so the smallest variety containing the projection $\\pi_1(\\mathbb{V}(I))$ is simply $S^1$. On the other hand, the  variety of the first elimination ideal is $\\mathbb{V}(y^2 + z^2 - 1)$ (by the elimination theorem). So the two varieties agree, just as predicted by the closure theorem and the extension theorem.\n",
    "\n",
    "**Over $\\mathbb{R}$:** Here the variety $\\mathbb{V}(I)$ is empty, and hence so is the projection $\\pi_1(\\mathbb{V}(I))$, and the smallest variety containing it will simply be the empty variety. However, the variety of the first elimination ideal still is $S^1$. So the closure theorem fails! \n",
    "\n",
    "*Sidenote:* We still have have that the projection is contained in the variety of the first elimination ideal. This statement does not require the field to be algebraically closed (see lecture notes or realize that Lemma 1 in 3.2 in [CLO1] works line by line for any field)."
   ]
  },
  {
   "cell_type": "markdown",
   "metadata": {},
   "source": [
    "## Exercise 4 (toric variety)"
   ]
  },
  {
   "cell_type": "code",
   "execution_count": 3,
   "metadata": {},
   "outputs": [
    {
     "data": {
      "text/plain": [
       "(Multivariate polynomial ring in 5 variables over QQ, QQMPolyRingElem[u, v, x, y, z])"
      ]
     },
     "execution_count": 3,
     "metadata": {},
     "output_type": "execute_result"
    }
   ],
   "source": [
    "R, (u,v,x,y,z) = polynomial_ring(QQ,[\"u\",\"v\",\"x\",\"y\",\"z\"])"
   ]
  },
  {
   "cell_type": "code",
   "execution_count": 4,
   "metadata": {
    "scrolled": true
   },
   "outputs": [
    {
     "data": {
      "text/plain": [
       "Gröbner basis with elements\n",
       "1 -> x^2 - y*z\n",
       "2 -> v^2 - z\n",
       "3 -> u*z - v*x\n",
       "4 -> u*x - v*y\n",
       "5 -> u*v - x\n",
       "6 -> u^2 - y\n",
       "with respect to the ordering\n",
       "lex([u, v, x, y, z])"
      ]
     },
     "execution_count": 4,
     "metadata": {},
     "output_type": "execute_result"
    }
   ],
   "source": [
    "I = ideal([x-u*v,y-u^2,z-v^2])\n",
    "G = groebner_basis(I, ordering=lex(R), complete_reduction = true)"
   ]
  },
  {
   "cell_type": "markdown",
   "metadata": {},
   "source": [
    "**(a)** The equation of the parametric surface is $x^2-y z$.\n",
    "\n",
    "**(b)** Let us see that all points can be lifted, that is, $V=S$, over $\\mathbb{C}$. \n",
    "\n",
    "We can see this by applying the  **extension theorem** twice. \n",
    "\n",
    "**Extension with respect to $v$:** Note that $I_{1}=I\\cap\\mathbb{C}[v,x,y,z]$ contains $u^2-y$, where the highest-degree term wrt $u$ has coefficient  $1$. This never vanishes for any $(x,y,z)$, hence, we can extend with respect to $u$.\n",
    "\n",
    "**Extension with respect to $u$:** Note that $I$ contains $z-v^2$, where the highest-degree term in $v$ has coefficient $-1$, which again doesn't vanish.\n",
    "\n",
    "**(c)** Over $\\mathbb{R}$ we do **not** get all points of $V$ from the parametrization, only those for which $y$ and $z$ are nonnegative (since they will be squares of real numbers). But the equation $x^2=yz$ can be satisfied whenever $yz$ is be nonnegative, so either when both are nonnegative (in this case we can find an antiimage), or both are negative. The parametrization $x=uv$, $y=-u^2$, $z=-v^2$ covers the missing part.\n",
    "\n",
    "\n",
    "\n"
   ]
  },
  {
   "cell_type": "markdown",
   "metadata": {},
   "source": [
    "## Exercise 5 (Enneper surface)"
   ]
  },
  {
   "cell_type": "code",
   "execution_count": 5,
   "metadata": {},
   "outputs": [
    {
     "data": {
      "text/plain": [
       "Gröbner basis with elements\n",
       "1 -> 19683*x^6 - 59049*x^4*y^2 + 10935*x^4*z^3 + 118098*x^4*z^2 - 59049*x^4*z + 59049*x^2*y^4 + 56862*x^2*y^2*z^3 + 118098*x^2*y^2*z + 1296*x^2*z^6 + 34992*x^2*z^5 + 174960*x^2*z^4 - 314928*x^2*z^3 - 19683*y^6 + 10935*y^4*z^3 - 118098*y^4*z^2 - 59049*y^4*z - 1296*y^2*z^6 + 34992*y^2*z^5 - 174960*y^2*z^4 - 314928*y^2*z^3 - 64*z^9 + 10368*z^7 - 419904*z^5\n",
       "2 -> 8748*v*y^3*z^2 + 648*v*y*z^5 + 5832*v*y*z^4 + 17496*v*y*z^3 + 17496*v*y*z^2 - 729*x^4*z - 2187*x^4 + 5832*x^2*y^2*z + 4374*x^2*y^2 - 189*x^2*z^4 - 2997*x^2*z^3 - 5103*x^2*z^2 + 6561*x^2*z - 5103*y^4*z - 2187*y^4 - 945*y^2*z^4 + 81*y^2*z^3 - 16767*y^2*z^2 - 6561*y^2*z + 8*z^7 - 48*z^6 - 864*z^5 + 3888*z^4 + 17496*z^3\n",
       "3 -> 27*v*x^2*z + 81*v*x^2 + 135*v*y^2*z - 81*v*y^2 + 8*v*z^4 + 96*v*z^3 + 216*v*z^2 + 81*x^2*y - 81*y^3 - 12*y*z^3 - 324*y*z\n",
       "4 -> 4374*v*x^2*y + 8748*v*y^3*z - 4374*v*y^3 + 648*v*y*z^4 + 5184*v*y*z^3 + 17496*v*y*z^2 - 729*x^4 + 5832*x^2*y^2 - 189*x^2*z^3 - 2430*x^2*z^2 + 2187*x^2*z - 5103*y^4 - 945*y^2*z^3 + 972*y^2*z^2 - 19683*y^2*z + 8*z^6 - 72*z^5 - 648*z^4 + 5832*z^3\n",
       "5 -> 2187*v*x^4 + 69984*v*x^2 + 8748*v*y^4*z - 2187*v*y^4 + 648*v*y^2*z^4 + 3240*v*y^2*z^3 - 11664*v*y^2*z^2 + 139968*v*y^2*z - 69984*v*y^2 - 192*v*z^6 - 3456*v*z^5 - 15552*v*z^4 + 20736*v*z^3 + 186624*v*z^2 - 729*x^4*y + 5832*x^2*y^3 - 189*x^2*y*z^3 - 7047*x^2*y*z^2 - 23328*x^2*y*z + 69984*x^2*y - 5103*y^5 - 945*y^3*z^3 + 1215*y^3*z^2 + 5832*y^3*z - 69984*y^3 + 8*y*z^6 + 288*y*z^5 + 216*y*z^4 + 5184*y*z^3 + 93312*y*z^2 - 279936*y*z\n",
       "6 -> 18*v^2*z^2 + 54*v^2*z - 54*v*y*z - 27*x^2 + 27*y^2 + z^3 - 18*z^2 + 81*z\n",
       "7 -> 54*v^2*y*z + 27*v*x^2 - 27*v*y^2 + 8*v*z^3 + 72*v*z^2 - 9*y*z^2 - 27*y*z\n",
       "8 -> 243*v^2*x^2 - 243*v^2*y^2 - 1296*v^2*z - 108*v*y*z^2 + 324*v*y*z + 108*x^2*z + 648*x^2 + 135*y^2*z - 648*y^2 - 4*z^4 + 48*z^3 + 108*z^2 - 1944*z\n",
       "9 -> 2*v^3 + v*z + 3*v - y\n",
       "10 -> 27*u*y^2 - 8*u*z^3 + 72*u*z^2 - 36*v^2*x*z - 27*v*x*y - 24*x*z^2\n",
       "11 -> 9*u*x + 6*v^2*z - 9*v*y + z^2 - 9*z\n",
       "12 -> 4*u*v*z - 3*u*y + 3*v*x\n",
       "13 -> 9*u*v*y - 2*u*z^2 + 18*u*z - 9*v^2*x - 6*x*z\n",
       "14 -> 6*u*v^2 - u*z + 9*u - 3*x\n",
       "15 -> 3*u^2 - 3*v^2 - z\n",
       "with respect to the ordering\n",
       "lex([u, v, x, y, z])"
      ]
     },
     "execution_count": 5,
     "metadata": {},
     "output_type": "execute_result"
    }
   ],
   "source": [
    "R, (u,v,x,y,z) = polynomial_ring(QQ,[\"u\",\"v\",\"x\",\"y\",\"z\"])\n",
    "I = ideal([x-(3*u+3*u*v^2-u^3), y-(3*v+3*u^2*v-v^3),z-(3*u^2-3*v^2)])\n",
    "G = groebner_basis(I, ordering=lex(R), complete_reduction=true)"
   ]
  },
  {
   "cell_type": "markdown",
   "metadata": {},
   "source": [
    "The first polynomial is the only one that only depends on $x,y,z$, so the variety defined by the parametrization is given by that one polynomial! "
   ]
  },
  {
   "cell_type": "markdown",
   "metadata": {},
   "source": [
    "**Code tip:** To avoid having to manually find which entries of the Gröbner basis we should use to construct the elimination ideal, we can use the following simple **list comprehension**. List comprehension is a very nice tool in Julia for creating lists, so it's a good idea to learn how this works.\n",
    "\n",
    "**Exercise:** What list would the following command would generate: `[k^2 for k in [1,2,3,4,5,6] if iseven(k)]` ? Try it and see if you're correct!\n",
    "\n",
    "The commands `vars`, `intersect` and `isempty` are also very good to know about!"
   ]
  },
  {
   "cell_type": "code",
   "execution_count": 6,
   "metadata": {},
   "outputs": [
    {
     "data": {
      "text/plain": [
       "1-element Vector{QQMPolyRingElem}:\n",
       " 19683*x^6 - 59049*x^4*y^2 + 10935*x^4*z^3 + 118098*x^4*z^2 - 59049*x^4*z + 59049*x^2*y^4 + 56862*x^2*y^2*z^3 + 118098*x^2*y^2*z + 1296*x^2*z^6 + 34992*x^2*z^5 + 174960*x^2*z^4 - 314928*x^2*z^3 - 19683*y^6 + 10935*y^4*z^3 - 118098*y^4*z^2 - 59049*y^4*z - 1296*y^2*z^6 + 34992*y^2*z^5 - 174960*y^2*z^4 - 314928*y^2*z^3 - 64*z^9 + 10368*z^7 - 419904*z^5"
      ]
     },
     "execution_count": 6,
     "metadata": {},
     "output_type": "execute_result"
    }
   ],
   "source": [
    "G2 = [g for g in G if isempty(intersect(vars(g),[u,v]))]"
   ]
  },
  {
   "cell_type": "markdown",
   "metadata": {},
   "source": [
    "**Mode coding advice:** If we like, we can even turn this into a small function that might come handy later in this notebook!"
   ]
  },
  {
   "cell_type": "code",
   "execution_count": 7,
   "metadata": {},
   "outputs": [],
   "source": [
    "eliminate_variables = (G,variables_to_eliminate) -> [g for g in G if isempty(intersect(vars(g),variables_to_eliminate))];"
   ]
  },
  {
   "cell_type": "code",
   "execution_count": 8,
   "metadata": {},
   "outputs": [
    {
     "data": {
      "text/plain": [
       "1-element Vector{QQMPolyRingElem}:\n",
       " 19683*x^6 - 59049*x^4*y^2 + 10935*x^4*z^3 + 118098*x^4*z^2 - 59049*x^4*z + 59049*x^2*y^4 + 56862*x^2*y^2*z^3 + 118098*x^2*y^2*z + 1296*x^2*z^6 + 34992*x^2*z^5 + 174960*x^2*z^4 - 314928*x^2*z^3 - 19683*y^6 + 10935*y^4*z^3 - 118098*y^4*z^2 - 59049*y^4*z - 1296*y^2*z^6 + 34992*y^2*z^5 - 174960*y^2*z^4 - 314928*y^2*z^3 - 64*z^9 + 10368*z^7 - 419904*z^5"
      ]
     },
     "execution_count": 8,
     "metadata": {},
     "output_type": "execute_result"
    }
   ],
   "source": [
    "G2 = eliminate_variables(G,[u,v])"
   ]
  },
  {
   "cell_type": "markdown",
   "metadata": {},
   "source": [
    "To see if the parametrization fills up the variety, we need to apply the **extension theorem** twice: once to extend with respect to $v$ and once to extend with respect to $u$. The idea here is that we're imagining two eliminations, once with respect to $u$ and one further with respect to $v$.\n",
    "\n",
    "Let's start with $v$: we find the polynomials depending on v,x,y,z, that is, we eliminate u:"
   ]
  },
  {
   "cell_type": "code",
   "execution_count": 9,
   "metadata": {},
   "outputs": [
    {
     "data": {
      "text/plain": [
       "9-element Vector{QQMPolyRingElem}:\n",
       " 19683*x^6 - 59049*x^4*y^2 + 10935*x^4*z^3 + 118098*x^4*z^2 - 59049*x^4*z + 59049*x^2*y^4 + 56862*x^2*y^2*z^3 + 118098*x^2*y^2*z + 1296*x^2*z^6 + 34992*x^2*z^5 + 174960*x^2*z^4 - 314928*x^2*z^3 - 19683*y^6 + 10935*y^4*z^3 - 118098*y^4*z^2 - 59049*y^4*z - 1296*y^2*z^6 + 34992*y^2*z^5 - 174960*y^2*z^4 - 314928*y^2*z^3 - 64*z^9 + 10368*z^7 - 419904*z^5\n",
       " 8748*v*y^3*z^2 + 648*v*y*z^5 + 5832*v*y*z^4 + 17496*v*y*z^3 + 17496*v*y*z^2 - 729*x^4*z - 2187*x^4 + 5832*x^2*y^2*z + 4374*x^2*y^2 - 189*x^2*z^4 - 2997*x^2*z^3 - 5103*x^2*z^2 + 6561*x^2*z - 5103*y^4*z - 2187*y^4 - 945*y^2*z^4 + 81*y^2*z^3 - 16767*y^2*z^2 - 6561*y^2*z + 8*z^7 - 48*z^6 - 864*z^5 + 3888*z^4 + 17496*z^3\n",
       " 27*v*x^2*z + 81*v*x^2 + 135*v*y^2*z - 81*v*y^2 + 8*v*z^4 + 96*v*z^3 + 216*v*z^2 + 81*x^2*y - 81*y^3 - 12*y*z^3 - 324*y*z\n",
       " 4374*v*x^2*y + 8748*v*y^3*z - 4374*v*y^3 + 648*v*y*z^4 + 5184*v*y*z^3 + 17496*v*y*z^2 - 729*x^4 + 5832*x^2*y^2 - 189*x^2*z^3 - 2430*x^2*z^2 + 2187*x^2*z - 5103*y^4 - 945*y^2*z^3 + 972*y^2*z^2 - 19683*y^2*z + 8*z^6 - 72*z^5 - 648*z^4 + 5832*z^3\n",
       " 2187*v*x^4 + 69984*v*x^2 + 8748*v*y^4*z - 2187*v*y^4 + 648*v*y^2*z^4 + 3240*v*y^2*z^3 - 11664*v*y^2*z^2 + 139968*v*y^2*z - 69984*v*y^2 - 192*v*z^6 - 3456*v*z^5 - 15552*v*z^4 + 20736*v*z^3 + 186624*v*z^2 - 729*x^4*y + 5832*x^2*y^3 - 189*x^2*y*z^3 - 7047*x^2*y*z^2 - 23328*x^2*y*z + 69984*x^2*y - 5103*y^5 - 945*y^3*z^3 + 1215*y^3*z^2 + 5832*y^3*z - 69984*y^3 + 8*y*z^6 + 288*y*z^5 + 216*y*z^4 + 5184*y*z^3 + 93312*y*z^2 - 279936*y*z\n",
       " 18*v^2*z^2 + 54*v^2*z - 54*v*y*z - 27*x^2 + 27*y^2 + z^3 - 18*z^2 + 81*z\n",
       " 54*v^2*y*z + 27*v*x^2 - 27*v*y^2 + 8*v*z^3 + 72*v*z^2 - 9*y*z^2 - 27*y*z\n",
       " 243*v^2*x^2 - 243*v^2*y^2 - 1296*v^2*z - 108*v*y*z^2 + 324*v*y*z + 108*x^2*z + 648*x^2 + 135*y^2*z - 648*y^2 - 4*z^4 + 48*z^3 + 108*z^2 - 1944*z\n",
       " 2*v^3 + v*z + 3*v - y"
      ]
     },
     "execution_count": 9,
     "metadata": {},
     "output_type": "execute_result"
    }
   ],
   "source": [
    "eliminate_variables(G,[u])"
   ]
  },
  {
   "cell_type": "markdown",
   "metadata": {},
   "source": [
    " We note that element number 9 only depends on $y$ and $v$. As the coefficient of $v^3$ does not vanish for any $(x,y,z)$, we know we can find $v$ satisfying the equation by the extension theorem!\n",
    "\n",
    "Now, let's extend with respect to $u$. Here we can look at the original generators, and we see the last generating polynomial $z-3u^2+3v^2$ has a constant term $-3$ as the leading coefficient with respect to $u$. Hence, we can extend again!\n",
    "\n",
    "We conclude that the parametrization fills up the variety. "
   ]
  },
  {
   "cell_type": "markdown",
   "metadata": {},
   "source": [
    "**Coding sidenote:** Instead of using list comprehension, you could also construct G1 with a for-loop, in the following way. Feel free to pick your favorite method!"
   ]
  },
  {
   "cell_type": "code",
   "execution_count": 10,
   "metadata": {},
   "outputs": [
    {
     "data": {
      "text/plain": [
       "1-element Vector{QQMPolyRingElem}:\n",
       " 19683*x^6 - 59049*x^4*y^2 + 10935*x^4*z^3 + 118098*x^4*z^2 - 59049*x^4*z + 59049*x^2*y^4 + 56862*x^2*y^2*z^3 + 118098*x^2*y^2*z + 1296*x^2*z^6 + 34992*x^2*z^5 + 174960*x^2*z^4 - 314928*x^2*z^3 - 19683*y^6 + 10935*y^4*z^3 - 118098*y^4*z^2 - 59049*y^4*z - 1296*y^2*z^6 + 34992*y^2*z^5 - 174960*y^2*z^4 - 314928*y^2*z^3 - 64*z^9 + 10368*z^7 - 419904*z^5"
      ]
     },
     "execution_count": 10,
     "metadata": {},
     "output_type": "execute_result"
    }
   ],
   "source": [
    "G1 = Array{QQMPolyRingElem,1}()\n",
    "for g in G\n",
    "   if issubset(vars(g),[x,y,z]) # decide whether g depends only on x,y,z\n",
    "        push!(G1,g) #Add g to the list G1\n",
    "   end\n",
    "end\n",
    "G1"
   ]
  },
  {
   "cell_type": "markdown",
   "metadata": {},
   "source": [
    "## Exercise 6 (folium of Descartes)"
   ]
  },
  {
   "cell_type": "code",
   "execution_count": 11,
   "metadata": {},
   "outputs": [
    {
     "data": {
      "text/plain": [
       "ideal(t^3*x - 3*t + x, t^3*y - 3*t^2 + y, -u*t^6 - 2*u*t^3 - u + 1)"
      ]
     },
     "execution_count": 11,
     "metadata": {},
     "output_type": "execute_result"
    }
   ],
   "source": [
    "R, (u,t,x,y) = polynomial_ring(QQ,[\"u\",\"t\",\"x\",\"y\"])\n",
    "I = ideal([(1+t^3)*x-3*t, (1+t^3)*y-(3*t^2),1-(1+t^3)^2*u])"
   ]
  },
  {
   "cell_type": "code",
   "execution_count": 12,
   "metadata": {},
   "outputs": [
    {
     "data": {
      "text/plain": [
       "Gröbner basis with elements\n",
       "1 -> x^3 - 3*x*y + y^3\n",
       "2 -> t*y^2 + x^2 - 3*y\n",
       "3 -> t*x - y\n",
       "4 -> t^2*y - 3*t + x\n",
       "5 -> 9*u + 3*t*y + x*y - 9\n",
       "with respect to the ordering\n",
       "lex([u, t, x, y])"
      ]
     },
     "execution_count": 12,
     "metadata": {},
     "output_type": "execute_result"
    }
   ],
   "source": [
    "G = groebner_basis(I,ordering=lex(R),complete_reduction = true)"
   ]
  },
  {
   "cell_type": "markdown",
   "metadata": {},
   "source": [
    "The smallest variety is a hypersurface $V\\subseteq\\mathbb{C}^2$ cut out by the single polynomial $x^3 - 3xy + y^3$. \n",
    "\n",
    "We use **extension** two times to check if all of this surface is covered by the parametrization.  \n",
    "\n",
    "We begin by extending with respect to $t$. To do this, we inspect first the leading coefficient in $t$ of all the generators of the elimination ideal $I\\cap \\mathbb{Q}[t,x,y,z]$:\n"
   ]
  },
  {
   "cell_type": "code",
   "execution_count": 13,
   "metadata": {},
   "outputs": [
    {
     "data": {
      "text/plain": [
       "4-element Vector{QQMPolyRingElem}:\n",
       " x^3 - 3*x*y + y^3\n",
       " t*y^2 + x^2 - 3*y\n",
       " t*x - y\n",
       " t^2*y - 3*t + x"
      ]
     },
     "execution_count": 13,
     "metadata": {},
     "output_type": "execute_result"
    }
   ],
   "source": [
    "G2 = eliminate_variables(G,[u])"
   ]
  },
  {
   "cell_type": "markdown",
   "metadata": {},
   "source": [
    "The leading coefficients in $t$ are $x,y^2,y$. So:\n",
    "\n",
    "- It is clear that if either $x$ or $y$ are different from zero, then we can extend with respect to $t$.\n",
    "- If both are zero, then, clearly by choosing $t=0$, the point $(x,y)$ is in the image of the parametrization. \n",
    "\n",
    "Next we need to extend to the variable $u$. For this, we consider the whole ideal $I$. We note that the last element of the GB has leading coefficient 9 in $u$, which is constant, so we can indeed extend. \n",
    "\n",
    "This implies that the parametrization covers all of $V$ over $\\mathbb{C}$.\n",
    "\n",
    "**What about over $\\mathbb{R}$?** \n",
    "\n",
    "Then it still works, since the second and third element of the Gröbner basis are linear $t$, and therefore make it easy to solve for $t$ when $x\\neq 0$ or $y\\neq 0$."
   ]
  },
  {
   "cell_type": "markdown",
   "metadata": {},
   "source": [
    "## Exercise 7 (del Pezzo)"
   ]
  },
  {
   "cell_type": "markdown",
   "metadata": {},
   "source": [
    "Let $f,g\\in\\mathbb{Q}[x_1,\\ldots,x_4,a_1,\\ldots,a_5]$ be the two polynomials described in the exercise. \n",
    "\n",
    "We want to find the $a\\in\\mathbb{C}^4$ for which the variety $V_a:=\\mathbb{V}(f(x,a) ,g(x,a))\\subseteq\\mathbb{C}^4$ is smooth.\n",
    "\n",
    "**Idea:** It's easier to describe the situation where the variety is **not** smooth. \n",
    "\n",
    "If the variety is **not** smooth for an $a\\in\\mathbb{C}^5$, then there exists some $x\\in\\mathbb{C}^4$ such that $f(x,a)=0$, $g(x,a)=0$ and  $\\operatorname{rank}(\\operatorname{Jac}(x,a))<2$, where $\\operatorname{Jac}$ is the Jacobian matrix: \n",
    "$$\\operatorname{Jac}=\\begin{bmatrix}\\partial f/\\partial x & \\partial f/\\partial y\\\\ \\partial g/\\partial x & \\partial g/\\partial y\\end{bmatrix}.$$\n",
    "\n",
    "**Equivalently:** $a\\in\\mathbb{C}^5$ lies in the projection $\\pi(\\mathbb{V}(I))$ for the ideal \n",
    "$$I=\\Big\\langle \\{f, g\\}\\cup\\{\\text{$2\\times 2$ minors of $\\operatorname{Jac}$}\\} \\Big\\rangle\\subseteq\\mathbb{Q}[x_1,\\ldots,x_4,a_1,\\ldots,a_5],$$\n",
    "where $\\pi\\colon \\mathbb{C}^4\\times\\mathbb{C}^5\\to\\mathbb{C}^5$ is the canonical projection $(x_1,\\ldots,x_4,a_1,\\ldots,a_5)\\mapsto (a_1,\\ldots,a_5)$.\n",
    "\n",
    "Hence, our strategy will be to use the closure theorem, to find the smallest variety that contains the projection $\\pi(\\mathbb{V}(I))$. For all $a$ outside this variety, we will then have a smooth surface."
   ]
  },
  {
   "cell_type": "markdown",
   "metadata": {},
   "source": [
    "**Coding trick:** Here it makes sense to enter the variables with indices, to make the code a bit cleaner:"
   ]
  },
  {
   "cell_type": "code",
   "execution_count": 32,
   "metadata": {},
   "outputs": [
    {
     "data": {
      "text/plain": [
       "(Multivariate polynomial ring in 9 variables over QQ, QQMPolyRingElem[x_{1}, x_{2}, x_{3}, x_{4}], QQMPolyRingElem[a_{1}, a_{2}, a_{3}, a_{4}, a_{5}])"
      ]
     },
     "execution_count": 32,
     "metadata": {},
     "output_type": "execute_result"
    }
   ],
   "source": [
    "R, x,a = polynomial_ring(QQ, \"x\"=>1:4, \"a\"=>1:5)"
   ]
  },
  {
   "cell_type": "markdown",
   "metadata": {},
   "source": [
    "With this, we call the variables by writing, e.g., a[1], or x[3]. For instance:"
   ]
  },
  {
   "cell_type": "code",
   "execution_count": 33,
   "metadata": {},
   "outputs": [
    {
     "data": {
      "text/plain": [
       "x_{1}^2*a_{1} + x_{1}^2*a_{5} + 2*x_{1}*x_{2}*a_{5} + 2*x_{1}*x_{3}*a_{5} + 2*x_{1}*x_{4}*a_{5} - 2*x_{1}*a_{5} + x_{2}^2*a_{2} + x_{2}^2*a_{5} + 2*x_{2}*x_{3}*a_{5} + 2*x_{2}*x_{4}*a_{5} - 2*x_{2}*a_{5} + x_{3}^2*a_{3} + x_{3}^2*a_{5} + 2*x_{3}*x_{4}*a_{5} - 2*x_{3}*a_{5} + x_{4}^2*a_{4} + x_{4}^2*a_{5} - 2*x_{4}*a_{5} + a_{5}"
      ]
     },
     "execution_count": 33,
     "metadata": {},
     "output_type": "execute_result"
    }
   ],
   "source": [
    "f=x[1]*x[2]-x[3]*x[4]\n",
    "g=a[1]*x[1]^2+a[2]*x[2]^2+a[3]*x[3]^2+a[4]*x[4]^2+a[5]*(1-x[1]-x[2]-x[3]-x[4])^2"
   ]
  },
  {
   "cell_type": "markdown",
   "metadata": {},
   "source": [
    "We now want to set up the Jacobian. The `derivative` command comes in handy!"
   ]
  },
  {
   "cell_type": "code",
   "execution_count": 38,
   "metadata": {},
   "outputs": [
    {
     "data": {
      "text/plain": [
       "x_{2}"
      ]
     },
     "execution_count": 38,
     "metadata": {},
     "output_type": "execute_result"
    }
   ],
   "source": [
    "derivative(f,x[1])"
   ]
  },
  {
   "cell_type": "code",
   "execution_count": 42,
   "metadata": {},
   "outputs": [
    {
     "data": {
      "text/plain": [
       "4-element Vector{QQMPolyRingElem}:\n",
       " x_{2}\n",
       " x_{1}\n",
       " -x_{4}\n",
       " -x_{3}"
      ]
     },
     "execution_count": 42,
     "metadata": {},
     "output_type": "execute_result"
    }
   ],
   "source": [
    "row_f = [derivative(f,x[i]) for i in 1:4]"
   ]
  },
  {
   "cell_type": "code",
   "execution_count": 43,
   "metadata": {},
   "outputs": [
    {
     "data": {
      "text/plain": [
       "4-element Vector{QQMPolyRingElem}:\n",
       " 2*x_{1}*a_{1} + 2*x_{1}*a_{5} + 2*x_{2}*a_{5} + 2*x_{3}*a_{5} + 2*x_{4}*a_{5} - 2*a_{5}\n",
       " 2*x_{1}*a_{5} + 2*x_{2}*a_{2} + 2*x_{2}*a_{5} + 2*x_{3}*a_{5} + 2*x_{4}*a_{5} - 2*a_{5}\n",
       " 2*x_{1}*a_{5} + 2*x_{2}*a_{5} + 2*x_{3}*a_{3} + 2*x_{3}*a_{5} + 2*x_{4}*a_{5} - 2*a_{5}\n",
       " 2*x_{1}*a_{5} + 2*x_{2}*a_{5} + 2*x_{3}*a_{5} + 2*x_{4}*a_{4} + 2*x_{4}*a_{5} - 2*a_{5}"
      ]
     },
     "execution_count": 43,
     "metadata": {},
     "output_type": "execute_result"
    }
   ],
   "source": [
    "row_g = [derivative(g,x[i]) for i in 1:4]"
   ]
  },
  {
   "cell_type": "code",
   "execution_count": 44,
   "metadata": {},
   "outputs": [
    {
     "data": {
      "text/plain": [
       "[                                                                                  x_{2}                                                                                     x_{1}                                                                                    -x_{4}                                                                                    -x_{3}]\n",
       "[2*x_{1}*a_{1} + 2*x_{1}*a_{5} + 2*x_{2}*a_{5} + 2*x_{3}*a_{5} + 2*x_{4}*a_{5} - 2*a_{5}   2*x_{1}*a_{5} + 2*x_{2}*a_{2} + 2*x_{2}*a_{5} + 2*x_{3}*a_{5} + 2*x_{4}*a_{5} - 2*a_{5}   2*x_{1}*a_{5} + 2*x_{2}*a_{5} + 2*x_{3}*a_{3} + 2*x_{3}*a_{5} + 2*x_{4}*a_{5} - 2*a_{5}   2*x_{1}*a_{5} + 2*x_{2}*a_{5} + 2*x_{3}*a_{5} + 2*x_{4}*a_{4} + 2*x_{4}*a_{5} - 2*a_{5}]"
      ]
     },
     "execution_count": 44,
     "metadata": {},
     "output_type": "execute_result"
    }
   ],
   "source": [
    "jac = matrix([row_f,row_g])"
   ]
  },
  {
   "cell_type": "markdown",
   "metadata": {},
   "source": [
    "We now compute all 2-by-2 minors of the Jacobian with the `minors` command:"
   ]
  },
  {
   "cell_type": "code",
   "execution_count": 45,
   "metadata": {},
   "outputs": [
    {
     "data": {
      "text/plain": [
       "6-element Vector{QQMPolyRingElem}:\n",
       " -2*x_{1}^2*a_{1} - 2*x_{1}^2*a_{5} - 2*x_{1}*x_{3}*a_{5} - 2*x_{1}*x_{4}*a_{5} + 2*x_{1}*a_{5} + 2*x_{2}^2*a_{2} + 2*x_{2}^2*a_{5} + 2*x_{2}*x_{3}*a_{5} + 2*x_{2}*x_{4}*a_{5} - 2*x_{2}*a_{5}\n",
       " 2*x_{1}*x_{2}*a_{5} + 2*x_{1}*x_{4}*a_{1} + 2*x_{1}*x_{4}*a_{5} + 2*x_{2}^2*a_{5} + 2*x_{2}*x_{3}*a_{3} + 2*x_{2}*x_{3}*a_{5} + 4*x_{2}*x_{4}*a_{5} - 2*x_{2}*a_{5} + 2*x_{3}*x_{4}*a_{5} + 2*x_{4}^2*a_{5} - 2*x_{4}*a_{5}\n",
       " 2*x_{1}^2*a_{5} + 2*x_{1}*x_{2}*a_{5} + 2*x_{1}*x_{3}*a_{3} + 2*x_{1}*x_{3}*a_{5} + 4*x_{1}*x_{4}*a_{5} - 2*x_{1}*a_{5} + 2*x_{2}*x_{4}*a_{2} + 2*x_{2}*x_{4}*a_{5} + 2*x_{3}*x_{4}*a_{5} + 2*x_{4}^2*a_{5} - 2*x_{4}*a_{5}\n",
       " 2*x_{1}*x_{2}*a_{5} + 2*x_{1}*x_{3}*a_{1} + 2*x_{1}*x_{3}*a_{5} + 2*x_{2}^2*a_{5} + 4*x_{2}*x_{3}*a_{5} + 2*x_{2}*x_{4}*a_{4} + 2*x_{2}*x_{4}*a_{5} - 2*x_{2}*a_{5} + 2*x_{3}^2*a_{5} + 2*x_{3}*x_{4}*a_{5} - 2*x_{3}*a_{5}\n",
       " 2*x_{1}^2*a_{5} + 2*x_{1}*x_{2}*a_{5} + 4*x_{1}*x_{3}*a_{5} + 2*x_{1}*x_{4}*a_{4} + 2*x_{1}*x_{4}*a_{5} - 2*x_{1}*a_{5} + 2*x_{2}*x_{3}*a_{2} + 2*x_{2}*x_{3}*a_{5} + 2*x_{3}^2*a_{5} + 2*x_{3}*x_{4}*a_{5} - 2*x_{3}*a_{5}\n",
       " 2*x_{1}*x_{3}*a_{5} - 2*x_{1}*x_{4}*a_{5} + 2*x_{2}*x_{3}*a_{5} - 2*x_{2}*x_{4}*a_{5} + 2*x_{3}^2*a_{3} + 2*x_{3}^2*a_{5} - 2*x_{3}*a_{5} - 2*x_{4}^2*a_{4} - 2*x_{4}^2*a_{5} + 2*x_{4}*a_{5}"
      ]
     },
     "execution_count": 45,
     "metadata": {},
     "output_type": "execute_result"
    }
   ],
   "source": [
    "M = minors(jac,2)"
   ]
  },
  {
   "cell_type": "markdown",
   "metadata": {},
   "source": [
    "We concatenate this with the list of the polynomials we started with, and use this to form our ideal!\n",
    "\n",
    "The `vcat` command is useful for concatenating lists."
   ]
  },
  {
   "cell_type": "code",
   "execution_count": 46,
   "metadata": {},
   "outputs": [
    {
     "data": {
      "text/plain": [
       "8-element Vector{QQMPolyRingElem}:\n",
       " x_{1}*x_{2} - x_{3}*x_{4}\n",
       " x_{1}^2*a_{1} + x_{1}^2*a_{5} + 2*x_{1}*x_{2}*a_{5} + 2*x_{1}*x_{3}*a_{5} + 2*x_{1}*x_{4}*a_{5} - 2*x_{1}*a_{5} + x_{2}^2*a_{2} + x_{2}^2*a_{5} + 2*x_{2}*x_{3}*a_{5} + 2*x_{2}*x_{4}*a_{5} - 2*x_{2}*a_{5} + x_{3}^2*a_{3} + x_{3}^2*a_{5} + 2*x_{3}*x_{4}*a_{5} - 2*x_{3}*a_{5} + x_{4}^2*a_{4} + x_{4}^2*a_{5} - 2*x_{4}*a_{5} + a_{5}\n",
       " -2*x_{1}^2*a_{1} - 2*x_{1}^2*a_{5} - 2*x_{1}*x_{3}*a_{5} - 2*x_{1}*x_{4}*a_{5} + 2*x_{1}*a_{5} + 2*x_{2}^2*a_{2} + 2*x_{2}^2*a_{5} + 2*x_{2}*x_{3}*a_{5} + 2*x_{2}*x_{4}*a_{5} - 2*x_{2}*a_{5}\n",
       " 2*x_{1}*x_{2}*a_{5} + 2*x_{1}*x_{4}*a_{1} + 2*x_{1}*x_{4}*a_{5} + 2*x_{2}^2*a_{5} + 2*x_{2}*x_{3}*a_{3} + 2*x_{2}*x_{3}*a_{5} + 4*x_{2}*x_{4}*a_{5} - 2*x_{2}*a_{5} + 2*x_{3}*x_{4}*a_{5} + 2*x_{4}^2*a_{5} - 2*x_{4}*a_{5}\n",
       " 2*x_{1}^2*a_{5} + 2*x_{1}*x_{2}*a_{5} + 2*x_{1}*x_{3}*a_{3} + 2*x_{1}*x_{3}*a_{5} + 4*x_{1}*x_{4}*a_{5} - 2*x_{1}*a_{5} + 2*x_{2}*x_{4}*a_{2} + 2*x_{2}*x_{4}*a_{5} + 2*x_{3}*x_{4}*a_{5} + 2*x_{4}^2*a_{5} - 2*x_{4}*a_{5}\n",
       " 2*x_{1}*x_{2}*a_{5} + 2*x_{1}*x_{3}*a_{1} + 2*x_{1}*x_{3}*a_{5} + 2*x_{2}^2*a_{5} + 4*x_{2}*x_{3}*a_{5} + 2*x_{2}*x_{4}*a_{4} + 2*x_{2}*x_{4}*a_{5} - 2*x_{2}*a_{5} + 2*x_{3}^2*a_{5} + 2*x_{3}*x_{4}*a_{5} - 2*x_{3}*a_{5}\n",
       " 2*x_{1}^2*a_{5} + 2*x_{1}*x_{2}*a_{5} + 4*x_{1}*x_{3}*a_{5} + 2*x_{1}*x_{4}*a_{4} + 2*x_{1}*x_{4}*a_{5} - 2*x_{1}*a_{5} + 2*x_{2}*x_{3}*a_{2} + 2*x_{2}*x_{3}*a_{5} + 2*x_{3}^2*a_{5} + 2*x_{3}*x_{4}*a_{5} - 2*x_{3}*a_{5}\n",
       " 2*x_{1}*x_{3}*a_{5} - 2*x_{1}*x_{4}*a_{5} + 2*x_{2}*x_{3}*a_{5} - 2*x_{2}*x_{4}*a_{5} + 2*x_{3}^2*a_{3} + 2*x_{3}^2*a_{5} - 2*x_{3}*a_{5} - 2*x_{4}^2*a_{4} - 2*x_{4}^2*a_{5} + 2*x_{4}*a_{5}"
      ]
     },
     "execution_count": 46,
     "metadata": {},
     "output_type": "execute_result"
    }
   ],
   "source": [
    "vcat([f,g],M)"
   ]
  },
  {
   "cell_type": "code",
   "execution_count": 47,
   "metadata": {},
   "outputs": [
    {
     "data": {
      "text/plain": [
       "ideal(x_{1}*x_{2} - x_{3}*x_{4}, x_{1}^2*a_{1} + x_{1}^2*a_{5} + 2*x_{1}*x_{2}*a_{5} + 2*x_{1}*x_{3}*a_{5} + 2*x_{1}*x_{4}*a_{5} - 2*x_{1}*a_{5} + x_{2}^2*a_{2} + x_{2}^2*a_{5} + 2*x_{2}*x_{3}*a_{5} + 2*x_{2}*x_{4}*a_{5} - 2*x_{2}*a_{5} + x_{3}^2*a_{3} + x_{3}^2*a_{5} + 2*x_{3}*x_{4}*a_{5} - 2*x_{3}*a_{5} + x_{4}^2*a_{4} + x_{4}^2*a_{5} - 2*x_{4}*a_{5} + a_{5}, -2*x_{1}^2*a_{1} - 2*x_{1}^2*a_{5} - 2*x_{1}*x_{3}*a_{5} - 2*x_{1}*x_{4}*a_{5} + 2*x_{1}*a_{5} + 2*x_{2}^2*a_{2} + 2*x_{2}^2*a_{5} + 2*x_{2}*x_{3}*a_{5} + 2*x_{2}*x_{4}*a_{5} - 2*x_{2}*a_{5}, 2*x_{1}*x_{2}*a_{5} + 2*x_{1}*x_{4}*a_{1} + 2*x_{1}*x_{4}*a_{5} + 2*x_{2}^2*a_{5} + 2*x_{2}*x_{3}*a_{3} + 2*x_{2}*x_{3}*a_{5} + 4*x_{2}*x_{4}*a_{5} - 2*x_{2}*a_{5} + 2*x_{3}*x_{4}*a_{5} + 2*x_{4}^2*a_{5} - 2*x_{4}*a_{5}, 2*x_{1}^2*a_{5} + 2*x_{1}*x_{2}*a_{5} + 2*x_{1}*x_{3}*a_{3} + 2*x_{1}*x_{3}*a_{5} + 4*x_{1}*x_{4}*a_{5} - 2*x_{1}*a_{5} + 2*x_{2}*x_{4}*a_{2} + 2*x_{2}*x_{4}*a_{5} + 2*x_{3}*x_{4}*a_{5} + 2*x_{4}^2*a_{5} - 2*x_{4}*a_{5}, 2*x_{1}*x_{2}*a_{5} + 2*x_{1}*x_{3}*a_{1} + 2*x_{1}*x_{3}*a_{5} + 2*x_{2}^2*a_{5} + 4*x_{2}*x_{3}*a_{5} + 2*x_{2}*x_{4}*a_{4} + 2*x_{2}*x_{4}*a_{5} - 2*x_{2}*a_{5} + 2*x_{3}^2*a_{5} + 2*x_{3}*x_{4}*a_{5} - 2*x_{3}*a_{5}, 2*x_{1}^2*a_{5} + 2*x_{1}*x_{2}*a_{5} + 4*x_{1}*x_{3}*a_{5} + 2*x_{1}*x_{4}*a_{4} + 2*x_{1}*x_{4}*a_{5} - 2*x_{1}*a_{5} + 2*x_{2}*x_{3}*a_{2} + 2*x_{2}*x_{3}*a_{5} + 2*x_{3}^2*a_{5} + 2*x_{3}*x_{4}*a_{5} - 2*x_{3}*a_{5}, 2*x_{1}*x_{3}*a_{5} - 2*x_{1}*x_{4}*a_{5} + 2*x_{2}*x_{3}*a_{5} - 2*x_{2}*x_{4}*a_{5} + 2*x_{3}^2*a_{3} + 2*x_{3}^2*a_{5} - 2*x_{3}*a_{5} - 2*x_{4}^2*a_{4} - 2*x_{4}^2*a_{5} + 2*x_{4}*a_{5})"
      ]
     },
     "execution_count": 47,
     "metadata": {},
     "output_type": "execute_result"
    }
   ],
   "source": [
    "I=ideal(R,vcat([f,g],M))"
   ]
  },
  {
   "cell_type": "markdown",
   "metadata": {},
   "source": [
    "We are now ready to compute a Gröbner basis and perform elimination!"
   ]
  },
  {
   "cell_type": "code",
   "execution_count": 48,
   "metadata": {},
   "outputs": [
    {
     "data": {
      "text/plain": [
       "Gröbner basis with elements\n",
       "1 -> a_{1}^2*a_{2}^2*a_{3}*a_{4}*a_{5}^2 - a_{1}*a_{2}*a_{3}^2*a_{4}^2*a_{5}^2\n",
       "2 -> x_{4}*a_{1}*a_{2}*a_{4}*a_{5} - x_{4}*a_{3}*a_{4}^2*a_{5}\n",
       "3 -> x_{4}*a_{1}^2*a_{2}^2*a_{3}*a_{5}^2 - x_{4}*a_{3}^3*a_{4}^2*a_{5}^2 - a_{1}^2*a_{2}^2*a_{3}*a_{5}^2 + a_{1}*a_{2}*a_{3}^2*a_{4}*a_{5}^2\n",
       "4 -> x_{4}^2*a_{1}*a_{2}*a_{5} - x_{4}^2*a_{3}*a_{4}*a_{5} - x_{4}*a_{1}*a_{2}*a_{5} + x_{4}*a_{3}*a_{4}*a_{5}\n",
       "5 -> x_{4}^3*a_{1}*a_{2}*a_{4} - x_{4}^3*a_{3}*a_{4}^2\n",
       "6 -> x_{4}^4*a_{2}^4*a_{4}*a_{5}^2 + 2*x_{4}^4*a_{2}^3*a_{3}*a_{4}*a_{5}^2 + 2*x_{4}^4*a_{2}^3*a_{4}^2*a_{5}^2 + x_{4}^4*a_{2}^2*a_{3}^2*a_{4}*a_{5}^2 + 4*x_{4}^4*a_{2}^2*a_{3}*a_{4}^2*a_{5}^2 + x_{4}^4*a_{2}^2*a_{4}^3*a_{5}^2 + 2*x_{4}^4*a_{2}*a_{3}^2*a_{4}^2*a_{5}^2 + 2*x_{4}^4*a_{2}*a_{3}*a_{4}^3*a_{5}^2 + x_{4}^4*a_{3}^2*a_{4}^3*a_{5}^2 - 4*x_{4}^3*a_{2}^3*a_{3}*a_{4}*a_{5}^2 - 4*x_{4}^3*a_{2}^2*a_{3}^2*a_{4}*a_{5}^2 - 4*x_{4}^3*a_{2}^2*a_{3}*a_{4}^2*a_{5}^2 - 4*x_{4}^3*a_{2}*a_{3}^2*a_{4}^2*a_{5}^2 + 2*x_{4}^2*a_{2}^3*a_{3}*a_{4}*a_{5}^2 + 6*x_{4}^2*a_{2}^2*a_{3}^2*a_{4}*a_{5}^2 - 2*x_{4}^2*a_{2}^2*a_{3}*a_{4}^2*a_{5}^2 + 2*x_{4}^2*a_{2}*a_{3}^2*a_{4}^2*a_{5}^2 - x_{4}*a_{1}*a_{2}^3*a_{3}*a_{5}^2 - 3*x_{4}*a_{2}^2*a_{3}^2*a_{4}*a_{5}^2 + a_{1}*a_{2}^3*a_{3}*a_{5}^2\n",
       "7 -> x_{4}^4*a_{1}*a_{3}*a_{4}^2*a_{5}^2 + x_{4}^4*a_{2}^3*a_{4}*a_{5}^2 + 2*x_{4}^4*a_{2}^2*a_{3}*a_{4}*a_{5}^2 + 2*x_{4}^4*a_{2}^2*a_{4}^2*a_{5}^2 + x_{4}^4*a_{2}*a_{3}^2*a_{4}*a_{5}^2 + 4*x_{4}^4*a_{2}*a_{3}*a_{4}^2*a_{5}^2 + x_{4}^4*a_{2}*a_{4}^3*a_{5}^2 + 2*x_{4}^4*a_{3}^2*a_{4}^2*a_{5}^2 + 2*x_{4}^4*a_{3}*a_{4}^3*a_{5}^2 - 4*x_{4}^3*a_{2}^2*a_{3}*a_{4}*a_{5}^2 - 4*x_{4}^3*a_{2}*a_{3}^2*a_{4}*a_{5}^2 - 4*x_{4}^3*a_{2}*a_{3}*a_{4}^2*a_{5}^2 - 4*x_{4}^3*a_{3}^2*a_{4}^2*a_{5}^2 + 2*x_{4}^2*a_{2}^2*a_{3}*a_{4}*a_{5}^2 + 6*x_{4}^2*a_{2}*a_{3}^2*a_{4}*a_{5}^2 - 2*x_{4}^2*a_{2}*a_{3}*a_{4}^2*a_{5}^2 + 2*x_{4}^2*a_{3}^2*a_{4}^2*a_{5}^2 - x_{4}*a_{1}*a_{2}^2*a_{3}*a_{5}^2 - 3*x_{4}*a_{2}*a_{3}^2*a_{4}*a_{5}^2 + a_{1}*a_{2}^2*a_{3}*a_{5}^2\n",
       "8 -> x_{4}^4*a_{1}^2*a_{4}*a_{5}^2 + 2*x_{4}^4*a_{1}*a_{3}*a_{4}*a_{5}^2 + 2*x_{4}^4*a_{1}*a_{4}^2*a_{5}^2 + x_{4}^4*a_{2}^2*a_{4}*a_{5}^2 + 2*x_{4}^4*a_{2}*a_{3}*a_{4}*a_{5}^2 + 2*x_{4}^4*a_{2}*a_{4}^2*a_{5}^2 + x_{4}^4*a_{3}^2*a_{4}*a_{5}^2 + 4*x_{4}^4*a_{3}*a_{4}^2*a_{5}^2 + x_{4}^4*a_{4}^3*a_{5}^2 - 4*x_{4}^3*a_{1}*a_{3}*a_{4}*a_{5}^2 - 4*x_{4}^3*a_{2}*a_{3}*a_{4}*a_{5}^2 - 4*x_{4}^3*a_{3}^2*a_{4}*a_{5}^2 - 4*x_{4}^3*a_{3}*a_{4}^2*a_{5}^2 + 2*x_{4}^2*a_{1}*a_{3}*a_{4}*a_{5}^2 + 2*x_{4}^2*a_{2}*a_{3}*a_{4}*a_{5}^2 + 6*x_{4}^2*a_{3}^2*a_{4}*a_{5}^2 - 2*x_{4}^2*a_{3}*a_{4}^2*a_{5}^2 - x_{4}*a_{1}*a_{2}*a_{3}*a_{5}^2 - 3*x_{4}*a_{3}^2*a_{4}*a_{5}^2 + a_{1}*a_{2}*a_{3}*a_{5}^2\n",
       "9 -> x_{4}^5*a_{2}^4*a_{4}*a_{5} + 2*x_{4}^5*a_{2}^3*a_{3}*a_{4}*a_{5} + 2*x_{4}^5*a_{2}^3*a_{4}^2*a_{5} + x_{4}^5*a_{2}^2*a_{3}^2*a_{4}*a_{5} + 4*x_{4}^5*a_{2}^2*a_{3}*a_{4}^2*a_{5} + x_{4}^5*a_{2}^2*a_{4}^3*a_{5} + 2*x_{4}^5*a_{2}*a_{3}^2*a_{4}^2*a_{5} + 2*x_{4}^5*a_{2}*a_{3}*a_{4}^3*a_{5} + x_{4}^5*a_{3}^2*a_{4}^3*a_{5} - 4*x_{4}^4*a_{2}^3*a_{3}*a_{4}*a_{5} - 4*x_{4}^4*a_{2}^2*a_{3}^2*a_{4}*a_{5} - 4*x_{4}^4*a_{2}^2*a_{3}*a_{4}^2*a_{5} - 4*x_{4}^4*a_{2}*a_{3}^2*a_{4}^2*a_{5} + 2*x_{4}^3*a_{2}^3*a_{3}*a_{4}*a_{5} + 6*x_{4}^3*a_{2}^2*a_{3}^2*a_{4}*a_{5} - 2*x_{4}^3*a_{2}^2*a_{3}*a_{4}^2*a_{5} + 2*x_{4}^3*a_{2}*a_{3}^2*a_{4}^2*a_{5} - 4*x_{4}^2*a_{2}^2*a_{3}^2*a_{4}*a_{5} + x_{4}*a_{2}^2*a_{3}^2*a_{4}*a_{5}\n",
       "10 -> x_{4}^5*a_{1}*a_{3}*a_{4}^2*a_{5} + x_{4}^5*a_{2}^3*a_{4}*a_{5} + 2*x_{4}^5*a_{2}^2*a_{3}*a_{4}*a_{5} + 2*x_{4}^5*a_{2}^2*a_{4}^2*a_{5} + x_{4}^5*a_{2}*a_{3}^2*a_{4}*a_{5} + 4*x_{4}^5*a_{2}*a_{3}*a_{4}^2*a_{5} + x_{4}^5*a_{2}*a_{4}^3*a_{5} + 2*x_{4}^5*a_{3}^2*a_{4}^2*a_{5} + 2*x_{4}^5*a_{3}*a_{4}^3*a_{5} - 4*x_{4}^4*a_{2}^2*a_{3}*a_{4}*a_{5} - 4*x_{4}^4*a_{2}*a_{3}^2*a_{4}*a_{5} - 4*x_{4}^4*a_{2}*a_{3}*a_{4}^2*a_{5} - 4*x_{4}^4*a_{3}^2*a_{4}^2*a_{5} + 2*x_{4}^3*a_{2}^2*a_{3}*a_{4}*a_{5} + 6*x_{4}^3*a_{2}*a_{3}^2*a_{4}*a_{5} - 2*x_{4}^3*a_{2}*a_{3}*a_{4}^2*a_{5} + 2*x_{4}^3*a_{3}^2*a_{4}^2*a_{5} - 4*x_{4}^2*a_{2}*a_{3}^2*a_{4}*a_{5} + x_{4}*a_{2}*a_{3}^2*a_{4}*a_{5}\n",
       "11 -> x_{4}^5*a_{1}^2*a_{4}*a_{5} + 2*x_{4}^5*a_{1}*a_{3}*a_{4}*a_{5} + 2*x_{4}^5*a_{1}*a_{4}^2*a_{5} + x_{4}^5*a_{2}^2*a_{4}*a_{5} + 2*x_{4}^5*a_{2}*a_{3}*a_{4}*a_{5} + 2*x_{4}^5*a_{2}*a_{4}^2*a_{5} + x_{4}^5*a_{3}^2*a_{4}*a_{5} + 4*x_{4}^5*a_{3}*a_{4}^2*a_{5} + x_{4}^5*a_{4}^3*a_{5} - 4*x_{4}^4*a_{1}*a_{3}*a_{4}*a_{5} - 4*x_{4}^4*a_{2}*a_{3}*a_{4}*a_{5} - 4*x_{4}^4*a_{3}^2*a_{4}*a_{5} - 4*x_{4}^4*a_{3}*a_{4}^2*a_{5} + 2*x_{4}^3*a_{1}*a_{3}*a_{4}*a_{5} + 2*x_{4}^3*a_{2}*a_{3}*a_{4}*a_{5} + 6*x_{4}^3*a_{3}^2*a_{4}*a_{5} - 2*x_{4}^3*a_{3}*a_{4}^2*a_{5} - 4*x_{4}^2*a_{3}^2*a_{4}*a_{5} + x_{4}*a_{3}^2*a_{4}*a_{5}\n",
       "12 -> 2*x_{3}*a_{3}^2*a_{4}*a_{5} + x_{4}^4*a_{1}^2*a_{4}*a_{5} + 2*x_{4}^4*a_{1}*a_{3}*a_{4}*a_{5} + 2*x_{4}^4*a_{1}*a_{4}^2*a_{5} + x_{4}^4*a_{2}^2*a_{4}*a_{5} + 2*x_{4}^4*a_{2}*a_{3}*a_{4}*a_{5} + 2*x_{4}^4*a_{2}*a_{4}^2*a_{5} + x_{4}^4*a_{3}^2*a_{4}*a_{5} + 4*x_{4}^4*a_{3}*a_{4}^2*a_{5} + x_{4}^4*a_{4}^3*a_{5} - 4*x_{4}^3*a_{1}*a_{3}*a_{4}*a_{5} - 4*x_{4}^3*a_{2}*a_{3}*a_{4}*a_{5} - 4*x_{4}^3*a_{3}^2*a_{4}*a_{5} - 4*x_{4}^3*a_{3}*a_{4}^2*a_{5} + x_{4}^2*a_{1}*a_{3}*a_{4}*a_{5} + x_{4}^2*a_{2}*a_{3}*a_{4}*a_{5} + 5*x_{4}^2*a_{3}^2*a_{4}*a_{5} - 3*x_{4}^2*a_{3}*a_{4}^2*a_{5} - 2*x_{4}*a_{3}^2*a_{4}*a_{5}\n",
       "13 -> x_{3}*a_{1}*a_{2}*a_{5}^2 + x_{3}*a_{3}*a_{4}*a_{5}^2 - x_{4}^2*a_{1}*a_{4}*a_{5}^2 - x_{4}^2*a_{2}*a_{4}*a_{5}^2 - x_{4}^2*a_{3}*a_{4}*a_{5}^2 - x_{4}^2*a_{4}^2*a_{5}^2 + x_{4}*a_{1}*a_{2}*a_{5}^2 + x_{4}*a_{3}*a_{4}*a_{5}^2 - a_{1}*a_{2}*a_{5}^2\n",
       "14 -> 2*x_{3}*a_{1}*a_{2}*a_{3}*a_{5} + x_{4}^4*a_{1}^2*a_{4}*a_{5} + 2*x_{4}^4*a_{1}*a_{3}*a_{4}*a_{5} + 2*x_{4}^4*a_{1}*a_{4}^2*a_{5} + x_{4}^4*a_{2}^2*a_{4}*a_{5} + 2*x_{4}^4*a_{2}*a_{3}*a_{4}*a_{5} + 2*x_{4}^4*a_{2}*a_{4}^2*a_{5} + x_{4}^4*a_{3}^2*a_{4}*a_{5} + 4*x_{4}^4*a_{3}*a_{4}^2*a_{5} + x_{4}^4*a_{4}^3*a_{5} - 4*x_{4}^3*a_{1}*a_{3}*a_{4}*a_{5} - 4*x_{4}^3*a_{2}*a_{3}*a_{4}*a_{5} - 4*x_{4}^3*a_{3}^2*a_{4}*a_{5} - 4*x_{4}^3*a_{3}*a_{4}^2*a_{5} + x_{4}^2*a_{1}*a_{3}*a_{4}*a_{5} + x_{4}^2*a_{2}*a_{3}*a_{4}*a_{5} + 5*x_{4}^2*a_{3}^2*a_{4}*a_{5} - 3*x_{4}^2*a_{3}*a_{4}^2*a_{5} - 2*x_{4}*a_{3}^2*a_{4}*a_{5}\n",
       "15 -> 2*x_{3}*x_{4}*a_{3}*a_{4}*a_{5} - x_{4}^3*a_{1}*a_{4}*a_{5} - x_{4}^3*a_{2}*a_{4}*a_{5} - x_{4}^3*a_{3}*a_{4}*a_{5} - x_{4}^3*a_{4}^2*a_{5} + 2*x_{4}^2*a_{3}*a_{4}*a_{5} - x_{4}*a_{3}*a_{4}*a_{5}\n",
       "16 -> 2*x_{3}*x_{4}*a_{1}*a_{2}*a_{5} - x_{4}^3*a_{1}*a_{4}*a_{5} - x_{4}^3*a_{2}*a_{4}*a_{5} - x_{4}^3*a_{3}*a_{4}*a_{5} - x_{4}^3*a_{4}^2*a_{5} + 2*x_{4}^2*a_{3}*a_{4}*a_{5} - x_{4}*a_{3}*a_{4}*a_{5}\n",
       "17 -> 2*x_{3}*x_{4}^2*a_{2}^2*a_{5} + 2*x_{3}*x_{4}^2*a_{2}*a_{3}*a_{5} + 2*x_{3}*x_{4}^2*a_{2}*a_{4}*a_{5} - 4*x_{3}*x_{4}*a_{2}*a_{3}*a_{5} + 2*x_{3}*a_{2}*a_{3}*a_{5} + x_{4}^4*a_{1}*a_{4}*a_{5} + x_{4}^4*a_{2}*a_{4}*a_{5} + x_{4}^4*a_{3}*a_{4}*a_{5} + x_{4}^4*a_{4}^2*a_{5} - 2*x_{4}^3*a_{3}*a_{4}*a_{5} - 4*x_{4}^2*a_{2}*a_{4}*a_{5} + x_{4}^2*a_{3}*a_{4}*a_{5}\n",
       "18 -> x_{3}*x_{4}^2*a_{1}*a_{5} + x_{3}*x_{4}^2*a_{2}*a_{5} + x_{3}*x_{4}^2*a_{3}*a_{5} + x_{3}*x_{4}^2*a_{4}*a_{5} - 2*x_{3}*x_{4}*a_{3}*a_{5} + x_{3}*a_{3}*a_{5} - 2*x_{4}^2*a_{4}*a_{5}\n",
       "19 -> x_{3}*x_{4}^2*a_{1}*a_{2} - x_{3}*x_{4}^2*a_{3}*a_{4}\n",
       "20 -> x_{3}^2*a_{3} - x_{4}^2*a_{4}\n",
       "21 -> x_{3}^2*a_{1}*a_{2}*a_{5} - x_{3}*a_{1}*a_{2}*a_{5} + x_{3}*a_{3}*a_{4}*a_{5} - x_{4}^2*a_{4}^2*a_{5}\n",
       "22 -> x_{3}^2*x_{4}*a_{2}^2*a_{5} + x_{3}^2*x_{4}*a_{2}*a_{4}*a_{5} - 2*x_{3}*x_{4}*a_{2}*a_{4}*a_{5} + x_{4}^3*a_{2}*a_{4}*a_{5} + x_{4}^3*a_{4}^2*a_{5} - 2*x_{4}^2*a_{2}*a_{4}*a_{5} + x_{4}*a_{2}*a_{4}*a_{5}\n",
       "23 -> x_{3}^2*x_{4}*a_{1}*a_{5} + x_{3}^2*x_{4}*a_{2}*a_{5} + x_{3}^2*x_{4}*a_{4}*a_{5} - 2*x_{3}*x_{4}*a_{4}*a_{5} + x_{4}^3*a_{4}*a_{5} - 2*x_{4}^2*a_{4}*a_{5} + x_{4}*a_{4}*a_{5}\n",
       "24 -> x_{3}^2*x_{4}*a_{1}*a_{2} - x_{4}^3*a_{4}^2\n",
       "25 -> 2*x_{2}*a_{2}^3*a_{5} - 2*x_{2}*a_{2}*a_{3}*a_{4}*a_{5} - 2*x_{3}*x_{4}*a_{2}^3*a_{5} - 2*x_{3}*x_{4}*a_{2}^2*a_{3}*a_{5} - 2*x_{3}*x_{4}*a_{2}^2*a_{4}*a_{5} + 2*x_{3}*a_{2}^2*a_{3}*a_{5} + 2*x_{3}*a_{2}*a_{3}*a_{4}*a_{5} - x_{4}^3*a_{2}^2*a_{4}*a_{5} - x_{4}^3*a_{2}*a_{3}*a_{4}*a_{5} - x_{4}^3*a_{2}*a_{4}^2*a_{5} - x_{4}^3*a_{3}*a_{4}^2*a_{5} - 2*x_{4}^2*a_{2}^2*a_{4}*a_{5} - 2*x_{4}^2*a_{2}*a_{4}^2*a_{5} - 2*x_{4}^2*a_{3}*a_{4}^2*a_{5} + 2*x_{4}*a_{2}^2*a_{4}*a_{5} + x_{4}*a_{2}*a_{3}*a_{4}*a_{5}\n",
       "26 -> x_{2}*a_{1}*a_{5}^2 - x_{2}*a_{2}*a_{5}^2 + x_{3}*x_{4}*a_{1}*a_{5}^2 + x_{3}*x_{4}*a_{2}*a_{5}^2 + x_{3}*x_{4}*a_{3}*a_{5}^2 + x_{3}*x_{4}*a_{4}*a_{5}^2 + x_{3}*a_{1}*a_{5}^2 - x_{3}*a_{3}*a_{5}^2 + x_{4}*a_{1}*a_{5}^2 - x_{4}*a_{4}*a_{5}^2 - a_{1}*a_{5}^2\n",
       "27 -> 2*x_{2}*a_{1}*a_{2}*a_{5} - 2*x_{2}*a_{2}^2*a_{5} + 2*x_{3}*x_{4}*a_{2}^2*a_{5} + 2*x_{3}*x_{4}*a_{2}*a_{3}*a_{5} + 2*x_{3}*x_{4}*a_{2}*a_{4}*a_{5} - 2*x_{3}*a_{2}*a_{3}*a_{5} - 2*x_{3}*a_{3}*a_{4}*a_{5} + x_{4}^3*a_{1}*a_{4}*a_{5} + x_{4}^3*a_{2}*a_{4}*a_{5} + x_{4}^3*a_{3}*a_{4}*a_{5} + x_{4}^3*a_{4}^2*a_{5} + 2*x_{4}^2*a_{1}*a_{4}*a_{5} + 2*x_{4}^2*a_{2}*a_{4}*a_{5} + 2*x_{4}^2*a_{4}^2*a_{5} - 2*x_{4}*a_{2}*a_{4}*a_{5} - x_{4}*a_{3}*a_{4}*a_{5}\n",
       "28 -> 2*x_{2}*x_{4}*a_{3}*a_{4}*a_{5} - 2*x_{2}*x_{4}*a_{4}^2*a_{5} - 2*x_{2}*a_{2}^2*a_{5} + 2*x_{2}*a_{2}*a_{4}*a_{5} + 2*x_{3}*x_{4}*a_{2}^2*a_{5} + 2*x_{3}*x_{4}*a_{2}*a_{3}*a_{5} - 2*x_{3}*x_{4}*a_{4}^2*a_{5} - 2*x_{3}*a_{2}*a_{3}*a_{5} + x_{4}^3*a_{1}*a_{4}*a_{5} + x_{4}^3*a_{2}*a_{4}*a_{5} + x_{4}^3*a_{3}*a_{4}*a_{5} + x_{4}^3*a_{4}^2*a_{5} + 2*x_{4}^2*a_{2}*a_{4}*a_{5} - 2*x_{4}*a_{2}*a_{4}*a_{5} - x_{4}*a_{3}*a_{4}*a_{5} + 2*x_{4}*a_{4}^2*a_{5}\n",
       "29 -> x_{2}*x_{4}*a_{2}*a_{5} + x_{2}*x_{4}*a_{4}*a_{5} - x_{2}*a_{2}*a_{5} + x_{3}*x_{4}*a_{2}*a_{5} + x_{3}*x_{4}*a_{4}*a_{5} - x_{4}*a_{4}*a_{5}\n",
       "30 -> x_{2}*x_{4}*a_{1}*a_{5} + x_{2}*x_{4}*a_{4}*a_{5} - x_{2}*a_{2}*a_{5} + x_{3}*x_{4}*a_{1}*a_{5} + x_{3}*x_{4}*a_{2}*a_{5} + x_{3}*x_{4}*a_{3}*a_{5} + x_{3}*x_{4}*a_{4}*a_{5} - x_{3}*a_{3}*a_{5} + x_{4}^2*a_{1}*a_{5} + x_{4}^2*a_{4}*a_{5} - x_{4}*a_{1}*a_{5} - x_{4}*a_{4}*a_{5}\n",
       "31 -> x_{2}*x_{4}*a_{1}*a_{2} - x_{2}*x_{4}*a_{3}*a_{4}\n",
       "32 -> x_{2}*x_{3}*a_{3}*a_{5} + x_{2}*x_{4}*a_{4}*a_{5} - x_{2}*a_{2}*a_{5} + x_{3}*x_{4}*a_{2}*a_{5} + x_{3}*x_{4}*a_{3}*a_{5} + x_{3}*x_{4}*a_{4}*a_{5} - x_{3}*a_{3}*a_{5} + x_{4}^2*a_{4}*a_{5} - x_{4}*a_{4}*a_{5}\n",
       "33 -> x_{2}*x_{3}*a_{2}*a_{5} - x_{2}*x_{4}*a_{4}*a_{5} - x_{3}*x_{4}*a_{4}*a_{5} - x_{4}^2*a_{4}*a_{5} + x_{4}*a_{4}*a_{5}\n",
       "34 -> x_{2}*x_{3}*a_{1}*a_{5} - x_{2}*x_{4}*a_{4}*a_{5} + x_{3}^2*a_{1}*a_{5} + x_{3}*x_{4}*a_{1}*a_{5} - x_{3}*a_{1}*a_{5}\n",
       "35 -> x_{2}*x_{3}*a_{1}*a_{2} - x_{2}*x_{3}*a_{3}*a_{4}\n",
       "36 -> x_{2}*x_{3}*x_{4}*a_{4}*a_{5} + x_{2}*x_{4}^2*a_{4}*a_{5} - x_{2}*x_{4}*a_{4}*a_{5} + x_{3}^2*x_{4}*a_{2}*a_{5} + x_{3}^2*x_{4}*a_{4}*a_{5} + x_{3}*x_{4}^2*a_{4}*a_{5} - 2*x_{3}*x_{4}*a_{4}*a_{5} + x_{4}^3*a_{4}*a_{5} - 2*x_{4}^2*a_{4}*a_{5} + x_{4}*a_{4}*a_{5}\n",
       "37 -> x_{2}^2*a_{5} + x_{2}*x_{3}*a_{5} + x_{2}*x_{4}*a_{5} - x_{2}*a_{5} + x_{3}*x_{4}*a_{5}\n",
       "38 -> 2*x_{2}^2*a_{1}*a_{2} - x_{2}*a_{1}*a_{5} + x_{2}*a_{2}*a_{5} - x_{3}*x_{4}*a_{1}*a_{5} - x_{3}*x_{4}*a_{2}*a_{5} - x_{3}*x_{4}*a_{3}*a_{5} - x_{3}*x_{4}*a_{4}*a_{5} - x_{3}*a_{1}*a_{5} + x_{3}*a_{3}*a_{5} + 2*x_{4}^2*a_{1}*a_{4} - x_{4}*a_{1}*a_{5} + x_{4}*a_{4}*a_{5} + a_{1}*a_{5}\n",
       "39 -> x_{2}^2*x_{4}*a_{4} + x_{3}^2*x_{4}*a_{1}\n",
       "40 -> x_{2}^2*x_{4}*a_{2} + x_{4}^3*a_{4}\n",
       "41 -> x_{2}^2*x_{3}*a_{3} + x_{3}*x_{4}^2*a_{1}\n",
       "42 -> x_{2}^2*x_{3}*a_{2} + x_{3}*x_{4}^2*a_{4}\n",
       "43 -> x_{2}^3*a_{2} + x_{2}*x_{4}^2*a_{4}\n",
       "44 -> x_{1}*a_{5} - 2*x_{2}^2*a_{2} + x_{2}*a_{5} + x_{3}*a_{5} - 2*x_{4}^2*a_{4} + x_{4}*a_{5} - a_{5}\n",
       "45 -> x_{1}*x_{4}*a_{4} + x_{2}*x_{3}*a_{2}\n",
       "46 -> x_{1}*x_{4}*a_{1} + x_{2}*x_{3}*a_{3}\n",
       "47 -> x_{1}*x_{3}*a_{3} + x_{2}*x_{4}*a_{2}\n",
       "48 -> x_{1}*x_{3}*a_{1} + x_{2}*x_{4}*a_{4}\n",
       "49 -> x_{1}*x_{2} - x_{3}*x_{4}\n",
       "50 -> x_{1}^2*a_{1} - x_{2}^2*a_{2}\n",
       "with respect to the ordering\n",
       "lex([x_{1}, x_{2}, x_{3}, x_{4}, a_{1}, a_{2}, a_{3}, a_{4}, a_{5}])"
      ]
     },
     "execution_count": 48,
     "metadata": {},
     "output_type": "execute_result"
    }
   ],
   "source": [
    "G = groebner_basis(I,ordering=lex(R),complete_reduction = true)"
   ]
  },
  {
   "cell_type": "code",
   "execution_count": 49,
   "metadata": {},
   "outputs": [
    {
     "data": {
      "text/plain": [
       "1-element Vector{QQMPolyRingElem}:\n",
       " a_{1}^2*a_{2}^2*a_{3}*a_{4}*a_{5}^2 - a_{1}*a_{2}*a_{3}^2*a_{4}^2*a_{5}^2"
      ]
     },
     "execution_count": 49,
     "metadata": {},
     "output_type": "execute_result"
    }
   ],
   "source": [
    "Gelim = eliminate_variables(G,x)"
   ]
  },
  {
   "cell_type": "markdown",
   "metadata": {},
   "source": [
    "**Conclusion:** All points $a$ for which the variety is non-smooth belong to the hypersurface in $\\mathbb{C}^5$ cut out by this polynomial.\n",
    "\n",
    "All points $a$ outside of this hypersurface makes the variety smooth.\n",
    "\n",
    "*Small sidenote:* $a_5^2$ can be replaced by $a_5$, as this doesn't change the variety. Also note that the polynomial we found can be factorized, which means that the hypersurface described above is the union of two different hypersurfaces."
   ]
  },
  {
   "cell_type": "code",
   "execution_count": 50,
   "metadata": {},
   "outputs": [
    {
     "data": {
      "text/plain": [
       "1 * a_{1} * (a_{1}*a_{2} - a_{3}*a_{4}) * a_{4} * a_{3} * a_{5}^2 * a_{2}"
      ]
     },
     "execution_count": 50,
     "metadata": {},
     "output_type": "execute_result"
    }
   ],
   "source": [
    "factor(Gelim[1])"
   ]
  },
  {
   "cell_type": "code",
   "execution_count": null,
   "metadata": {},
   "outputs": [],
   "source": []
  }
 ],
 "metadata": {
  "kernelspec": {
   "display_name": "Julia 1.9.4",
   "language": "julia",
   "name": "julia-1.9"
  },
  "language_info": {
   "file_extension": ".jl",
   "mimetype": "application/julia",
   "name": "julia",
   "version": "1.9.4"
  }
 },
 "nbformat": 4,
 "nbformat_minor": 4
}
